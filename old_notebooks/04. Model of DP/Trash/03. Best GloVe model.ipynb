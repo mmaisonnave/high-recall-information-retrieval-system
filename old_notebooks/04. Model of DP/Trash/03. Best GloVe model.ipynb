{
 "cells": [
  {
   "cell_type": "markdown",
   "id": "9061c50d",
   "metadata": {},
   "source": [
    "## Aux functions"
   ]
  },
  {
   "cell_type": "code",
   "execution_count": null,
   "id": "1311f85d",
   "metadata": {},
   "outputs": [],
   "source": [
    "from IPython.core.display import display, HTML\n",
    "import datetime\n",
    "def info(str_):\n",
    "    print(f'{datetime.datetime.now()} [ \\033[1;94mINFO\\x1b[0m  ] {str_}')\n",
    "def ok(str_):\n",
    "    print(f'{datetime.datetime.now()} [  \\033[1;92mOK\\x1b[0m   ] {str_}')\n",
    "def warning(str_):\n",
    "    print(f'{datetime.datetime.now()} [\\x1b[1;31mWARNING\\x1b[0m] {str_}')\n",
    "def html(str_=''):\n",
    "    display(HTML(str_))\n",
    "    \n",
    "import pandas as pd\n",
    "from lxml import etree\n",
    "from bs4 import BeautifulSoup\n",
    "\n",
    "def get_date(filename):\n",
    "    tree = etree.parse(filename)\n",
    "    root = tree.getroot()\n",
    "#     title = root.find('.//Title').text\n",
    "    date = root.find('.//NumericDate').text\n",
    "#     publisher = root.find('.//PublisherName').text\n",
    "    assert date is not None\n",
    "    \n",
    "    return date\n",
    "\n",
    "def get_title_and_text(filename):\n",
    "    tree = etree.parse(filename)\n",
    "    root = tree.getroot()\n",
    "    if root.find('.//HiddenText') is not None:\n",
    "        text = (root.find('.//HiddenText').text)\n",
    "\n",
    "    elif root.find('.//Text') is not None:\n",
    "        text = (root.find('.//Text').text)\n",
    "\n",
    "    else:\n",
    "        text = None\n",
    "                       \n",
    "    title = root.find('.//Title')\n",
    "    if title is not None:\n",
    "        title = title.text\n",
    "    if not text is None:\n",
    "        text = BeautifulSoup(text, parser='html.parser').get_text()\n",
    "\n",
    "    return title,text"
   ]
  },
  {
   "cell_type": "markdown",
   "id": "cd3232cb",
   "metadata": {},
   "source": [
    "## Retrieving Label data"
   ]
  },
  {
   "cell_type": "code",
   "execution_count": null,
   "id": "c796ab32",
   "metadata": {},
   "outputs": [],
   "source": [
    "import os\n",
    "DP_examples_dirpath = '/home/ec2-user/SageMaker/mariano/notebooks/04. Model of DP/DP-relevant articles/'\n",
    "assert os.path.exists(DP_examples_dirpath)\n",
    "files = []\n",
    "for dirpath, dirnames, filenames in os.walk(DP_examples_dirpath):\n",
    "    for filename in filenames:\n",
    "        filepath = os.path.join(dirpath,filename)\n",
    "        assert os.path.isfile(filepath)\n",
    "        files.append(filepath)\n",
    "info(f'Number of files retrieved: {len(files)}')\n",
    "\n",
    "\n",
    "\n",
    "\n",
    "import re\n",
    "total_count=0\n",
    "urls = []\n",
    "ids = []\n",
    "for file_ in files:\n",
    "    content = open(file_, 'r').read()\n",
    "    urls += re.findall('url = {(.*)}',content)\n",
    "    ids += re.findall('/docview/([^/]*)/',content)\n",
    "    total_count += len(urls)\n",
    "    assert len(ids)==len(urls)\n",
    "\n",
    "relevant_ids = set(ids)\n",
    "# print(len(urls))\n",
    "info(f'Relevant article count: {len(relevant_ids)}')"
   ]
  },
  {
   "cell_type": "markdown",
   "id": "41687a30",
   "metadata": {},
   "source": [
    "## Reading files from disk"
   ]
  },
  {
   "cell_type": "code",
   "execution_count": null,
   "id": "dbe72438",
   "metadata": {},
   "outputs": [],
   "source": [
    "import os\n",
    "GM_all_part1 = '/home/ec2-user/SageMaker/data/GM_all_1945_1956/'\n",
    "GM_all_part2 = '/home/ec2-user/SageMaker/data/GM_all_1957-1967/'\n",
    "GM_dp_dirpath = '/home/ec2-user/SageMaker/data/GM_DP_and_Canada1945_1967/'\n",
    "\n",
    "all_files = [GM_all_part1+file_ for file_ in os.listdir(GM_all_part1)]\n",
    "all_files += [GM_all_part2+file_ for file_ in os.listdir(GM_all_part2)]\n",
    "\n",
    "dp_files = [GM_dp_dirpath+file_ for file_ in os.listdir(GM_dp_dirpath)]\n",
    "\n",
    "# GM_dirpath = '/home/ec2-user/SageMaker/data/The_Globe_and_Mail_with_DP_filter_by_article_type/'\n",
    "# all_files = [TS_dirpath+file_id for file_id in os.listdir(TS_dirpath)]\n",
    "# all_files += [GM_dirpath+file_id for file_id in os.listdir(GM_dirpath)]\n",
    "\n",
    "info(f'len(all_files):       {len(all_files):10,}')\n",
    "info(f'len(dp_files):        {len(dp_files):10,}')"
   ]
  },
  {
   "cell_type": "markdown",
   "id": "440a16f1",
   "metadata": {},
   "source": [
    "#### Creating dataframe with ids + 'unknown' label\n"
   ]
  },
  {
   "cell_type": "code",
   "execution_count": null,
   "id": "ecc378da",
   "metadata": {},
   "outputs": [],
   "source": [
    "import pandas as pd\n",
    "dp_articles_df = pd.DataFrame(\n",
    "                  ['unknown']*len(dp_files), \n",
    "                  columns=['label']\n",
    "                 )\n",
    "dp_articles_df['id'] = [file_id.split('/')[-1][:-4] for file_id in dp_files]\n",
    "# df['source']='GM'\n",
    "# df.iloc[:len(os.listdir(TS_dirpath)),-1]='TS'\n",
    "dp_articles_df\n",
    "\n",
    "\n",
    "\n",
    "#### Adding correct label + date to DataFrame\n",
    "import numpy as np\n",
    "\n",
    "relevants=0\n",
    "dates = []\n",
    "\n",
    "for idx,file_ in enumerate(dp_files):\n",
    "    id_ = file_.split('/')[-1][:-4]\n",
    "    date = get_date(file_)\n",
    "    year = int(date[:4])\n",
    "    if id_ in relevant_ids:\n",
    "        dp_articles_df.iloc[idx,0]='relevant'\n",
    "        relevants+=1\n",
    "    else:\n",
    "        dp_articles_df.iloc[idx,0]='irrelevant'\n",
    "        \n",
    "    dates.append(date)\n",
    "dp_articles_df['date']=dates\n",
    "info(f\"Number of relevants:   {np.sum(dp_articles_df['label']=='relevant'):,}\")\n",
    "info(f\"Number of irrelevants: {np.sum(dp_articles_df['label']=='irrelevant'):,}\")\n",
    "info(f\"'Number of unknown:    {np.sum(dp_articles_df['label']=='unknown'):,}\")\n",
    "dp_articles_df"
   ]
  },
  {
   "cell_type": "code",
   "execution_count": null,
   "id": "24fbd71d",
   "metadata": {},
   "outputs": [],
   "source": []
  },
  {
   "cell_type": "markdown",
   "id": "0b07ab76",
   "metadata": {},
   "source": [
    "### SVM with average GloVe "
   ]
  },
  {
   "cell_type": "markdown",
   "id": "2eba51d6",
   "metadata": {},
   "source": [
    "#### Generating X, y for training model (involves look-up for GloVe vectors (spacy nlp))\n"
   ]
  },
  {
   "cell_type": "code",
   "execution_count": 9,
   "id": "21dc0a34",
   "metadata": {},
   "outputs": [
    {
     "name": "stdout",
     "output_type": "stream",
     "text": [
      "2022-02-22 13:30:09.135511 [ \u001b[1;94mINFO\u001b[0m  ] Building X,y\n"
     ]
    }
   ],
   "source": [
    "import spacy\n",
    "import pickle\n",
    "\n",
    "if os.path.isfile('cache/X.p') and os.path.isfile('cache/y.p'):\n",
    "    X = pickle.load(open('cache/X.p','rb'))\n",
    "    y = pickle.load(open('cache/y.p', 'rb'))\n",
    "else:\n",
    "    info('Building X,y')\n",
    "    nlp = spacy.load('en_core_web_lg', disable=['textcat','lemmatizer', 'parser', 'tagger','ner'])\n",
    "\n",
    "    example_no = np.sum(dp_articles_df[\"label\"]!='unknown')\n",
    "\n",
    "    X = np.zeros(shape=(example_no, 600), dtype='float32')\n",
    "    y = np.zeros(shape=(example_no,), dtype='int32')\n",
    "\n",
    "    inst_no=0\n",
    "    for idx in range(len(dp_articles_df)):\n",
    "        label, id_, date = dp_articles_df.iloc[idx,:]\n",
    "        file_ = GM_dp_dirpath+id_+'.xml'\n",
    "\n",
    "        assert label!='unknown'\n",
    "        title, text = get_title_and_text(file_)\n",
    "        X[inst_no,:300] = nlp(title).vector\n",
    "        X[inst_no,300:] = nlp(text).vector\n",
    "        y[inst_no] = 1 if label=='relevant' else 0\n",
    "        inst_no+=1\n",
    "\n",
    "    pickle.dump(X, open('cache/X.p','wb'))\n",
    "    pickle.dump(y, open('cache/y.p','wb'))\n"
   ]
  },
  {
   "cell_type": "markdown",
   "id": "055173d4",
   "metadata": {},
   "source": [
    "## Train best modeL"
   ]
  },
  {
   "cell_type": "code",
   "execution_count": null,
   "id": "ccbe05c8",
   "metadata": {},
   "outputs": [],
   "source": [
    "clf = SVC(C=4, kernel='poly',degree=1)\n",
    "clf.fit(X,y)"
   ]
  }
 ],
 "metadata": {
  "kernelspec": {
   "display_name": "imm",
   "language": "python",
   "name": "imm"
  },
  "language_info": {
   "codemirror_mode": {
    "name": "ipython",
    "version": 3
   },
   "file_extension": ".py",
   "mimetype": "text/x-python",
   "name": "python",
   "nbconvert_exporter": "python",
   "pygments_lexer": "ipython3",
   "version": "3.9.7"
  }
 },
 "nbformat": 4,
 "nbformat_minor": 5
}

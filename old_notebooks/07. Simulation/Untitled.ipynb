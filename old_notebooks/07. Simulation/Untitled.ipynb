{
 "cells": [
  {
   "cell_type": "code",
   "execution_count": 19,
   "id": "79282764",
   "metadata": {},
   "outputs": [
    {
     "name": "stderr",
     "output_type": "stream",
     "text": [
      "PyTorch: setting up devices\n",
      "The default value for the training argument `--report_to` will change in v5 (from all installed integrations to none). In v5, you will need to use `--report_to all` to get the same behavior as now. You should start updating your code and make this info disappear :-).\n",
      "Didn't find file /home/ec2-user/SageMaker/mariano/huggingface/pretrained/bert-base-uncased/tokenizer/added_tokens.json. We won't load it.\n",
      "loading file /home/ec2-user/SageMaker/mariano/huggingface/pretrained/bert-base-uncased/tokenizer/vocab.txt\n",
      "loading file /home/ec2-user/SageMaker/mariano/huggingface/pretrained/bert-base-uncased/tokenizer/tokenizer.json\n",
      "loading file None\n",
      "loading file /home/ec2-user/SageMaker/mariano/huggingface/pretrained/bert-base-uncased/tokenizer/special_tokens_map.json\n",
      "loading file /home/ec2-user/SageMaker/mariano/huggingface/pretrained/bert-base-uncased/tokenizer/tokenizer_config.json\n",
      "loading configuration file /home/ec2-user/SageMaker/mariano/huggingface/pretrained/bert-base-uncased/model/config.json\n",
      "Model config BertConfig {\n",
      "  \"_name_or_path\": \"/home/ec2-user/SageMaker/mariano/huggingface/pretrained/bert-base-uncased/model/\",\n",
      "  \"architectures\": [\n",
      "    \"BertModel\"\n",
      "  ],\n",
      "  \"attention_probs_dropout_prob\": 0.1,\n",
      "  \"classifier_dropout\": null,\n",
      "  \"gradient_checkpointing\": false,\n",
      "  \"hidden_act\": \"gelu\",\n",
      "  \"hidden_dropout_prob\": 0.1,\n",
      "  \"hidden_size\": 768,\n",
      "  \"initializer_range\": 0.02,\n",
      "  \"intermediate_size\": 3072,\n",
      "  \"layer_norm_eps\": 1e-12,\n",
      "  \"max_position_embeddings\": 512,\n",
      "  \"model_type\": \"bert\",\n",
      "  \"num_attention_heads\": 12,\n",
      "  \"num_hidden_layers\": 12,\n",
      "  \"pad_token_id\": 0,\n",
      "  \"position_embedding_type\": \"absolute\",\n",
      "  \"torch_dtype\": \"float32\",\n",
      "  \"transformers_version\": \"4.20.1\",\n",
      "  \"type_vocab_size\": 2,\n",
      "  \"use_cache\": true,\n",
      "  \"vocab_size\": 30522\n",
      "}\n",
      "\n",
      "loading weights file /home/ec2-user/SageMaker/mariano/huggingface/pretrained/bert-base-uncased/model/pytorch_model.bin\n",
      "All model checkpoint weights were used when initializing BertForSequenceClassification.\n",
      "\n",
      "Some weights of BertForSequenceClassification were not initialized from the model checkpoint at /home/ec2-user/SageMaker/mariano/huggingface/pretrained/bert-base-uncased/model/ and are newly initialized: ['classifier.bias', 'classifier.weight']\n",
      "You should probably TRAIN this model on a down-stream task to be able to use it for predictions and inference.\n"
     ]
    },
    {
     "data": {
      "application/vnd.jupyter.widget-view+json": {
       "model_id": "03d15fe9b53443c0b72333a65440bdd7",
       "version_major": 2,
       "version_minor": 0
      },
      "text/plain": [
       "  0%|          | 0/1 [00:00<?, ?ba/s]"
      ]
     },
     "metadata": {},
     "output_type": "display_data"
    },
    {
     "name": "stderr",
     "output_type": "stream",
     "text": [
      "The following columns in the training set don't have a corresponding argument in `BertForSequenceClassification.forward` and have been ignored: sentence. If sentence are not expected by `BertForSequenceClassification.forward`,  you can safely ignore this message.\n",
      "***** Running training *****\n",
      "  Num examples = 8\n",
      "  Num Epochs = 15\n",
      "  Instantaneous batch size per device = 8\n",
      "  Total train batch size (w. parallel, distributed & accumulation) = 8\n",
      "  Gradient Accumulation steps = 1\n",
      "  Total optimization steps = 15\n"
     ]
    },
    {
     "data": {
      "text/html": [
       "\n",
       "    <div>\n",
       "      \n",
       "      <progress value='15' max='15' style='width:300px; height:20px; vertical-align: middle;'></progress>\n",
       "      [15/15 00:12, Epoch 15/15]\n",
       "    </div>\n",
       "    <table border=\"1\" class=\"dataframe\">\n",
       "  <thead>\n",
       " <tr style=\"text-align: left;\">\n",
       "      <th>Step</th>\n",
       "      <th>Training Loss</th>\n",
       "    </tr>\n",
       "  </thead>\n",
       "  <tbody>\n",
       "  </tbody>\n",
       "</table><p>"
      ],
      "text/plain": [
       "<IPython.core.display.HTML object>"
      ]
     },
     "metadata": {},
     "output_type": "display_data"
    },
    {
     "name": "stderr",
     "output_type": "stream",
     "text": [
      "\n",
      "\n",
      "Training completed. Do not forget to share your model on huggingface.co/models =)\n",
      "\n",
      "\n"
     ]
    },
    {
     "data": {
      "text/plain": [
       "TrainOutput(global_step=15, training_loss=0.4390783627827962, metrics={'train_runtime': 14.023, 'train_samples_per_second': 8.557, 'train_steps_per_second': 1.07, 'total_flos': 184999960800.0, 'train_loss': 0.4390783627827962, 'epoch': 15.0})"
      ]
     },
     "execution_count": 19,
     "metadata": {},
     "output_type": "execute_result"
    }
   ],
   "source": [
    "from datasets import Dataset\n",
    "from transformers import AutoModelForSequenceClassification\n",
    "from transformers import AutoTokenizer, DataCollatorWithPadding\n",
    "import numpy as np \n",
    "class HFModel(object):\n",
    "    def __init__(self ,pretrain_model_path, training_args,):\n",
    "        self.training_args = training_args\n",
    "        self.trained=False\n",
    "        self.pretrain_model_path = pretrain_model_path\n",
    "\n",
    "    def entrenar(self, X, y):\n",
    "        self.tokenizer = AutoTokenizer.from_pretrained(self.pretrain_model_path+'tokenizer/')\n",
    "        model = AutoModelForSequenceClassification.from_pretrained(self.pretrain_model_path+'model/', num_labels=2)\n",
    "        \n",
    "#         assert all([type(elem)==str for elem in X])\n",
    "        data = {'sentence':[text for text in X],\n",
    "                'label': [label for label in y]\n",
    "               }\n",
    "        train_data = Dataset.from_dict(data)\n",
    "        def tokenize_function(example):\n",
    "            return self.tokenizer(example[\"sentence\"], truncation=True)\n",
    "        \n",
    "        tokenized_dataset = train_data.map(tokenize_function, batched=True)\n",
    "        from transformers import Trainer\n",
    "        from transformers import TrainingArguments\n",
    "\n",
    "\n",
    "\n",
    "        data_collator = DataCollatorWithPadding(tokenizer=self.tokenizer)\n",
    "\n",
    "        trainer = Trainer(\n",
    "            model,\n",
    "            self.training_args,\n",
    "            train_dataset=tokenized_dataset,\n",
    "            data_collator=data_collator,\n",
    "            tokenizer=self.tokenizer,\n",
    "        )\n",
    "        output = trainer.train()\n",
    "        self.trainer = trainer\n",
    "        self.model = model\n",
    "        self.trained=True\n",
    "        return output\n",
    "    \n",
    "    def get_X(text_list):\n",
    "        return np.array(text_list)\n",
    "    \n",
    "    def predecir(self, X):\n",
    "        assert self.trained\n",
    "        data = {'sentence':[text for text in X]\n",
    "               }\n",
    "        dataset = Dataset.from_dict(data)\n",
    "\n",
    "        def tokenize_function(example):\n",
    "            return self.tokenizer(example[\"sentence\"], truncation=True)\n",
    "        \n",
    "        tokenized_dataset = dataset.map(tokenize_function, batched=True)\n",
    "        predictions = self.trainer.predict(tokenized_dataset)\n",
    "\n",
    "        \n",
    "        return np.argmax(predictions.predictions, axis=-1)\n",
    "    \n",
    "from transformers import TrainingArguments\n",
    "training_args = TrainingArguments(\"test-trainer\",num_train_epochs=15)\n",
    "\n",
    "bert_path = '/home/ec2-user/SageMaker/mariano/huggingface/pretrained/bert-base-uncased/'\n",
    "\n",
    "\n",
    "model = HFModel(pretrain_model_path=bert_path, training_args=training_args)\n",
    "model.entrenar(['bad','good','positive','negative','awful','disgusting','beautiful','nice'],\n",
    "               [0,1,1,0,0,0,1,1]\n",
    "              )\n"
   ]
  },
  {
   "cell_type": "code",
   "execution_count": null,
   "id": "318f7c35",
   "metadata": {},
   "outputs": [],
   "source": []
  }
 ],
 "metadata": {
  "kernelspec": {
   "display_name": "bert",
   "language": "python",
   "name": "bert"
  },
  "language_info": {
   "codemirror_mode": {
    "name": "ipython",
    "version": 3
   },
   "file_extension": ".py",
   "mimetype": "text/x-python",
   "name": "python",
   "nbconvert_exporter": "python",
   "pygments_lexer": "ipython3",
   "version": "3.7.12"
  }
 },
 "nbformat": 4,
 "nbformat_minor": 5
}

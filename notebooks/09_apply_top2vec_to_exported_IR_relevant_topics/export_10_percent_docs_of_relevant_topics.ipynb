{
 "cells": [
  {
   "cell_type": "code",
   "execution_count": 57,
   "id": "12627527",
   "metadata": {},
   "outputs": [
    {
     "name": "stdout",
     "output_type": "stream",
     "text": [
      "[WARNING] output file exists, will be overwriten: \"suggestions_with_topics_only_rel_topics.csv\"\n"
     ]
    }
   ],
   "source": [
    "#########\n",
    "# INPUT #\n",
    "#########\n",
    "topics_file = '/home/ec2-user/SageMaker/mariano/datasets/multiculturalism/top2vec/deep_learn_top2vec_topics_only_rel_topics.json'\n",
    "\n",
    "##########\n",
    "# OUTPUT #\n",
    "##########\n",
    "import os \n",
    "suggestions_db_file = '/home/ec2-user/SageMaker/mariano/datasets/multiculturalism/top2vec/suggestions_with_topics_only_rel_topics.csv'\n",
    "if os.path.isfile(suggestions_db_file):\n",
    "    print('[WARNING] output file exists, will be overwriten: \"'+suggestions_db_file.split('/')[-1]+'\"')"
   ]
  },
  {
   "cell_type": "markdown",
   "id": "bba7bf18",
   "metadata": {},
   "source": [
    "# IMPORTS"
   ]
  },
  {
   "cell_type": "code",
   "execution_count": 58,
   "id": "e127cb96",
   "metadata": {},
   "outputs": [],
   "source": [
    "import pandas as pd\n",
    "import numpy as np\n",
    "import json\n",
    "\n",
    "import sys\n",
    "sys.path.append('/home/ec2-user/SageMaker/mariano/repositories/tdmstudio-high-recall-information-retrieval-system/')\n",
    "from utils import tdmstudio"
   ]
  },
  {
   "cell_type": "markdown",
   "id": "6aead0dd",
   "metadata": {},
   "source": [
    "# CODE"
   ]
  },
  {
   "cell_type": "code",
   "execution_count": 59,
   "id": "1db44796",
   "metadata": {},
   "outputs": [
    {
     "name": "stdout",
     "output_type": "stream",
     "text": [
      "           id  new_score  top2vec  doc_dist  \\\n",
      "0  1151636504        1.0       10  0.169276   \n",
      "1  1151316407        1.0       10  0.138961   \n",
      "2  1366203438        1.0        8  0.163001   \n",
      "3  1126309571        1.0        9  0.438859   \n",
      "4  1125764078        1.0        4  0.312545   \n",
      "\n",
      "                                   title  \n",
      "0   Not just folklore--a tool for trade.  \n",
      "1             Display Ad 41 -- No Title.  \n",
      "2                   Sounds and the city.  \n",
      "3  Unfamiliar liberty delights Iranians.  \n",
      "4           Private-school debate grows.  \n"
     ]
    }
   ],
   "source": [
    "with open(topics_file, 'r') as openfile: \n",
    "    # Reading from json file\n",
    "    json_object = json.load(openfile)\n",
    "document_df=pd.DataFrame(json_object['document data'])\n",
    "document_df['title'] = list(map(lambda id_: tdmstudio.get_title(tdmstudio.get_filename(str(id_))), document_df['id']))\n",
    "print(document_df.head())\n",
    "\n",
    "document_df.to_csv(suggestions_db_file)\n",
    "# word_df=pd.DataFrame(json_object['word data'])\n",
    "# print(word_df.head())"
   ]
  },
  {
   "cell_type": "code",
   "execution_count": 45,
   "id": "e8f77d6b",
   "metadata": {},
   "outputs": [
    {
     "name": "stdout",
     "output_type": "stream",
     "text": [
      "(50, 3)\n",
      "(50, 3)\n"
     ]
    }
   ],
   "source": [
    "# output_dict={'topic no': []}\n",
    "# for word_no in range(50):\n",
    "#     output_dict[f'word{word_no:02}']=[]\n",
    "# for topic_no in set(document_df['top2vec']):\n",
    "#     auxdf=word_df[word_df['topic']==topic_no]\n",
    "#     print(auxdf.shape)\n",
    "#     auxdf = auxdf.sort_values(by=['score'], ascending=False)\n",
    "#     output_dict['topic no'].append(topic_no)\n",
    "#     for ix,word in enumerate(auxdf['word']):\n",
    "#         output_dict[f'word{ix:02}'].append(auxdf['word'].iloc[ix])\n",
    "# #     auxdf.sort_va\n",
    "# #     words=auxdf['word']\n",
    "#     if topic_no==1:\n",
    "#         break"
   ]
  },
  {
   "cell_type": "code",
   "execution_count": 47,
   "id": "aac4026c",
   "metadata": {},
   "outputs": [
    {
     "data": {
      "text/html": [
       "<div>\n",
       "<style scoped>\n",
       "    .dataframe tbody tr th:only-of-type {\n",
       "        vertical-align: middle;\n",
       "    }\n",
       "\n",
       "    .dataframe tbody tr th {\n",
       "        vertical-align: top;\n",
       "    }\n",
       "\n",
       "    .dataframe thead th {\n",
       "        text-align: right;\n",
       "    }\n",
       "</style>\n",
       "<table border=\"1\" class=\"dataframe\">\n",
       "  <thead>\n",
       "    <tr style=\"text-align: right;\">\n",
       "      <th></th>\n",
       "      <th>topic no</th>\n",
       "      <th>word00</th>\n",
       "      <th>word01</th>\n",
       "      <th>word02</th>\n",
       "      <th>word03</th>\n",
       "      <th>word04</th>\n",
       "      <th>word05</th>\n",
       "      <th>word06</th>\n",
       "      <th>word07</th>\n",
       "      <th>word08</th>\n",
       "      <th>...</th>\n",
       "      <th>word40</th>\n",
       "      <th>word41</th>\n",
       "      <th>word42</th>\n",
       "      <th>word43</th>\n",
       "      <th>word44</th>\n",
       "      <th>word45</th>\n",
       "      <th>word46</th>\n",
       "      <th>word47</th>\n",
       "      <th>word48</th>\n",
       "      <th>word49</th>\n",
       "    </tr>\n",
       "  </thead>\n",
       "  <tbody>\n",
       "    <tr>\n",
       "      <th>0</th>\n",
       "      <td>0</td>\n",
       "      <td>parents</td>\n",
       "      <td>children</td>\n",
       "      <td>my</td>\n",
       "      <td>stay</td>\n",
       "      <td>girls</td>\n",
       "      <td>husband</td>\n",
       "      <td>friends</td>\n",
       "      <td>home</td>\n",
       "      <td>school</td>\n",
       "      <td>...</td>\n",
       "      <td>married</td>\n",
       "      <td>moved</td>\n",
       "      <td>her</td>\n",
       "      <td>having</td>\n",
       "      <td>jobs</td>\n",
       "      <td>me</td>\n",
       "      <td>immigrated</td>\n",
       "      <td>went</td>\n",
       "      <td>men</td>\n",
       "      <td>find</td>\n",
       "    </tr>\n",
       "    <tr>\n",
       "      <th>1</th>\n",
       "      <td>1</td>\n",
       "      <td>film</td>\n",
       "      <td>filmmaker</td>\n",
       "      <td>films</td>\n",
       "      <td>movie</td>\n",
       "      <td>documentary</td>\n",
       "      <td>documentaries</td>\n",
       "      <td>egoyan</td>\n",
       "      <td>cinema</td>\n",
       "      <td>camera</td>\n",
       "      <td>...</td>\n",
       "      <td>doc</td>\n",
       "      <td>child</td>\n",
       "      <td>journalism</td>\n",
       "      <td>dad</td>\n",
       "      <td>son</td>\n",
       "      <td>friends</td>\n",
       "      <td>bly</td>\n",
       "      <td>ms</td>\n",
       "      <td>family</td>\n",
       "      <td>actress</td>\n",
       "    </tr>\n",
       "  </tbody>\n",
       "</table>\n",
       "<p>2 rows × 51 columns</p>\n",
       "</div>"
      ],
      "text/plain": [
       "   topic no   word00     word01 word02 word03       word04         word05  \\\n",
       "0         0  parents   children     my   stay        girls        husband   \n",
       "1         1     film  filmmaker  films  movie  documentary  documentaries   \n",
       "\n",
       "    word06  word07  word08  ...   word40 word41      word42  word43 word44  \\\n",
       "0  friends    home  school  ...  married  moved         her  having   jobs   \n",
       "1   egoyan  cinema  camera  ...      doc  child  journalism     dad    son   \n",
       "\n",
       "    word45      word46 word47  word48   word49  \n",
       "0       me  immigrated   went     men     find  \n",
       "1  friends         bly     ms  family  actress  \n",
       "\n",
       "[2 rows x 51 columns]"
      ]
     },
     "execution_count": 47,
     "metadata": {},
     "output_type": "execute_result"
    }
   ],
   "source": [
    "pd.DataFrame(output_dict)"
   ]
  },
  {
   "cell_type": "code",
   "execution_count": null,
   "id": "a04b01a5",
   "metadata": {},
   "outputs": [],
   "source": [
    "for topic in range(topics_df.shape[0]):\n",
    "    row = topics_df.iloc[topic,:]\n",
    "    print(row['size']==(len(row['relevants'].split(';'))+len(row['suggestions'].split(';'))))"
   ]
  },
  {
   "cell_type": "code",
   "execution_count": null,
   "id": "deaa398f",
   "metadata": {},
   "outputs": [],
   "source": []
  }
 ],
 "metadata": {
  "kernelspec": {
   "display_name": "imm",
   "language": "python",
   "name": "imm"
  },
  "language_info": {
   "codemirror_mode": {
    "name": "ipython",
    "version": 3
   },
   "file_extension": ".py",
   "mimetype": "text/x-python",
   "name": "python",
   "nbconvert_exporter": "python",
   "pygments_lexer": "ipython3",
   "version": "3.9.7"
  }
 },
 "nbformat": 4,
 "nbformat_minor": 5
}

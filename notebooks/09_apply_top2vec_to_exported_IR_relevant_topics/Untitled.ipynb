{
 "cells": [
  {
   "cell_type": "markdown",
   "id": "0ae859d3",
   "metadata": {},
   "source": [
    "# INPUT & OUTPUT"
   ]
  },
  {
   "cell_type": "code",
   "execution_count": 1,
   "id": "c495039c",
   "metadata": {},
   "outputs": [],
   "source": [
    "##########\n",
    "# INPUT  #\n",
    "##########\n",
    "final_suggestions='/home/ec2-user/SageMaker/mariano/datasets/multiculturalism/files/final_suggestions.csv'\n",
    "\n",
    "##########\n",
    "# OUTPUT #\n",
    "##########\n",
    "output_df = '/home/ec2-user/SageMaker/mariano/datasets/multiculturalism/top2vec/deep_learn_top2vec_topics_(only_rel_topics).csv'"
   ]
  },
  {
   "cell_type": "markdown",
   "id": "7540c9f4",
   "metadata": {},
   "source": [
    "# IMPORTS"
   ]
  },
  {
   "cell_type": "code",
   "execution_count": 2,
   "id": "c546e924",
   "metadata": {},
   "outputs": [],
   "source": [
    "from top2vec import Top2Vec\n",
    "import pandas as pd\n",
    "\n",
    "import sys\n",
    "sys.path.append('/home/ec2-user/SageMaker/mariano/repositories/tdmstudio-high-recall-information-retrieval-system/')\n",
    "from utils import tdmstudio"
   ]
  },
  {
   "cell_type": "markdown",
   "id": "61d006bf",
   "metadata": {},
   "source": [
    "# CODE"
   ]
  },
  {
   "cell_type": "code",
   "execution_count": 3,
   "id": "77996f18",
   "metadata": {},
   "outputs": [
    {
     "data": {
      "text/html": [
       "<div>\n",
       "<style scoped>\n",
       "    .dataframe tbody tr th:only-of-type {\n",
       "        vertical-align: middle;\n",
       "    }\n",
       "\n",
       "    .dataframe tbody tr th {\n",
       "        vertical-align: top;\n",
       "    }\n",
       "\n",
       "    .dataframe thead th {\n",
       "        text-align: right;\n",
       "    }\n",
       "</style>\n",
       "<table border=\"1\" class=\"dataframe\">\n",
       "  <thead>\n",
       "    <tr style=\"text-align: right;\">\n",
       "      <th></th>\n",
       "      <th>Unnamed: 0</th>\n",
       "      <th>id</th>\n",
       "      <th>title</th>\n",
       "      <th>topic relevance</th>\n",
       "      <th>with relevant</th>\n",
       "      <th>has_labeled_as_relevant</th>\n",
       "      <th>is_labeled_relevant</th>\n",
       "      <th>new_score</th>\n",
       "      <th>text</th>\n",
       "    </tr>\n",
       "  </thead>\n",
       "  <tbody>\n",
       "    <tr>\n",
       "      <th>0</th>\n",
       "      <td>0</td>\n",
       "      <td>1366203412</td>\n",
       "      <td>The birth of Toronto Style.</td>\n",
       "      <td>IR</td>\n",
       "      <td>False</td>\n",
       "      <td>True</td>\n",
       "      <td>False</td>\n",
       "      <td>0.100637</td>\n",
       "      <td>The birth of Toronto Style.\\n          \\n     ...</td>\n",
       "    </tr>\n",
       "    <tr>\n",
       "      <th>1</th>\n",
       "      <td>1</td>\n",
       "      <td>1412658808</td>\n",
       "      <td>ARCHITECTURE.</td>\n",
       "      <td>IR</td>\n",
       "      <td>False</td>\n",
       "      <td>True</td>\n",
       "      <td>False</td>\n",
       "      <td>0.076864</td>\n",
       "      <td>ARCHITECTURE.\\n          \\n            \\n\\n \\n...</td>\n",
       "    </tr>\n",
       "    <tr>\n",
       "      <th>2</th>\n",
       "      <td>2</td>\n",
       "      <td>1371240574</td>\n",
       "      <td>STYLE SCUFFLE.</td>\n",
       "      <td>IR</td>\n",
       "      <td>False</td>\n",
       "      <td>True</td>\n",
       "      <td>False</td>\n",
       "      <td>0.077903</td>\n",
       "      <td>STYLE SCUFFLE.\\n          \\n            \\n\\n \\...</td>\n",
       "    </tr>\n",
       "    <tr>\n",
       "      <th>3</th>\n",
       "      <td>3</td>\n",
       "      <td>1139223026</td>\n",
       "      <td>Calatrava's sculptural architecture.</td>\n",
       "      <td>IR</td>\n",
       "      <td>False</td>\n",
       "      <td>True</td>\n",
       "      <td>False</td>\n",
       "      <td>0.079527</td>\n",
       "      <td>Calatrava's sculptural architecture.\\n        ...</td>\n",
       "    </tr>\n",
       "    <tr>\n",
       "      <th>4</th>\n",
       "      <td>4</td>\n",
       "      <td>2606112512</td>\n",
       "      <td>Let's face it: Modernist architecture is history.</td>\n",
       "      <td>IR</td>\n",
       "      <td>False</td>\n",
       "      <td>True</td>\n",
       "      <td>False</td>\n",
       "      <td>0.084625</td>\n",
       "      <td>Let's face it: Modernist architecture is histo...</td>\n",
       "    </tr>\n",
       "  </tbody>\n",
       "</table>\n",
       "</div>"
      ],
      "text/plain": [
       "   Unnamed: 0          id                                              title  \\\n",
       "0           0  1366203412                        The birth of Toronto Style.   \n",
       "1           1  1412658808                                      ARCHITECTURE.   \n",
       "2           2  1371240574                                     STYLE SCUFFLE.   \n",
       "3           3  1139223026               Calatrava's sculptural architecture.   \n",
       "4           4  2606112512  Let's face it: Modernist architecture is history.   \n",
       "\n",
       "  topic relevance  with relevant  has_labeled_as_relevant  \\\n",
       "0              IR          False                     True   \n",
       "1              IR          False                     True   \n",
       "2              IR          False                     True   \n",
       "3              IR          False                     True   \n",
       "4              IR          False                     True   \n",
       "\n",
       "   is_labeled_relevant  new_score  \\\n",
       "0                False   0.100637   \n",
       "1                False   0.076864   \n",
       "2                False   0.077903   \n",
       "3                False   0.079527   \n",
       "4                False   0.084625   \n",
       "\n",
       "                                                text  \n",
       "0  The birth of Toronto Style.\\n          \\n     ...  \n",
       "1  ARCHITECTURE.\\n          \\n            \\n\\n \\n...  \n",
       "2  STYLE SCUFFLE.\\n          \\n            \\n\\n \\...  \n",
       "3  Calatrava's sculptural architecture.\\n        ...  \n",
       "4  Let's face it: Modernist architecture is histo...  "
      ]
     },
     "execution_count": 3,
     "metadata": {},
     "output_type": "execute_result"
    }
   ],
   "source": [
    "df = pd.read_csv(final_suggestions)\n",
    "\n",
    "df['text'] = list(map(lambda id_: tdmstudio.get_title_and_text(tdmstudio.get_filename(str(id_))), df['id']))\n",
    "\n",
    "df.head()\n",
    "\n"
   ]
  },
  {
   "cell_type": "code",
   "execution_count": null,
   "id": "fd321ba4",
   "metadata": {},
   "outputs": [
    {
     "name": "stderr",
     "output_type": "stream",
     "text": [
      "2023-02-16 14:12:27,374 - top2vec - INFO - Pre-processing documents for training\n"
     ]
    },
    {
     "name": "stdout",
     "output_type": "stream",
     "text": [
      "Training model\n"
     ]
    },
    {
     "name": "stderr",
     "output_type": "stream",
     "text": [
      "2023-02-16 14:12:42,565 - top2vec - INFO - Creating joint document/word embedding\n"
     ]
    }
   ],
   "source": [
    "print('Training model')\n",
    "deep_model = Top2Vec(documents=list(df['text']), speed='deep-learn', workers=1)\n"
   ]
  },
  {
   "cell_type": "code",
   "execution_count": null,
   "id": "50232f42",
   "metadata": {},
   "outputs": [],
   "source": [
    "print(f'Number of topics: {len(topic_nums)}')"
   ]
  },
  {
   "cell_type": "code",
   "execution_count": null,
   "id": "b4d17549",
   "metadata": {},
   "outputs": [],
   "source": [
    "data = {'topic no.': [], \n",
    "        'size': [], \n",
    "        'relevant count': [], \n",
    "        'example': [], \n",
    "        'example(rel)':[], \n",
    "        'suggestions':[], \n",
    "        'relevants':[],\n",
    "        'suggestions (by relevance)': [],\n",
    "       }\n",
    "\n",
    "topic_sizes, topic_nums = deep_model.get_topic_sizes()\n",
    "topic_words, word_scores, topic_nums = deep_model.get_topics()\n",
    "\n",
    "for word_ix,_ in enumerate(topic_words[0]):\n",
    "    data[f'word_{word_ix:03}']=[]\n",
    "\n",
    "df['top2vec']=deep_model.doc_top\n",
    "df['doc_dist']=deep_model.doc_dist\n",
    "\n",
    "for ix in range(len(topic_nums)):\n",
    "    # Topic number & size \n",
    "    data['topic no.'].append(topic_nums[ix])\n",
    "    data['size'].append(topic_sizes[ix])\n",
    "    \n",
    "    # auxdf\n",
    "    auxdf=df[df['top2vec']==topic_nums[ix]]\n",
    "    \n",
    "    # Example highly relevant to topic\n",
    "    data['example'].append('https://proquest.com/docview/'+str(auxdf.sort_values(by='doc_dist',ascending=False)['id'].iloc[0]))\n",
    "    \n",
    "    # Suggestions IDs (sorted by topic)\n",
    "    suggestions_ids=auxdf[auxdf['relevant_or_suggested']=='sugg'].sort_values(by='doc_dist',ascending=False)['id']\n",
    "    data['suggestions'].append(';'.join([str(elem) for elem in suggestions_ids]))\n",
    "    \n",
    "    # Suggestions IDs (by relevance)\n",
    "    #NOT USED BECAUSE WE CANNOT RE RUN THIS SCRIPT, gives different topics \n",
    "    # and Serperi is already working with the other topics:\n",
    "    \n",
    "#     suggestions_ids=auxdf[auxdf['relevant_or_suggested']=='sugg'].sort_values(by='new_score',ascending=False)['id']\n",
    "#     data['suggestions (by relevance)'].append(';'.join([str(elem) for elem in suggestions_ids]))\n",
    "    \n",
    "    # Labelled as relevant IDs\n",
    "    relevant_ids=auxdf[auxdf['relevant_or_suggested']=='rel'].sort_values(by='doc_dist',ascending=False)['id']\n",
    "    data['relevants'].append(';'.join([str(elem) for elem in relevant_ids]))\n",
    "    \n",
    "    \n",
    "    # Filter auxdf to have only relevant (not suggestions)\n",
    "    auxdf=auxdf[auxdf['relevant_or_suggested']=='rel']\n",
    "    \n",
    "    # Relevant example highly relevant to topic.\n",
    "    if auxdf.shape[0]>0:\n",
    "        data['example(rel)'].append('https://proquest.com/docview/'+str(auxdf.sort_values(by='doc_dist',ascending=False)['id'].iloc[0]))\n",
    "    else:\n",
    "        data['example(rel)'].append('')\n",
    "        \n",
    "    # No. of relevant in topic\n",
    "    data['relevant count'].append(auxdf.shape[0])\n",
    "    \n",
    "    # Words in topic\n",
    "    for word_ix,word in enumerate(topic_words[ix]):\n",
    "        data[f'word_{word_ix:03}'].append(word)\n",
    "\n",
    "output_df = pd.DataFrame(data)\n",
    "output_df.to_csv(topics_csv)\n",
    "output_df"
   ]
  },
  {
   "cell_type": "code",
   "execution_count": null,
   "id": "a22b744c",
   "metadata": {},
   "outputs": [],
   "source": []
  }
 ],
 "metadata": {
  "kernelspec": {
   "display_name": "top2vec",
   "language": "python",
   "name": "top2vec"
  },
  "language_info": {
   "codemirror_mode": {
    "name": "ipython",
    "version": 3
   },
   "file_extension": ".py",
   "mimetype": "text/x-python",
   "name": "python",
   "nbconvert_exporter": "python",
   "pygments_lexer": "ipython3",
   "version": "3.9.15"
  }
 },
 "nbformat": 4,
 "nbformat_minor": 5
}

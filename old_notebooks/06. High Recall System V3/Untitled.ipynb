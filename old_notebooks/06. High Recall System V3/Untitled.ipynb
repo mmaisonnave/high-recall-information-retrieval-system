{
 "cells": [
  {
   "cell_type": "code",
   "execution_count": 40,
   "id": "b200e57d",
   "metadata": {},
   "outputs": [
    {
     "data": {
      "application/vnd.jupyter.widget-view+json": {
       "model_id": "0e546e3c3ec5495e812082663132b159",
       "version_major": 2,
       "version_minor": 0
      },
      "text/plain": [
       "HBox(children=(Text(value='Hello World', description='Something really long:', layout=Layout(width='600px'), p…"
      ]
     },
     "metadata": {},
     "output_type": "display_data"
    }
   ],
   "source": [
    "import ipywidgets as widgets\n",
    "\n",
    "\n",
    "text = widgets.Text(\n",
    "    value='Hello World',\n",
    "    placeholder='Type something',\n",
    "    description='Something really long:',\n",
    "    disabled=False,\n",
    "    layout=widgets.Layout(width='600px'),\n",
    "    style={'description_width': 'initial'}\n",
    ")\n",
    "display(widgets.HBox([text], layout=widgets.Layout(border='solid')))"
   ]
  },
  {
   "cell_type": "code",
   "execution_count": 57,
   "id": "e1d57818",
   "metadata": {},
   "outputs": [
    {
     "data": {
      "application/vnd.jupyter.widget-view+json": {
       "model_id": "22f3f0c6eae04219a4f48bb402f08673",
       "version_major": 2,
       "version_minor": 0
      },
      "text/plain": [
       "GridBox(children=(Label(value='0'), Label(value='1'), Label(value='2'), Label(value='3'), Label(value='4'), La…"
      ]
     },
     "metadata": {},
     "output_type": "display_data"
    }
   ],
   "source": [
    "items= [widgets.Label(str(i)) for i in range(8)]\n",
    "widgets.GridBox(items, layout=widgets.Layout(grid_template_columns=\"repeat(2, 475px)\",border='solid'))"
   ]
  },
  {
   "cell_type": "code",
   "execution_count": 1,
   "id": "eafea056",
   "metadata": {},
   "outputs": [
    {
     "data": {
      "application/vnd.jupyter.widget-view+json": {
       "model_id": "3569af01e4264b92b2d79a46e19eac1a",
       "version_major": 2,
       "version_minor": 0
      },
      "text/plain": [
       "Button(description='button1', disabled=True, style=ButtonStyle())"
      ]
     },
     "metadata": {},
     "output_type": "display_data"
    }
   ],
   "source": [
    "import ipywidgets as widgets\n",
    "\n",
    "\n",
    "button1 = widgets.Button(description='button1',disabled=True)\n",
    "display(button1)"
   ]
  },
  {
   "cell_type": "code",
   "execution_count": 10,
   "id": "d6f553f8",
   "metadata": {},
   "outputs": [],
   "source": [
    "lo = button1.layout"
   ]
  },
  {
   "cell_type": "code",
   "execution_count": 11,
   "id": "97b3d4db",
   "metadata": {},
   "outputs": [
    {
     "ename": "TraitError",
     "evalue": "The 'visibility' trait of a Layout instance expected any of ['visible', 'hidden', 'inherit', 'initial', 'unset'] (case-insensitive) or None, not the bool False.",
     "output_type": "error",
     "traceback": [
      "\u001b[0;31m---------------------------------------------------------------------------\u001b[0m",
      "\u001b[0;31mTraitError\u001b[0m                                Traceback (most recent call last)",
      "\u001b[0;32m/tmp/ipykernel_26467/1317847831.py\u001b[0m in \u001b[0;36m<module>\u001b[0;34m\u001b[0m\n\u001b[0;32m----> 1\u001b[0;31m \u001b[0mlo\u001b[0m\u001b[0;34m.\u001b[0m\u001b[0mvisibility\u001b[0m\u001b[0;34m=\u001b[0m\u001b[0;32mFalse\u001b[0m\u001b[0;34m\u001b[0m\u001b[0;34m\u001b[0m\u001b[0m\n\u001b[0m",
      "\u001b[0;32m~/SageMaker/.conda/envs/imm/lib/python3.9/site-packages/traitlets/traitlets.py\u001b[0m in \u001b[0;36m__set__\u001b[0;34m(self, obj, value)\u001b[0m\n\u001b[1;32m    604\u001b[0m             \u001b[0;32mraise\u001b[0m \u001b[0mTraitError\u001b[0m\u001b[0;34m(\u001b[0m\u001b[0;34m'The \"%s\" trait is read-only.'\u001b[0m \u001b[0;34m%\u001b[0m \u001b[0mself\u001b[0m\u001b[0;34m.\u001b[0m\u001b[0mname\u001b[0m\u001b[0;34m)\u001b[0m\u001b[0;34m\u001b[0m\u001b[0;34m\u001b[0m\u001b[0m\n\u001b[1;32m    605\u001b[0m         \u001b[0;32melse\u001b[0m\u001b[0;34m:\u001b[0m\u001b[0;34m\u001b[0m\u001b[0;34m\u001b[0m\u001b[0m\n\u001b[0;32m--> 606\u001b[0;31m             \u001b[0mself\u001b[0m\u001b[0;34m.\u001b[0m\u001b[0mset\u001b[0m\u001b[0;34m(\u001b[0m\u001b[0mobj\u001b[0m\u001b[0;34m,\u001b[0m \u001b[0mvalue\u001b[0m\u001b[0;34m)\u001b[0m\u001b[0;34m\u001b[0m\u001b[0;34m\u001b[0m\u001b[0m\n\u001b[0m\u001b[1;32m    607\u001b[0m \u001b[0;34m\u001b[0m\u001b[0m\n\u001b[1;32m    608\u001b[0m     \u001b[0;32mdef\u001b[0m \u001b[0m_validate\u001b[0m\u001b[0;34m(\u001b[0m\u001b[0mself\u001b[0m\u001b[0;34m,\u001b[0m \u001b[0mobj\u001b[0m\u001b[0;34m,\u001b[0m \u001b[0mvalue\u001b[0m\u001b[0;34m)\u001b[0m\u001b[0;34m:\u001b[0m\u001b[0;34m\u001b[0m\u001b[0;34m\u001b[0m\u001b[0m\n",
      "\u001b[0;32m~/SageMaker/.conda/envs/imm/lib/python3.9/site-packages/traitlets/traitlets.py\u001b[0m in \u001b[0;36mset\u001b[0;34m(self, obj, value)\u001b[0m\n\u001b[1;32m    578\u001b[0m \u001b[0;34m\u001b[0m\u001b[0m\n\u001b[1;32m    579\u001b[0m     \u001b[0;32mdef\u001b[0m \u001b[0mset\u001b[0m\u001b[0;34m(\u001b[0m\u001b[0mself\u001b[0m\u001b[0;34m,\u001b[0m \u001b[0mobj\u001b[0m\u001b[0;34m,\u001b[0m \u001b[0mvalue\u001b[0m\u001b[0;34m)\u001b[0m\u001b[0;34m:\u001b[0m\u001b[0;34m\u001b[0m\u001b[0;34m\u001b[0m\u001b[0m\n\u001b[0;32m--> 580\u001b[0;31m         \u001b[0mnew_value\u001b[0m \u001b[0;34m=\u001b[0m \u001b[0mself\u001b[0m\u001b[0;34m.\u001b[0m\u001b[0m_validate\u001b[0m\u001b[0;34m(\u001b[0m\u001b[0mobj\u001b[0m\u001b[0;34m,\u001b[0m \u001b[0mvalue\u001b[0m\u001b[0;34m)\u001b[0m\u001b[0;34m\u001b[0m\u001b[0;34m\u001b[0m\u001b[0m\n\u001b[0m\u001b[1;32m    581\u001b[0m         \u001b[0;32mtry\u001b[0m\u001b[0;34m:\u001b[0m\u001b[0;34m\u001b[0m\u001b[0;34m\u001b[0m\u001b[0m\n\u001b[1;32m    582\u001b[0m             \u001b[0mold_value\u001b[0m \u001b[0;34m=\u001b[0m \u001b[0mobj\u001b[0m\u001b[0;34m.\u001b[0m\u001b[0m_trait_values\u001b[0m\u001b[0;34m[\u001b[0m\u001b[0mself\u001b[0m\u001b[0;34m.\u001b[0m\u001b[0mname\u001b[0m\u001b[0;34m]\u001b[0m\u001b[0;34m\u001b[0m\u001b[0;34m\u001b[0m\u001b[0m\n",
      "\u001b[0;32m~/SageMaker/.conda/envs/imm/lib/python3.9/site-packages/traitlets/traitlets.py\u001b[0m in \u001b[0;36m_validate\u001b[0;34m(self, obj, value)\u001b[0m\n\u001b[1;32m    610\u001b[0m             \u001b[0;32mreturn\u001b[0m \u001b[0mvalue\u001b[0m\u001b[0;34m\u001b[0m\u001b[0;34m\u001b[0m\u001b[0m\n\u001b[1;32m    611\u001b[0m         \u001b[0;32mif\u001b[0m \u001b[0mhasattr\u001b[0m\u001b[0;34m(\u001b[0m\u001b[0mself\u001b[0m\u001b[0;34m,\u001b[0m \u001b[0;34m'validate'\u001b[0m\u001b[0;34m)\u001b[0m\u001b[0;34m:\u001b[0m\u001b[0;34m\u001b[0m\u001b[0;34m\u001b[0m\u001b[0m\n\u001b[0;32m--> 612\u001b[0;31m             \u001b[0mvalue\u001b[0m \u001b[0;34m=\u001b[0m \u001b[0mself\u001b[0m\u001b[0;34m.\u001b[0m\u001b[0mvalidate\u001b[0m\u001b[0;34m(\u001b[0m\u001b[0mobj\u001b[0m\u001b[0;34m,\u001b[0m \u001b[0mvalue\u001b[0m\u001b[0;34m)\u001b[0m\u001b[0;34m\u001b[0m\u001b[0;34m\u001b[0m\u001b[0m\n\u001b[0m\u001b[1;32m    613\u001b[0m         \u001b[0;32mif\u001b[0m \u001b[0mobj\u001b[0m\u001b[0;34m.\u001b[0m\u001b[0m_cross_validation_lock\u001b[0m \u001b[0;32mis\u001b[0m \u001b[0;32mFalse\u001b[0m\u001b[0;34m:\u001b[0m\u001b[0;34m\u001b[0m\u001b[0;34m\u001b[0m\u001b[0m\n\u001b[1;32m    614\u001b[0m             \u001b[0mvalue\u001b[0m \u001b[0;34m=\u001b[0m \u001b[0mself\u001b[0m\u001b[0;34m.\u001b[0m\u001b[0m_cross_validate\u001b[0m\u001b[0;34m(\u001b[0m\u001b[0mobj\u001b[0m\u001b[0;34m,\u001b[0m \u001b[0mvalue\u001b[0m\u001b[0;34m)\u001b[0m\u001b[0;34m\u001b[0m\u001b[0;34m\u001b[0m\u001b[0m\n",
      "\u001b[0;32m~/SageMaker/.conda/envs/imm/lib/python3.9/site-packages/traitlets/traitlets.py\u001b[0m in \u001b[0;36mvalidate\u001b[0;34m(self, obj, value)\u001b[0m\n\u001b[1;32m   2338\u001b[0m     \u001b[0;32mdef\u001b[0m \u001b[0mvalidate\u001b[0m\u001b[0;34m(\u001b[0m\u001b[0mself\u001b[0m\u001b[0;34m,\u001b[0m \u001b[0mobj\u001b[0m\u001b[0;34m,\u001b[0m \u001b[0mvalue\u001b[0m\u001b[0;34m)\u001b[0m\u001b[0;34m:\u001b[0m\u001b[0;34m\u001b[0m\u001b[0;34m\u001b[0m\u001b[0m\n\u001b[1;32m   2339\u001b[0m         \u001b[0;32mif\u001b[0m \u001b[0;32mnot\u001b[0m \u001b[0misinstance\u001b[0m\u001b[0;34m(\u001b[0m\u001b[0mvalue\u001b[0m\u001b[0;34m,\u001b[0m \u001b[0mstr\u001b[0m\u001b[0;34m)\u001b[0m\u001b[0;34m:\u001b[0m\u001b[0;34m\u001b[0m\u001b[0;34m\u001b[0m\u001b[0m\n\u001b[0;32m-> 2340\u001b[0;31m             \u001b[0mself\u001b[0m\u001b[0;34m.\u001b[0m\u001b[0merror\u001b[0m\u001b[0;34m(\u001b[0m\u001b[0mobj\u001b[0m\u001b[0;34m,\u001b[0m \u001b[0mvalue\u001b[0m\u001b[0;34m)\u001b[0m\u001b[0;34m\u001b[0m\u001b[0;34m\u001b[0m\u001b[0m\n\u001b[0m\u001b[1;32m   2341\u001b[0m \u001b[0;34m\u001b[0m\u001b[0m\n\u001b[1;32m   2342\u001b[0m         \u001b[0;32mfor\u001b[0m \u001b[0mv\u001b[0m \u001b[0;32min\u001b[0m \u001b[0mself\u001b[0m\u001b[0;34m.\u001b[0m\u001b[0mvalues\u001b[0m\u001b[0;34m:\u001b[0m\u001b[0;34m\u001b[0m\u001b[0;34m\u001b[0m\u001b[0m\n",
      "\u001b[0;32m~/SageMaker/.conda/envs/imm/lib/python3.9/site-packages/traitlets/traitlets.py\u001b[0m in \u001b[0;36merror\u001b[0;34m(self, obj, value, error, info)\u001b[0m\n\u001b[1;32m    690\u001b[0m                     e = \"The '%s' trait expected %s, not %s.\" % (\n\u001b[1;32m    691\u001b[0m                         self.name, self.info(), describe(\"the\", value))\n\u001b[0;32m--> 692\u001b[0;31m                 \u001b[0;32mraise\u001b[0m \u001b[0mTraitError\u001b[0m\u001b[0;34m(\u001b[0m\u001b[0me\u001b[0m\u001b[0;34m)\u001b[0m\u001b[0;34m\u001b[0m\u001b[0;34m\u001b[0m\u001b[0m\n\u001b[0m\u001b[1;32m    693\u001b[0m \u001b[0;34m\u001b[0m\u001b[0m\n\u001b[1;32m    694\u001b[0m     \u001b[0;32mdef\u001b[0m \u001b[0mget_metadata\u001b[0m\u001b[0;34m(\u001b[0m\u001b[0mself\u001b[0m\u001b[0;34m,\u001b[0m \u001b[0mkey\u001b[0m\u001b[0;34m,\u001b[0m \u001b[0mdefault\u001b[0m\u001b[0;34m=\u001b[0m\u001b[0;32mNone\u001b[0m\u001b[0;34m)\u001b[0m\u001b[0;34m:\u001b[0m\u001b[0;34m\u001b[0m\u001b[0;34m\u001b[0m\u001b[0m\n",
      "\u001b[0;31mTraitError\u001b[0m: The 'visibility' trait of a Layout instance expected any of ['visible', 'hidden', 'inherit', 'initial', 'unset'] (case-insensitive) or None, not the bool False."
     ]
    }
   ],
   "source": [
    "lo.visibility=False"
   ]
  },
  {
   "cell_type": "code",
   "execution_count": 24,
   "id": "c441ab85",
   "metadata": {},
   "outputs": [
    {
     "data": {
      "application/vnd.jupyter.widget-view+json": {
       "model_id": "2cd6c8dca3f94c18a45e7c6e5b25c3b0",
       "version_major": 2,
       "version_minor": 0
      },
      "text/plain": [
       "Button(description='button1', style=ButtonStyle())"
      ]
     },
     "metadata": {},
     "output_type": "display_data"
    }
   ],
   "source": [
    "import ipywidgets as widgets\n",
    "\n",
    "\n",
    "button2 = widgets.Button(description='button2',disabled=False)\n",
    "display(button2)"
   ]
  },
  {
   "cell_type": "code",
   "execution_count": 31,
   "id": "bd6b6d63",
   "metadata": {},
   "outputs": [
    {
     "data": {
      "application/vnd.jupyter.widget-view+json": {
       "model_id": "5f00cb58a60f4d699cf5299699339502",
       "version_major": 2,
       "version_minor": 0
      },
      "text/plain": [
       "HBox(children=(Button(description='button1', disabled=True, style=ButtonStyle()), Button(description='button1'…"
      ]
     },
     "metadata": {},
     "output_type": "display_data"
    }
   ],
   "source": [
    "box = widgets.HBox([button1, button2],disabled=True)\n",
    "box.disabled=True\n",
    "display(box)"
   ]
  },
  {
   "cell_type": "code",
   "execution_count": 35,
   "id": "06ee5afb",
   "metadata": {},
   "outputs": [],
   "source": [
    "for elem in box.children:\n",
    "    elem.disabled=False"
   ]
  },
  {
   "cell_type": "code",
   "execution_count": 5,
   "id": "27e458ff",
   "metadata": {},
   "outputs": [
    {
     "data": {
      "application/vnd.jupyter.widget-view+json": {
       "model_id": "32ff0b6480b74c208beb296b765099b2",
       "version_major": 2,
       "version_minor": 0
      },
      "text/plain": [
       "FloatSlider(value=1.0, continuous_update=False, description='Confidence:', max=1.0, step=0.01)"
      ]
     },
     "metadata": {},
     "output_type": "display_data"
    }
   ],
   "source": [
    "from ipywidgets import FloatSlider\n",
    "from IPython.display import display\n",
    "confidence_slider = FloatSlider(\n",
    "    value=7.5,\n",
    "    min=0,\n",
    "    max=1.0,\n",
    "    step=0.01,\n",
    "    description='Confidence:',\n",
    "    disabled=False,\n",
    "    continuous_update=False,\n",
    "    orientation='horizontal',\n",
    "    readout=True,\n",
    "    readout_format='.2f',\n",
    ")\n",
    "display(confidence_slider)"
   ]
  },
  {
   "cell_type": "code",
   "execution_count": 7,
   "id": "0f8b4032",
   "metadata": {},
   "outputs": [
    {
     "data": {
      "text/plain": [
       "0.89"
      ]
     },
     "execution_count": 7,
     "metadata": {},
     "output_type": "execute_result"
    }
   ],
   "source": [
    "confidence_slider.value"
   ]
  },
  {
   "cell_type": "code",
   "execution_count": 12,
   "id": "3f17af43",
   "metadata": {},
   "outputs": [
    {
     "name": "stdout",
     "output_type": "stream",
     "text": [
      "Working on B\n",
      "Working on G3\n"
     ]
    },
    {
     "name": "stderr",
     "output_type": "stream",
     "text": [
      "/home/ec2-user/SageMaker/.conda/envs/imm/lib/python3.9/site-packages/sklearn/neural_network/_multilayer_perceptron.py:692: ConvergenceWarning: Stochastic Optimizer: Maximum iterations (200) reached and the optimization hasn't converged yet.\n",
      "  warnings.warn(\n"
     ]
    },
    {
     "name": "stdout",
     "output_type": "stream",
     "text": [
      "Working on G6\n",
      "OK!\n"
     ]
    }
   ],
   "source": [
    "from utils.classifier import Classifier\n",
    "from sklearn.neural_network import MLPClassifier\n",
    "from utils.data_item import DataItem\n",
    "\n",
    "\n",
    "def test_classifier():\n",
    "    labeled_data=[]\n",
    "    for line in open('labeled_data.csv').read().splitlines()[1:]:\n",
    "        id_,label = line.split(';')\n",
    "        item = DataItem(id_)\n",
    "        if label=='R':\n",
    "            item.set_relevant()\n",
    "        else:\n",
    "            item.set_irrelevant()\n",
    "            assert label=='I'\n",
    "        if item.has_vector():\n",
    "            labeled_data.append(item)\n",
    "            \n",
    "    for type_ in [DataItem.TYPE_BOW, DataItem.TYPE_GLOVE300, DataItem.TYPE_GLOVE600, ]:\n",
    "        print(f'Working on {type_}')\n",
    "        clf = Classifier(model=MLPClassifier(),type_=type_)\n",
    "        assert not clf.trained\n",
    "        clf.fit(labeled_data)\n",
    "        yhat = clf.predict(labeled_data)\n",
    "\n",
    "        clf.partial_fit(labeled_data)\n",
    "    print('OK!')\n",
    "test_classifier()    "
   ]
  },
  {
   "cell_type": "code",
   "execution_count": 6,
   "id": "bd8b24aa",
   "metadata": {},
   "outputs": [],
   "source": []
  },
  {
   "cell_type": "code",
   "execution_count": 7,
   "id": "95a1344b",
   "metadata": {},
   "outputs": [],
   "source": [
    "yhat = clf.predict(labeled_data)"
   ]
  },
  {
   "cell_type": "code",
   "execution_count": 9,
   "id": "d841ac18",
   "metadata": {},
   "outputs": [
    {
     "data": {
      "text/plain": [
       "620.52313"
      ]
     },
     "execution_count": 9,
     "metadata": {},
     "output_type": "execute_result"
    }
   ],
   "source": [
    "import numpy as np\n",
    "np.sum(yhat)"
   ]
  },
  {
   "cell_type": "code",
   "execution_count": 11,
   "id": "af8e201a",
   "metadata": {},
   "outputs": [
    {
     "name": "stdout",
     "output_type": "stream",
     "text": [
      "OK!\n"
     ]
    }
   ],
   "source": [
    "def test_term_highlighter():\n",
    "    labeled_data=[]\n",
    "    for line in open('labeled_data.csv').read().splitlines()[1:]:\n",
    "        id_,label = line.split(';')\n",
    "        item = DataItem(id_)\n",
    "        if label=='R':\n",
    "            item.set_relevant()\n",
    "        else:\n",
    "            item.set_irrelevant()\n",
    "            assert label=='I'\n",
    "        if item.has_vector():\n",
    "            labeled_data.append(item)\n",
    "\n",
    "    keep_top=20\n",
    "    terms_per_article=10\n",
    "    highlighter = TermHighlighter(keep_top=keep_top,terms_per_article=terms_per_article)\n",
    "    assert not highlighter.trained\n",
    "    assert len(highlighter.vocab)==10000\n",
    "    \n",
    "    highlighter.fit(labeled_data)\n",
    "    \n",
    "    assert len(highlighter.term2coef)==20\n",
    "    assert len(highlighter.sorted_terms())==len(highlighter.vocab)\n",
    "    \n",
    "    assert all([elem1==elem2 for elem1, elem2 in zip(highlighter.term2coef, highlighter.sorted_terms()[:keep_top])])\n",
    "    \n",
    "    highlighter.highlight(' '.join(highlighter.sorted_terms()[:keep_top])) #first 'terms_per_articles' should be highlighted\n",
    "    print('OK!')\n",
    "    \n",
    "test_term_highlighter()"
   ]
  },
  {
   "cell_type": "code",
   "execution_count": 5,
   "id": "900973d0",
   "metadata": {},
   "outputs": [
    {
     "data": {
      "text/plain": [
       "True"
      ]
     },
     "execution_count": 5,
     "metadata": {},
     "output_type": "execute_result"
    }
   ],
   "source": [
    "all([elem1==elem2 for elem1,elem2 in zip(list(highlighter.term2coef), highlighter.sorted_terms())])"
   ]
  },
  {
   "cell_type": "code",
   "execution_count": 7,
   "id": "03283476",
   "metadata": {},
   "outputs": [
    {
     "data": {
      "text/plain": [
       "'<mark style=\"background-color:red\">dp</mark> <mark style=\"background-color:red\">title</mark> <mark style=\"background-color:red\">person</mark> <mark style=\"background-color:red\">canada</mark> <mark style=\"background-color:red\">arrive</mark> <mark style=\"background-color:red\">display</mark> <mark style=\"background-color:red\">unch</mark> <mark style=\"background-color:red\">low</mark> <mark style=\"background-color:red\">oil</mark> <mark style=\"background-color:red\">miner</mark> iro company member ltd come sale try old domestic contract'"
      ]
     },
     "execution_count": 7,
     "metadata": {},
     "output_type": "execute_result"
    }
   ],
   "source": [
    "highlighter.highlight(' '.join(highlighter.sorted_terms()[:20]))"
   ]
  },
  {
   "cell_type": "code",
   "execution_count": 4,
   "id": "c75a2a4c",
   "metadata": {},
   "outputs": [
    {
     "data": {
      "text/plain": [
       "10000"
      ]
     },
     "execution_count": 4,
     "metadata": {},
     "output_type": "execute_result"
    }
   ],
   "source": [
    "len(highlighter.sorted_terms())"
   ]
  },
  {
   "cell_type": "code",
   "execution_count": 8,
   "id": "0f4bf7c2",
   "metadata": {},
   "outputs": [
    {
     "data": {
      "text/plain": [
       "<bound method DataItem.preload_vector of <utils.data_item.DataItem object at 0x7f0caf49c700>>"
      ]
     },
     "execution_count": 8,
     "metadata": {},
     "output_type": "execute_result"
    }
   ],
   "source": [
    "str(DataItem('1287139125'))\n",
    "dir(DataItem('1287139125'))\n",
    "\n",
    "\n",
    "item."
   ]
  },
  {
   "cell_type": "code",
   "execution_count": 20,
   "id": "d09d2e66",
   "metadata": {},
   "outputs": [
    {
     "name": "stdout",
     "output_type": "stream",
     "text": [
      "OK!\n"
     ]
    }
   ],
   "source": [
    "from utils.data_item import DataItem\n",
    "def data_item_tester():\n",
    "    item0 = DataItem('1287139125')\n",
    "    assert item0.id_=='1287139125'\n",
    "    assert item0.source=='GM1'\n",
    "    assert item0.filename() == '/home/ec2-user/SageMaker/data/GM_all_1945_1956/1287139125.xml'\n",
    "    assert item0.has_vector\n",
    "    assert not item0.is_relevant()\n",
    "    item0.set_irrelevant()\n",
    "    assert not item0.is_relevant()\n",
    "    item0.set_relevant()\n",
    "    assert item0.is_relevant()    \n",
    "    item0.set_irrelevant()\n",
    "    assert not item0.is_relevant()\n",
    "    \n",
    "    vec = item0.vector(DataItem.TYPE_BOW)\n",
    "    assert vec.shape==(10000,)\n",
    "    vec = item0.vector(DataItem.TYPE_GLOVE300)\n",
    "    assert vec.shape==(300,)\n",
    "    vec = item0.vector(DataItem.TYPE_GLOVE600)\n",
    "    assert vec.shape==(600,)\n",
    "    print('OK!')\n",
    "    \n",
    "    item0.preload_vector(type_=DataItem.TYPE_BOW)\n",
    "    assert len(item0._preloaded_vector)==1\n",
    "    assert all(item0._preloaded_vector[DataItem.TYPE_BOW]==item0.vector(DataItem.TYPE_BOW))\n",
    "    item0.preload_vector(type_=DataItem.TYPE_GLOVE300)\n",
    "    assert len(item0._preloaded_vector)==2\n",
    "    assert all(item0._preloaded_vector[DataItem.TYPE_GLOVE300]==item0.vector(DataItem.TYPE_GLOVE300))\n",
    "    item0.preload_vector(type_=DataItem.TYPE_GLOVE600)\n",
    "    assert len(item0._preloaded_vector)==3\n",
    "    assert all(item0._preloaded_vector[DataItem.TYPE_GLOVE600]==item0.vector(DataItem.TYPE_GLOVE600))\n",
    "    \n",
    "    item0.get_htmldocview()\n",
    "    \n",
    "    item1 = DataItem('1269992885')\n",
    "    assert item1.id_=='1269992885'\n",
    "    assert item1.source=='GM2'\n",
    "    \n",
    "    \n",
    "    item2 = DataItem('1269992885','GM2')\n",
    "    \n",
    "    assert item1==item2\n",
    "    \n",
    "    \n",
    "    \n",
    "    X = DataItem.get_X([item0, item1,item2],type_=DataItem.TYPE_BOW)\n",
    "    assert X.shape==(3,10000)\n",
    "    assert np.sum(X[0,:]-item0.vector(type_=DataItem.TYPE_BOW))<1e-5, np.sum(X[0,:]-item0.vector(type_=DataItem.TYPE_BOW))\n",
    "    assert np.sum(X[1,:]-item1.vector(type_=DataItem.TYPE_BOW))<1e-5\n",
    "    assert np.sum(X[2,:]-item2.vector(type_=DataItem.TYPE_BOW))<1e-5\n",
    "\n",
    "    X = DataItem.get_X([item0, item1,item2],type_=DataItem.TYPE_GLOVE300)\n",
    "    assert X.shape==(3,300)\n",
    "    assert np.sum(X[0,:]-item0.vector(type_=DataItem.TYPE_GLOVE300))<1e-5\n",
    "    assert np.sum(X[1,:]-item1.vector(type_=DataItem.TYPE_GLOVE300))<1e-5\n",
    "    assert np.sum(X[2,:]-item2.vector(type_=DataItem.TYPE_GLOVE300))<1e-5\n",
    "    \n",
    "    \n",
    "    X = DataItem.get_X([item0, item1,item2],type_=DataItem.TYPE_GLOVE600)\n",
    "    assert X.shape==(3,600)\n",
    "    assert np.sum(X[0,:]-item0.vector(type_=DataItem.TYPE_GLOVE600))<1e-5\n",
    "    assert np.sum(X[1,:]-item1.vector(type_=DataItem.TYPE_GLOVE600))<1e-5\n",
    "    assert np.sum(X[2,:]-item2.vector(type_=DataItem.TYPE_GLOVE600))<1e-5\n",
    "    \n",
    "    \n",
    "    # get_y\n",
    "    item0.set_irrelevant()\n",
    "    item1.set_relevant()\n",
    "    item2.set_irrelevant()\n",
    "    \n",
    "    y = DataItem.get_y([item0,item1,item2])\n",
    "    assert all(y==[0, 1, 0])\n",
    "    \n",
    "    \n",
    "    item0.set_relevant()\n",
    "    item1.set_relevant()\n",
    "    item2.set_irrelevant()\n",
    "    y = DataItem.get_y([item0,item1,item2])\n",
    "    assert all(y==[1, 1, 0])\n",
    "    \n",
    "    \n",
    "data_item_tester()"
   ]
  },
  {
   "cell_type": "code",
   "execution_count": 6,
   "id": "1085c800",
   "metadata": {},
   "outputs": [
    {
     "data": {
      "text/plain": [
       "1.0"
      ]
     },
     "execution_count": 6,
     "metadata": {},
     "output_type": "execute_result"
    }
   ],
   "source": [
    "import numpy as np\n",
    "np.max(item1.vector(type_=DataItem.TYPE_BOW))"
   ]
  },
  {
   "cell_type": "code",
   "execution_count": 5,
   "id": "83e625ac",
   "metadata": {},
   "outputs": [
    {
     "data": {
      "text/plain": [
       "4.5"
      ]
     },
     "execution_count": 5,
     "metadata": {},
     "output_type": "execute_result"
    }
   ],
   "source": [
    "np.sum(X[1,:])"
   ]
  },
  {
   "cell_type": "code",
   "execution_count": 8,
   "id": "b3667594",
   "metadata": {},
   "outputs": [
    {
     "name": "stdout",
     "output_type": "stream",
     "text": [
      "1269992885.xml\n",
      "1269992886.xml\n",
      "1269992887.xml\n",
      "1269992888.xml\n",
      "1269992889.xml\n",
      "1269992890.xml\n",
      "1269992891.xml\n",
      "1269993007.xml\n",
      "1269993008.xml\n",
      "1269993010.xml\n",
      "ls: write error: Broken pipe\n"
     ]
    }
   ],
   "source": [
    "!ls /home/ec2-user/SageMaker/data/GM_all_1957-1967/ | head"
   ]
  },
  {
   "cell_type": "code",
   "execution_count": null,
   "id": "50bf8eb4",
   "metadata": {},
   "outputs": [],
   "source": []
  }
 ],
 "metadata": {
  "kernelspec": {
   "display_name": "imm",
   "language": "python",
   "name": "imm"
  },
  "language_info": {
   "codemirror_mode": {
    "name": "ipython",
    "version": 3
   },
   "file_extension": ".py",
   "mimetype": "text/x-python",
   "name": "python",
   "nbconvert_exporter": "python",
   "pygments_lexer": "ipython3",
   "version": "3.9.7"
  }
 },
 "nbformat": 4,
 "nbformat_minor": 5
}

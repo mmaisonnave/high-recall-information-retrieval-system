{
 "cells": [
  {
   "cell_type": "code",
   "execution_count": 1,
   "id": "84fc4a82",
   "metadata": {},
   "outputs": [
    {
     "name": "stdout",
     "output_type": "stream",
     "text": [
      "GM_all_1945_1956  GM_all_1979_1997\tGM_not_all_1979_1997  SAMPLEDATA\r\n",
      "GM_all_1957-1967  GM_not_all_1960_1978\tGM_not_all_1998_2018\r\n"
     ]
    }
   ],
   "source": [
    "!ls ~/SageMaker/data"
   ]
  },
  {
   "cell_type": "code",
   "execution_count": 24,
   "id": "a10a62dd",
   "metadata": {},
   "outputs": [
    {
     "name": "stdout",
     "output_type": "stream",
     "text": [
      "2022-09-22 12:46:47.000026 [ \u001b[1;94mINFO\u001b[0m  ] Number of files read: 2,961,906\n"
     ]
    }
   ],
   "source": [
    "import os\n",
    "from utils.io import info, ok, warning\n",
    "data_sources = ['/home/ec2-user/SageMaker/data/GM_not_all_1960_1978',\n",
    "                '/home/ec2-user/SageMaker/data/GM_not_all_1979_1997',\n",
    "                '/home/ec2-user/SageMaker/data/GM_not_all_1998_2018',\n",
    "            ]\n",
    "files = [os.path.join(data_source,file) for data_source in data_sources for file in os.listdir(data_source) ]\n",
    "info(f'Number of files read: {len(files):,}')\n",
    "assert all([os.path.isfile(file) for file in files])\n",
    "assert all([file.endswith('xml') for file in files])"
   ]
  },
  {
   "cell_type": "code",
   "execution_count": 28,
   "id": "213d8587",
   "metadata": {},
   "outputs": [
    {
     "name": "stdout",
     "output_type": "stream",
     "text": [
      "2022-09-22 12:49:01.186328 [ \u001b[1;94mINFO\u001b[0m  ] Random sample size N=30,000\n",
      "2022-09-22 12:49:01.186604 [ \u001b[1;94mINFO\u001b[0m  ] selected_files=<1242361093.xml, 1143914732.xml, ... , 1136514515.xml>\n"
     ]
    }
   ],
   "source": [
    "import numpy as np\n",
    "seed = 22127\n",
    "rng = np.random.default_rng(seed)\n",
    "N=30000\n",
    "selected_files = rng.choice(files, size=N, replace=False)\n",
    "assert len(set(selected_files))==len(selected_files)\n",
    "info(f'Random sample size N={N:,}')\n",
    "assert len(selected_files)==N\n",
    "info(f\"selected_files=<{selected_files[0].split('/')[-1]}, {selected_files[1].split('/')[-1]}, ... ,\"\\\n",
    "     f\" {selected_files[-1].split('/')[-1]}>\")"
   ]
  },
  {
   "cell_type": "code",
   "execution_count": 31,
   "id": "740f1d97",
   "metadata": {},
   "outputs": [
    {
     "name": "stdout",
     "output_type": "stream",
     "text": [
      "Data source #1:   865,000 ( 8,701 selected)\n",
      "Data source #2: 1,115,917 (11,294 selected)\n",
      "Data source #3:   980,989 (10,005 selected)\n"
     ]
    }
   ],
   "source": [
    "files1 =  [os.path.join(data_sources[0],file) for file in os.listdir(data_sources[0]) ]\n",
    "files2 =  [os.path.join(data_sources[1],file) for file in os.listdir(data_sources[1]) ]\n",
    "files3 =  [os.path.join(data_sources[2],file) for file in os.listdir(data_sources[2]) ]\n",
    "print(f'Data source #1: {len(files1):9,} ({len([file for file in selected_files if file in files1]):6,} selected)')\n",
    "print(f'Data source #2: {len(files2):9,} ({len([file for file in selected_files if file in files2]):6,} selected)')\n",
    "print(f'Data source #3: {len(files3):9,} ({len([file for file in selected_files if file in files3]):6,} selected)')"
   ]
  },
  {
   "cell_type": "code",
   "execution_count": 22,
   "id": "91061d98",
   "metadata": {},
   "outputs": [],
   "source": [
    "with open('data/selected_files.txt', 'w') as writer:\n",
    "    writer.write('\\n'.join(selected_files))"
   ]
  },
  {
   "cell_type": "code",
   "execution_count": 23,
   "id": "a4e908c8",
   "metadata": {},
   "outputs": [
    {
     "name": "stdout",
     "output_type": "stream",
     "text": [
      "/home/ec2-user/SageMaker/data/GM_not_all_1960_1978/1242361093.xml\r\n",
      "/home/ec2-user/SageMaker/data/GM_not_all_1979_1997/1143914732.xml\r\n",
      "/home/ec2-user/SageMaker/data/GM_not_all_1998_2018/1400808039.xml\r\n",
      "/home/ec2-user/SageMaker/data/GM_not_all_1960_1978/1240105116.xml\r\n",
      "/home/ec2-user/SageMaker/data/GM_not_all_1960_1978/1240587324.xml\r\n",
      "/home/ec2-user/SageMaker/data/GM_not_all_1998_2018/1695830819.xml\r\n",
      "/home/ec2-user/SageMaker/data/GM_not_all_1998_2018/1811304211.xml\r\n",
      "/home/ec2-user/SageMaker/data/GM_not_all_1960_1978/1313793996.xml\r\n",
      "/home/ec2-user/SageMaker/data/GM_not_all_1979_1997/1223101247.xml\r\n",
      "/home/ec2-user/SageMaker/data/GM_not_all_1960_1978/1284746690.xml\r\n"
     ]
    }
   ],
   "source": [
    "!head data/selected_files.txt"
   ]
  },
  {
   "cell_type": "code",
   "execution_count": null,
   "id": "6f1489aa",
   "metadata": {},
   "outputs": [],
   "source": []
  }
 ],
 "metadata": {
  "kernelspec": {
   "display_name": "imm",
   "language": "python",
   "name": "imm"
  },
  "language_info": {
   "codemirror_mode": {
    "name": "ipython",
    "version": 3
   },
   "file_extension": ".py",
   "mimetype": "text/x-python",
   "name": "python",
   "nbconvert_exporter": "python",
   "pygments_lexer": "ipython3",
   "version": "3.9.7"
  }
 },
 "nbformat": 4,
 "nbformat_minor": 5
}

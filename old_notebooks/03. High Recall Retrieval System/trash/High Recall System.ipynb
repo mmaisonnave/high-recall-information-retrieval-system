{
 "cells": [
  {
   "cell_type": "code",
   "execution_count": 1,
   "id": "3f5c27ab",
   "metadata": {},
   "outputs": [
    {
     "name": "stdout",
     "output_type": "stream",
     "text": [
      "2022-01-31 16:28:34.326630 [ INFO  ] Starting Script...\n"
     ]
    }
   ],
   "source": [
    "import datetime\n",
    "def info(str_):\n",
    "    print(f'{datetime.datetime.now()} [ INFO  ] {str_}')\n",
    "def ok(str_):\n",
    "    print(f'{datetime.datetime.now()} [ OK    ] {str_}')\n",
    "def warning(str_):\n",
    "    print(f'{datetime.datetime.now()} [WARNING] {str_}')\n",
    "info('Starting Script...')"
   ]
  },
  {
   "cell_type": "code",
   "execution_count": 2,
   "id": "04283019",
   "metadata": {},
   "outputs": [],
   "source": [
    "#imports\n",
    "import os\n",
    "import spacy\n",
    "import pandas as pd\n",
    "import pickle\n",
    "import numpy as np\n",
    "\n",
    "nlp = spacy.load('en_core_web_lg', disable=['textcat','parser','tagger','ner','lemmatizer'])\n"
   ]
  },
  {
   "cell_type": "code",
   "execution_count": 3,
   "id": "b835f7a0",
   "metadata": {},
   "outputs": [],
   "source": [
    "from lxml import etree\n",
    "\n",
    "def get_text(file):\n",
    "    tree = etree.parse(file)\n",
    "    root = tree.getroot()\n",
    "    if root.find('.//HiddenText') is not None:\n",
    "        return(root.find('.//HiddenText').text)\n",
    "    \n",
    "    elif root.find('.//Text') is not None:\n",
    "        return(root.find('.//Text').text)\n",
    "    \n",
    "    else:\n",
    "        return None\n",
    "def get_title(file):\n",
    "    tree = etree.parse(file)\n",
    "    root = tree.getroot()\n",
    "    return root.find('.//Title').text\n"
   ]
  },
  {
   "cell_type": "code",
   "execution_count": 14,
   "id": "3b3c3702",
   "metadata": {
    "scrolled": true
   },
   "outputs": [
    {
     "name": "stdout",
     "output_type": "stream",
     "text": [
      "2022-01-19 20:05:29.866342 [ INFO  ] Setting up\n",
      "2022-01-19 20:05:29.866507 [ INFO  ] Loading data...\n",
      "2022-01-19 20:05:29.990258 [ INFO  ] Number of articles from The Globe and Mail: 151,004\n",
      "2022-01-19 20:05:29.990432 [ INFO  ] Number of articles from Toronto Star: 41,429\n",
      "2022-01-19 20:05:29.990927 [ INFO  ] Number of articles (total): 192,433\n",
      "2022-01-19 20:05:30.386653 [ INFO  ] Data shape: (192433, 303)\n",
      "2022-01-19 20:05:30.386804 [ INFO  ] Loading vectors...\n",
      "2022-01-19 20:06:26.666151 [ OK    ] Vectors Lodaded.\n"
     ]
    }
   ],
   "source": [
    "from tqdm import tqdm\n",
    "\n",
    "#to-do\n",
    "GM_datapath = '/home/ec2-user/SageMaker/data/The_Globe_and_Mail_with_DP_filter_by_article_type/'\n",
    "TS_datapath = '/home/ec2-user/SageMaker/data/Toronto_Star_Publication_with_query/'\n",
    "vectors_datapath = '/home/ec2-user/SageMaker/mariano/notebooks/03. High Recall Retrieval System/vectors/'\n",
    "id2vector = pickle.load(open(vectors_datapath+'id2vec.p', 'rb'))\n",
    "\n",
    "batch_size=10\n",
    "# def setup_model(batch_size=10):\n",
    "info('Setting up')\n",
    "info('Loading data...')\n",
    "#to-do\n",
    "GM_filenames = os.listdir(GM_datapath)\n",
    "TS_filenames = os.listdir(TS_datapath)\n",
    "info(f\"Number of articles from The Globe and Mail: {len(GM_filenames):,}\")\n",
    "info(f\"Number of articles from Toronto Star: {len(TS_filenames):,}\")\n",
    "info(f\"Number of articles (total): {len(TS_filenames)+len(GM_filenames):,}\")\n",
    "ids_ = np.array([int(elem[:-4]) for elem in TS_filenames+GM_filenames]).reshape(-1,1)\n",
    "data = pd.DataFrame(\n",
    "    np.hstack([ids_, np.zeros(shape=(ids_.shape[0],300),dtype='float32')]),\n",
    "    columns = ['ID']+[f'X{i}' for i in range (1,301)]\n",
    ")\n",
    "data['Source'] = ['TS']*len(TS_filenames) + ['GM']*len(GM_filenames)\n",
    "data['Label'] = 'UNK'\n",
    "info(f'Data shape: {data.shape}')\n",
    "info('Loading vectors...')\n",
    "vectors_list = []\n",
    "for idx,id_ in enumerate(data['ID']):\n",
    "    assert id_ in id2vector\n",
    "    vectors_list.append(id2vector[id_])\n",
    "\n",
    "data.iloc[:,1:301]= np.vstack(vectors_list)\n",
    "\n",
    "# print(data.head())\n",
    "ok('Vectors Lodaded.')\n",
    "\n"
   ]
  },
  {
   "cell_type": "code",
   "execution_count": 13,
   "id": "6dbbbf43",
   "metadata": {},
   "outputs": [
    {
     "name": "stdout",
     "output_type": "stream",
     "text": [
      "Loading index\n",
      "2022-01-20 19:35:11.484241 [ INFO  ] Number of documents in index: 192,427\n",
      "<Hit {'file_id': '1140932582.xml', 'source': 'The Globe and Mail'}>\n"
     ]
    }
   ],
   "source": [
    "from whoosh.qparser import MultifieldParser\n",
    "from whoosh import index\n",
    "\n",
    "index_dirpath = '/home/ec2-user/SageMaker/mariano/notebooks/03. High Recall Retrieval System/index'\n",
    "\n",
    "# Loading Index\n",
    "if index.exists_in(index_dirpath):\n",
    "    print('Loading index')\n",
    "    ix = index.open_dir(index_dirpath)\n",
    "    \n",
    "info(f'Number of documents in index: {ix.doc_count():,}')\n",
    "\n",
    "mp = MultifieldParser(['title','body'],schema=ix.schema)\n",
    "q = mp.parse(u'Refugee')\n",
    "\n",
    "with ix.searcher() as s:\n",
    "    results = s.search(q)\n",
    "    \n",
    "    print(results[0])\n",
    "    hit = results[0]"
   ]
  },
  {
   "cell_type": "code",
   "execution_count": 20,
   "id": "959c4fce",
   "metadata": {},
   "outputs": [
    {
     "ename": "ReaderClosed",
     "evalue": "",
     "output_type": "error",
     "traceback": [
      "\u001b[0;31m---------------------------------------------------------------------------\u001b[0m",
      "\u001b[0;31mReaderClosed\u001b[0m                              Traceback (most recent call last)",
      "\u001b[0;32m~/SageMaker/.conda/envs/imm/lib/python3.9/site-packages/IPython/core/formatters.py\u001b[0m in \u001b[0;36m__call__\u001b[0;34m(self, obj)\u001b[0m\n\u001b[1;32m    700\u001b[0m                 \u001b[0mtype_pprinters\u001b[0m\u001b[0;34m=\u001b[0m\u001b[0mself\u001b[0m\u001b[0;34m.\u001b[0m\u001b[0mtype_printers\u001b[0m\u001b[0;34m,\u001b[0m\u001b[0;34m\u001b[0m\u001b[0;34m\u001b[0m\u001b[0m\n\u001b[1;32m    701\u001b[0m                 deferred_pprinters=self.deferred_printers)\n\u001b[0;32m--> 702\u001b[0;31m             \u001b[0mprinter\u001b[0m\u001b[0;34m.\u001b[0m\u001b[0mpretty\u001b[0m\u001b[0;34m(\u001b[0m\u001b[0mobj\u001b[0m\u001b[0;34m)\u001b[0m\u001b[0;34m\u001b[0m\u001b[0;34m\u001b[0m\u001b[0m\n\u001b[0m\u001b[1;32m    703\u001b[0m             \u001b[0mprinter\u001b[0m\u001b[0;34m.\u001b[0m\u001b[0mflush\u001b[0m\u001b[0;34m(\u001b[0m\u001b[0;34m)\u001b[0m\u001b[0;34m\u001b[0m\u001b[0;34m\u001b[0m\u001b[0m\n\u001b[1;32m    704\u001b[0m             \u001b[0;32mreturn\u001b[0m \u001b[0mstream\u001b[0m\u001b[0;34m.\u001b[0m\u001b[0mgetvalue\u001b[0m\u001b[0;34m(\u001b[0m\u001b[0;34m)\u001b[0m\u001b[0;34m\u001b[0m\u001b[0;34m\u001b[0m\u001b[0m\n",
      "\u001b[0;32m~/SageMaker/.conda/envs/imm/lib/python3.9/site-packages/IPython/lib/pretty.py\u001b[0m in \u001b[0;36mpretty\u001b[0;34m(self, obj)\u001b[0m\n\u001b[1;32m    392\u001b[0m                         \u001b[0;32mif\u001b[0m \u001b[0mcls\u001b[0m \u001b[0;32mis\u001b[0m \u001b[0;32mnot\u001b[0m \u001b[0mobject\u001b[0m\u001b[0;31m \u001b[0m\u001b[0;31m\\\u001b[0m\u001b[0;34m\u001b[0m\u001b[0;34m\u001b[0m\u001b[0m\n\u001b[1;32m    393\u001b[0m                                 \u001b[0;32mand\u001b[0m \u001b[0mcallable\u001b[0m\u001b[0;34m(\u001b[0m\u001b[0mcls\u001b[0m\u001b[0;34m.\u001b[0m\u001b[0m__dict__\u001b[0m\u001b[0;34m.\u001b[0m\u001b[0mget\u001b[0m\u001b[0;34m(\u001b[0m\u001b[0;34m'__repr__'\u001b[0m\u001b[0;34m)\u001b[0m\u001b[0;34m)\u001b[0m\u001b[0;34m:\u001b[0m\u001b[0;34m\u001b[0m\u001b[0;34m\u001b[0m\u001b[0m\n\u001b[0;32m--> 394\u001b[0;31m                             \u001b[0;32mreturn\u001b[0m \u001b[0m_repr_pprint\u001b[0m\u001b[0;34m(\u001b[0m\u001b[0mobj\u001b[0m\u001b[0;34m,\u001b[0m \u001b[0mself\u001b[0m\u001b[0;34m,\u001b[0m \u001b[0mcycle\u001b[0m\u001b[0;34m)\u001b[0m\u001b[0;34m\u001b[0m\u001b[0;34m\u001b[0m\u001b[0m\n\u001b[0m\u001b[1;32m    395\u001b[0m \u001b[0;34m\u001b[0m\u001b[0m\n\u001b[1;32m    396\u001b[0m             \u001b[0;32mreturn\u001b[0m \u001b[0m_default_pprint\u001b[0m\u001b[0;34m(\u001b[0m\u001b[0mobj\u001b[0m\u001b[0;34m,\u001b[0m \u001b[0mself\u001b[0m\u001b[0;34m,\u001b[0m \u001b[0mcycle\u001b[0m\u001b[0;34m)\u001b[0m\u001b[0;34m\u001b[0m\u001b[0;34m\u001b[0m\u001b[0m\n",
      "\u001b[0;32m~/SageMaker/.conda/envs/imm/lib/python3.9/site-packages/IPython/lib/pretty.py\u001b[0m in \u001b[0;36m_repr_pprint\u001b[0;34m(obj, p, cycle)\u001b[0m\n\u001b[1;32m    698\u001b[0m     \u001b[0;34m\"\"\"A pprint that just redirects to the normal repr function.\"\"\"\u001b[0m\u001b[0;34m\u001b[0m\u001b[0;34m\u001b[0m\u001b[0m\n\u001b[1;32m    699\u001b[0m     \u001b[0;31m# Find newlines and replace them with p.break_()\u001b[0m\u001b[0;34m\u001b[0m\u001b[0;34m\u001b[0m\u001b[0m\n\u001b[0;32m--> 700\u001b[0;31m     \u001b[0moutput\u001b[0m \u001b[0;34m=\u001b[0m \u001b[0mrepr\u001b[0m\u001b[0;34m(\u001b[0m\u001b[0mobj\u001b[0m\u001b[0;34m)\u001b[0m\u001b[0;34m\u001b[0m\u001b[0;34m\u001b[0m\u001b[0m\n\u001b[0m\u001b[1;32m    701\u001b[0m     \u001b[0mlines\u001b[0m \u001b[0;34m=\u001b[0m \u001b[0moutput\u001b[0m\u001b[0;34m.\u001b[0m\u001b[0msplitlines\u001b[0m\u001b[0;34m(\u001b[0m\u001b[0;34m)\u001b[0m\u001b[0;34m\u001b[0m\u001b[0;34m\u001b[0m\u001b[0m\n\u001b[1;32m    702\u001b[0m     \u001b[0;32mwith\u001b[0m \u001b[0mp\u001b[0m\u001b[0;34m.\u001b[0m\u001b[0mgroup\u001b[0m\u001b[0;34m(\u001b[0m\u001b[0;34m)\u001b[0m\u001b[0;34m:\u001b[0m\u001b[0;34m\u001b[0m\u001b[0;34m\u001b[0m\u001b[0m\n",
      "\u001b[0;32m~/SageMaker/.conda/envs/imm/lib/python3.9/site-packages/whoosh/searching.py\u001b[0m in \u001b[0;36m__repr__\u001b[0;34m(self)\u001b[0m\n\u001b[1;32m   1486\u001b[0m \u001b[0;34m\u001b[0m\u001b[0m\n\u001b[1;32m   1487\u001b[0m     \u001b[0;32mdef\u001b[0m \u001b[0m__repr__\u001b[0m\u001b[0;34m(\u001b[0m\u001b[0mself\u001b[0m\u001b[0;34m)\u001b[0m\u001b[0;34m:\u001b[0m\u001b[0;34m\u001b[0m\u001b[0;34m\u001b[0m\u001b[0m\n\u001b[0;32m-> 1488\u001b[0;31m         \u001b[0;32mreturn\u001b[0m \u001b[0;34m\"<%s %r>\"\u001b[0m \u001b[0;34m%\u001b[0m \u001b[0;34m(\u001b[0m\u001b[0mself\u001b[0m\u001b[0;34m.\u001b[0m\u001b[0m__class__\u001b[0m\u001b[0;34m.\u001b[0m\u001b[0m__name__\u001b[0m\u001b[0;34m,\u001b[0m \u001b[0mself\u001b[0m\u001b[0;34m.\u001b[0m\u001b[0mfields\u001b[0m\u001b[0;34m(\u001b[0m\u001b[0;34m)\u001b[0m\u001b[0;34m)\u001b[0m\u001b[0;34m\u001b[0m\u001b[0;34m\u001b[0m\u001b[0m\n\u001b[0m\u001b[1;32m   1489\u001b[0m \u001b[0;34m\u001b[0m\u001b[0m\n\u001b[1;32m   1490\u001b[0m     \u001b[0;32mdef\u001b[0m \u001b[0m__eq__\u001b[0m\u001b[0;34m(\u001b[0m\u001b[0mself\u001b[0m\u001b[0;34m,\u001b[0m \u001b[0mother\u001b[0m\u001b[0;34m)\u001b[0m\u001b[0;34m:\u001b[0m\u001b[0;34m\u001b[0m\u001b[0;34m\u001b[0m\u001b[0m\n",
      "\u001b[0;32m~/SageMaker/.conda/envs/imm/lib/python3.9/site-packages/whoosh/searching.py\u001b[0m in \u001b[0;36mfields\u001b[0;34m(self)\u001b[0m\n\u001b[1;32m   1391\u001b[0m \u001b[0;34m\u001b[0m\u001b[0m\n\u001b[1;32m   1392\u001b[0m         \u001b[0;32mif\u001b[0m \u001b[0mself\u001b[0m\u001b[0;34m.\u001b[0m\u001b[0m_fields\u001b[0m \u001b[0;32mis\u001b[0m \u001b[0;32mNone\u001b[0m\u001b[0;34m:\u001b[0m\u001b[0;34m\u001b[0m\u001b[0;34m\u001b[0m\u001b[0m\n\u001b[0;32m-> 1393\u001b[0;31m             \u001b[0mself\u001b[0m\u001b[0;34m.\u001b[0m\u001b[0m_fields\u001b[0m \u001b[0;34m=\u001b[0m \u001b[0mself\u001b[0m\u001b[0;34m.\u001b[0m\u001b[0msearcher\u001b[0m\u001b[0;34m.\u001b[0m\u001b[0mstored_fields\u001b[0m\u001b[0;34m(\u001b[0m\u001b[0mself\u001b[0m\u001b[0;34m.\u001b[0m\u001b[0mdocnum\u001b[0m\u001b[0;34m)\u001b[0m\u001b[0;34m\u001b[0m\u001b[0;34m\u001b[0m\u001b[0m\n\u001b[0m\u001b[1;32m   1394\u001b[0m         \u001b[0;32mreturn\u001b[0m \u001b[0mself\u001b[0m\u001b[0;34m.\u001b[0m\u001b[0m_fields\u001b[0m\u001b[0;34m\u001b[0m\u001b[0;34m\u001b[0m\u001b[0m\n\u001b[1;32m   1395\u001b[0m \u001b[0;34m\u001b[0m\u001b[0m\n",
      "\u001b[0;32m~/SageMaker/.conda/envs/imm/lib/python3.9/site-packages/whoosh/reading.py\u001b[0m in \u001b[0;36mstored_fields\u001b[0;34m(self, docnum)\u001b[0m\n\u001b[1;32m    681\u001b[0m     \u001b[0;32mdef\u001b[0m \u001b[0mstored_fields\u001b[0m\u001b[0;34m(\u001b[0m\u001b[0mself\u001b[0m\u001b[0;34m,\u001b[0m \u001b[0mdocnum\u001b[0m\u001b[0;34m)\u001b[0m\u001b[0;34m:\u001b[0m\u001b[0;34m\u001b[0m\u001b[0;34m\u001b[0m\u001b[0m\n\u001b[1;32m    682\u001b[0m         \u001b[0;32mif\u001b[0m \u001b[0mself\u001b[0m\u001b[0;34m.\u001b[0m\u001b[0mis_closed\u001b[0m\u001b[0;34m:\u001b[0m\u001b[0;34m\u001b[0m\u001b[0;34m\u001b[0m\u001b[0m\n\u001b[0;32m--> 683\u001b[0;31m             \u001b[0;32mraise\u001b[0m \u001b[0mReaderClosed\u001b[0m\u001b[0;34m\u001b[0m\u001b[0;34m\u001b[0m\u001b[0m\n\u001b[0m\u001b[1;32m    684\u001b[0m         \u001b[0;32massert\u001b[0m \u001b[0mdocnum\u001b[0m \u001b[0;34m>=\u001b[0m \u001b[0;36m0\u001b[0m\u001b[0;34m\u001b[0m\u001b[0;34m\u001b[0m\u001b[0m\n\u001b[1;32m    685\u001b[0m         \u001b[0mschema\u001b[0m \u001b[0;34m=\u001b[0m \u001b[0mself\u001b[0m\u001b[0;34m.\u001b[0m\u001b[0mschema\u001b[0m\u001b[0;34m\u001b[0m\u001b[0;34m\u001b[0m\u001b[0m\n",
      "\u001b[0;31mReaderClosed\u001b[0m: "
     ]
    }
   ],
   "source": [
    "results[1]"
   ]
  },
  {
   "cell_type": "code",
   "execution_count": 18,
   "id": "f5acf102",
   "metadata": {},
   "outputs": [
    {
     "name": "stdout",
     "output_type": "stream",
     "text": [
      "Please enter search terms: ireland refugees\n",
      "Retrieving and sorting relevant news articles...\n",
      "\n",
      "2022-01-19 20:35:04.129056 [ INFO  ] Showing 5 most similar docs:\n",
      "1142660531 GM Other 11 -- No Title\n",
      "1282764639 GM 3 Refugees Flee\n",
      "1769885502 TS Syrian refugees by the numbers\n",
      "1800388096 TS Syrian refugees by the numbers\n",
      "1354244133 GM Russian Refugees For Canada\n",
      "2022-01-19 20:35:26.016336 [ INFO  ] Showing 5 least similar docs:\n",
      "1316932844 GM THE REVOLUTIONARY PRESS IN CHINA\n",
      "1316932995 GM COUNTRY GIRLS\n",
      "1316933019 GM Display Ad 32 -- No Title\n",
      "1356533244 GM Other 19 -- No Title\n",
      "1242297681 GM Other 25 -- No Title\n",
      "Please label the following 10 news articles...\n",
      "Training computational model (classifier) to detect relevant news...\n"
     ]
    }
   ],
   "source": [
    "query = input('Please enter search terms: ')\n",
    "query_vector = nlp(query).vector\n",
    "\n",
    "\n",
    "print('Retrieving and sorting relevant news articles...')\n",
    "dist = np.linalg.norm(query_vector-data.iloc[:,1:301],axis=1)\n",
    "#     print(dist)\n",
    "#     print(dist.shape)\n",
    "print()\n",
    "info(\"Showing 5 most similar docs:\")\n",
    "# print(data.iloc[np.argsort(dist),:].shape)\n",
    "# print(data.iloc[np.argsort(dist),:])\n",
    "for item in data.iloc[np.argsort(dist),:].values[:5,:]:\n",
    "    id_ = int(item[0])\n",
    "    source = (item[301])\n",
    "    filename = TS_datapath+str(id_)+'.xml' if source=='TS' else GM_datapath+str(id_)+'.xml'\n",
    "#     print(int(id_))\n",
    "#     print(str(item))\n",
    "    print(f'{int(id_)} {source} {get_title(filename)}')\n",
    "info(\"Showing 5 least similar docs:\")\n",
    "for item in data.iloc[np.argsort(dist),:].values[-5:,:]:\n",
    "#     item.shape\n",
    "#     break\n",
    "    id_ = int(item[0])\n",
    "    source = (item[301])\n",
    "    filename = TS_datapath+str(id_)+'.xml' if source=='TS' else GM_datapath+str(id_)+'.xml'\n",
    "    print(f'{int(id_)} {source} {get_title(filename)}')\n",
    "#     print(str(item))\n",
    "#to-do\n",
    "\n",
    "print(f'Please label the following {batch_size} news articles...')\n",
    "#to-do\n",
    "\n",
    "print('Training computational model (classifier) to detect relevant news...')\n",
    "#to-do\n",
    "    "
   ]
  },
  {
   "cell_type": "code",
   "execution_count": null,
   "id": "f49dd82e",
   "metadata": {},
   "outputs": [],
   "source": []
  },
  {
   "cell_type": "code",
   "execution_count": null,
   "id": "4f58f28c",
   "metadata": {},
   "outputs": [],
   "source": [
    "data.shape"
   ]
  },
  {
   "cell_type": "code",
   "execution_count": 13,
   "id": "0ec92a94",
   "metadata": {},
   "outputs": [
    {
     "data": {
      "text/html": [
       "<div>\n",
       "<style scoped>\n",
       "    .dataframe tbody tr th:only-of-type {\n",
       "        vertical-align: middle;\n",
       "    }\n",
       "\n",
       "    .dataframe tbody tr th {\n",
       "        vertical-align: top;\n",
       "    }\n",
       "\n",
       "    .dataframe thead th {\n",
       "        text-align: right;\n",
       "    }\n",
       "</style>\n",
       "<table border=\"1\" class=\"dataframe\">\n",
       "  <thead>\n",
       "    <tr style=\"text-align: right;\">\n",
       "      <th></th>\n",
       "      <th>ID</th>\n",
       "      <th>X1</th>\n",
       "      <th>X2</th>\n",
       "      <th>X3</th>\n",
       "      <th>X4</th>\n",
       "      <th>X5</th>\n",
       "      <th>X6</th>\n",
       "      <th>X7</th>\n",
       "      <th>X8</th>\n",
       "      <th>X9</th>\n",
       "      <th>...</th>\n",
       "      <th>X293</th>\n",
       "      <th>X294</th>\n",
       "      <th>X295</th>\n",
       "      <th>X296</th>\n",
       "      <th>X297</th>\n",
       "      <th>X298</th>\n",
       "      <th>X299</th>\n",
       "      <th>X300</th>\n",
       "      <th>Source</th>\n",
       "      <th>Label</th>\n",
       "    </tr>\n",
       "  </thead>\n",
       "  <tbody>\n",
       "    <tr>\n",
       "      <th>12875</th>\n",
       "      <td>4.396028e+08</td>\n",
       "      <td>0.001610</td>\n",
       "      <td>0.191167</td>\n",
       "      <td>-0.152071</td>\n",
       "      <td>-0.074249</td>\n",
       "      <td>0.085794</td>\n",
       "      <td>-0.022423</td>\n",
       "      <td>0.012251</td>\n",
       "      <td>-0.108927</td>\n",
       "      <td>0.011258</td>\n",
       "      <td>...</td>\n",
       "      <td>-0.003086</td>\n",
       "      <td>-0.039762</td>\n",
       "      <td>0.141711</td>\n",
       "      <td>-0.016706</td>\n",
       "      <td>-0.039697</td>\n",
       "      <td>-0.025963</td>\n",
       "      <td>0.009914</td>\n",
       "      <td>0.100015</td>\n",
       "      <td>TS</td>\n",
       "      <td>UNK</td>\n",
       "    </tr>\n",
       "    <tr>\n",
       "      <th>53336</th>\n",
       "      <td>1.371112e+09</td>\n",
       "      <td>-0.077209</td>\n",
       "      <td>0.142812</td>\n",
       "      <td>-0.034959</td>\n",
       "      <td>-0.001959</td>\n",
       "      <td>0.091572</td>\n",
       "      <td>0.011593</td>\n",
       "      <td>0.040312</td>\n",
       "      <td>-0.009059</td>\n",
       "      <td>0.004806</td>\n",
       "      <td>...</td>\n",
       "      <td>-0.037874</td>\n",
       "      <td>-0.082466</td>\n",
       "      <td>0.034255</td>\n",
       "      <td>-0.080199</td>\n",
       "      <td>-0.037502</td>\n",
       "      <td>-0.047243</td>\n",
       "      <td>0.035256</td>\n",
       "      <td>0.022693</td>\n",
       "      <td>GM</td>\n",
       "      <td>UNK</td>\n",
       "    </tr>\n",
       "    <tr>\n",
       "      <th>156085</th>\n",
       "      <td>1.353703e+09</td>\n",
       "      <td>-0.055947</td>\n",
       "      <td>0.097643</td>\n",
       "      <td>-0.176784</td>\n",
       "      <td>0.008479</td>\n",
       "      <td>0.115848</td>\n",
       "      <td>-0.036872</td>\n",
       "      <td>0.009258</td>\n",
       "      <td>-0.007494</td>\n",
       "      <td>-0.021282</td>\n",
       "      <td>...</td>\n",
       "      <td>-0.102679</td>\n",
       "      <td>-0.073735</td>\n",
       "      <td>0.143336</td>\n",
       "      <td>-0.087418</td>\n",
       "      <td>0.001705</td>\n",
       "      <td>0.035070</td>\n",
       "      <td>0.023013</td>\n",
       "      <td>0.009749</td>\n",
       "      <td>GM</td>\n",
       "      <td>UNK</td>\n",
       "    </tr>\n",
       "    <tr>\n",
       "      <th>43249</th>\n",
       "      <td>1.147309e+09</td>\n",
       "      <td>-0.000751</td>\n",
       "      <td>0.137542</td>\n",
       "      <td>0.009236</td>\n",
       "      <td>-0.065569</td>\n",
       "      <td>0.067999</td>\n",
       "      <td>-0.005468</td>\n",
       "      <td>0.040771</td>\n",
       "      <td>-0.070754</td>\n",
       "      <td>0.027744</td>\n",
       "      <td>...</td>\n",
       "      <td>-0.027044</td>\n",
       "      <td>-0.035335</td>\n",
       "      <td>0.070660</td>\n",
       "      <td>-0.059595</td>\n",
       "      <td>0.025985</td>\n",
       "      <td>-0.082864</td>\n",
       "      <td>-0.065280</td>\n",
       "      <td>0.011437</td>\n",
       "      <td>GM</td>\n",
       "      <td>UNK</td>\n",
       "    </tr>\n",
       "    <tr>\n",
       "      <th>175495</th>\n",
       "      <td>1.149767e+09</td>\n",
       "      <td>0.009771</td>\n",
       "      <td>0.135932</td>\n",
       "      <td>0.011016</td>\n",
       "      <td>-0.063189</td>\n",
       "      <td>0.083428</td>\n",
       "      <td>-0.020240</td>\n",
       "      <td>0.042791</td>\n",
       "      <td>-0.070850</td>\n",
       "      <td>0.025378</td>\n",
       "      <td>...</td>\n",
       "      <td>-0.019260</td>\n",
       "      <td>-0.045226</td>\n",
       "      <td>0.068942</td>\n",
       "      <td>-0.061062</td>\n",
       "      <td>0.017723</td>\n",
       "      <td>-0.078768</td>\n",
       "      <td>-0.049855</td>\n",
       "      <td>0.011774</td>\n",
       "      <td>GM</td>\n",
       "      <td>UNK</td>\n",
       "    </tr>\n",
       "    <tr>\n",
       "      <th>...</th>\n",
       "      <td>...</td>\n",
       "      <td>...</td>\n",
       "      <td>...</td>\n",
       "      <td>...</td>\n",
       "      <td>...</td>\n",
       "      <td>...</td>\n",
       "      <td>...</td>\n",
       "      <td>...</td>\n",
       "      <td>...</td>\n",
       "      <td>...</td>\n",
       "      <td>...</td>\n",
       "      <td>...</td>\n",
       "      <td>...</td>\n",
       "      <td>...</td>\n",
       "      <td>...</td>\n",
       "      <td>...</td>\n",
       "      <td>...</td>\n",
       "      <td>...</td>\n",
       "      <td>...</td>\n",
       "      <td>...</td>\n",
       "      <td>...</td>\n",
       "    </tr>\n",
       "    <tr>\n",
       "      <th>42901</th>\n",
       "      <td>1.316933e+09</td>\n",
       "      <td>-0.152883</td>\n",
       "      <td>-0.014833</td>\n",
       "      <td>0.044463</td>\n",
       "      <td>-0.032302</td>\n",
       "      <td>0.044214</td>\n",
       "      <td>0.348853</td>\n",
       "      <td>0.060872</td>\n",
       "      <td>-0.121309</td>\n",
       "      <td>-0.001245</td>\n",
       "      <td>...</td>\n",
       "      <td>0.102488</td>\n",
       "      <td>0.116578</td>\n",
       "      <td>0.147016</td>\n",
       "      <td>-0.132307</td>\n",
       "      <td>-0.246477</td>\n",
       "      <td>0.157300</td>\n",
       "      <td>-0.299183</td>\n",
       "      <td>0.042120</td>\n",
       "      <td>GM</td>\n",
       "      <td>UNK</td>\n",
       "    </tr>\n",
       "    <tr>\n",
       "      <th>103830</th>\n",
       "      <td>1.316933e+09</td>\n",
       "      <td>-0.152883</td>\n",
       "      <td>-0.014833</td>\n",
       "      <td>0.044463</td>\n",
       "      <td>-0.032302</td>\n",
       "      <td>0.044214</td>\n",
       "      <td>0.348853</td>\n",
       "      <td>0.060872</td>\n",
       "      <td>-0.121309</td>\n",
       "      <td>-0.001245</td>\n",
       "      <td>...</td>\n",
       "      <td>0.102488</td>\n",
       "      <td>0.116578</td>\n",
       "      <td>0.147016</td>\n",
       "      <td>-0.132307</td>\n",
       "      <td>-0.246477</td>\n",
       "      <td>0.157300</td>\n",
       "      <td>-0.299183</td>\n",
       "      <td>0.042120</td>\n",
       "      <td>GM</td>\n",
       "      <td>UNK</td>\n",
       "    </tr>\n",
       "    <tr>\n",
       "      <th>102974</th>\n",
       "      <td>1.316933e+09</td>\n",
       "      <td>-0.152883</td>\n",
       "      <td>-0.014833</td>\n",
       "      <td>0.044463</td>\n",
       "      <td>-0.032302</td>\n",
       "      <td>0.044214</td>\n",
       "      <td>0.348853</td>\n",
       "      <td>0.060872</td>\n",
       "      <td>-0.121309</td>\n",
       "      <td>-0.001245</td>\n",
       "      <td>...</td>\n",
       "      <td>0.102488</td>\n",
       "      <td>0.116578</td>\n",
       "      <td>0.147016</td>\n",
       "      <td>-0.132307</td>\n",
       "      <td>-0.246477</td>\n",
       "      <td>0.157300</td>\n",
       "      <td>-0.299183</td>\n",
       "      <td>0.042120</td>\n",
       "      <td>GM</td>\n",
       "      <td>UNK</td>\n",
       "    </tr>\n",
       "    <tr>\n",
       "      <th>154574</th>\n",
       "      <td>1.316933e+09</td>\n",
       "      <td>-0.152883</td>\n",
       "      <td>-0.014833</td>\n",
       "      <td>0.044463</td>\n",
       "      <td>-0.032302</td>\n",
       "      <td>0.044214</td>\n",
       "      <td>0.348853</td>\n",
       "      <td>0.060872</td>\n",
       "      <td>-0.121309</td>\n",
       "      <td>-0.001245</td>\n",
       "      <td>...</td>\n",
       "      <td>0.102488</td>\n",
       "      <td>0.116578</td>\n",
       "      <td>0.147016</td>\n",
       "      <td>-0.132307</td>\n",
       "      <td>-0.246477</td>\n",
       "      <td>0.157300</td>\n",
       "      <td>-0.299183</td>\n",
       "      <td>0.042120</td>\n",
       "      <td>GM</td>\n",
       "      <td>UNK</td>\n",
       "    </tr>\n",
       "    <tr>\n",
       "      <th>172987</th>\n",
       "      <td>1.366130e+09</td>\n",
       "      <td>-0.005247</td>\n",
       "      <td>-0.080163</td>\n",
       "      <td>0.223841</td>\n",
       "      <td>0.137036</td>\n",
       "      <td>0.152620</td>\n",
       "      <td>0.202603</td>\n",
       "      <td>0.031785</td>\n",
       "      <td>0.204380</td>\n",
       "      <td>0.070954</td>\n",
       "      <td>...</td>\n",
       "      <td>-0.141691</td>\n",
       "      <td>-0.156754</td>\n",
       "      <td>0.121183</td>\n",
       "      <td>-0.133332</td>\n",
       "      <td>-0.098914</td>\n",
       "      <td>0.120706</td>\n",
       "      <td>-0.096983</td>\n",
       "      <td>0.069549</td>\n",
       "      <td>GM</td>\n",
       "      <td>UNK</td>\n",
       "    </tr>\n",
       "  </tbody>\n",
       "</table>\n",
       "<p>192433 rows × 303 columns</p>\n",
       "</div>"
      ],
      "text/plain": [
       "                  ID        X1        X2        X3        X4        X5  \\\n",
       "12875   4.396028e+08  0.001610  0.191167 -0.152071 -0.074249  0.085794   \n",
       "53336   1.371112e+09 -0.077209  0.142812 -0.034959 -0.001959  0.091572   \n",
       "156085  1.353703e+09 -0.055947  0.097643 -0.176784  0.008479  0.115848   \n",
       "43249   1.147309e+09 -0.000751  0.137542  0.009236 -0.065569  0.067999   \n",
       "175495  1.149767e+09  0.009771  0.135932  0.011016 -0.063189  0.083428   \n",
       "...              ...       ...       ...       ...       ...       ...   \n",
       "42901   1.316933e+09 -0.152883 -0.014833  0.044463 -0.032302  0.044214   \n",
       "103830  1.316933e+09 -0.152883 -0.014833  0.044463 -0.032302  0.044214   \n",
       "102974  1.316933e+09 -0.152883 -0.014833  0.044463 -0.032302  0.044214   \n",
       "154574  1.316933e+09 -0.152883 -0.014833  0.044463 -0.032302  0.044214   \n",
       "172987  1.366130e+09 -0.005247 -0.080163  0.223841  0.137036  0.152620   \n",
       "\n",
       "              X6        X7        X8        X9  ...      X293      X294  \\\n",
       "12875  -0.022423  0.012251 -0.108927  0.011258  ... -0.003086 -0.039762   \n",
       "53336   0.011593  0.040312 -0.009059  0.004806  ... -0.037874 -0.082466   \n",
       "156085 -0.036872  0.009258 -0.007494 -0.021282  ... -0.102679 -0.073735   \n",
       "43249  -0.005468  0.040771 -0.070754  0.027744  ... -0.027044 -0.035335   \n",
       "175495 -0.020240  0.042791 -0.070850  0.025378  ... -0.019260 -0.045226   \n",
       "...          ...       ...       ...       ...  ...       ...       ...   \n",
       "42901   0.348853  0.060872 -0.121309 -0.001245  ...  0.102488  0.116578   \n",
       "103830  0.348853  0.060872 -0.121309 -0.001245  ...  0.102488  0.116578   \n",
       "102974  0.348853  0.060872 -0.121309 -0.001245  ...  0.102488  0.116578   \n",
       "154574  0.348853  0.060872 -0.121309 -0.001245  ...  0.102488  0.116578   \n",
       "172987  0.202603  0.031785  0.204380  0.070954  ... -0.141691 -0.156754   \n",
       "\n",
       "            X295      X296      X297      X298      X299      X300  Source  \\\n",
       "12875   0.141711 -0.016706 -0.039697 -0.025963  0.009914  0.100015      TS   \n",
       "53336   0.034255 -0.080199 -0.037502 -0.047243  0.035256  0.022693      GM   \n",
       "156085  0.143336 -0.087418  0.001705  0.035070  0.023013  0.009749      GM   \n",
       "43249   0.070660 -0.059595  0.025985 -0.082864 -0.065280  0.011437      GM   \n",
       "175495  0.068942 -0.061062  0.017723 -0.078768 -0.049855  0.011774      GM   \n",
       "...          ...       ...       ...       ...       ...       ...     ...   \n",
       "42901   0.147016 -0.132307 -0.246477  0.157300 -0.299183  0.042120      GM   \n",
       "103830  0.147016 -0.132307 -0.246477  0.157300 -0.299183  0.042120      GM   \n",
       "102974  0.147016 -0.132307 -0.246477  0.157300 -0.299183  0.042120      GM   \n",
       "154574  0.147016 -0.132307 -0.246477  0.157300 -0.299183  0.042120      GM   \n",
       "172987  0.121183 -0.133332 -0.098914  0.120706 -0.096983  0.069549      GM   \n",
       "\n",
       "        Label  \n",
       "12875     UNK  \n",
       "53336     UNK  \n",
       "156085    UNK  \n",
       "43249     UNK  \n",
       "175495    UNK  \n",
       "...       ...  \n",
       "42901     UNK  \n",
       "103830    UNK  \n",
       "102974    UNK  \n",
       "154574    UNK  \n",
       "172987    UNK  \n",
       "\n",
       "[192433 rows x 303 columns]"
      ]
     },
     "execution_count": 13,
     "metadata": {},
     "output_type": "execute_result"
    }
   ],
   "source": [
    "data.iloc[np.argsort(dist),:]"
   ]
  },
  {
   "cell_type": "code",
   "execution_count": null,
   "id": "4ef30a13",
   "metadata": {},
   "outputs": [],
   "source": [
    "count=0\n",
    "for item in data.iloc[np.argsort(dist),:].values:\n",
    "    print(item)\n",
    "    count+=1\n",
    "    if count==10:\n",
    "        break"
   ]
  },
  {
   "cell_type": "code",
   "execution_count": null,
   "id": "b2c57bec",
   "metadata": {},
   "outputs": [],
   "source": [
    "    \n",
    "def update_model():\n",
    "    print('Running one loop iteration')\n",
    "    \n",
    "    print('Sorting news articles, picking most informatives to label...')\n",
    "    #to-do\n",
    "    \n",
    "    print(f'Please label the following {batch_size} news articles...')\n",
    "    #to-do\n",
    "    \n",
    "def model_status():\n",
    "    print('Status')\n",
    "setup_model()"
   ]
  },
  {
   "cell_type": "code",
   "execution_count": 4,
   "id": "66cbe7a2",
   "metadata": {},
   "outputs": [
    {
     "ename": "NameError",
     "evalue": "name 'os' is not defined",
     "output_type": "error",
     "traceback": [
      "\u001b[0;31m---------------------------------------------------------------------------\u001b[0m",
      "\u001b[0;31mNameError\u001b[0m                                 Traceback (most recent call last)",
      "\u001b[0;32m/tmp/ipykernel_24151/3419356482.py\u001b[0m in \u001b[0;36m<module>\u001b[0;34m\u001b[0m\n\u001b[0;32m----> 1\u001b[0;31m \u001b[0mGM_filenames\u001b[0m \u001b[0;34m=\u001b[0m \u001b[0mos\u001b[0m\u001b[0;34m.\u001b[0m\u001b[0mlistdir\u001b[0m\u001b[0;34m(\u001b[0m\u001b[0mglobe_and_mail_datapath\u001b[0m\u001b[0;34m)\u001b[0m\u001b[0;34m\u001b[0m\u001b[0;34m\u001b[0m\u001b[0m\n\u001b[0m\u001b[1;32m      2\u001b[0m \u001b[0mTS_filenames\u001b[0m \u001b[0;34m=\u001b[0m \u001b[0mos\u001b[0m\u001b[0;34m.\u001b[0m\u001b[0mlistdir\u001b[0m\u001b[0;34m(\u001b[0m\u001b[0mtoronto_star_datapath\u001b[0m\u001b[0;34m)\u001b[0m\u001b[0;34m\u001b[0m\u001b[0;34m\u001b[0m\u001b[0m\n\u001b[1;32m      3\u001b[0m \u001b[0mprint\u001b[0m\u001b[0;34m(\u001b[0m\u001b[0;34mf\"Number of articles from The Globe and Mail: {len(GM_filenames):,}\"\u001b[0m\u001b[0;34m)\u001b[0m\u001b[0;34m\u001b[0m\u001b[0;34m\u001b[0m\u001b[0m\n\u001b[1;32m      4\u001b[0m \u001b[0mprint\u001b[0m\u001b[0;34m(\u001b[0m\u001b[0;34mf\"Number of articles from Toronto Star: {len(TS_filenames):,}\"\u001b[0m\u001b[0;34m)\u001b[0m\u001b[0;34m\u001b[0m\u001b[0;34m\u001b[0m\u001b[0m\n\u001b[1;32m      5\u001b[0m \u001b[0mids_\u001b[0m \u001b[0;34m=\u001b[0m \u001b[0mnp\u001b[0m\u001b[0;34m.\u001b[0m\u001b[0marray\u001b[0m\u001b[0;34m(\u001b[0m\u001b[0;34m[\u001b[0m\u001b[0mint\u001b[0m\u001b[0;34m(\u001b[0m\u001b[0melem\u001b[0m\u001b[0;34m[\u001b[0m\u001b[0;34m:\u001b[0m\u001b[0;34m-\u001b[0m\u001b[0;36m4\u001b[0m\u001b[0;34m]\u001b[0m\u001b[0;34m)\u001b[0m \u001b[0;32mfor\u001b[0m \u001b[0melem\u001b[0m \u001b[0;32min\u001b[0m \u001b[0mTS_filenames\u001b[0m\u001b[0;34m+\u001b[0m\u001b[0mGM_filenames\u001b[0m\u001b[0;34m]\u001b[0m\u001b[0;34m)\u001b[0m\u001b[0;34m\u001b[0m\u001b[0;34m\u001b[0m\u001b[0m\n",
      "\u001b[0;31mNameError\u001b[0m: name 'os' is not defined"
     ]
    }
   ],
   "source": [
    "GM_filenames = os.listdir(globe_and_mail_datapath)\n",
    "TS_filenames = os.listdir(toronto_star_datapath)\n",
    "print(f\"Number of articles from The Globe and Mail: {len(GM_filenames):,}\")\n",
    "print(f\"Number of articles from Toronto Star: {len(TS_filenames):,}\")\n",
    "ids_ = np.array([int(elem[:-4]) for elem in TS_filenames+GM_filenames])\n",
    "ids_=ids_.reshape(-1,1)\n",
    "ids_.append( np.zeros(shape=(192433,300)))"
   ]
  },
  {
   "cell_type": "code",
   "execution_count": 29,
   "id": "ccdf3cbc",
   "metadata": {},
   "outputs": [
    {
     "data": {
      "text/plain": [
       "(192433, 1)"
      ]
     },
     "execution_count": 29,
     "metadata": {},
     "output_type": "execute_result"
    }
   ],
   "source": [
    "ids_.shape"
   ]
  },
  {
   "cell_type": "code",
   "execution_count": 31,
   "id": "c6dff008",
   "metadata": {},
   "outputs": [
    {
     "data": {
      "text/plain": [
       "(192433, 300)"
      ]
     },
     "execution_count": 31,
     "metadata": {},
     "output_type": "execute_result"
    }
   ],
   "source": [
    "m = np.zeros(shape=(192433,300))\n",
    "m.shape"
   ]
  },
  {
   "cell_type": "code",
   "execution_count": 34,
   "id": "ce1aa0be",
   "metadata": {},
   "outputs": [
    {
     "data": {
      "text/plain": [
       "(192433, 301)"
      ]
     },
     "execution_count": 34,
     "metadata": {},
     "output_type": "execute_result"
    }
   ],
   "source": [
    "np.hstack([ids_,m]).shape"
   ]
  },
  {
   "cell_type": "markdown",
   "id": "cdb38ca0",
   "metadata": {},
   "source": [
    "# set up model, run only once"
   ]
  },
  {
   "cell_type": "code",
   "execution_count": null,
   "id": "a5f28434",
   "metadata": {},
   "outputs": [],
   "source": [
    "setup_model()"
   ]
  },
  {
   "cell_type": "markdown",
   "id": "d8a13ba1",
   "metadata": {},
   "source": [
    "# update model (run as many time as needed)\n"
   ]
  },
  {
   "cell_type": "code",
   "execution_count": null,
   "id": "b71d1d3c",
   "metadata": {},
   "outputs": [],
   "source": [
    "update_model()"
   ]
  },
  {
   "cell_type": "markdown",
   "id": "06653709",
   "metadata": {},
   "source": [
    "# print model status (run in-between updates)"
   ]
  },
  {
   "cell_type": "code",
   "execution_count": null,
   "id": "eb9d5fbc",
   "metadata": {},
   "outputs": [],
   "source": [
    "model_status()"
   ]
  },
  {
   "cell_type": "code",
   "execution_count": null,
   "id": "2505ae2a",
   "metadata": {
    "scrolled": true
   },
   "outputs": [],
   "source": [
    "import pigeonXT"
   ]
  },
  {
   "cell_type": "code",
   "execution_count": 4,
   "id": "7930a91b",
   "metadata": {},
   "outputs": [
    {
     "data": {
      "application/vnd.jupyter.widget-view+json": {
       "model_id": "b039bcd509bd4c70a997488807085d88",
       "version_major": 2,
       "version_minor": 0
      },
      "text/plain": [
       "HTML(value='0 of 2 Examples annotated, Current Position: 0 ')"
      ]
     },
     "metadata": {},
     "output_type": "display_data"
    },
    {
     "data": {
      "application/vnd.jupyter.widget-view+json": {
       "model_id": "dcc6814131094d4e9f7353a5b7ca752c",
       "version_major": 2,
       "version_minor": 0
      },
      "text/plain": [
       "VBox(children=(HBox(children=(Button(description='positive', style=ButtonStyle()), Button(description='negativ…"
      ]
     },
     "metadata": {},
     "output_type": "display_data"
    },
    {
     "data": {
      "application/vnd.jupyter.widget-view+json": {
       "model_id": "1fe7b3446761415c82adb20a438108af",
       "version_major": 2,
       "version_minor": 0
      },
      "text/plain": [
       "Output()"
      ]
     },
     "metadata": {},
     "output_type": "display_data"
    }
   ],
   "source": [
    "import pandas as pd\n",
    "import pigeonXT as pixt\n",
    "\n",
    "for i in range(1):\n",
    "    annotations = pixt.annotate(\n",
    "        ['I love this movie', 'I was really disappointed by the book'],\n",
    "        options=['positive', 'negative', 'inbetween'])\n",
    "    "
   ]
  },
  {
   "cell_type": "code",
   "execution_count": 10,
   "id": "3436fc6a",
   "metadata": {},
   "outputs": [
    {
     "data": {
      "text/html": [
       "<div>\n",
       "<style scoped>\n",
       "    .dataframe tbody tr th:only-of-type {\n",
       "        vertical-align: middle;\n",
       "    }\n",
       "\n",
       "    .dataframe tbody tr th {\n",
       "        vertical-align: top;\n",
       "    }\n",
       "\n",
       "    .dataframe thead th {\n",
       "        text-align: right;\n",
       "    }\n",
       "</style>\n",
       "<table border=\"1\" class=\"dataframe\">\n",
       "  <thead>\n",
       "    <tr style=\"text-align: right;\">\n",
       "      <th></th>\n",
       "      <th>example</th>\n",
       "      <th>changed</th>\n",
       "      <th>label</th>\n",
       "    </tr>\n",
       "  </thead>\n",
       "  <tbody>\n",
       "    <tr>\n",
       "      <th>0</th>\n",
       "      <td>I love this movie</td>\n",
       "      <td>True</td>\n",
       "      <td>negative</td>\n",
       "    </tr>\n",
       "    <tr>\n",
       "      <th>1</th>\n",
       "      <td>I was really disappointed by the book</td>\n",
       "      <td>True</td>\n",
       "      <td>negative</td>\n",
       "    </tr>\n",
       "  </tbody>\n",
       "</table>\n",
       "</div>"
      ],
      "text/plain": [
       "                                 example  changed     label\n",
       "0                      I love this movie     True  negative\n",
       "1  I was really disappointed by the book     True  negative"
      ]
     },
     "execution_count": 10,
     "metadata": {},
     "output_type": "execute_result"
    }
   ],
   "source": [
    "annotations"
   ]
  },
  {
   "cell_type": "code",
   "execution_count": 8,
   "id": "8c05c95e",
   "metadata": {},
   "outputs": [],
   "source": [
    "pixt.annotate?\n"
   ]
  },
  {
   "cell_type": "markdown",
   "id": "0de8805e",
   "metadata": {},
   "source": [
    "1.  query = _______\n",
    "2.  build Glove vector of query\n",
    "3.  sort documents by similarity\n",
    "4.  Show a batch of the K most similar documents for labelling\n",
    "5.  while not reach some metric\n",
    "    1.  load/train/update classifier\n",
    "    2.  rank unlabelled documents by uncertanty\n",
    "    3. show a batch of K documents (with higher uncertanty)\n",
    "    \n"
   ]
  },
  {
   "cell_type": "code",
   "execution_count": null,
   "id": "76ea3638",
   "metadata": {},
   "outputs": [],
   "source": []
  }
 ],
 "metadata": {
  "kernelspec": {
   "display_name": "imm",
   "language": "python",
   "name": "imm"
  },
  "language_info": {
   "codemirror_mode": {
    "name": "ipython",
    "version": 3
   },
   "file_extension": ".py",
   "mimetype": "text/x-python",
   "name": "python",
   "nbconvert_exporter": "python",
   "pygments_lexer": "ipython3",
   "version": "3.9.7"
  }
 },
 "nbformat": 4,
 "nbformat_minor": 5
}

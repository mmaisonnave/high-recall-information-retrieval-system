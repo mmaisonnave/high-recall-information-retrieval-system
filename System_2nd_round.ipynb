{
 "cells": [
  {
   "cell_type": "code",
   "execution_count": 1,
   "id": "085e570a",
   "metadata": {},
   "outputs": [
    {
     "name": "stdout",
     "output_type": "stream",
     "text": [
      "[  INFO ] Number of unlabeled instances:              17,026\n",
      "[  INFO ] Removing relevant from suggestion list (        12)\n",
      "[  OK   ] Number of unlabeled instances:              17,014\n",
      "[  OK   ] Number of   labeled instances:                 315\n",
      "[  OK   ] Building Data Items\n",
      "[  OK   ] Relevant count:                                 12\n",
      "[  OK   ] Irrelevant count:                              303\n",
      "[  OK   ] Number of unknown in unlabeled:             17,014\n"
     ]
    }
   ],
   "source": [
    "# import sys\n",
    "# sys.path.append('/home/ec2-user/SageMaker/mariano/repositories/tdmstudio-high-recall-information-retrieval-system/')\n",
    "\n",
    "# from utils.data_item import DataItem\n",
    "# import os\n",
    "# import re\n",
    "\n",
    "# session_path = '/home/ec2-user/SageMaker/serperi/system/sessions/scal/One/data/'\n",
    "# labeled_datapath = os.path.join(session_path, 'labeled_data2022-10-11_19-40.csv')\n",
    "# unlabeled_datapath = os.path.join(session_path, 'exported_data_2022-10-12_14-08.csv')\n",
    "# assert os.path.isfile(labeled_datapath) and os.path.isfile(unlabeled_datapath)\n",
    "\n",
    "\n",
    "# labeled = open(labeled_datapath, 'r').read().splitlines()[1:]\n",
    "# unlabeled = open(unlabeled_datapath, 'r').read().splitlines()[1:]\n",
    "\n",
    "# # [DataItem(re.search('docview/([0-9]{10})', line).group(1) )\n",
    "# #              for line in open(unlabeled_datapath, 'r').read().splitlines()[1:] if ',sugg,' in line]\n",
    "# print(f\"[  INFO ] Number of unlabeled instances:          {len(unlabeled):10,}\")\n",
    "# print(f\"[  INFO ] Removing relevant from suggestion list ({len([line for line in unlabeled if ',rel,' in line]):10,})\")\n",
    "# unlabeled =  [line for line in unlabeled if ',sugg,' in line]\n",
    "# print(f\"[  OK   ] Number of unlabeled instances:          {len(unlabeled):10,}\")\n",
    "# print(f\"[  OK   ] Number of   labeled instances:          {len(labeled):10,}\")\n",
    "\n",
    "\n",
    "# print(f'[  OK   ] Building Data Items')\n",
    "# unlabeled = [DataItem(re.search('docview/([0-9]{10})', line).group(1)) for line in unlabeled]\n",
    "# labels = [line.split(';')[1] for line in labeled]\n",
    "# labeled = [DataItem(line.split(';')[0]) for line in labeled]\n",
    "# for item,label in zip(labeled, labels):\n",
    "#     assert label=='I' or label=='R'\n",
    "#     if label=='R':\n",
    "#         item.set_relevant()\n",
    "#     else:\n",
    "#         item.set_irrelevant()\n",
    "# print(f\"[  OK   ] Relevant count:                         {len([item for item in labeled if item.is_relevant()]):10,}\")\n",
    "# print(f\"[  OK   ] Irrelevant count:                       {len([item for item in labeled if item.is_irrelevant()]):10,}\")\n",
    "\n",
    "# print(f'[  OK   ] Number of unknown in unlabeled:         {len([item for item in unlabeled if item.is_unknown()]):10,}')\n",
    "\n",
    "\n"
   ]
  },
  {
   "cell_type": "code",
   "execution_count": 1,
   "id": "59bfe5b5",
   "metadata": {},
   "outputs": [
    {
     "name": "stdout",
     "output_type": "stream",
     "text": [
      "-------------------------------------------------------------------------------------------------------------\n",
      "Session name:       One_second_round                                    Total size of database: 17,014\n",
      "- - - - - - - - - - - - - - - - - - - - - - - - - - - - - - - - - - - - - - - - - - - - - - - - - - - - - - -\n",
      "Labeled documents: 316 (      13 relevant /      303 irrelevants)\t\t Unlabeled documents:   17,013\n",
      "  0 % |-                                                                                          |    1/ 290\n",
      "-------------------------------------------------------------------------------------------------------------\n"
     ]
    },
    {
     "data": {
      "application/vnd.jupyter.widget-view+json": {
       "model_id": "f310cf6652e84b159956700c602e16d3",
       "version_major": 2,
       "version_minor": 0
      },
      "text/plain": [
       "HTML(value='316 of 318 Examples annotated.')"
      ]
     },
     "metadata": {},
     "output_type": "display_data"
    },
    {
     "data": {
      "application/vnd.jupyter.widget-view+json": {
       "model_id": "7f2160d4a34c4d5282356328dff3d716",
       "version_major": 2,
       "version_minor": 0
      },
      "text/plain": [
       "VBox(children=(HBox(children=(Button(description='Relevant', style=ButtonStyle()), Button(description='Irrelev…"
      ]
     },
     "metadata": {},
     "output_type": "display_data"
    },
    {
     "data": {
      "application/vnd.jupyter.widget-view+json": {
       "model_id": "1c9c2755e37b4b68a3d70d0e44ab3c34",
       "version_major": 2,
       "version_minor": 0
      },
      "text/plain": [
       "Output()"
      ]
     },
     "metadata": {},
     "output_type": "display_data"
    }
   ],
   "source": [
    "import sys\n",
    "sys.path.append('/home/ec2-user/SageMaker/mariano/repositories/tdmstudio-high-recall-information-retrieval-system/')\n",
    "\n",
    "from utils.data_item import DataItem\n",
    "import os\n",
    "import re\n",
    "\n",
    "\n",
    "from utils.data_item import DataItem\n",
    "from utils.scal_ui import SCAL_UI\n",
    "import os\n",
    "from IPython.display import clear_output\n",
    "from utils.scal import SCAL\n",
    "from utils.data_item import QueryDataItem\n",
    "import numpy as np\n",
    "\n",
    "seed = int(np.random.default_rng(2022).random()*10000)\n",
    "\n",
    "cap=5\n",
    "\n",
    "\n",
    "def start_system(session_name, topic_description ):\n",
    "    clear_output(wait=False)\n",
    "    if os.path.exists(f'sessions/scal/{session_name}_second_round'):\n",
    "        scal = SCAL.from_disk(session_name=session_name+'_second_round')\n",
    "    else:    \n",
    "        \n",
    "        # LABELED & UNLABELED INFO.\n",
    "        session_path = f'sessions/scal/{session_name}/data/'\n",
    "        labeled_datapath = os.path.join(session_path, 'labeled_data2022-10-11_19-40.csv')\n",
    "        unlabeled_datapath = os.path.join(session_path, 'exported_data_2022-10-12_14-08.csv')\n",
    "        assert os.path.isfile(labeled_datapath) , labeled_datapath\n",
    "        assert os.path.isfile(unlabeled_datapath), unlabeled_datapath\n",
    "\n",
    "\n",
    "        labeled = open(labeled_datapath, 'r').read().splitlines()[1:]\n",
    "        unlabeled = open(unlabeled_datapath, 'r').read().splitlines()[1:]\n",
    "\n",
    "        # [DataItem(re.search('docview/([0-9]{10})', line).group(1) )\n",
    "        #              for line in open(unlabeled_datapath, 'r').read().splitlines()[1:] if ',sugg,' in line]\n",
    "\n",
    "        unlabeled =  [line for line in unlabeled if ',sugg,' in line]\n",
    "\n",
    "\n",
    "\n",
    "        unlabeled = [DataItem(re.search('docview/([0-9]{10})', line).group(1)) for line in unlabeled]\n",
    "        labels = [line.split(';')[1] for line in labeled]\n",
    "        labeled = [DataItem(line.split(';')[0]) for line in labeled]\n",
    "        for item,label in zip(labeled, labels):\n",
    "            assert label=='I' or label=='R'\n",
    "            if label=='R':\n",
    "                item.set_relevant()\n",
    "            else:\n",
    "                item.set_irrelevant()\n",
    "\n",
    "        N=len(unlabeled)\n",
    "        # \n",
    "        scal = SCAL(session_name+'_second_round', \n",
    "                    labeled, \n",
    "                    unlabeled,\n",
    "                    random_sample_size=N,\n",
    "                    batch_size_cap=cap,\n",
    "                    simulation=False, \n",
    "                    seed=seed)\n",
    "    scal.run()\n",
    "    \n",
    "_=SCAL_UI(start_system,second_round=True)"
   ]
  },
  {
   "cell_type": "code",
   "execution_count": null,
   "id": "d8adbd78",
   "metadata": {},
   "outputs": [],
   "source": []
  }
 ],
 "metadata": {
  "kernelspec": {
   "display_name": "imm",
   "language": "python",
   "name": "imm"
  },
  "language_info": {
   "codemirror_mode": {
    "name": "ipython",
    "version": 3
   },
   "file_extension": ".py",
   "mimetype": "text/x-python",
   "name": "python",
   "nbconvert_exporter": "python",
   "pygments_lexer": "ipython3",
   "version": "3.9.7"
  }
 },
 "nbformat": 4,
 "nbformat_minor": 5
}

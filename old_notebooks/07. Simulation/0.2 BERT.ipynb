{
 "cells": [
  {
   "cell_type": "code",
   "execution_count": 1,
   "id": "4b8c658d",
   "metadata": {},
   "outputs": [
    {
     "ename": "TypeError",
     "evalue": "__init__() got an unexpected keyword argument 'pretrain_model_path'",
     "output_type": "error",
     "traceback": [
      "\u001b[0;31m---------------------------------------------------------------------------\u001b[0m",
      "\u001b[0;31mTypeError\u001b[0m                                 Traceback (most recent call last)",
      "\u001b[0;32m/tmp/ipykernel_11989/434791115.py\u001b[0m in \u001b[0;36m<module>\u001b[0;34m\u001b[0m\n\u001b[1;32m     67\u001b[0m \u001b[0;34m\u001b[0m\u001b[0m\n\u001b[1;32m     68\u001b[0m \u001b[0;34m\u001b[0m\u001b[0m\n\u001b[0;32m---> 69\u001b[0;31m \u001b[0mmodel\u001b[0m \u001b[0;34m=\u001b[0m \u001b[0mHFModel\u001b[0m\u001b[0;34m(\u001b[0m\u001b[0mpretrain_model_path\u001b[0m\u001b[0;34m=\u001b[0m\u001b[0mpretrain_model_path\u001b[0m\u001b[0;34m,\u001b[0m \u001b[0mtraining_args\u001b[0m\u001b[0;34m=\u001b[0m\u001b[0mtraining_args\u001b[0m\u001b[0;34m)\u001b[0m\u001b[0;34m\u001b[0m\u001b[0;34m\u001b[0m\u001b[0m\n\u001b[0m",
      "\u001b[0;31mTypeError\u001b[0m: __init__() got an unexpected keyword argument 'pretrain_model_path'"
     ]
    }
   ],
   "source": [
    "# from datasets import Dataset\n",
    "# from transformers import AutoModelForSequenceClassification\n",
    "# from transformers import AutoTokenizer, DataCollatorWithPadding\n",
    "# import numpy as np \n",
    "# class HFModel(object):\n",
    "#     def __init__(self ,pretrain_model_path, training_args,):\n",
    "#         self.training_args = training_args\n",
    "#         self.trained=False\n",
    "#         self.pretrain_model_path = pretrain_model_path\n",
    "\n",
    "#     def entrenar(self, X, y):\n",
    "#         self.tokenizer = AutoTokenizer.from_pretrained(self.pretrain_model_path+'tokenizer/')\n",
    "#         model = AutoModelForSequenceClassification.from_pretrained(self.pretrain_model_path+'model/', num_labels=2)\n",
    "        \n",
    "# #         assert all([type(elem)==str for elem in X])\n",
    "#         data = {'sentence':[text for text in X],\n",
    "#                 'label': [label for label in y]\n",
    "#                }\n",
    "#         train_data = Dataset.from_dict(data)\n",
    "#         def tokenize_function(example):\n",
    "#             return self.tokenizer(example[\"sentence\"], truncation=True)\n",
    "        \n",
    "#         tokenized_dataset = train_data.map(tokenize_function, batched=True)\n",
    "#         from transformers import Trainer\n",
    "#         from transformers import TrainingArguments\n",
    "\n",
    "\n",
    "\n",
    "#         data_collator = DataCollatorWithPadding(tokenizer=self.tokenizer)\n",
    "\n",
    "#         trainer = Trainer(\n",
    "#             model,\n",
    "#             self.training_args,\n",
    "#             train_dataset=tokenized_dataset,\n",
    "#             data_collator=data_collator,\n",
    "#             tokenizer=self.tokenizer,\n",
    "#         )\n",
    "#         output = trainer.train()\n",
    "#         self.trainer = trainer\n",
    "#         self.model = model\n",
    "#         self.trained=True\n",
    "#         return output\n",
    "    \n",
    "#     def get_X(text_list):\n",
    "#         return np.array(text_list)\n",
    "    \n",
    "#     def predecir(self, X):\n",
    "#         assert self.trained\n",
    "#         data = {'sentence':[text for text in X]\n",
    "#                }\n",
    "#         dataset = Dataset.from_dict(data)\n",
    "\n",
    "#         def tokenize_function(example):\n",
    "#             return self.tokenizer(example[\"sentence\"], truncation=True)\n",
    "        \n",
    "#         tokenized_dataset = dataset.map(tokenize_function, batched=True)\n",
    "#         predictions = self.trainer.predict(tokenized_dataset)\n",
    "\n",
    "        \n",
    "#         return np.argmax(predictions.predictions, axis=-1)\n",
    "    \n",
    "from transformers import TrainingArguments\n",
    "from utils.classifier import HFModel\n",
    "\n",
    "pretrain_model_path = '/home/ec2-user/SageMaker/mariano/huggingface/pretrained/distilbert-base-uncased/'\n",
    "training_args = TrainingArguments(\"test-trainer\")\n",
    "\n",
    "\n",
    "model = HFModel(pretrain_model_path=pretrain_model_path, training_args=training_args)"
   ]
  },
  {
   "cell_type": "code",
   "execution_count": 6,
   "id": "55de6016",
   "metadata": {},
   "outputs": [
    {
     "data": {
      "text/plain": [
       "<utils.classifier.HFModel at 0x7fbfe83fd490>"
      ]
     },
     "execution_count": 6,
     "metadata": {},
     "output_type": "execute_result"
    }
   ],
   "source": [
    "import os\n",
    "assert os.path.exists(pretrain_model_path)\n",
    "\n",
    "\n",
    "from utils.classifier import HFModel\n",
    "training_args = TrainingArguments(\"test-trainer\")\n",
    "HFModel(model_name='distilbert-base-uncased', training_args=training_args)"
   ]
  },
  {
   "cell_type": "code",
   "execution_count": 5,
   "id": "ae497483",
   "metadata": {},
   "outputs": [
    {
     "data": {
      "text/plain": [
       "['model', 'tokenizer']"
      ]
     },
     "execution_count": 5,
     "metadata": {},
     "output_type": "execute_result"
    }
   ],
   "source": [
    "os.listdir('/home/ec2-user/SageMaker/mariano/huggingface/pretrained/distilbert-base-uncased/')"
   ]
  },
  {
   "cell_type": "code",
   "execution_count": null,
   "id": "0a683927",
   "metadata": {},
   "outputs": [],
   "source": []
  }
 ],
 "metadata": {
  "kernelspec": {
   "display_name": "bert",
   "language": "python",
   "name": "bert"
  },
  "language_info": {
   "codemirror_mode": {
    "name": "ipython",
    "version": 3
   },
   "file_extension": ".py",
   "mimetype": "text/x-python",
   "name": "python",
   "nbconvert_exporter": "python",
   "pygments_lexer": "ipython3",
   "version": "3.7.12"
  }
 },
 "nbformat": 4,
 "nbformat_minor": 5
}

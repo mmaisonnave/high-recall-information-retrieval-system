{
 "cells": [
  {
   "cell_type": "code",
   "execution_count": 1,
   "id": "016fb170",
   "metadata": {
    "scrolled": false
   },
   "outputs": [],
   "source": [
    "from utils.data_item import DataItem\n",
    "from utils.oracle import Oracle\n",
    "unlabeled = Oracle.get_collection()\n",
    "\n",
    "from utils.scal_ui import SCAL_UI\n",
    "import os\n",
    "from IPython.display import clear_output\n",
    "from utils.scal import SCAL\n",
    "from utils.data_item import QueryDataItem\n",
    "\n",
    "import warnings\n",
    "warnings.filterwarnings('ignore')\n",
    "\n",
    "seed = 22127\n",
    "N=100\n",
    "cap=1\n",
    "def start_system(session_name, topic_description ):\n",
    "    clear_output(wait=False)\n",
    "    if os.path.exists(f'sessions/scal/{session_name}'):\n",
    "        scal = SCAL.from_disk(session_name=session_name)\n",
    "    else:\n",
    "        \n",
    "        # UNLABELED\n",
    "#         data_sources = ['/home/ec2-user/SageMaker/mariano/notebooks/07. Simulation/data/GM_files'\n",
    "#                        ]\n",
    "        data_sources = ['/home/ec2-user/SageMaker/data/GM_not_all_1960_1978',\n",
    "                        '/home/ec2-user/SageMaker/data/GM_not_all_1979_1997',\n",
    "                        '/home/ec2-user/SageMaker/data/GM_not_all_1998_2018',\n",
    "                    ]\n",
    "        files = [os.path.join(data_source,file) for data_source in data_sources for file in os.listdir(data_source) ]\n",
    "#         print(f'Total number of files: {len(files):,}')\n",
    "\n",
    "        \n",
    "        def unlabeled_from_data_source(data_source):\n",
    "            return [DataItem(name.split('.')[0]) for name in os.listdir(data_source)]\n",
    "        unlabeled = [elem for list_ in list(map(unlabeled_from_data_source, data_sources)) for elem in list_]\n",
    "#         unlabeled = list(filter(lambda x: x.has_vector(), unlabeled))\n",
    "        # LABELED\n",
    "#         print(topic_description)\n",
    "        doc = QueryDataItem(topic_description)\n",
    "        doc.set_relevant()\n",
    "        \n",
    "        scal = SCAL(session_name, \n",
    "                    [doc], \n",
    "                    unlabeled,\n",
    "                    random_sample_size=N,\n",
    "                    batch_size_cap=cap,\n",
    "                    simulation=False, \n",
    "                    seed=seed)\n",
    "    scal.run()\n",
    "    \n",
    "_=SCAL_UI(start_system)\n",
    "\n",
    "# import ipywidgets as widgets\n",
    "# combobox = widgets.Combobox(options=['1','2','3',])\n",
    "# def do_something(widget=None):\n",
    "#     print('submit')\n",
    "# combobox.on_submit(do_something)\n",
    "# combobox"
   ]
  },
  {
   "cell_type": "code",
   "execution_count": 2,
   "id": "bb723d3a",
   "metadata": {},
   "outputs": [
    {
     "name": "stdout",
     "output_type": "stream",
     "text": [
      "\n"
     ]
    }
   ],
   "source": [
    "print()"
   ]
  },
  {
   "cell_type": "code",
   "execution_count": null,
   "id": "c0df7992",
   "metadata": {},
   "outputs": [],
   "source": []
  },
  {
   "cell_type": "code",
   "execution_count": 1,
   "id": "b12ee1d2",
   "metadata": {},
   "outputs": [
    {
     "data": {
      "text/plain": [
       "array([0.        , 0.        , 0.        , ..., 0.        , 0.64985456,\n",
       "       0.76005859])"
      ]
     },
     "execution_count": 1,
     "metadata": {},
     "output_type": "execute_result"
    }
   ],
   "source": [
    "from utils.data_item import QueryDataItem\n",
    "doc = QueryDataItem(\"multiculturalism multicultural\")\n",
    "doc.set_relevant()\n",
    "doc.vector()"
   ]
  },
  {
   "cell_type": "code",
   "execution_count": null,
   "id": "aa890acb",
   "metadata": {},
   "outputs": [],
   "source": [
    "array([0.        , 0.        , 0.        , ..., 0.        , 0.70710678,\n",
    "       0.70710678])"
   ]
  },
  {
   "cell_type": "code",
   "execution_count": 2,
   "id": "b3d1d1ef",
   "metadata": {},
   "outputs": [],
   "source": [
    "data_sources = ['/home/ec2-user/SageMaker/mariano/notebooks/07. Simulation/data/GM_files'\n",
    "               ]\n",
    "def unlabeled_from_data_source(data_source):\n",
    "    return [DataItem(name.split('.')[0]) for name in os.listdir(data_source)]\n",
    "unlabeled = [elem for list_ in list(map(unlabeled_from_data_source, data_sources)) for elem in list_]\n",
    "unlabeled = list(filter(lambda x: x.has_vector(), unlabeled))"
   ]
  },
  {
   "cell_type": "code",
   "execution_count": 7,
   "id": "06aa2a71",
   "metadata": {},
   "outputs": [
    {
     "data": {
      "text/plain": [
       "(10000,)"
      ]
     },
     "execution_count": 7,
     "metadata": {},
     "output_type": "execute_result"
    }
   ],
   "source": [
    "import pickle\n",
    "from sklearn.preprocessing import normalize\n",
    "\n",
    "vectors=[]\n",
    "for vecname in [item._vector_filename() for item in unlabeled]:\n",
    "    vectors.append(pickle.load(open(vecname,'rb'))['BoW'].toarray()[0,:])\n",
    "    \n",
    "X = normalize(sparse.vstack(map(lambda filename: pickle.load(open(filename, 'rb'))['BoW']), vecnames[ini:fin])),axis=1)\n"
   ]
  },
  {
   "cell_type": "code",
   "execution_count": 10,
   "id": "f6420974",
   "metadata": {},
   "outputs": [
    {
     "data": {
      "text/plain": [
       "<100x10000 sparse matrix of type '<class 'numpy.float64'>'\n",
       "\twith 18397 stored elements in Compressed Sparse Row format>"
      ]
     },
     "execution_count": 10,
     "metadata": {},
     "output_type": "execute_result"
    }
   ],
   "source": [
    "from scipy import sparse\n",
    "vecnames = [item._vector_filename() for item in unlabeled]\n",
    "sparse.vstack(map(lambda filename: pickle.load(open(filename, 'rb'))['BoW'], vecnames[0:100]))\n"
   ]
  },
  {
   "cell_type": "code",
   "execution_count": 6,
   "id": "bc28582b",
   "metadata": {},
   "outputs": [
    {
     "name": "stdout",
     "output_type": "stream",
     "text": [
      "1124938409_representations.p\r\n",
      "1124939367_representations.p\r\n",
      "1124939834_representations.p\r\n",
      "1124940161_representations.p\r\n",
      "1124941625_representations.p\r\n",
      "1124942915_representations.p\r\n",
      "1124943522_representations.p\r\n",
      "1124945002_representations.p\r\n",
      "1124945205_representations.p\r\n",
      "1124945670_representations.p\r\n",
      "ls: write error: Broken pipe\r\n"
     ]
    }
   ],
   "source": [
    "!ls /home/ec2-user/SageMaker/mariano/notebooks/07.\\ Simulation/data/precomputed | head"
   ]
  },
  {
   "cell_type": "code",
   "execution_count": 7,
   "id": "e4e9c2df",
   "metadata": {},
   "outputs": [
    {
     "name": "stdout",
     "output_type": "stream",
     "text": [
      "1124938409.xml\r\n",
      "1124939367.xml\r\n",
      "1124939834.xml\r\n",
      "1124940161.xml\r\n",
      "1124941625.xml\r\n",
      "1124942915.xml\r\n",
      "1124943522.xml\r\n",
      "1124945002.xml\r\n",
      "1124945205.xml\r\n",
      "1124945670.xml\r\n",
      "ls: write error: Broken pipe\r\n"
     ]
    }
   ],
   "source": [
    "!ls /home/ec2-user/SageMaker/mariano/notebooks/07.\\ Simulation/data/GM_files | head"
   ]
  },
  {
   "cell_type": "code",
   "execution_count": 10,
   "id": "a2ae1dcf",
   "metadata": {},
   "outputs": [
    {
     "data": {
      "text/plain": [
       "30000"
      ]
     },
     "execution_count": 10,
     "metadata": {},
     "output_type": "execute_result"
    }
   ],
   "source": [
    "xmlfiles = ['data/GM_files/'+file for file in os.listdir('data/GM_files')]\n",
    "assert all([os.path.isfile(file) for file in xmlfiles])\n",
    "len(xmlfiles)"
   ]
  },
  {
   "cell_type": "code",
   "execution_count": 11,
   "id": "6d4dc088",
   "metadata": {},
   "outputs": [
    {
     "data": {
      "text/plain": [
       "30000"
      ]
     },
     "execution_count": 11,
     "metadata": {},
     "output_type": "execute_result"
    }
   ],
   "source": [
    "vecfiles = ['data/precomputed/'+file for file in os.listdir('data/precomputed/')]\n",
    "assert all([os.path.isfile(file) for file in vecfiles])\n",
    "len(vecfiles)"
   ]
  },
  {
   "cell_type": "code",
   "execution_count": null,
   "id": "6bef8e04",
   "metadata": {},
   "outputs": [],
   "source": []
  }
 ],
 "metadata": {
  "kernelspec": {
   "display_name": "imm",
   "language": "python",
   "name": "imm"
  },
  "language_info": {
   "codemirror_mode": {
    "name": "ipython",
    "version": 3
   },
   "file_extension": ".py",
   "mimetype": "text/x-python",
   "name": "python",
   "nbconvert_exporter": "python",
   "pygments_lexer": "ipython3",
   "version": "3.9.7"
  }
 },
 "nbformat": 4,
 "nbformat_minor": 5
}

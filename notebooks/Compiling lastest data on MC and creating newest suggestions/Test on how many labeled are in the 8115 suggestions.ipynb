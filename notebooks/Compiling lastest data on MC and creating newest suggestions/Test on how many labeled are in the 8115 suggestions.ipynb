{
 "cells": [
  {
   "cell_type": "code",
   "execution_count": 1,
   "id": "468803ed",
   "metadata": {},
   "outputs": [],
   "source": [
    "#########\n",
    "# INPUT #\n",
    "#########\n",
    "labeled_datafile = '/home/ec2-user/SageMaker/mariano/datasets/multiculturalism/files/labeled_data.csv'\n",
    "suggestions8115='/home/ec2-user/SageMaker/serperi/system/sessions/scal/One_second_round/data/exported_data_2022-11-23_00-18.csv'"
   ]
  },
  {
   "cell_type": "code",
   "execution_count": 2,
   "id": "8974aeed",
   "metadata": {},
   "outputs": [],
   "source": [
    "import pandas as pd"
   ]
  },
  {
   "cell_type": "code",
   "execution_count": 15,
   "id": "252bc1f5",
   "metadata": {},
   "outputs": [
    {
     "data": {
      "text/html": [
       "<div>\n",
       "<style scoped>\n",
       "    .dataframe tbody tr th:only-of-type {\n",
       "        vertical-align: middle;\n",
       "    }\n",
       "\n",
       "    .dataframe tbody tr th {\n",
       "        vertical-align: top;\n",
       "    }\n",
       "\n",
       "    .dataframe thead th {\n",
       "        text-align: right;\n",
       "    }\n",
       "</style>\n",
       "<table border=\"1\" class=\"dataframe\">\n",
       "  <thead>\n",
       "    <tr style=\"text-align: right;\">\n",
       "      <th></th>\n",
       "      <th>URL</th>\n",
       "      <th>relevant_or_suggested</th>\n",
       "      <th>confidence</th>\n",
       "      <th>id</th>\n",
       "    </tr>\n",
       "  </thead>\n",
       "  <tbody>\n",
       "    <tr>\n",
       "      <th>61</th>\n",
       "      <td>https://proquest.com/docview/1238291722</td>\n",
       "      <td>sugg</td>\n",
       "      <td>0.050</td>\n",
       "      <td>1238291722</td>\n",
       "    </tr>\n",
       "    <tr>\n",
       "      <th>62</th>\n",
       "      <td>https://proquest.com/docview/1242287126</td>\n",
       "      <td>sugg</td>\n",
       "      <td>0.050</td>\n",
       "      <td>1242287126</td>\n",
       "    </tr>\n",
       "    <tr>\n",
       "      <th>63</th>\n",
       "      <td>https://proquest.com/docview/1282783518</td>\n",
       "      <td>sugg</td>\n",
       "      <td>0.050</td>\n",
       "      <td>1282783518</td>\n",
       "    </tr>\n",
       "    <tr>\n",
       "      <th>64</th>\n",
       "      <td>https://proquest.com/docview/1239913866</td>\n",
       "      <td>sugg</td>\n",
       "      <td>0.049</td>\n",
       "      <td>1239913866</td>\n",
       "    </tr>\n",
       "    <tr>\n",
       "      <th>65</th>\n",
       "      <td>https://proquest.com/docview/1282747896</td>\n",
       "      <td>sugg</td>\n",
       "      <td>0.047</td>\n",
       "      <td>1282747896</td>\n",
       "    </tr>\n",
       "    <tr>\n",
       "      <th>...</th>\n",
       "      <td>...</td>\n",
       "      <td>...</td>\n",
       "      <td>...</td>\n",
       "      <td>...</td>\n",
       "    </tr>\n",
       "    <tr>\n",
       "      <th>8171</th>\n",
       "      <td>https://proquest.com/docview/1138169307</td>\n",
       "      <td>sugg</td>\n",
       "      <td>0.050</td>\n",
       "      <td>1138169307</td>\n",
       "    </tr>\n",
       "    <tr>\n",
       "      <th>8172</th>\n",
       "      <td>https://proquest.com/docview/1356973922</td>\n",
       "      <td>sugg</td>\n",
       "      <td>0.049</td>\n",
       "      <td>1356973922</td>\n",
       "    </tr>\n",
       "    <tr>\n",
       "      <th>8173</th>\n",
       "      <td>https://proquest.com/docview/1412167492</td>\n",
       "      <td>sugg</td>\n",
       "      <td>0.059</td>\n",
       "      <td>1412167492</td>\n",
       "    </tr>\n",
       "    <tr>\n",
       "      <th>8174</th>\n",
       "      <td>https://proquest.com/docview/1412622848</td>\n",
       "      <td>sugg</td>\n",
       "      <td>0.091</td>\n",
       "      <td>1412622848</td>\n",
       "    </tr>\n",
       "    <tr>\n",
       "      <th>8175</th>\n",
       "      <td>https://proquest.com/docview/1400861915</td>\n",
       "      <td>sugg</td>\n",
       "      <td>0.065</td>\n",
       "      <td>1400861915</td>\n",
       "    </tr>\n",
       "  </tbody>\n",
       "</table>\n",
       "<p>8115 rows × 4 columns</p>\n",
       "</div>"
      ],
      "text/plain": [
       "                                          URL relevant_or_suggested  \\\n",
       "61    https://proquest.com/docview/1238291722                  sugg   \n",
       "62    https://proquest.com/docview/1242287126                  sugg   \n",
       "63    https://proquest.com/docview/1282783518                  sugg   \n",
       "64    https://proquest.com/docview/1239913866                  sugg   \n",
       "65    https://proquest.com/docview/1282747896                  sugg   \n",
       "...                                       ...                   ...   \n",
       "8171  https://proquest.com/docview/1138169307                  sugg   \n",
       "8172  https://proquest.com/docview/1356973922                  sugg   \n",
       "8173  https://proquest.com/docview/1412167492                  sugg   \n",
       "8174  https://proquest.com/docview/1412622848                  sugg   \n",
       "8175  https://proquest.com/docview/1400861915                  sugg   \n",
       "\n",
       "      confidence          id  \n",
       "61         0.050  1238291722  \n",
       "62         0.050  1242287126  \n",
       "63         0.050  1282783518  \n",
       "64         0.049  1239913866  \n",
       "65         0.047  1282747896  \n",
       "...          ...         ...  \n",
       "8171       0.050  1138169307  \n",
       "8172       0.049  1356973922  \n",
       "8173       0.059  1412167492  \n",
       "8174       0.091  1412622848  \n",
       "8175       0.065  1400861915  \n",
       "\n",
       "[8115 rows x 4 columns]"
      ]
     },
     "execution_count": 15,
     "metadata": {},
     "output_type": "execute_result"
    }
   ],
   "source": [
    "#SUGGESTIONS 8115\n",
    "df = pd.read_csv(suggestions8115)\n",
    "df = df[df['relevant_or_suggested']=='sugg']\n",
    "df['id']=[int(url.split('/')[-1]) for url in df['URL']]\n",
    "df"
   ]
  },
  {
   "cell_type": "code",
   "execution_count": 8,
   "id": "36ced99f",
   "metadata": {},
   "outputs": [
    {
     "data": {
      "text/html": [
       "<div>\n",
       "<style scoped>\n",
       "    .dataframe tbody tr th:only-of-type {\n",
       "        vertical-align: middle;\n",
       "    }\n",
       "\n",
       "    .dataframe tbody tr th {\n",
       "        vertical-align: top;\n",
       "    }\n",
       "\n",
       "    .dataframe thead th {\n",
       "        text-align: right;\n",
       "    }\n",
       "</style>\n",
       "<table border=\"1\" class=\"dataframe\">\n",
       "  <thead>\n",
       "    <tr style=\"text-align: right;\">\n",
       "      <th></th>\n",
       "      <th>id</th>\n",
       "      <th>label</th>\n",
       "    </tr>\n",
       "  </thead>\n",
       "  <tbody>\n",
       "    <tr>\n",
       "      <th>0</th>\n",
       "      <td>1151636504</td>\n",
       "      <td>R</td>\n",
       "    </tr>\n",
       "    <tr>\n",
       "      <th>1</th>\n",
       "      <td>1237806961</td>\n",
       "      <td>I</td>\n",
       "    </tr>\n",
       "    <tr>\n",
       "      <th>2</th>\n",
       "      <td>1269975477</td>\n",
       "      <td>I</td>\n",
       "    </tr>\n",
       "    <tr>\n",
       "      <th>3</th>\n",
       "      <td>1143676333</td>\n",
       "      <td>I</td>\n",
       "    </tr>\n",
       "    <tr>\n",
       "      <th>4</th>\n",
       "      <td>1143862565</td>\n",
       "      <td>I</td>\n",
       "    </tr>\n",
       "  </tbody>\n",
       "</table>\n",
       "</div>"
      ],
      "text/plain": [
       "           id label\n",
       "0  1151636504     R\n",
       "1  1237806961     I\n",
       "2  1269975477     I\n",
       "3  1143676333     I\n",
       "4  1143862565     I"
      ]
     },
     "execution_count": 8,
     "metadata": {},
     "output_type": "execute_result"
    }
   ],
   "source": [
    "labeled_df = pd.read_csv(labeled_datafile)\n",
    "labeled_df.head()"
   ]
  },
  {
   "cell_type": "code",
   "execution_count": 22,
   "id": "7b28b9e4",
   "metadata": {},
   "outputs": [
    {
     "data": {
      "text/plain": [
       "93"
      ]
     },
     "execution_count": 22,
     "metadata": {},
     "output_type": "execute_result"
    }
   ],
   "source": [
    "labeled_as_relevant = labeled_df[labeled_df['label']=='R']['id']\n",
    "len(labeled_as_relevant)"
   ]
  },
  {
   "cell_type": "code",
   "execution_count": 23,
   "id": "ed23f01c",
   "metadata": {},
   "outputs": [
    {
     "data": {
      "text/plain": [
       "644"
      ]
     },
     "execution_count": 23,
     "metadata": {},
     "output_type": "execute_result"
    }
   ],
   "source": [
    "labeled_as_irrelevant = labeled_df[labeled_df['label']=='I']['id']\n",
    "len(labeled_as_irrelevant)"
   ]
  },
  {
   "cell_type": "code",
   "execution_count": 11,
   "id": "529f7e29",
   "metadata": {},
   "outputs": [
    {
     "data": {
      "text/plain": [
       "8115"
      ]
     },
     "execution_count": 11,
     "metadata": {},
     "output_type": "execute_result"
    }
   ],
   "source": [
    "len(set(df['id']))"
   ]
  },
  {
   "cell_type": "code",
   "execution_count": 26,
   "id": "a007f00f",
   "metadata": {},
   "outputs": [
    {
     "data": {
      "text/plain": [
       "78"
      ]
     },
     "execution_count": 26,
     "metadata": {},
     "output_type": "execute_result"
    }
   ],
   "source": [
    "len(set(df['id']).intersection(labeled_as_irrelevant))"
   ]
  },
  {
   "cell_type": "code",
   "execution_count": 27,
   "id": "3763b961",
   "metadata": {},
   "outputs": [
    {
     "data": {
      "text/plain": [
       "29"
      ]
     },
     "execution_count": 27,
     "metadata": {},
     "output_type": "execute_result"
    }
   ],
   "source": [
    "len(set(df['id']).intersection(labeled_as_relevant))"
   ]
  },
  {
   "cell_type": "code",
   "execution_count": null,
   "id": "f30959b8",
   "metadata": {},
   "outputs": [],
   "source": []
  }
 ],
 "metadata": {
  "kernelspec": {
   "display_name": "imm",
   "language": "python",
   "name": "imm"
  },
  "language_info": {
   "codemirror_mode": {
    "name": "ipython",
    "version": 3
   },
   "file_extension": ".py",
   "mimetype": "text/x-python",
   "name": "python",
   "nbconvert_exporter": "python",
   "pygments_lexer": "ipython3",
   "version": "3.9.7"
  }
 },
 "nbformat": 4,
 "nbformat_minor": 5
}

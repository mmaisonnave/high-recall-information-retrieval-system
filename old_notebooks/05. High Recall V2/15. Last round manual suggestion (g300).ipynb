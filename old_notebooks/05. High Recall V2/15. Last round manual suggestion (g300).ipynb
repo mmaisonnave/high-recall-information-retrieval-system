{
 "cells": [
  {
   "cell_type": "markdown",
   "id": "14c2bcf4",
   "metadata": {},
   "source": [
    "### LABELED DATA"
   ]
  },
  {
   "cell_type": "code",
   "execution_count": 1,
   "id": "db919f8d",
   "metadata": {},
   "outputs": [
    {
     "name": "stdout",
     "output_type": "stream",
     "text": [
      "114,492\n"
     ]
    }
   ],
   "source": [
    "from utils.models import DataItem\n",
    "lines =open('/home/ec2-user/SageMaker/mariano/notebooks/05. High Recall V2/labeled_data.csv','r').read().splitlines()[1:]\n",
    "lines = [line.split(';') for line in lines ]\n",
    "lines[:3]\n",
    "labeled_data = [DataItem(id_) for id_,_ in lines]\n",
    "\n",
    "idx = 0\n",
    "for id_,label in lines:\n",
    "        item = labeled_data[idx]\n",
    "        idx+=1\n",
    "        assert item.id_ == id_\n",
    "        if label == 'R':\n",
    "            item.set_relevant()\n",
    "        else:\n",
    "            item.set_irrelevant()\n",
    "            assert label=='I'\n",
    "\n",
    "\n",
    "lines = open('./auxiliary_notebooks/in_canada.csv', 'r').read().splitlines()\n",
    "irrelevants = [DataItem(line.split(';')[0]) for line in lines if line.split(';')[1]=='False']\n",
    "for item in irrelevants:\n",
    "    item.set_irrelevant()\n",
    "labeled_data = labeled_data + irrelevants\n",
    "print(f'{len(labeled_data):,}')"
   ]
  },
  {
   "cell_type": "code",
   "execution_count": 2,
   "id": "8f7f4f93",
   "metadata": {},
   "outputs": [
    {
     "name": "stdout",
     "output_type": "stream",
     "text": [
      "Fitting 5 folds for each of 6 candidates, totalling 30 fits\n",
      "[CV 1/5] END C=0.5; accuracy: (test=0.988) f1: (test=0.438) precision: (test=0.292) recall: (test=0.880) total time= 2.6min\n",
      "[CV 2/5] END C=0.5; accuracy: (test=0.997) f1: (test=0.659) precision: (test=1.000) recall: (test=0.491) total time= 3.2min\n",
      "[CV 3/5] END C=0.5; accuracy: (test=0.998) f1: (test=0.682) precision: (test=1.000) recall: (test=0.517) total time= 3.7min\n",
      "[CV 4/5] END C=0.5; accuracy: (test=0.997) f1: (test=0.568) precision: (test=1.000) recall: (test=0.397) total time= 5.0min\n",
      "[CV 5/5] END C=0.5; accuracy: (test=0.997) f1: (test=0.640) precision: (test=0.982) recall: (test=0.474) total time= 5.1min\n",
      "[CV 1/5] END C=1; accuracy: (test=0.987) f1: (test=0.420) precision: (test=0.270) recall: (test=0.949) total time= 3.1min\n",
      "[CV 2/5] END C=1; accuracy: (test=0.998) f1: (test=0.766) precision: (test=1.000) recall: (test=0.621) total time= 3.0min\n",
      "[CV 3/5] END C=1; accuracy: (test=0.998) f1: (test=0.814) precision: (test=0.976) recall: (test=0.698) total time= 3.0min\n",
      "[CV 4/5] END C=1; accuracy: (test=0.998) f1: (test=0.718) precision: (test=1.000) recall: (test=0.560) total time= 3.1min\n",
      "[CV 5/5] END C=1; accuracy: (test=0.998) f1: (test=0.788) precision: (test=0.987) recall: (test=0.655) total time= 3.4min\n",
      "[CV 1/5] END C=5; accuracy: (test=0.984) f1: (test=0.392) precision: (test=0.245) recall: (test=0.983) total time= 1.3min\n",
      "[CV 2/5] END C=5; accuracy: (test=0.998) f1: (test=0.818) precision: (test=0.988) recall: (test=0.698) total time= 2.5min\n",
      "[CV 3/5] END C=5; accuracy: (test=0.999) f1: (test=0.879) precision: (test=1.000) recall: (test=0.784) total time= 2.6min\n",
      "[CV 4/5] END C=5; accuracy: (test=0.998) f1: (test=0.804) precision: (test=1.000) recall: (test=0.672) total time= 2.4min\n",
      "[CV 5/5] END C=5; accuracy: (test=0.999) f1: (test=0.854) precision: (test=0.978) recall: (test=0.759) total time= 2.4min\n",
      "[CV 1/5] END C=7; accuracy: (test=0.984) f1: (test=0.382) precision: (test=0.237) recall: (test=0.983) total time= 1.2min\n",
      "[CV 2/5] END C=7; accuracy: (test=0.999) f1: (test=0.830) precision: (test=0.988) recall: (test=0.716) total time= 2.3min\n",
      "[CV 3/5] END C=7; accuracy: (test=0.999) f1: (test=0.885) precision: (test=1.000) recall: (test=0.793) total time= 2.4min\n",
      "[CV 4/5] END C=7; accuracy: (test=0.998) f1: (test=0.804) precision: (test=1.000) recall: (test=0.672) total time= 2.3min\n",
      "[CV 5/5] END C=7; accuracy: (test=0.999) f1: (test=0.859) precision: (test=0.989) recall: (test=0.759) total time= 3.5min\n",
      "[CV 1/5] END C=15; accuracy: (test=0.983) f1: (test=0.371) precision: (test=0.228) recall: (test=0.991) total time= 1.7min\n",
      "[CV 2/5] END C=15; accuracy: (test=0.999) f1: (test=0.870) precision: (test=0.989) recall: (test=0.776) total time= 2.8min\n",
      "[CV 3/5] END C=15; accuracy: (test=0.999) f1: (test=0.876) precision: (test=0.979) recall: (test=0.793) total time= 2.5min\n",
      "[CV 4/5] END C=15; accuracy: (test=0.998) f1: (test=0.816) precision: (test=1.000) recall: (test=0.690) total time= 2.4min\n",
      "[CV 5/5] END C=15; accuracy: (test=0.999) f1: (test=0.876) precision: (test=0.979) recall: (test=0.793) total time= 2.3min\n",
      "[CV 1/5] END C=50; accuracy: (test=0.981) f1: (test=0.340) precision: (test=0.206) recall: (test=0.983) total time=  57.5s\n",
      "[CV 2/5] END C=50; accuracy: (test=0.999) f1: (test=0.860) precision: (test=0.939) recall: (test=0.793) total time= 2.3min\n",
      "[CV 3/5] END C=50; accuracy: (test=0.999) f1: (test=0.868) precision: (test=0.958) recall: (test=0.793) total time= 2.3min\n",
      "[CV 4/5] END C=50; accuracy: (test=0.999) f1: (test=0.845) precision: (test=0.967) recall: (test=0.750) total time= 2.3min\n",
      "[CV 5/5] END C=50; accuracy: (test=0.999) f1: (test=0.869) precision: (test=0.949) recall: (test=0.802) total time= 2.4min\n"
     ]
    },
    {
     "ename": "NameError",
     "evalue": "name 'pd' is not defined",
     "output_type": "error",
     "traceback": [
      "\u001b[0;31m---------------------------------------------------------------------------\u001b[0m",
      "\u001b[0;31mNameError\u001b[0m                                 Traceback (most recent call last)",
      "\u001b[0;32m/tmp/ipykernel_10510/3242598433.py\u001b[0m in \u001b[0;36m<module>\u001b[0;34m\u001b[0m\n\u001b[1;32m     13\u001b[0m \u001b[0my\u001b[0m \u001b[0;34m=\u001b[0m \u001b[0mDataItem\u001b[0m\u001b[0;34m.\u001b[0m\u001b[0mget_y\u001b[0m\u001b[0;34m(\u001b[0m\u001b[0mlabeled_data\u001b[0m\u001b[0;34m)\u001b[0m\u001b[0;34m\u001b[0m\u001b[0;34m\u001b[0m\u001b[0m\n\u001b[1;32m     14\u001b[0m \u001b[0mrta\u001b[0m \u001b[0;34m=\u001b[0m \u001b[0mGS\u001b[0m\u001b[0;34m.\u001b[0m\u001b[0mfit\u001b[0m\u001b[0;34m(\u001b[0m\u001b[0mX\u001b[0m\u001b[0;34m,\u001b[0m\u001b[0my\u001b[0m\u001b[0;34m)\u001b[0m\u001b[0;34m\u001b[0m\u001b[0;34m\u001b[0m\u001b[0m\n\u001b[0;32m---> 15\u001b[0;31m \u001b[0mdf\u001b[0m \u001b[0;34m=\u001b[0m \u001b[0;34m(\u001b[0m\u001b[0mpd\u001b[0m\u001b[0;34m.\u001b[0m\u001b[0mDataFrame\u001b[0m\u001b[0;34m(\u001b[0m\u001b[0mrta\u001b[0m\u001b[0;34m.\u001b[0m\u001b[0mcv_results_\u001b[0m\u001b[0;34m)\u001b[0m\u001b[0;34m[\u001b[0m\u001b[0;34m[\u001b[0m\u001b[0;34m\"params\"\u001b[0m\u001b[0;34m,\u001b[0m\u001b[0;34m\"mean_test_accuracy\"\u001b[0m\u001b[0;34m,\u001b[0m \u001b[0;34m\"mean_test_precision\"\u001b[0m\u001b[0;34m,\u001b[0m\u001b[0;34m\"mean_test_recall\"\u001b[0m\u001b[0;34m,\u001b[0m\u001b[0;34m\"mean_test_f1\"\u001b[0m\u001b[0;34m]\u001b[0m\u001b[0;34m]\u001b[0m\u001b[0;34m)\u001b[0m\u001b[0;34m\u001b[0m\u001b[0;34m\u001b[0m\u001b[0m\n\u001b[0m\u001b[1;32m     16\u001b[0m \u001b[0mdf\u001b[0m\u001b[0;34m.\u001b[0m\u001b[0mcolumns\u001b[0m\u001b[0;34m=\u001b[0m\u001b[0;34m[\u001b[0m\u001b[0;34m'params'\u001b[0m\u001b[0;34m,\u001b[0m\u001b[0;34m'mean accuracy'\u001b[0m\u001b[0;34m,\u001b[0m \u001b[0;34m'mean precision'\u001b[0m\u001b[0;34m,\u001b[0m\u001b[0;34m'mean recall'\u001b[0m\u001b[0;34m,\u001b[0m\u001b[0;34m'mean f1'\u001b[0m\u001b[0;34m,\u001b[0m\u001b[0;34m]\u001b[0m\u001b[0;34m\u001b[0m\u001b[0;34m\u001b[0m\u001b[0m\n\u001b[1;32m     17\u001b[0m \u001b[0mprint\u001b[0m\u001b[0;34m(\u001b[0m\u001b[0mdf\u001b[0m\u001b[0;34m)\u001b[0m\u001b[0;34m\u001b[0m\u001b[0;34m\u001b[0m\u001b[0m\n",
      "\u001b[0;31mNameError\u001b[0m: name 'pd' is not defined"
     ]
    }
   ],
   "source": [
    "from sklearn.model_selection import GridSearchCV\n",
    "from sklearn.svm import SVC\n",
    "from utils.general import info\n",
    "import pandas as pd\n",
    "params = {'C':[0.5, 1, 5, 7, 15, 50]}\n",
    "GS = GridSearchCV(\n",
    "                  SVC(kernel='rbf', probability=True),\n",
    "                  params\n",
    "                  ,scoring=['f1','accuracy','precision', 'recall'], \n",
    "                  cv=5,\n",
    "                  verbose=4, \n",
    "                  refit='f1')    \n",
    "\n",
    "X = DataItem.get_X(labeled_data, type_=DataItem.TYPE_GLOVE300)\n",
    "y = DataItem.get_y(labeled_data)\n",
    "rta = GS.fit(X,y)\n",
    "df = (pd.DataFrame(rta.cv_results_)[[\"params\",\"mean_test_accuracy\", \"mean_test_precision\",\"mean_test_recall\",\"mean_test_f1\"]])\n",
    "df.columns=['params','mean accuracy', 'mean precision','mean recall','mean f1',]\n",
    "print(df) \n",
    "info(f'Best Params: {rta.best_params_}')\n",
    "clf_g300 = GS.best_estimator_\n",
    "\n",
    "del(X,y)"
   ]
  },
  {
   "cell_type": "code",
   "execution_count": 5,
   "id": "0f96d400",
   "metadata": {},
   "outputs": [
    {
     "name": "stdout",
     "output_type": "stream",
     "text": [
      "       params  mean accuracy  mean precision  mean recall   mean f1\n",
      "0  {'C': 0.5}       0.995537        0.854786     0.551930  0.597302\n",
      "1    {'C': 1}       0.995816        0.846598     0.696640  0.701256\n",
      "2    {'C': 5}       0.995764        0.842157     0.779340  0.749679\n",
      "3    {'C': 7}       0.995659        0.842795     0.784512  0.751867\n",
      "4   {'C': 15}       0.995554        0.834871     0.808635  0.761776\n",
      "5   {'C': 50}       0.995074        0.803696     0.824167  0.756359\n",
      "2022-03-25 16:45:04.694836 [ \u001b[1;94mINFO\u001b[0m  ] Best Params: {'C': 15}\n"
     ]
    }
   ],
   "source": [
    "from utils.general import info\n",
    "import pandas as pd\n",
    "df = (pd.DataFrame(rta.cv_results_)[[\"params\",\"mean_test_accuracy\", \"mean_test_precision\",\"mean_test_recall\",\"mean_test_f1\"]])\n",
    "df.columns=['params','mean accuracy', 'mean precision','mean recall','mean f1',]\n",
    "print(df)\n",
    "info(f'Best Params: {rta.best_params_}')\n",
    "clf_g300 = GS.best_estimator_\n",
    "\n",
    "del(X,y)"
   ]
  },
  {
   "cell_type": "code",
   "execution_count": 6,
   "id": "03c9235c",
   "metadata": {},
   "outputs": [
    {
     "data": {
      "text/plain": [
       "SVC(C=15, probability=True)"
      ]
     },
     "execution_count": 6,
     "metadata": {},
     "output_type": "execute_result"
    }
   ],
   "source": [
    "clf_g300"
   ]
  },
  {
   "cell_type": "code",
   "execution_count": 11,
   "id": "90534075",
   "metadata": {},
   "outputs": [
    {
     "name": "stdout",
     "output_type": "stream",
     "text": [
      "DataItem(id=1323603426, source=GM1, label=U)\n"
     ]
    }
   ],
   "source": [
    "import os\n",
    "prediction_files = os.listdir('../04. Model of DP/predictions/')\n",
    "suggestions = [DataItem(file_[:-5]) for file_ in  prediction_files]\n",
    "print(suggestions[0])"
   ]
  },
  {
   "cell_type": "code",
   "execution_count": null,
   "id": "336679ee",
   "metadata": {},
   "outputs": [],
   "source": []
  },
  {
   "cell_type": "code",
   "execution_count": 27,
   "id": "777375ae",
   "metadata": {},
   "outputs": [],
   "source": [
    "import os\n",
    "import pickle\n",
    "import numpy as np\n",
    "prediction_files = os.listdir('../04. Model of DP/predictions/')\n",
    "suggestions = [DataItem(file_[:-5]) for file_ in  prediction_files]\n",
    "\n",
    "X = DataItem.get_X(suggestions, type_=DataItem.TYPE_GLOVE300)\n",
    "\n",
    "yhat = clf_g300.predict_proba(X)\n",
    "\n",
    "idx=0\n",
    "for item in suggestions:\n",
    "    prediction_file = '../04. Model of DP/predictions/'+item.id_+'_v3.p'\n",
    "    assert os.path.isfile(prediction_file)\n",
    "    \n",
    "    y = pickle.load(open(prediction_file,'rb'))\n",
    "    \n",
    "    assert len(y)==3 and np.sum(y)==0 and y.shape==(3,)\n",
    "    y[0] = yhat[idx,1]\n",
    "#     print(y)\n",
    "    pickle.dump(y, open(prediction_file,'wb'))\n",
    "    idx+=1\n"
   ]
  },
  {
   "cell_type": "code",
   "execution_count": 24,
   "id": "84cd5d02",
   "metadata": {},
   "outputs": [
    {
     "data": {
      "text/plain": [
       "array([[0.93740742, 0.06259258],\n",
       "       [0.5       , 0.5       ],\n",
       "       [0.56556452, 0.43443548],\n",
       "       [0.58218613, 0.41781387],\n",
       "       [0.5       , 0.5       ]])"
      ]
     },
     "execution_count": 24,
     "metadata": {},
     "output_type": "execute_result"
    }
   ],
   "source": [
    "yhat[0:5,:]"
   ]
  },
  {
   "cell_type": "code",
   "execution_count": null,
   "id": "08c75f4b",
   "metadata": {},
   "outputs": [],
   "source": []
  }
 ],
 "metadata": {
  "kernelspec": {
   "display_name": "imm",
   "language": "python",
   "name": "imm"
  },
  "language_info": {
   "codemirror_mode": {
    "name": "ipython",
    "version": 3
   },
   "file_extension": ".py",
   "mimetype": "text/x-python",
   "name": "python",
   "nbconvert_exporter": "python",
   "pygments_lexer": "ipython3",
   "version": "3.9.7"
  }
 },
 "nbformat": 4,
 "nbformat_minor": 5
}

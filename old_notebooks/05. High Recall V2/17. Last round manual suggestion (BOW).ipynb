{
 "cells": [
  {
   "cell_type": "markdown",
   "id": "21ca04e5",
   "metadata": {},
   "source": [
    "### LABELED DATA"
   ]
  },
  {
   "cell_type": "code",
   "execution_count": 1,
   "id": "a07ccbf6",
   "metadata": {},
   "outputs": [
    {
     "name": "stdout",
     "output_type": "stream",
     "text": [
      "114,492\n"
     ]
    }
   ],
   "source": [
    "from utils.models import DataItem\n",
    "lines =open('/home/ec2-user/SageMaker/mariano/notebooks/05. High Recall V2/labeled_data.csv','r').read().splitlines()[1:]\n",
    "lines = [line.split(';') for line in lines ]\n",
    "lines[:3]\n",
    "labeled_data = [DataItem(id_) for id_,_ in lines]\n",
    "\n",
    "idx = 0\n",
    "for id_,label in lines:\n",
    "        item = labeled_data[idx]\n",
    "        idx+=1\n",
    "        assert item.id_ == id_\n",
    "        if label == 'R':\n",
    "            item.set_relevant()\n",
    "        else:\n",
    "            item.set_irrelevant()\n",
    "            assert label=='I'\n",
    "\n",
    "\n",
    "lines = open('./auxiliary_notebooks/in_canada.csv', 'r').read().splitlines()\n",
    "irrelevants = [DataItem(line.split(';')[0]) for line in lines if line.split(';')[1]=='False']\n",
    "for item in irrelevants:\n",
    "    item.set_irrelevant()\n",
    "labeled_data = labeled_data + irrelevants\n",
    "print(f'{len(labeled_data):,}')"
   ]
  },
  {
   "cell_type": "code",
   "execution_count": 3,
   "id": "d489ddfd",
   "metadata": {},
   "outputs": [],
   "source": [
    "from sklearn.feature_extraction.text import TfidfVectorizer\n",
    "from utils.models import tokenize\n",
    "from utils.tdmstudio import TDMStudio\n",
    "import spacy\n",
    "import string\n",
    "\n",
    "def remove_punctuation(word):\n",
    "    return ''.join([char for char in word if not char in string.punctuation+' '])\n",
    "\n",
    "def tokenize(str_):\n",
    "    tokens = [word.lemma_.lower() for word in nlp(str_) if not word.is_stop]\n",
    "    tokens = [word.replace('\\n', '') for word in tokens if not word.isnumeric() and len(remove_punctuation(word))!=0]\n",
    "    return tokens\n",
    "\n",
    "\n",
    "nlp = spacy.load('en_core_web_sm', disable=['textcat', 'parser','ner'])\n",
    "\n",
    "stopwords = nlp.Defaults.stop_words\n",
    "invalid = set([sw for sw in stopwords if any([token for token in tokenize(sw) if not token in stopwords ])]) # ['‘ve', \"'m\", '’ve', \"'ve\", '’m', '‘m', '‘d', '‘ll']\n",
    "stopwords = set(stopwords.difference(invalid)) \n",
    "# vectorizer = TfidfVectorizer(\n",
    "#                              input='content',\n",
    "#                              lowercase=True,\n",
    "#                              preprocessor=None,\n",
    "#                              tokenizer=tokenize,\n",
    "#                              analyzer='word',\n",
    "#                              stop_words=list(stopwords),\n",
    "# #                              token_pattern=r\"(?u)\\b\\w\\w+\\b\", #selects tokens of 2 or more alphanumeric char (punctuation is completely ignored and treated as token separator)\n",
    "#                                                              # UserWarning: The parameter 'token_pattern' will not be used since 'tokenizer' is not None\n",
    "    \n",
    "#                              ngram_range=(1,1), #lower and upper boundary of the range of n-values for different n-grams.\n",
    "#                              max_df=1.0, #ignore terms that have a document frequency strictly higher than given threshold\n",
    "#                              min_df=0.001, #ignore terms that have a document frequency strictly lower than given threshold\n",
    "#                              max_features=10000, #build a vocabulary that only considers the top max_features ordered by term frequency acoss the corpus\n",
    "#                              vocabulary=None, #vocabulary is determined from the input documents\n",
    "#                              norm='l2',\n",
    "#                              use_idf=False,\n",
    "#                              )"
   ]
  },
  {
   "cell_type": "code",
   "execution_count": 8,
   "id": "d7c8bf60",
   "metadata": {},
   "outputs": [],
   "source": [
    "from utils.tdmstudio import TDMStudio\n",
    "corpus = map(TDMStudio.get_title_and_text, [item.filename() for item in labeled_data])\n",
    "corpus = [f'{title}. {text}' for title, text in corpus]"
   ]
  },
  {
   "cell_type": "code",
   "execution_count": 7,
   "id": "c76d0e4e",
   "metadata": {},
   "outputs": [
    {
     "name": "stdout",
     "output_type": "stream",
     "text": [
      "2022-03-25 19:14:03.423843 [ \u001b[1;94mINFO\u001b[0m  ] Starting fit...\n",
      "2022-03-25 19:57:18.705574 [ \u001b[1;94mINFO\u001b[0m  ] Getting vocab...\n"
     ]
    }
   ],
   "source": [
    "from utils.general import info\n",
    "info('Starting fit...')\n",
    "X = vectorizer.fit_transform(corpus)\n",
    "info('Getting vocab...')"
   ]
  },
  {
   "cell_type": "code",
   "execution_count": 8,
   "id": "aa2cdddc",
   "metadata": {},
   "outputs": [
    {
     "name": "stdout",
     "output_type": "stream",
     "text": [
      "Fitting 5 folds for each of 6 candidates, totalling 30 fits\n",
      "[CV 1/5] END C=0.5; accuracy: (test=0.804) f1: (test=0.050) precision: (test=0.025) recall: (test=1.000) total time=  20.8s\n",
      "[CV 2/5] END C=0.5; accuracy: (test=0.999) f1: (test=0.840) precision: (test=1.000) recall: (test=0.724) total time=  50.4s\n",
      "[CV 3/5] END C=0.5; accuracy: (test=0.999) f1: (test=0.868) precision: (test=1.000) recall: (test=0.767) total time=  48.9s\n",
      "[CV 4/5] END C=0.5; accuracy: (test=0.999) f1: (test=0.851) precision: (test=1.000) recall: (test=0.741) total time=  49.0s\n",
      "[CV 5/5] END C=0.5; accuracy: (test=0.999) f1: (test=0.879) precision: (test=1.000) recall: (test=0.784) total time=  49.5s\n",
      "[CV 1/5] END C=1; accuracy: (test=0.794) f1: (test=0.047) precision: (test=0.024) recall: (test=1.000) total time=  18.7s\n",
      "[CV 2/5] END C=1; accuracy: (test=0.999) f1: (test=0.863) precision: (test=1.000) recall: (test=0.759) total time=  46.5s\n",
      "[CV 3/5] END C=1; accuracy: (test=0.999) f1: (test=0.907) precision: (test=0.990) recall: (test=0.836) total time=  46.6s\n",
      "[CV 4/5] END C=1; accuracy: (test=0.999) f1: (test=0.874) precision: (test=1.000) recall: (test=0.776) total time=  45.7s\n",
      "[CV 5/5] END C=1; accuracy: (test=0.999) f1: (test=0.911) precision: (test=1.000) recall: (test=0.836) total time=  47.3s\n",
      "[CV 1/5] END C=5; accuracy: (test=0.791) f1: (test=0.047) precision: (test=0.024) recall: (test=1.000) total time=  18.3s\n",
      "[CV 2/5] END C=5; accuracy: (test=0.999) f1: (test=0.906) precision: (test=1.000) recall: (test=0.828) total time=  49.9s\n",
      "[CV 3/5] END C=5; accuracy: (test=0.999) f1: (test=0.870) precision: (test=0.989) recall: (test=0.776) total time=  50.3s\n",
      "[CV 4/5] END C=5; accuracy: (test=0.999) f1: (test=0.885) precision: (test=1.000) recall: (test=0.793) total time=  48.0s\n",
      "[CV 5/5] END C=5; accuracy: (test=0.999) f1: (test=0.911) precision: (test=1.000) recall: (test=0.836) total time= 1.2min\n",
      "[CV 1/5] END C=7; accuracy: (test=0.791) f1: (test=0.047) precision: (test=0.024) recall: (test=1.000) total time=  18.3s\n",
      "[CV 2/5] END C=7; accuracy: (test=0.999) f1: (test=0.890) precision: (test=1.000) recall: (test=0.802) total time= 1.4min\n",
      "[CV 3/5] END C=7; accuracy: (test=0.999) f1: (test=0.864) precision: (test=0.989) recall: (test=0.767) total time= 1.1min\n",
      "[CV 4/5] END C=7; accuracy: (test=0.999) f1: (test=0.879) precision: (test=1.000) recall: (test=0.784) total time=  57.2s\n",
      "[CV 5/5] END C=7; accuracy: (test=0.999) f1: (test=0.906) precision: (test=1.000) recall: (test=0.828) total time= 1.4min\n",
      "[CV 1/5] END C=15; accuracy: (test=0.791) f1: (test=0.047) precision: (test=0.024) recall: (test=1.000) total time=  18.2s\n",
      "[CV 2/5] END C=15; accuracy: (test=0.999) f1: (test=0.890) precision: (test=1.000) recall: (test=0.802) total time= 1.2min\n",
      "[CV 3/5] END C=15; accuracy: (test=0.999) f1: (test=0.864) precision: (test=0.989) recall: (test=0.767) total time= 1.1min\n",
      "[CV 4/5] END C=15; accuracy: (test=0.999) f1: (test=0.879) precision: (test=1.000) recall: (test=0.784) total time= 1.1min\n",
      "[CV 5/5] END C=15; accuracy: (test=0.999) f1: (test=0.895) precision: (test=1.000) recall: (test=0.810) total time= 1.3min\n",
      "[CV 1/5] END C=50; accuracy: (test=0.791) f1: (test=0.047) precision: (test=0.024) recall: (test=1.000) total time=  18.3s\n",
      "[CV 2/5] END C=50; accuracy: (test=0.999) f1: (test=0.890) precision: (test=1.000) recall: (test=0.802) total time= 1.2min\n",
      "[CV 3/5] END C=50; accuracy: (test=0.999) f1: (test=0.864) precision: (test=0.989) recall: (test=0.767) total time= 1.1min\n",
      "[CV 4/5] END C=50; accuracy: (test=0.999) f1: (test=0.879) precision: (test=1.000) recall: (test=0.784) total time= 1.1min\n",
      "[CV 5/5] END C=50; accuracy: (test=0.999) f1: (test=0.895) precision: (test=1.000) recall: (test=0.810) total time= 1.3min\n",
      "       params  mean accuracy  mean precision  mean recall   mean f1\n",
      "0  {'C': 0.5}       0.959832        0.805085     0.803448  0.697718\n",
      "1    {'C': 1}       0.957946        0.802795     0.841379  0.720217\n",
      "2    {'C': 5}       0.957378        0.802571     0.846552  0.723443\n",
      "3    {'C': 7}       0.957326        0.802546     0.836207  0.717099\n",
      "4   {'C': 15}       0.957308        0.802546     0.832759  0.715014\n",
      "5   {'C': 50}       0.957308        0.802546     0.832759  0.715014\n"
     ]
    },
    {
     "ename": "AttributeError",
     "evalue": "'DataFrame' object has no attribute 'best_params_'",
     "output_type": "error",
     "traceback": [
      "\u001b[0;31m---------------------------------------------------------------------------\u001b[0m",
      "\u001b[0;31mAttributeError\u001b[0m                            Traceback (most recent call last)",
      "\u001b[0;32m/tmp/ipykernel_16914/1490882378.py\u001b[0m in \u001b[0;36m<module>\u001b[0;34m\u001b[0m\n\u001b[1;32m     19\u001b[0m \u001b[0mdf\u001b[0m\u001b[0;34m.\u001b[0m\u001b[0mcolumns\u001b[0m\u001b[0;34m=\u001b[0m\u001b[0;34m[\u001b[0m\u001b[0;34m'params'\u001b[0m\u001b[0;34m,\u001b[0m\u001b[0;34m'mean accuracy'\u001b[0m\u001b[0;34m,\u001b[0m \u001b[0;34m'mean precision'\u001b[0m\u001b[0;34m,\u001b[0m\u001b[0;34m'mean recall'\u001b[0m\u001b[0;34m,\u001b[0m\u001b[0;34m'mean f1'\u001b[0m\u001b[0;34m,\u001b[0m\u001b[0;34m]\u001b[0m\u001b[0;34m\u001b[0m\u001b[0;34m\u001b[0m\u001b[0m\n\u001b[1;32m     20\u001b[0m \u001b[0mprint\u001b[0m\u001b[0;34m(\u001b[0m\u001b[0mdf\u001b[0m\u001b[0;34m)\u001b[0m\u001b[0;34m\u001b[0m\u001b[0;34m\u001b[0m\u001b[0m\n\u001b[0;32m---> 21\u001b[0;31m \u001b[0minfo\u001b[0m\u001b[0;34m(\u001b[0m\u001b[0;34mf'Best Params: {df.best_params_}'\u001b[0m\u001b[0;34m)\u001b[0m\u001b[0;34m\u001b[0m\u001b[0;34m\u001b[0m\u001b[0m\n\u001b[0m\u001b[1;32m     22\u001b[0m \u001b[0;34m\u001b[0m\u001b[0m\n\u001b[1;32m     23\u001b[0m \u001b[0mclf_bow\u001b[0m \u001b[0;34m=\u001b[0m \u001b[0mSVC\u001b[0m\u001b[0;34m(\u001b[0m\u001b[0mkernel\u001b[0m\u001b[0;34m=\u001b[0m\u001b[0;34m'linear'\u001b[0m\u001b[0;34m,\u001b[0m \u001b[0mC\u001b[0m\u001b[0;34m=\u001b[0m\u001b[0mdf\u001b[0m\u001b[0;34m.\u001b[0m\u001b[0mbest_params_\u001b[0m\u001b[0;34m[\u001b[0m\u001b[0;34m'C'\u001b[0m\u001b[0;34m]\u001b[0m\u001b[0;34m,\u001b[0m \u001b[0mprobability\u001b[0m\u001b[0;34m=\u001b[0m\u001b[0;32mTrue\u001b[0m\u001b[0;34m)\u001b[0m\u001b[0;34m\u001b[0m\u001b[0;34m\u001b[0m\u001b[0m\n",
      "\u001b[0;32m~/SageMaker/.conda/envs/imm/lib/python3.9/site-packages/pandas/core/generic.py\u001b[0m in \u001b[0;36m__getattr__\u001b[0;34m(self, name)\u001b[0m\n\u001b[1;32m   5485\u001b[0m         ):\n\u001b[1;32m   5486\u001b[0m             \u001b[0;32mreturn\u001b[0m \u001b[0mself\u001b[0m\u001b[0;34m[\u001b[0m\u001b[0mname\u001b[0m\u001b[0;34m]\u001b[0m\u001b[0;34m\u001b[0m\u001b[0;34m\u001b[0m\u001b[0m\n\u001b[0;32m-> 5487\u001b[0;31m         \u001b[0;32mreturn\u001b[0m \u001b[0mobject\u001b[0m\u001b[0;34m.\u001b[0m\u001b[0m__getattribute__\u001b[0m\u001b[0;34m(\u001b[0m\u001b[0mself\u001b[0m\u001b[0;34m,\u001b[0m \u001b[0mname\u001b[0m\u001b[0;34m)\u001b[0m\u001b[0;34m\u001b[0m\u001b[0;34m\u001b[0m\u001b[0m\n\u001b[0m\u001b[1;32m   5488\u001b[0m \u001b[0;34m\u001b[0m\u001b[0m\n\u001b[1;32m   5489\u001b[0m     \u001b[0;32mdef\u001b[0m \u001b[0m__setattr__\u001b[0m\u001b[0;34m(\u001b[0m\u001b[0mself\u001b[0m\u001b[0;34m,\u001b[0m \u001b[0mname\u001b[0m\u001b[0;34m:\u001b[0m \u001b[0mstr\u001b[0m\u001b[0;34m,\u001b[0m \u001b[0mvalue\u001b[0m\u001b[0;34m)\u001b[0m \u001b[0;34m->\u001b[0m \u001b[0;32mNone\u001b[0m\u001b[0;34m:\u001b[0m\u001b[0;34m\u001b[0m\u001b[0;34m\u001b[0m\u001b[0m\n",
      "\u001b[0;31mAttributeError\u001b[0m: 'DataFrame' object has no attribute 'best_params_'"
     ]
    }
   ],
   "source": [
    "from sklearn.model_selection import GridSearchCV\n",
    "from sklearn.svm import SVC\n",
    "import pandas as pd\n",
    "from utils.general import info\n",
    "params = {'C':[0.5, 1, 5, 7, 15, 50]}\n",
    "GS = GridSearchCV(\n",
    "                  SVC(kernel='linear'),\n",
    "                  params\n",
    "                  ,scoring=['f1','accuracy','precision', 'recall'], \n",
    "                  cv=5,\n",
    "                  verbose=4, \n",
    "                  refit='f1')    \n",
    "\n",
    "\n",
    "# X = DataItem.get_X(labeled_data, type_=DataItem.TYPE_GLOVE600)\n",
    "y = DataItem.get_y(labeled_data)\n",
    "rta = GS.fit(X,y)\n",
    "df = (pd.DataFrame(rta.cv_results_)[[\"params\",\"mean_test_accuracy\", \"mean_test_precision\",\"mean_test_recall\",\"mean_test_f1\"]])\n",
    "df.columns=['params','mean accuracy', 'mean precision','mean recall','mean f1',]\n",
    "print(df)\n",
    "info(f'Best Params: {df.best_params_}')\n",
    "\n",
    "clf_bow = SVC(kernel='linear', C=df.best_params_['C'], probability=True)\n",
    "clf_bow.fit(X,y)\n",
    "# clf_g600 = GS.best_estimator_\n",
    "\n",
    "# del(X,y)"
   ]
  },
  {
   "cell_type": "code",
   "execution_count": 4,
   "id": "48f52af2",
   "metadata": {},
   "outputs": [],
   "source": [
    "from joblib import dump, load\n",
    "# dump(vectorizer, 'vectorizer_bow_lastround.joblib') \n",
    "vectorizer = load('vectorizer_bow_lastround.joblib') "
   ]
  },
  {
   "cell_type": "code",
   "execution_count": 9,
   "id": "450e57c7",
   "metadata": {},
   "outputs": [
    {
     "ename": "NameError",
     "evalue": "name 'SVC' is not defined",
     "output_type": "error",
     "traceback": [
      "\u001b[0;31m---------------------------------------------------------------------------\u001b[0m",
      "\u001b[0;31mNameError\u001b[0m                                 Traceback (most recent call last)",
      "\u001b[0;32m/tmp/ipykernel_14989/1099736893.py\u001b[0m in \u001b[0;36m<module>\u001b[0;34m\u001b[0m\n\u001b[1;32m      2\u001b[0m \u001b[0mX\u001b[0m \u001b[0;34m=\u001b[0m \u001b[0mvectorizer\u001b[0m\u001b[0;34m.\u001b[0m\u001b[0mtransform\u001b[0m\u001b[0;34m(\u001b[0m\u001b[0mcorpus\u001b[0m\u001b[0;34m)\u001b[0m\u001b[0;34m\u001b[0m\u001b[0;34m\u001b[0m\u001b[0m\n\u001b[1;32m      3\u001b[0m \u001b[0my\u001b[0m \u001b[0;34m=\u001b[0m \u001b[0mDataItem\u001b[0m\u001b[0;34m.\u001b[0m\u001b[0mget_y\u001b[0m\u001b[0;34m(\u001b[0m\u001b[0mlabeled_data\u001b[0m\u001b[0;34m)\u001b[0m\u001b[0;34m\u001b[0m\u001b[0;34m\u001b[0m\u001b[0m\n\u001b[0;32m----> 4\u001b[0;31m \u001b[0mclf\u001b[0m \u001b[0;34m=\u001b[0m \u001b[0mSVC\u001b[0m\u001b[0;34m(\u001b[0m\u001b[0mC\u001b[0m\u001b[0;34m=\u001b[0m\u001b[0;36m5\u001b[0m\u001b[0;34m,\u001b[0m \u001b[0mkernel\u001b[0m\u001b[0;34m=\u001b[0m\u001b[0;34m'linear'\u001b[0m\u001b[0;34m,\u001b[0m\u001b[0mprobability\u001b[0m\u001b[0;34m=\u001b[0m\u001b[0;32mTrue\u001b[0m\u001b[0;34m)\u001b[0m\u001b[0;34m\u001b[0m\u001b[0;34m\u001b[0m\u001b[0m\n\u001b[0m\u001b[1;32m      5\u001b[0m \u001b[0mclf\u001b[0m\u001b[0;34m.\u001b[0m\u001b[0mfit\u001b[0m\u001b[0;34m(\u001b[0m\u001b[0mX\u001b[0m\u001b[0;34m,\u001b[0m\u001b[0my\u001b[0m\u001b[0;34m)\u001b[0m\u001b[0;34m\u001b[0m\u001b[0;34m\u001b[0m\u001b[0m\n",
      "\u001b[0;31mNameError\u001b[0m: name 'SVC' is not defined"
     ]
    }
   ],
   "source": [
    "# X = DataItem.get_X(labeled_data, type_=DataItem.TYPE_GLOVE600)\n",
    "X = vectorizer.transform(corpus)\n",
    "y = DataItem.get_y(labeled_data)\n",
    "\n"
   ]
  },
  {
   "cell_type": "code",
   "execution_count": 10,
   "id": "94140c9a",
   "metadata": {},
   "outputs": [
    {
     "data": {
      "text/plain": [
       "SVC(C=5, kernel='linear', probability=True)"
      ]
     },
     "execution_count": 10,
     "metadata": {},
     "output_type": "execute_result"
    }
   ],
   "source": [
    "from sklearn.svm import SVC\n",
    "clf = SVC(C=5, kernel='linear',probability=True)\n",
    "clf.fit(X,y)"
   ]
  },
  {
   "cell_type": "code",
   "execution_count": 7,
   "id": "abd8e2a0",
   "metadata": {},
   "outputs": [
    {
     "data": {
      "text/plain": [
       "['farm', 'job', 'want']"
      ]
     },
     "execution_count": 7,
     "metadata": {},
     "output_type": "execute_result"
    }
   ],
   "source": [
    "list(vectorizer.vocabulary_)[:3]"
   ]
  },
  {
   "cell_type": "code",
   "execution_count": null,
   "id": "90b1b7d1",
   "metadata": {},
   "outputs": [],
   "source": [
    "# FALTA UN FIT con PROBA"
   ]
  },
  {
   "cell_type": "code",
   "execution_count": 11,
   "id": "35e911f5",
   "metadata": {},
   "outputs": [
    {
     "name": "stdout",
     "output_type": "stream",
     "text": [
      "DataItem(id=1323603426, source=GM1, label=U)\n"
     ]
    }
   ],
   "source": [
    "import os\n",
    "import pickle\n",
    "import numpy as np\n",
    "\n",
    "prediction_files = os.listdir('../04. Model of DP/predictions/')\n",
    "suggestions = [DataItem(file_[:-5]) for file_ in  prediction_files]\n",
    "print(suggestions[0])"
   ]
  },
  {
   "cell_type": "code",
   "execution_count": 12,
   "id": "0c883dd1",
   "metadata": {},
   "outputs": [
    {
     "name": "stdout",
     "output_type": "stream",
     "text": [
      "2022-03-26 20:05:34.100508 [ \u001b[1;94mINFO\u001b[0m  ] Starting fit...\n",
      "2022-03-26 20:07:22.016588 [ \u001b[1;94mINFO\u001b[0m  ] Getting vocab...\n"
     ]
    },
    {
     "ename": "NameError",
     "evalue": "name 'clf_bow' is not defined",
     "output_type": "error",
     "traceback": [
      "\u001b[0;31m---------------------------------------------------------------------------\u001b[0m",
      "\u001b[0;31mNameError\u001b[0m                                 Traceback (most recent call last)",
      "\u001b[0;32m/tmp/ipykernel_14989/2362646875.py\u001b[0m in \u001b[0;36m<module>\u001b[0;34m\u001b[0m\n\u001b[1;32m     12\u001b[0m \u001b[0;34m\u001b[0m\u001b[0m\n\u001b[1;32m     13\u001b[0m \u001b[0;34m\u001b[0m\u001b[0m\n\u001b[0;32m---> 14\u001b[0;31m \u001b[0myhat\u001b[0m \u001b[0;34m=\u001b[0m \u001b[0mclf_bow\u001b[0m\u001b[0;34m.\u001b[0m\u001b[0mpredict_proba\u001b[0m\u001b[0;34m(\u001b[0m\u001b[0mX\u001b[0m\u001b[0;34m)\u001b[0m\u001b[0;34m\u001b[0m\u001b[0;34m\u001b[0m\u001b[0m\n\u001b[0m\u001b[1;32m     15\u001b[0m \u001b[0;34m\u001b[0m\u001b[0m\n\u001b[1;32m     16\u001b[0m \u001b[0midx\u001b[0m\u001b[0;34m=\u001b[0m\u001b[0;36m0\u001b[0m\u001b[0;34m\u001b[0m\u001b[0;34m\u001b[0m\u001b[0m\n",
      "\u001b[0;31mNameError\u001b[0m: name 'clf_bow' is not defined"
     ]
    }
   ],
   "source": [
    "\n",
    "# prediction_files = os.listdir('../04. Model of DP/predictions/')\n",
    "# suggestions = [DataItem(file_[:-5]) for file_ in  prediction_files]\n",
    "\n",
    "# X = DataItem.get_X(suggestions, type_=DataItem.TYPE_GLOVE600)\n",
    "unlabeled = map(TDMStudio.get_title_and_text, [item.filename() for item in suggestions])\n",
    "unlabeled = [f'{title}. {text}' for title, text in unlabeled]\n",
    " \n",
    "from utils.general import info\n",
    "info('Starting fit...')\n",
    "X = vectorizer.transform(unlabeled)\n",
    "info('Getting vocab...')\n",
    "\n",
    "\n"
   ]
  },
  {
   "cell_type": "code",
   "execution_count": 16,
   "id": "8401efee",
   "metadata": {},
   "outputs": [],
   "source": [
    "yhat = clf.predict_proba(X)\n",
    "\n",
    "idx=0\n",
    "for item in suggestions:\n",
    "    prediction_file = '../04. Model of DP/predictions/'+item.id_+'_v3.p'\n",
    "    assert os.path.isfile(prediction_file)\n",
    "    \n",
    "    y = pickle.load(open(prediction_file,'rb'))\n",
    "    \n",
    "    assert len(y)==3 and (y[2])==0 and y.shape==(3,)\n",
    "#     print(y)\n",
    "    y[2] = yhat[idx,1]\n",
    "#     print(y)\n",
    "#     print()\n",
    "    pickle.dump(y, open(prediction_file,'wb'))\n",
    "    idx+=1\n",
    "#     if idx==5:\n",
    "#         break"
   ]
  },
  {
   "cell_type": "code",
   "execution_count": 15,
   "id": "04098a89",
   "metadata": {},
   "outputs": [
    {
     "data": {
      "text/plain": [
       "array([[0.45692272, 0.54307728],\n",
       "       [0.5       , 0.5       ],\n",
       "       [0.55830828, 0.44169172],\n",
       "       [0.73855807, 0.26144193],\n",
       "       [0.17539263, 0.82460737]])"
      ]
     },
     "execution_count": 15,
     "metadata": {},
     "output_type": "execute_result"
    }
   ],
   "source": [
    "yhat[:5,:]"
   ]
  },
  {
   "cell_type": "code",
   "execution_count": null,
   "id": "338746a4",
   "metadata": {},
   "outputs": [],
   "source": [
    "# prediction_files = os.listdir('../04. Model of DP/predictions/')\n",
    "# suggestions = [DataItem(file_[:-5]) for file_ in  prediction_files]\n",
    "\n",
    "# X = DataItem.get_X(suggestions, type_=DataItem.TYPE_GLOVE300)\n",
    "\n",
    "# yhat = clf_g300.predict_proba(X)\n",
    "\n",
    "# idx=0\n",
    "# for item in suggestions:\n",
    "    "
   ]
  }
 ],
 "metadata": {
  "kernelspec": {
   "display_name": "imm",
   "language": "python",
   "name": "imm"
  },
  "language_info": {
   "codemirror_mode": {
    "name": "ipython",
    "version": 3
   },
   "file_extension": ".py",
   "mimetype": "text/x-python",
   "name": "python",
   "nbconvert_exporter": "python",
   "pygments_lexer": "ipython3",
   "version": "3.9.7"
  }
 },
 "nbformat": 4,
 "nbformat_minor": 5
}

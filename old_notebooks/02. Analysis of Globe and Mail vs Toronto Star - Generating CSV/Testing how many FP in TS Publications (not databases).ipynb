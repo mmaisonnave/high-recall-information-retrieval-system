{
 "cells": [
  {
   "cell_type": "code",
   "execution_count": 2,
   "id": "0ec2deec",
   "metadata": {},
   "outputs": [
    {
     "name": "stdout",
     "output_type": "stream",
     "text": [
      "Cantidad de archivos encontrados: 137,397\n"
     ]
    }
   ],
   "source": [
    "import os\n",
    "data_path = \"/home/ec2-user/SageMaker/data/Toronto_Star_Publications_Refugee_Immigrants/\"\n",
    "filenames = os.listdir(data_path)\n",
    "print(f\"Cantidad de archivos encontrados: {len(filenames):,}\")"
   ]
  },
  {
   "cell_type": "code",
   "execution_count": 3,
   "id": "b346429c",
   "metadata": {},
   "outputs": [],
   "source": [
    "from lxml import etree\n",
    "\n",
    "\n",
    "toronto_star_titles=[]\n",
    "for filename in filenames:\n",
    "    tree = etree.parse(data_path + filename)\n",
    "    root = tree.getroot()\n",
    "    \n",
    "\n",
    "    title = root.find('.//Title').text\n",
    "    toronto_star_titles.append(title)\n"
   ]
  },
  {
   "cell_type": "code",
   "execution_count": 4,
   "id": "f7f32a66",
   "metadata": {},
   "outputs": [
    {
     "name": "stdout",
     "output_type": "stream",
     "text": [
      "Number of Full Pages in Toronto Star 96218\n",
      "Percentage of Full Pages in Toronto Star 0.7002918549895558\n"
     ]
    }
   ],
   "source": [
    "count = 0\n",
    "for title in toronto_star_titles:\n",
    "    if \"Page\" in title:\n",
    "        count+=1\n",
    "  \n",
    "        \n",
    "print(f'Number of Full Pages in Toronto Star {count}')        \n",
    "print(f'Percentage of Full Pages in Toronto Star {count/len(toronto_star_titles)}')"
   ]
  },
  {
   "cell_type": "code",
   "execution_count": 8,
   "id": "2c608aa4",
   "metadata": {},
   "outputs": [],
   "source": [
    "for title in toronto_star_titles:\n",
    "    if \"Search set for body\".lower() in title.lower():\n",
    "        print(title)"
   ]
  },
  {
   "cell_type": "code",
   "execution_count": 9,
   "id": "2a39ecce",
   "metadata": {},
   "outputs": [
    {
     "name": "stdout",
     "output_type": "stream",
     "text": [
      "1355547213.xml\r\n"
     ]
    }
   ],
   "source": [
    "!ls /home/ec2-user/SageMaker/data/Toronto_Star_Publications_Refugee_Immigrants/ | grep 1355547213"
   ]
  },
  {
   "cell_type": "code",
   "execution_count": null,
   "id": "6052b6fa",
   "metadata": {},
   "outputs": [],
   "source": []
  }
 ],
 "metadata": {
  "kernelspec": {
   "display_name": "imm",
   "language": "python",
   "name": "imm"
  },
  "language_info": {
   "codemirror_mode": {
    "name": "ipython",
    "version": 3
   },
   "file_extension": ".py",
   "mimetype": "text/x-python",
   "name": "python",
   "nbconvert_exporter": "python",
   "pygments_lexer": "ipython3",
   "version": "3.9.7"
  }
 },
 "nbformat": 4,
 "nbformat_minor": 5
}

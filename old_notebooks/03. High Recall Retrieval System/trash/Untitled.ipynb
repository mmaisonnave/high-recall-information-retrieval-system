{
 "cells": [
  {
   "cell_type": "code",
   "execution_count": 2,
   "id": "34d071e9",
   "metadata": {},
   "outputs": [
    {
     "data": {
      "text/plain": [
       "array([-6.62986422e-03,  2.19816685e-01, -5.97199909e-02, -8.58100057e-02,\n",
       "        2.59596676e-01, -1.15429997e-01,  2.57516652e-01, -5.12833297e-02,\n",
       "       -1.21226333e-01,  1.59530652e+00, -3.10295671e-01, -2.84643322e-01,\n",
       "        6.04876690e-02,  1.78013239e-02, -1.91100091e-02, -5.36353327e-02,\n",
       "       -2.16786996e-01,  1.08926666e+00, -6.50599971e-02, -1.16253346e-02,\n",
       "        4.44566691e-03, -4.88903411e-02, -1.55343339e-02,  1.15431674e-01,\n",
       "       -1.14203347e-02, -1.37497336e-01,  1.78845331e-01, -6.28556684e-02,\n",
       "        1.12418659e-01,  2.09745005e-01,  1.17031403e-01,  2.28996679e-01,\n",
       "       -1.13634057e-01, -4.61163335e-02,  8.90233293e-02, -5.17136566e-02,\n",
       "        1.19440006e-02, -3.56376655e-02, -3.41226645e-02,  9.20984149e-02,\n",
       "        1.72686651e-01, -9.25363302e-02, -6.15466619e-03, -5.68266697e-02,\n",
       "       -3.47266644e-02,  1.41589001e-01, -2.14276671e-01, -2.01843325e-02,\n",
       "        2.92392641e-01, -6.05046712e-02, -4.09720056e-02,  2.77136654e-01,\n",
       "       -1.69123337e-01, -2.02399984e-01,  5.99816628e-02, -1.43141672e-01,\n",
       "        9.20266584e-02,  5.95233403e-02,  1.76580325e-01, -2.79997796e-04,\n",
       "       -2.23799333e-01,  7.74639994e-02, -1.16258331e-01, -4.10726666e-01,\n",
       "       -7.13666261e-04, -6.39376640e-02, -1.41766667e-02,  1.71077013e-01,\n",
       "       -2.41712332e-02,  9.92000028e-02,  8.76233354e-02, -2.39159659e-01,\n",
       "        2.57500023e-01,  2.01336667e-01,  1.25843331e-01,  2.64227271e-01,\n",
       "        5.54038323e-02, -4.93386649e-02,  2.71473020e-01,  5.43186665e-01,\n",
       "       -7.95106664e-02,  4.10713315e-01, -1.11866333e-01,  2.02781320e-01,\n",
       "       -2.08030026e-02, -3.72451335e-01,  2.12436676e-01, -5.13973296e-01,\n",
       "        7.41600022e-02,  8.94966722e-02,  4.83433306e-02,  2.80816644e-01,\n",
       "       -1.59379989e-01,  6.77760020e-02, -1.57935664e-01, -1.16463333e-01,\n",
       "       -2.52527654e-01, -2.61820346e-01,  3.19110006e-02,  1.23041004e-01,\n",
       "        2.14538336e-01, -3.60979997e-02, -1.66392341e-01, -9.47266351e-03,\n",
       "        2.45973002e-02,  9.84999910e-02,  2.71914005e-01, -4.44979966e-02,\n",
       "       -1.58119991e-01,  7.20706657e-02,  1.65976658e-01, -4.42443341e-01,\n",
       "        1.62434340e-01, -2.10830029e-02,  2.92908270e-02,  3.04903001e-01,\n",
       "        1.75773337e-01, -1.59099940e-02, -1.45659328e-01, -2.09582329e-01,\n",
       "        8.17499980e-02, -1.42363325e-01,  2.26480007e-01, -2.08057687e-01,\n",
       "        1.99429333e-01, -3.45099010e-02,  2.37455979e-01,  4.66886647e-02,\n",
       "        1.17091000e-01,  1.25666678e-01,  1.47055328e-01, -4.08573300e-01,\n",
       "        7.05433870e-03, -7.65330121e-02, -2.78586671e-02, -1.00243330e-01,\n",
       "       -1.94186643e-01,  9.62533355e-02, -1.52786657e-01,  4.37496662e-01,\n",
       "       -2.23306656e+00, -9.25233141e-02,  2.47979999e-01, -1.35303006e-01,\n",
       "        6.01300001e-02, -1.52352333e-01,  5.99499904e-02,  4.12479997e-01,\n",
       "       -3.24583322e-01, -1.53776677e-02,  7.64166638e-02,  3.34735304e-01,\n",
       "       -1.72433350e-02,  6.14613295e-02,  2.87694335e-01, -1.44775987e-01,\n",
       "        2.02726662e-01, -1.43030003e-01,  1.00433327e-01, -8.97066668e-02,\n",
       "        1.75547734e-01,  1.79679990e-01, -6.49023354e-02, -2.34546661e-01,\n",
       "        3.77506651e-02, -4.18366678e-02,  7.07113221e-02, -2.47803330e-01,\n",
       "        1.37763336e-01,  3.88286680e-01,  1.28146680e-02, -5.56506626e-02,\n",
       "       -1.05004668e-01, -6.68536723e-02, -1.79236665e-01,  3.69566716e-02,\n",
       "       -7.58899972e-02,  3.49533297e-02, -2.80829996e-01,  4.01702337e-02,\n",
       "       -8.13333225e-03, -1.38393655e-01, -4.45433371e-02, -2.41036654e-01,\n",
       "       -7.56693631e-02, -4.57439989e-01, -1.28789067e-01, -1.88306645e-01,\n",
       "        5.13323359e-02, -8.51910040e-02, -7.79400021e-02, -1.04966670e-01,\n",
       "        1.40320003e-01, -1.42033398e-02,  3.69790010e-02,  9.60463956e-02,\n",
       "        1.16895325e-01, -2.32349992e-01,  5.21023333e-01,  1.38099670e-01,\n",
       "       -2.53288001e-01,  1.92256663e-02,  1.56076670e-01,  7.17436746e-02,\n",
       "        2.75383353e-01, -1.71876669e-01,  2.48310640e-01,  3.31878029e-02,\n",
       "       -5.47850020e-02, -3.38206649e-01, -3.99571687e-01, -5.18320024e-01,\n",
       "        2.91989986e-02, -1.07146680e-01, -7.72966538e-04,  1.06028341e-01,\n",
       "        2.11615995e-01, -1.58173993e-01, -3.28416675e-01,  1.81594014e-01,\n",
       "       -1.93532988e-01,  1.94583341e-01,  6.04533255e-02,  1.01313330e-01,\n",
       "       -3.37793343e-02,  9.33919922e-02, -4.62862365e-02,  3.58733326e-01,\n",
       "       -2.25812450e-01, -6.34933263e-02,  4.80283312e-02, -3.03273406e-02,\n",
       "       -2.15480328e-01,  1.26076639e-02, -1.55291334e-01,  2.03955665e-01,\n",
       "       -3.00616652e-01, -1.79913327e-01, -1.27116665e-01, -4.55000065e-02,\n",
       "        7.19966665e-02,  4.28750031e-02,  8.81000087e-02,  7.96666667e-02,\n",
       "        6.40283003e-02, -7.78300092e-02,  2.15263292e-02,  1.54067323e-01,\n",
       "       -5.96400052e-02,  2.64948010e-01,  8.76016617e-02, -7.00001896e-04,\n",
       "       -1.85581997e-01, -5.97879998e-02, -1.37136996e-01,  1.67860374e-01,\n",
       "        5.76466657e-02,  2.06863329e-01, -1.47326663e-01,  4.89016734e-02,\n",
       "        2.76373308e-02,  7.18826726e-02, -2.05181554e-01,  1.19616665e-01,\n",
       "       -2.18183994e-01, -3.17862004e-01,  1.25579998e-01,  1.34333326e-02,\n",
       "        3.80270243e-01,  1.97740003e-01, -6.56776667e-01, -9.66069996e-02,\n",
       "       -3.54311973e-01,  1.71758667e-01, -2.83533428e-02, -1.32230654e-01,\n",
       "       -8.72043297e-02,  9.75356698e-02,  1.66823998e-01,  6.67966753e-02,\n",
       "        6.75689951e-02, -1.83873340e-01,  5.17458022e-02,  2.71774996e-02,\n",
       "        1.62899997e-02, -1.78159997e-01,  1.14798568e-01,  1.09209992e-01,\n",
       "       -1.57153327e-02, -1.49432989e-02, -2.29780003e-01,  3.18330042e-02,\n",
       "       -7.15726689e-02, -7.71119967e-02,  2.25850999e-01,  1.86833348e-02,\n",
       "        1.33255005e-01,  1.98239982e-02, -1.93546489e-01,  1.98985681e-01],\n",
       "      dtype=float32)"
      ]
     },
     "execution_count": 2,
     "metadata": {},
     "output_type": "execute_result"
    }
   ],
   "source": [
    "import spacy\n",
    "nlp = spacy.load('en_core_web_lg',disable=['parser','tagger','ner','textcat','lemmatizer',])\n",
    "nlp('Hello world!').vector"
   ]
  },
  {
   "cell_type": "code",
   "execution_count": 70,
   "id": "8a7616b4",
   "metadata": {},
   "outputs": [
    {
     "name": "stdout",
     "output_type": "stream",
     "text": [
      "Size of the full data set: 109023\n"
     ]
    },
    {
     "data": {
      "text/html": [
       "<div>\n",
       "<style scoped>\n",
       "    .dataframe tbody tr th:only-of-type {\n",
       "        vertical-align: middle;\n",
       "    }\n",
       "\n",
       "    .dataframe tbody tr th {\n",
       "        vertical-align: top;\n",
       "    }\n",
       "\n",
       "    .dataframe thead th {\n",
       "        text-align: right;\n",
       "    }\n",
       "</style>\n",
       "<table border=\"1\" class=\"dataframe\">\n",
       "  <thead>\n",
       "    <tr style=\"text-align: right;\">\n",
       "      <th></th>\n",
       "      <th>filename</th>\n",
       "      <th>label</th>\n",
       "      <th>item_id</th>\n",
       "    </tr>\n",
       "  </thead>\n",
       "  <tbody>\n",
       "    <tr>\n",
       "      <th>0</th>\n",
       "      <td>1352134238.xml</td>\n",
       "      <td>UNK</td>\n",
       "      <td>1352134238</td>\n",
       "    </tr>\n",
       "    <tr>\n",
       "      <th>1</th>\n",
       "      <td>1323706441.xml</td>\n",
       "      <td>UNK</td>\n",
       "      <td>1323706441</td>\n",
       "    </tr>\n",
       "    <tr>\n",
       "      <th>2</th>\n",
       "      <td>1527231392.xml</td>\n",
       "      <td>UNK</td>\n",
       "      <td>1527231392</td>\n",
       "    </tr>\n",
       "    <tr>\n",
       "      <th>3</th>\n",
       "      <td>1316319466.xml</td>\n",
       "      <td>UNK</td>\n",
       "      <td>1316319466</td>\n",
       "    </tr>\n",
       "    <tr>\n",
       "      <th>4</th>\n",
       "      <td>1288496617.xml</td>\n",
       "      <td>UNK</td>\n",
       "      <td>1288496617</td>\n",
       "    </tr>\n",
       "  </tbody>\n",
       "</table>\n",
       "</div>"
      ],
      "text/plain": [
       "         filename label     item_id\n",
       "0  1352134238.xml   UNK  1352134238\n",
       "1  1323706441.xml   UNK  1323706441\n",
       "2  1527231392.xml   UNK  1527231392\n",
       "3  1316319466.xml   UNK  1316319466\n",
       "4  1288496617.xml   UNK  1288496617"
      ]
     },
     "execution_count": 70,
     "metadata": {},
     "output_type": "execute_result"
    }
   ],
   "source": [
    "import pandas as pd\n",
    "import os\n",
    "import numpy as np\n",
    "data_path = \"/home/ec2-user/SageMaker/data/Refugee_Dataset_v2_-_The_Globe_and_Mail/\"\n",
    "data = pd.DataFrame(os.listdir(data_path),columns=[\"filename\"])\n",
    "print(f'Size of the full data set: {len(data)}')\n",
    "data[\"label\"] = \"UNK\"\n",
    "data[\"item_id\"] = [int(filename[:-4]) for filename in data[\"filename\"]]\n",
    "\n",
    "id2index = dict([(id_,index) for index,id_ in enumerate(data[\"item_id\"])])\n",
    "\n",
    "data.head()"
   ]
  },
  {
   "cell_type": "code",
   "execution_count": 71,
   "id": "80ed4e98",
   "metadata": {},
   "outputs": [
    {
     "name": "stdout",
     "output_type": "stream",
     "text": [
      "Cantidad de ejemplos positivos: 73\n"
     ]
    },
    {
     "data": {
      "text/plain": [
       "[1291367156, 1325797051, 1325698070, 1291446397, 1313852062]"
      ]
     },
     "execution_count": 71,
     "metadata": {},
     "output_type": "execute_result"
    }
   ],
   "source": [
    "import re\n",
    "lines = open('refugee_DP_serperi_examples.csv','r').read().splitlines()[1:]\n",
    "serperi_rel_item_ids = [int(re.search(\"docview/([0-9]*)/\",line).groups()[0]) for line in lines if line!=\",\"]\n",
    "print(f\"Cantidad de ejemplos positivos: {len(news_id)}\")\n",
    "serperi_rel_item_ids[:5]"
   ]
  },
  {
   "cell_type": "code",
   "execution_count": 77,
   "id": "031c6b79",
   "metadata": {},
   "outputs": [
    {
     "data": {
      "text/plain": [
       "73"
      ]
     },
     "execution_count": 77,
     "metadata": {},
     "output_type": "execute_result"
    }
   ],
   "source": [
    "assert set(data[\"item_id\"]).intersection(serperi_rel_item_ids)==set(serperi_rel_item_ids)\n",
    "count=0\n",
    "for item_id in serperi_rel_item_ids:\n",
    "    count+=1\n",
    "    data.iloc[id2index[item_id],1] = \"REL\"\n",
    "count"
   ]
  },
  {
   "cell_type": "code",
   "execution_count": 73,
   "id": "d81bc40f",
   "metadata": {},
   "outputs": [
    {
     "data": {
      "text/plain": [
       "108951"
      ]
     },
     "execution_count": 73,
     "metadata": {},
     "output_type": "execute_result"
    }
   ],
   "source": [
    "np.sum(data[\"label\"]==\"UNK\")"
   ]
  },
  {
   "cell_type": "code",
   "execution_count": 76,
   "id": "06ffd077",
   "metadata": {},
   "outputs": [
    {
     "data": {
      "text/html": [
       "<div>\n",
       "<style scoped>\n",
       "    .dataframe tbody tr th:only-of-type {\n",
       "        vertical-align: middle;\n",
       "    }\n",
       "\n",
       "    .dataframe tbody tr th {\n",
       "        vertical-align: top;\n",
       "    }\n",
       "\n",
       "    .dataframe thead th {\n",
       "        text-align: right;\n",
       "    }\n",
       "</style>\n",
       "<table border=\"1\" class=\"dataframe\">\n",
       "  <thead>\n",
       "    <tr style=\"text-align: right;\">\n",
       "      <th></th>\n",
       "      <th>filename</th>\n",
       "      <th>label</th>\n",
       "      <th>item_id</th>\n",
       "    </tr>\n",
       "  </thead>\n",
       "  <tbody>\n",
       "    <tr>\n",
       "      <th>3532</th>\n",
       "      <td>1527243096.xml</td>\n",
       "      <td>REL</td>\n",
       "      <td>1527243096</td>\n",
       "    </tr>\n",
       "    <tr>\n",
       "      <th>5178</th>\n",
       "      <td>1323621215.xml</td>\n",
       "      <td>REL</td>\n",
       "      <td>1323621215</td>\n",
       "    </tr>\n",
       "    <tr>\n",
       "      <th>8693</th>\n",
       "      <td>1356193030.xml</td>\n",
       "      <td>REL</td>\n",
       "      <td>1356193030</td>\n",
       "    </tr>\n",
       "    <tr>\n",
       "      <th>13640</th>\n",
       "      <td>1649150574.xml</td>\n",
       "      <td>REL</td>\n",
       "      <td>1649150574</td>\n",
       "    </tr>\n",
       "    <tr>\n",
       "      <th>15038</th>\n",
       "      <td>1151396394.xml</td>\n",
       "      <td>REL</td>\n",
       "      <td>1151396394</td>\n",
       "    </tr>\n",
       "    <tr>\n",
       "      <th>...</th>\n",
       "      <td>...</td>\n",
       "      <td>...</td>\n",
       "      <td>...</td>\n",
       "    </tr>\n",
       "    <tr>\n",
       "      <th>105798</th>\n",
       "      <td>1369008551.xml</td>\n",
       "      <td>REL</td>\n",
       "      <td>1369008551</td>\n",
       "    </tr>\n",
       "    <tr>\n",
       "      <th>105962</th>\n",
       "      <td>1222379804.xml</td>\n",
       "      <td>REL</td>\n",
       "      <td>1222379804</td>\n",
       "    </tr>\n",
       "    <tr>\n",
       "      <th>106520</th>\n",
       "      <td>1434981918.xml</td>\n",
       "      <td>REL</td>\n",
       "      <td>1434981918</td>\n",
       "    </tr>\n",
       "    <tr>\n",
       "      <th>107285</th>\n",
       "      <td>1316305306.xml</td>\n",
       "      <td>REL</td>\n",
       "      <td>1316305306</td>\n",
       "    </tr>\n",
       "    <tr>\n",
       "      <th>108649</th>\n",
       "      <td>1353770580.xml</td>\n",
       "      <td>REL</td>\n",
       "      <td>1353770580</td>\n",
       "    </tr>\n",
       "  </tbody>\n",
       "</table>\n",
       "<p>72 rows × 3 columns</p>\n",
       "</div>"
      ],
      "text/plain": [
       "              filename label     item_id\n",
       "3532    1527243096.xml   REL  1527243096\n",
       "5178    1323621215.xml   REL  1323621215\n",
       "8693    1356193030.xml   REL  1356193030\n",
       "13640   1649150574.xml   REL  1649150574\n",
       "15038   1151396394.xml   REL  1151396394\n",
       "...                ...   ...         ...\n",
       "105798  1369008551.xml   REL  1369008551\n",
       "105962  1222379804.xml   REL  1222379804\n",
       "106520  1434981918.xml   REL  1434981918\n",
       "107285  1316305306.xml   REL  1316305306\n",
       "108649  1353770580.xml   REL  1353770580\n",
       "\n",
       "[72 rows x 3 columns]"
      ]
     },
     "execution_count": 76,
     "metadata": {},
     "output_type": "execute_result"
    }
   ],
   "source": [
    "data[data[\"label\"]==\"REL\"]"
   ]
  },
  {
   "cell_type": "code",
   "execution_count": 65,
   "id": "913bcae7",
   "metadata": {},
   "outputs": [
    {
     "data": {
      "text/plain": [
       "'UNK'"
      ]
     },
     "execution_count": 65,
     "metadata": {},
     "output_type": "execute_result"
    }
   ],
   "source": [
    "data.iloc[0,1]"
   ]
  },
  {
   "cell_type": "code",
   "execution_count": null,
   "id": "15cf08fc",
   "metadata": {},
   "outputs": [],
   "source": [
    "a"
   ]
  }
 ],
 "metadata": {
  "kernelspec": {
   "display_name": "imm",
   "language": "python",
   "name": "imm"
  },
  "language_info": {
   "codemirror_mode": {
    "name": "ipython",
    "version": 3
   },
   "file_extension": ".py",
   "mimetype": "text/x-python",
   "name": "python",
   "nbconvert_exporter": "python",
   "pygments_lexer": "ipython3",
   "version": "3.9.7"
  }
 },
 "nbformat": 4,
 "nbformat_minor": 5
}

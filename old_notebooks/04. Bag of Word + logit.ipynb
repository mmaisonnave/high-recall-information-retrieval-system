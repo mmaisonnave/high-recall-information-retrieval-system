{
 "cells": [
  {
   "cell_type": "code",
   "execution_count": 14,
   "id": "d4c5e2ea",
   "metadata": {},
   "outputs": [
    {
     "data": {
      "text/plain": [
       "205538"
      ]
     },
     "execution_count": 14,
     "metadata": {},
     "output_type": "execute_result"
    }
   ],
   "source": [
    "import os\n",
    "dataset_dir = '/home/ec2-user/SageMaker/data/refugee_dataset_v1/'\n",
    "input_files = os.listdir(dataset_dir)\n",
    "len(input_files)"
   ]
  },
  {
   "cell_type": "code",
   "execution_count": 12,
   "id": "4b63d7ca",
   "metadata": {},
   "outputs": [],
   "source": [
    "nlp = spacy.load('en_core_web_lg')"
   ]
  },
  {
   "cell_type": "code",
   "execution_count": 5,
   "id": "38d16096",
   "metadata": {},
   "outputs": [],
   "source": [
    "doc = nlp('Apple to invest $1 millon US dollars.')"
   ]
  },
  {
   "cell_type": "code",
   "execution_count": 7,
   "id": "b5679fa4",
   "metadata": {},
   "outputs": [
    {
     "name": "stdout",
     "output_type": "stream",
     "text": [
      "Apple\n",
      "$1 millon US dollars\n"
     ]
    }
   ],
   "source": [
    "for ent in doc.ents:\n",
    "    print(ent)"
   ]
  },
  {
   "cell_type": "code",
   "execution_count": 8,
   "id": "73905f94",
   "metadata": {},
   "outputs": [
    {
     "name": "stdout",
     "output_type": "stream",
     "text": [
      "Apple\n",
      "to\n",
      "invest\n",
      "$\n",
      "1\n",
      "millon\n",
      "US\n",
      "dollars\n",
      ".\n"
     ]
    }
   ],
   "source": [
    "for token in doc:\n",
    "    print(token)"
   ]
  },
  {
   "cell_type": "code",
   "execution_count": 10,
   "id": "28bb819e",
   "metadata": {},
   "outputs": [
    {
     "name": "stdout",
     "output_type": "stream",
     "text": [
      "nsubj\n",
      "aux\n",
      "ROOT\n",
      "nmod\n",
      "nummod\n",
      "compound\n",
      "compound\n",
      "dobj\n",
      "punct\n"
     ]
    }
   ],
   "source": [
    "for token in doc:\n",
    "    print(token.dep_)"
   ]
  },
  {
   "cell_type": "code",
   "execution_count": 11,
   "id": "c2b5db8f",
   "metadata": {},
   "outputs": [
    {
     "data": {
      "text/plain": [
       "[('tok2vec', <spacy.pipeline.tok2vec.Tok2Vec at 0x7f7882f762c0>),\n",
       " ('tagger', <spacy.pipeline.tagger.Tagger at 0x7f788313cc70>),\n",
       " ('parser', <spacy.pipeline.dep_parser.DependencyParser at 0x7f788312db20>),\n",
       " ('attribute_ruler',\n",
       "  <spacy.pipeline.attributeruler.AttributeRuler at 0x7f7882fb6f80>),\n",
       " ('lemmatizer',\n",
       "  <spacy.lang.en.lemmatizer.EnglishLemmatizer at 0x7f7882f58f40>),\n",
       " ('ner', <spacy.pipeline.ner.EntityRecognizer at 0x7f788312dac0>)]"
      ]
     },
     "execution_count": 11,
     "metadata": {},
     "output_type": "execute_result"
    }
   ],
   "source": [
    "nlp.pipeline"
   ]
  },
  {
   "cell_type": "code",
   "execution_count": null,
   "id": "8d817c18",
   "metadata": {},
   "outputs": [],
   "source": []
  }
 ],
 "metadata": {
  "kernelspec": {
   "display_name": "imm",
   "language": "python",
   "name": "imm"
  },
  "language_info": {
   "codemirror_mode": {
    "name": "ipython",
    "version": 3
   },
   "file_extension": ".py",
   "mimetype": "text/x-python",
   "name": "python",
   "nbconvert_exporter": "python",
   "pygments_lexer": "ipython3",
   "version": "3.9.7"
  }
 },
 "nbformat": 4,
 "nbformat_minor": 5
}

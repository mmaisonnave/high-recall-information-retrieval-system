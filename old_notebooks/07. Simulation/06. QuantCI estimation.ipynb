{
 "cells": [
  {
   "cell_type": "code",
   "execution_count": 1,
   "id": "32874bf9",
   "metadata": {},
   "outputs": [
    {
     "name": "stdout",
     "output_type": "stream",
     "text": [
      "[INIT] Starting system...\n",
      "[INIT] Loading data...\n",
      "[INIT] Loading/training models...\n",
      "[INIT] System started.\n"
     ]
    }
   ],
   "source": [
    "from utils.high_recall_information_retrieval import HRSystem\n",
    "system = HRSystem(from_scratch=False, \n",
    "                  session_name='maiso',\n",
    "                  finish_function=None,\n",
    "                  print_function=print,\n",
    "                 )  "
   ]
  },
  {
   "cell_type": "code",
   "execution_count": null,
   "id": "cd9f280c",
   "metadata": {},
   "outputs": [
    {
     "name": "stdout",
     "output_type": "stream",
     "text": [
      "2022-08-02 17:57:33.432171 [ \u001b[1;94mINFO\u001b[0m  ] [0,80530)\n",
      "2022-08-02 17:58:04.535700 [ \u001b[1;94mINFO\u001b[0m  ] [80530,161060)\n",
      "2022-08-02 17:58:55.343480 [ \u001b[1;94mINFO\u001b[0m  ] [161060,241590)\n",
      "2022-08-02 17:59:43.143749 [ \u001b[1;94mINFO\u001b[0m  ] [241590,322120)\n",
      "2022-08-02 18:00:32.904365 [ \u001b[1;94mINFO\u001b[0m  ] [322120,402650)\n",
      "2022-08-02 18:01:23.988342 [ \u001b[1;94mINFO\u001b[0m  ] [402650,483180)\n",
      "2022-08-02 18:02:18.384210 [ \u001b[1;94mINFO\u001b[0m  ] [483180,563710)\n",
      "2022-08-02 18:03:10.488023 [ \u001b[1;94mINFO\u001b[0m  ] [563710,644240)\n",
      "2022-08-02 18:03:58.456599 [ \u001b[1;94mINFO\u001b[0m  ] [644240,724770)\n",
      "2022-08-02 18:04:50.202400 [ \u001b[1;94mINFO\u001b[0m  ] [724770,805300)\n",
      "2022-08-02 18:05:43.222912 [ \u001b[1;94mINFO\u001b[0m  ] [805300,885830)\n",
      "2022-08-02 18:06:41.094953 [ \u001b[1;94mINFO\u001b[0m  ] [885830,966360)\n",
      "2022-08-02 18:11:14.384829 [ \u001b[1;94mINFO\u001b[0m  ] [966360,1046890)\n",
      "2022-08-02 18:15:48.274300 [ \u001b[1;94mINFO\u001b[0m  ] [1046890,1127420)\n",
      "2022-08-02 18:20:20.884460 [ \u001b[1;94mINFO\u001b[0m  ] [1127420,1207950)\n",
      "2022-08-02 18:24:54.068832 [ \u001b[1;94mINFO\u001b[0m  ] [1207950,1288480)\n",
      "2022-08-02 18:29:27.382048 [ \u001b[1;94mINFO\u001b[0m  ] [1288480,1369010)\n",
      "2022-08-02 18:34:00.664631 [ \u001b[1;94mINFO\u001b[0m  ] [1369010,1449540)\n",
      "2022-08-02 18:38:34.919098 [ \u001b[1;94mINFO\u001b[0m  ] [1449540,1530070)\n",
      "2022-08-02 18:43:07.792137 [ \u001b[1;94mINFO\u001b[0m  ] [1530070,1610600)\n",
      "2022-08-02 18:47:57.589397 [ \u001b[1;94mINFO\u001b[0m  ] [1610600,1691130)\n",
      "2022-08-02 18:52:31.199488 [ \u001b[1;94mINFO\u001b[0m  ] [1691130,1771660)\n",
      "2022-08-02 18:57:04.779211 [ \u001b[1;94mINFO\u001b[0m  ] [1771660,1852190)\n"
     ]
    }
   ],
   "source": [
    "%%time\n",
    "system._estimated_relevant_u()"
   ]
  },
  {
   "cell_type": "code",
   "execution_count": 2,
   "id": "cb7f9d9f",
   "metadata": {},
   "outputs": [
    {
     "name": "stdout",
     "output_type": "stream",
     "text": [
      "[0, 80530)\n",
      "[80530, 161060)\n",
      "[161060, 241590)\n",
      "[241590, 322120)\n",
      "[322120, 402650)\n",
      "[402650, 483180)\n",
      "[483180, 563710)\n",
      "[563710, 644240)\n",
      "[644240, 724770)\n",
      "[724770, 805300)\n",
      "[805300, 885830)\n",
      "[885830, 966360)\n",
      "[966360, 1046890)\n",
      "[1046890, 1127420)\n",
      "[1127420, 1207950)\n",
      "[1207950, 1288480)\n",
      "[1288480, 1369010)\n",
      "[1369010, 1449540)\n",
      "[1449540, 1530070)\n",
      "[1530070, 1610600)\n",
      "[1610600, 1691130)\n",
      "[1691130, 1771660)\n",
      "[1771660, 1852190)\n",
      "[1852190, 1932720)\n",
      "[1932720, 2013250)\n",
      "[2013250, 2093780)\n",
      "CPU times: user 3min 56s, sys: 1min 11s, total: 5min 8s\n",
      "Wall time: 20min 44s\n"
     ]
    },
    {
     "data": {
      "text/plain": [
       "array([0.00973927, 0.10178416, 0.02832706, ..., 0.11625099, 0.09564741,\n",
       "       0.02668877])"
      ]
     },
     "execution_count": 2,
     "metadata": {},
     "output_type": "execute_result"
    }
   ],
   "source": [
    "%%time\n",
    "system._estimated_relevant_u()"
   ]
  },
  {
   "cell_type": "code",
   "execution_count": 3,
   "id": "5f7b4678",
   "metadata": {},
   "outputs": [
    {
     "name": "stdout",
     "output_type": "stream",
     "text": [
      "2022-08-02 14:48:10.778833 [ \u001b[1;94mINFO\u001b[0m  ] Predicting on labeled   data\n",
      "2022-08-02 14:48:11.930792 [ \u001b[1;94mINFO\u001b[0m  ] Predicting on unlabeled data\n",
      "working on batches of size: 80530\n",
      "Working on batch: [0, 80530)\n",
      "Working on batch: [80530, 161060)\n",
      "Working on batch: [161060, 241590)\n",
      "Working on batch: [241590, 322120)\n",
      "Working on batch: [322120, 402650)\n",
      "Working on batch: [402650, 483180)\n",
      "Working on batch: [483180, 563710)\n",
      "Working on batch: [563710, 644240)\n",
      "Working on batch: [644240, 724770)\n",
      "Working on batch: [724770, 805300)\n",
      "Working on batch: [805300, 885830)\n",
      "Working on batch: [885830, 966360)\n",
      "Working on batch: [966360, 1046890)\n",
      "Working on batch: [1046890, 1127420)\n",
      "Working on batch: [1127420, 1207950)\n",
      "Working on batch: [1207950, 1288480)\n",
      "Working on batch: [1288480, 1369010)\n",
      "Working on batch: [1369010, 1449540)\n",
      "Working on batch: [1449540, 1530070)\n",
      "Working on batch: [1530070, 1610600)\n",
      "Working on batch: [1610600, 1691130)\n",
      "Working on batch: [1691130, 1771660)\n",
      "Working on batch: [1771660, 1852190)\n",
      "Working on batch: [1852190, 1932720)\n",
      "Working on batch: [1932720, 2013250)\n",
      "Working on batch: [2013250, 2093780)\n",
      "2022-08-02 15:28:04.445521 [ \u001b[1;94mINFO\u001b[0m  ] Estimating recall\n"
     ]
    },
    {
     "ename": "NameError",
     "evalue": "name 'estimated_recall' is not defined",
     "output_type": "error",
     "traceback": [
      "\u001b[0;31m---------------------------------------------------------------------------\u001b[0m",
      "\u001b[0;31mNameError\u001b[0m                                 Traceback (most recent call last)",
      "\u001b[0;32m<timed eval>\u001b[0m in \u001b[0;36m<module>\u001b[0;34m\u001b[0m\n",
      "\u001b[0;32m/tmp/ipykernel_23477/2104984523.py\u001b[0m in \u001b[0;36mQuant_stopping\u001b[0;34m(logistic_regression, labeled_data, unlabeled_data, recall_target)\u001b[0m\n\u001b[1;32m     19\u001b[0m     \u001b[0mUr\u001b[0m \u001b[0;34m=\u001b[0m \u001b[0mlogistic_regression\u001b[0m\u001b[0;34m.\u001b[0m\u001b[0mpredict\u001b[0m\u001b[0;34m(\u001b[0m\u001b[0munlabeled_data\u001b[0m\u001b[0;34m)\u001b[0m\u001b[0;34m\u001b[0m\u001b[0;34m\u001b[0m\u001b[0m\n\u001b[1;32m     20\u001b[0m     \u001b[0minfo\u001b[0m\u001b[0;34m(\u001b[0m\u001b[0;34m'Estimating recall'\u001b[0m\u001b[0;34m)\u001b[0m\u001b[0;34m\u001b[0m\u001b[0;34m\u001b[0m\u001b[0m\n\u001b[0;32m---> 21\u001b[0;31m     \u001b[0mrecallhat\u001b[0m \u001b[0;34m=\u001b[0m \u001b[0mestimated_recall\u001b[0m\u001b[0;34m(\u001b[0m\u001b[0mRr\u001b[0m\u001b[0;34m,\u001b[0m \u001b[0mUr\u001b[0m\u001b[0;34m)\u001b[0m\u001b[0;34m\u001b[0m\u001b[0;34m\u001b[0m\u001b[0m\n\u001b[0m\u001b[1;32m     22\u001b[0m     \u001b[0minfo\u001b[0m\u001b[0;34m(\u001b[0m\u001b[0;34mf'Estimated recall: {recallhat:5.4f}'\u001b[0m\u001b[0;34m)\u001b[0m\u001b[0;34m\u001b[0m\u001b[0;34m\u001b[0m\u001b[0m\n\u001b[1;32m     23\u001b[0m     \u001b[0;32mreturn\u001b[0m \u001b[0mrecallhat\u001b[0m \u001b[0;34m>=\u001b[0m \u001b[0mrecall_target\u001b[0m\u001b[0;34m\u001b[0m\u001b[0;34m\u001b[0m\u001b[0m\n",
      "\u001b[0;31mNameError\u001b[0m: name 'estimated_recall' is not defined"
     ]
    }
   ],
   "source": [
    "%%time\n",
    "Quant_stopping(logistic_regression=system.term_highlighter, \n",
    "               labeled_data=system.labeled_data, \n",
    "               unlabeled_data=system.unlabeled_data, \n",
    "               recall_target=0.8,\n",
    "               )"
   ]
  },
  {
   "cell_type": "code",
   "execution_count": 5,
   "id": "ef828f56",
   "metadata": {},
   "outputs": [
    {
     "data": {
      "text/plain": [
       "(10000,)"
      ]
     },
     "execution_count": 5,
     "metadata": {},
     "output_type": "execute_result"
    }
   ],
   "source": [
    "system.labeled_data[0].vector().shape"
   ]
  },
  {
   "cell_type": "code",
   "execution_count": 7,
   "id": "73da9c70",
   "metadata": {},
   "outputs": [
    {
     "data": {
      "text/plain": [
       "(2, 10000)"
      ]
     },
     "execution_count": 7,
     "metadata": {},
     "output_type": "execute_result"
    }
   ],
   "source": [
    "import numpy as np\n",
    "np.vstack([system.labeled_data[0].vector(), system.labeled_data[0].vector()]).shape"
   ]
  },
  {
   "cell_type": "code",
   "execution_count": 9,
   "id": "2641ea1d",
   "metadata": {},
   "outputs": [],
   "source": [
    "import pickle"
   ]
  },
  {
   "cell_type": "code",
   "execution_count": 10,
   "id": "d10d94b4",
   "metadata": {},
   "outputs": [
    {
     "name": "stderr",
     "output_type": "stream",
     "text": [
      "/tmp/ipykernel_23477/2190365107.py:1: DeprecationWarning: Please use `csr_matrix` from the `scipy.sparse` namespace, the `scipy.sparse.csr` namespace is deprecated.\n",
      "  bow = pickle.load(open(system.labeled_data[0]._vector_filename(),'rb'))[3]\n"
     ]
    }
   ],
   "source": [
    "bow = pickle.load(open(system.labeled_data[0]._vector_filename(),'rb'))[3]"
   ]
  },
  {
   "cell_type": "code",
   "execution_count": 16,
   "id": "4bbfbaa1",
   "metadata": {},
   "outputs": [
    {
     "data": {
      "text/plain": [
       "<2x10000 sparse matrix of type '<class 'numpy.int32'>'\n",
       "\twith 290 stored elements in Compressed Sparse Row format>"
      ]
     },
     "execution_count": 16,
     "metadata": {},
     "output_type": "execute_result"
    }
   ],
   "source": [
    "from scipy import sparse\n",
    "sparse.vstack([bow,bow])"
   ]
  },
  {
   "cell_type": "code",
   "execution_count": 1,
   "id": "8ce47c73",
   "metadata": {},
   "outputs": [],
   "source": [
    "from utils.io import info\n",
    "def QuantCI_stopping(logistic_regression, labeled_data, unlabeled_data, recall_target):\n",
    "    \"\"\"\n",
    "    Rr = <p0, p1, ...>\n",
    "    Ur = <p0, p1, ...>\n",
    "    \"\"\"\n",
    "    Rr = logistic_regression.predict(labeled_data)\n",
    "    Ur = logistic_regression.predict(unlabeled_data)\n",
    "    recallhat = estimated_recall(Rr, Ur)\n",
    "    \n",
    "    lower_bond = _upper_bound_variance(Rr, Ur)\n",
    "    \n",
    "    return recallhat+lower_bond>=recall_target\n",
    "\n",
    "def Quant_stopping(logistic_regression, labeled_data, unlabeled_data, recall_target):\n",
    "    info('Predicting on labeled   data')\n",
    "    Rr = logistic_regression.predict(labeled_data)\n",
    "    info('Predicting on unlabeled data')\n",
    "    Ur = logistic_regression.predict(unlabeled_data)\n",
    "    info('Estimating recall')\n",
    "    recallhat = _estimated_recall(Rr, Ur)\n",
    "    info(f'Estimated recall: {recallhat:5.4f}')\n",
    "    return recallhat >= recall_target\n",
    "    \n",
    "def _estimated_recall(Rr, Ur):\n",
    "    \"\"\"\n",
    "    Rr = <p0, p1, ...>\n",
    "    Ur = <p0, p1, ...>\n",
    "    \"\"\"\n",
    "    return np.sum(Rr) / (np.sum(Rr) + np.sum(Ur))\n",
    "\n",
    "def _lower_bond_variance(Rr, Ur):\n",
    "    term1 = np.var()\n",
    "    term2 = 0\n",
    "    return -(2 * np.sqrt(term1+term2))"
   ]
  },
  {
   "cell_type": "code",
   "execution_count": null,
   "id": "71024f97",
   "metadata": {},
   "outputs": [],
   "source": []
  }
 ],
 "metadata": {
  "kernelspec": {
   "display_name": "imm",
   "language": "python",
   "name": "imm"
  },
  "language_info": {
   "codemirror_mode": {
    "name": "ipython",
    "version": 3
   },
   "file_extension": ".py",
   "mimetype": "text/x-python",
   "name": "python",
   "nbconvert_exporter": "python",
   "pygments_lexer": "ipython3",
   "version": "3.9.7"
  }
 },
 "nbformat": 4,
 "nbformat_minor": 5
}

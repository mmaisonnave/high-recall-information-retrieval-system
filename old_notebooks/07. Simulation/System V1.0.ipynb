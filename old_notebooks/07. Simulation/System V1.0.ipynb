{
 "cells": [
  {
   "cell_type": "code",
   "execution_count": 1,
   "id": "d0872ec8",
   "metadata": {
    "scrolled": false
   },
   "outputs": [
    {
     "data": {
      "application/vnd.jupyter.widget-view+json": {
       "model_id": "d60d10f97dbd4671bd2aa82f65a3f636",
       "version_major": 2,
       "version_minor": 0
      },
      "text/plain": [
       "VBox(children=(VBox(children=(GridBox(children=(HBox(children=(Combobox(value='serperi', description='Session …"
      ]
     },
     "metadata": {},
     "output_type": "display_data"
    }
   ],
   "source": [
    "from utils.ui import UI\n",
    "\n",
    "ui = UI()\n",
    "ui.run()"
   ]
  },
  {
   "cell_type": "code",
   "execution_count": 9,
   "id": "5d3eba22",
   "metadata": {},
   "outputs": [
    {
     "data": {
      "text/plain": [
       "(1, 10000)"
      ]
     },
     "execution_count": 9,
     "metadata": {},
     "output_type": "execute_result"
    },
    {
     "name": "stdout",
     "output_type": "stream",
     "text": [
      "Rr=619.9969222670314\n",
      "Ur=216\n",
      "Rr=619.9969222670314\n",
      "Ur=216\n"
     ]
    }
   ],
   "source": [
    "ui.system.term_highlighter.model.coef_.shape\n"
   ]
  },
  {
   "cell_type": "code",
   "execution_count": 2,
   "id": "62696903",
   "metadata": {},
   "outputs": [
    {
     "name": "stdout",
     "output_type": "stream",
     "text": [
      "name=nombre\n",
      "index=3\n",
      "list_=[1, 23]\n"
     ]
    }
   ],
   "source": [
    "2022-08-02 20:01:48.547414 [ INFO  ] [0,7183)\n",
    "2022-08-02 20:01:49.485751 [ INFO  ] [0,80530)\n",
    "2022-08-02 20:01:54.750334 [ INFO  ] [80530,161060)\n",
    "2022-08-02 20:02:01.298899 [ INFO  ] [161060,200000)\n",
    "Rr=619.9969222670314\n",
    "Ur=15025.658179405313"
   ]
  },
  {
   "cell_type": "code",
   "execution_count": 5,
   "id": "64495600",
   "metadata": {},
   "outputs": [],
   "source": [
    "from datasets import Dataset"
   ]
  },
  {
   "cell_type": "code",
   "execution_count": 9,
   "id": "da26d89a",
   "metadata": {},
   "outputs": [
    {
     "data": {
      "application/vnd.jupyter.widget-view+json": {
       "model_id": "6ad3dbe945e0497f9e9e064f8374e6be",
       "version_major": 2,
       "version_minor": 0
      },
      "text/plain": [
       "RadioButtons(options=('DP database', 'from scratch'), value='DP database')"
      ]
     },
     "metadata": {},
     "output_type": "display_data"
    }
   ],
   "source": [
    "import ipywidgets as widgets\n",
    "radio_button = widgets.RadioButtons(\n",
    "    options=['DP database', 'from scratch'],\n",
    "    description='',\n",
    "    disabled=False\n",
    ")\n",
    "\n",
    "radio_button"
   ]
  },
  {
   "cell_type": "code",
   "execution_count": 10,
   "id": "7eff1d7d",
   "metadata": {},
   "outputs": [
    {
     "data": {
      "text/plain": [
       "'DP database'"
      ]
     },
     "execution_count": 10,
     "metadata": {},
     "output_type": "execute_result"
    }
   ],
   "source": [
    "radio_button.value"
   ]
  },
  {
   "cell_type": "code",
   "execution_count": 11,
   "id": "31b868c0",
   "metadata": {},
   "outputs": [
    {
     "data": {
      "application/vnd.jupyter.widget-view+json": {
       "model_id": "db5221254baf40818ca24488ac65b192",
       "version_major": 2,
       "version_minor": 0
      },
      "text/plain": [
       "Combobox(value='', description='Combobox:', options=('default', 'default_simulation'), placeholder='Select a s…"
      ]
     },
     "metadata": {},
     "output_type": "display_data"
    }
   ],
   "source": [
    "import os\n",
    "import ipywidgets as widgets\n",
    "combobox= widgets.Combobox(\n",
    "    # value='John',\n",
    "    placeholder='Select a saved session or enter new session name',\n",
    "    options=os.listdir('sessions'),\n",
    "    description='Combobox:',\n",
    "    ensure_option=False,\n",
    "    disabled=False)\n",
    "combobox"
   ]
  },
  {
   "cell_type": "code",
   "execution_count": 14,
   "id": "ecccb3fe",
   "metadata": {},
   "outputs": [
    {
     "data": {
      "text/plain": [
       "'default2'"
      ]
     },
     "execution_count": 14,
     "metadata": {},
     "output_type": "execute_result"
    }
   ],
   "source": [
    "combobox.value"
   ]
  },
  {
   "cell_type": "code",
   "execution_count": null,
   "id": "429f5cb0",
   "metadata": {},
   "outputs": [],
   "source": []
  }
 ],
 "metadata": {
  "kernelspec": {
   "display_name": "imm",
   "language": "python",
   "name": "imm"
  },
  "language_info": {
   "codemirror_mode": {
    "name": "ipython",
    "version": 3
   },
   "file_extension": ".py",
   "mimetype": "text/x-python",
   "name": "python",
   "nbconvert_exporter": "python",
   "pygments_lexer": "ipython3",
   "version": "3.9.7"
  }
 },
 "nbformat": 4,
 "nbformat_minor": 5
}

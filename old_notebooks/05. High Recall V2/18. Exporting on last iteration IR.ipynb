{
 "cells": [
  {
   "cell_type": "markdown",
   "id": "7358a813",
   "metadata": {},
   "source": [
    "### Label data"
   ]
  },
  {
   "cell_type": "code",
   "execution_count": 2,
   "id": "a226f637",
   "metadata": {},
   "outputs": [
    {
     "name": "stdout",
     "output_type": "stream",
     "text": [
      "114,492\n",
      "114492\n"
     ]
    }
   ],
   "source": [
    "from utils.models import DataItem\n",
    "lines =open('/home/ec2-user/SageMaker/mariano/notebooks/05. High Recall V2/labeled_data.csv','r').read().splitlines()[1:]\n",
    "lines = [line.split(';') for line in lines ]\n",
    "lines[:3]\n",
    "labeled_data = [DataItem(id_) for id_,_ in lines]\n",
    "\n",
    "idx = 0\n",
    "for id_,label in lines:\n",
    "        item = labeled_data[idx]\n",
    "        idx+=1\n",
    "        assert item.id_ == id_\n",
    "        if label == 'R':\n",
    "            item.set_relevant()\n",
    "        else:\n",
    "            item.set_irrelevant()\n",
    "            assert label=='I'\n",
    "\n",
    "\n",
    "lines = open('./auxiliary_notebooks/in_canada.csv', 'r').read().splitlines()\n",
    "irrelevants = [DataItem(line.split(';')[0]) for line in lines if line.split(';')[1]=='False']\n",
    "for item in irrelevants:\n",
    "    item.set_irrelevant()\n",
    "labeled_data = labeled_data + irrelevants\n",
    "print(f'{len(labeled_data):,}')\n",
    "\n",
    "ids = set([item.id_ for item in labeled_data])\n",
    "print(len(ids))"
   ]
  },
  {
   "cell_type": "code",
   "execution_count": 4,
   "id": "73c91698",
   "metadata": {},
   "outputs": [
    {
     "name": "stdout",
     "output_type": "stream",
     "text": [
      "2022-03-26 20:18:43.303836 [ \u001b[1;94mINFO\u001b[0m  ] Total of files with predictions:                     4,973\n",
      "2022-03-26 20:18:43.305827 [ \u001b[1;94mINFO\u001b[0m  ] Number of prediction ignoring already labeled data = 4,906  (-67)\n"
     ]
    }
   ],
   "source": [
    "from utils.general import info,ok,warning\n",
    "import os\n",
    "\n",
    "predictions_dirpath = '../04. Model of DP/predictions/'\n",
    "\n",
    "files = os.listdir(predictions_dirpath)\n",
    "total_predictions = len([file_ for file_ in files if file_.endswith('_v3.p')])\n",
    "\n",
    "info(f\"Total of files with predictions:                     {total_predictions:,}\")\n",
    "files = [file_ for file_ in files if file_.endswith('_v3.p') if not file_[:-5] in ids]\n",
    "info(f\"Number of prediction ignoring already labeled data = {len(files):,}  (-{total_predictions-len(files):,})\")"
   ]
  },
  {
   "cell_type": "code",
   "execution_count": 12,
   "id": "48f3cd7e",
   "metadata": {},
   "outputs": [
    {
     "name": "stdout",
     "output_type": "stream",
     "text": [
      "2022-03-26 20:24:34.070768 [ \u001b[1;94mINFO\u001b[0m  ] Number of irrelevant (<0.5) articles discarded: 4,444 (4906-462)\n"
     ]
    },
    {
     "data": {
      "text/html": [
       "<div>\n",
       "<style scoped>\n",
       "    .dataframe tbody tr th:only-of-type {\n",
       "        vertical-align: middle;\n",
       "    }\n",
       "\n",
       "    .dataframe tbody tr th {\n",
       "        vertical-align: top;\n",
       "    }\n",
       "\n",
       "    .dataframe thead th {\n",
       "        text-align: right;\n",
       "    }\n",
       "</style>\n",
       "<table border=\"1\" class=\"dataframe\">\n",
       "  <thead>\n",
       "    <tr style=\"text-align: right;\">\n",
       "      <th></th>\n",
       "      <th>ID</th>\n",
       "      <th>yhat1</th>\n",
       "      <th>yhat2</th>\n",
       "      <th>yhat3</th>\n",
       "      <th>average</th>\n",
       "      <th>title</th>\n",
       "    </tr>\n",
       "  </thead>\n",
       "  <tbody>\n",
       "    <tr>\n",
       "      <th>156</th>\n",
       "      <td>1287517171</td>\n",
       "      <td>0.999998</td>\n",
       "      <td>0.999999</td>\n",
       "      <td>1.000000</td>\n",
       "      <td>0.999999</td>\n",
       "      <td>ADMIT MORE DP's</td>\n",
       "    </tr>\n",
       "    <tr>\n",
       "      <th>332</th>\n",
       "      <td>1291317371</td>\n",
       "      <td>0.996367</td>\n",
       "      <td>1.000000</td>\n",
       "      <td>1.000000</td>\n",
       "      <td>0.998789</td>\n",
       "      <td>More DP's Arrive</td>\n",
       "    </tr>\n",
       "    <tr>\n",
       "      <th>274</th>\n",
       "      <td>1313779779</td>\n",
       "      <td>0.995022</td>\n",
       "      <td>0.999999</td>\n",
       "      <td>0.999985</td>\n",
       "      <td>0.998335</td>\n",
       "      <td>PARTY ARRANGED FOR 250 DP GIRLS</td>\n",
       "    </tr>\n",
       "    <tr>\n",
       "      <th>360</th>\n",
       "      <td>1291252277</td>\n",
       "      <td>1.000000</td>\n",
       "      <td>0.994635</td>\n",
       "      <td>1.000000</td>\n",
       "      <td>0.998212</td>\n",
       "      <td>78 DP Girls Reach Ontario To Take Position As ...</td>\n",
       "    </tr>\n",
       "    <tr>\n",
       "      <th>58</th>\n",
       "      <td>1291513884</td>\n",
       "      <td>0.987245</td>\n",
       "      <td>0.996306</td>\n",
       "      <td>1.000000</td>\n",
       "      <td>0.994517</td>\n",
       "      <td>Would Like to Hear From DP's</td>\n",
       "    </tr>\n",
       "    <tr>\n",
       "      <th>...</th>\n",
       "      <td>...</td>\n",
       "      <td>...</td>\n",
       "      <td>...</td>\n",
       "      <td>...</td>\n",
       "      <td>...</td>\n",
       "      <td>...</td>\n",
       "    </tr>\n",
       "    <tr>\n",
       "      <th>220</th>\n",
       "      <td>1325783594</td>\n",
       "      <td>0.642755</td>\n",
       "      <td>0.514265</td>\n",
       "      <td>0.613999</td>\n",
       "      <td>0.590339</td>\n",
       "      <td>West Rejects Soviet Demands On Repatriation</td>\n",
       "    </tr>\n",
       "    <tr>\n",
       "      <th>196</th>\n",
       "      <td>1287231546</td>\n",
       "      <td>0.688429</td>\n",
       "      <td>0.518910</td>\n",
       "      <td>0.551753</td>\n",
       "      <td>0.586364</td>\n",
       "      <td>'Give the Immigrant Work'</td>\n",
       "    </tr>\n",
       "    <tr>\n",
       "      <th>54</th>\n",
       "      <td>1313922463</td>\n",
       "      <td>0.506997</td>\n",
       "      <td>0.550243</td>\n",
       "      <td>0.646544</td>\n",
       "      <td>0.567928</td>\n",
       "      <td>LAKE CAMP GOAL IS 500 FROM CITY DOWNTOWN AREAS</td>\n",
       "    </tr>\n",
       "    <tr>\n",
       "      <th>125</th>\n",
       "      <td>1316359071</td>\n",
       "      <td>0.508396</td>\n",
       "      <td>0.573182</td>\n",
       "      <td>0.580328</td>\n",
       "      <td>0.553969</td>\n",
       "      <td>Nothing to Boast About</td>\n",
       "    </tr>\n",
       "    <tr>\n",
       "      <th>67</th>\n",
       "      <td>1313857650</td>\n",
       "      <td>0.527372</td>\n",
       "      <td>0.536403</td>\n",
       "      <td>0.508009</td>\n",
       "      <td>0.523928</td>\n",
       "      <td>UNO Has Taken Civilization Step Forward, Says ...</td>\n",
       "    </tr>\n",
       "  </tbody>\n",
       "</table>\n",
       "<p>462 rows × 6 columns</p>\n",
       "</div>"
      ],
      "text/plain": [
       "             ID     yhat1     yhat2     yhat3   average  \\\n",
       "156  1287517171  0.999998  0.999999  1.000000  0.999999   \n",
       "332  1291317371  0.996367  1.000000  1.000000  0.998789   \n",
       "274  1313779779  0.995022  0.999999  0.999985  0.998335   \n",
       "360  1291252277  1.000000  0.994635  1.000000  0.998212   \n",
       "58   1291513884  0.987245  0.996306  1.000000  0.994517   \n",
       "..          ...       ...       ...       ...       ...   \n",
       "220  1325783594  0.642755  0.514265  0.613999  0.590339   \n",
       "196  1287231546  0.688429  0.518910  0.551753  0.586364   \n",
       "54   1313922463  0.506997  0.550243  0.646544  0.567928   \n",
       "125  1316359071  0.508396  0.573182  0.580328  0.553969   \n",
       "67   1313857650  0.527372  0.536403  0.508009  0.523928   \n",
       "\n",
       "                                                 title  \n",
       "156                                    ADMIT MORE DP's  \n",
       "332                                   More DP's Arrive  \n",
       "274                    PARTY ARRANGED FOR 250 DP GIRLS  \n",
       "360  78 DP Girls Reach Ontario To Take Position As ...  \n",
       "58                        Would Like to Hear From DP's  \n",
       "..                                                 ...  \n",
       "220        West Rejects Soviet Demands On Repatriation  \n",
       "196                          'Give the Immigrant Work'  \n",
       "54      LAKE CAMP GOAL IS 500 FROM CITY DOWNTOWN AREAS  \n",
       "125                             Nothing to Boast About  \n",
       "67   UNO Has Taken Civilization Step Forward, Says ...  \n",
       "\n",
       "[462 rows x 6 columns]"
      ]
     },
     "execution_count": 12,
     "metadata": {},
     "output_type": "execute_result"
    }
   ],
   "source": [
    "import pandas as pd\n",
    "import pickle\n",
    "import numpy as np\n",
    "from utils.tdmstudio import TDMStudio\n",
    "from utils.general import id2file\n",
    "data = {}\n",
    "data['ID']=[]\n",
    "data['yhat1']=[]\n",
    "data['yhat2']=[]\n",
    "data['yhat3']=[]\n",
    "data['average']=[]\n",
    "# data['URL']=[]\n",
    "data['title']=[]\n",
    "for file_ in files:\n",
    "    yhat1,yhat2,yhat3 = pickle.load(open(predictions_dirpath+file_,'rb'))\n",
    "    if yhat1>0.5 and yhat2>0.5 and yhat3>0.5:\n",
    "        data['ID'].append(file_[:-5])\n",
    "        data['yhat1'].append(yhat1)\n",
    "        data['yhat2'].append(yhat2)\n",
    "        data['yhat3'].append(yhat3)\n",
    "        data['average'].append(np.average([yhat1,yhat2,yhat3]))\n",
    "        data['title'].append(TDMStudio.get_title(id2file(file_[:-5])))\n",
    "#         data['URL'].append(f'https://proquest.com/docview/{file_[:-5]}')\n",
    "    \n",
    "#     data.append((file_,pickle.load(open(predictions_dirpath+file_,'rb'))))\n",
    "\n",
    "info(f\"Number of irrelevant (<0.5) articles discarded: {len(files)-len(data['ID']):,} ({len(files)}-{len(data['ID'])})\")\n",
    "df = pd.DataFrame(data).sort_values(by=['average'],ascending=False)\n",
    "df"
   ]
  },
  {
   "cell_type": "code",
   "execution_count": 15,
   "id": "615d54c0",
   "metadata": {},
   "outputs": [
    {
     "name": "stdout",
     "output_type": "stream",
     "text": [
      "1287517171\t1.000\t1.000\t1.000\tADMIT MORE DP's\n",
      "1291317371\t0.996\t1.000\t1.000\tMore DP's Arrive\n",
      "1313779779\t0.995\t1.000\t1.000\tPARTY ARRANGED FOR 250 DP GIRLS\n",
      "1291252277\t1.000\t0.995\t1.000\t78 DP Girls Reach Ontario To Take Position As Domestics\n",
      "1291513884\t0.987\t0.996\t1.000\tWould Like to Hear From DP's\n",
      "1313999046\t0.982\t1.000\t1.000\tShould Accept Jew DP's: Rabbi\n",
      "1314019951\t0.988\t0.992\t1.000\tWed in DP Camp, Take Vow Again\n",
      "1291196990\t0.979\t1.000\t1.000\tHELP FOR DP's\n",
      "1323652049\t0.982\t0.997\t0.997\tTruman in Plea For Europe's DP's\n",
      "1291483011\t1.000\t0.994\t0.980\tDP's Arrive to Work in Welland Mill\n",
      "....\n",
      "1293565218\t0.530\t0.695\t0.599\tSoviet Wave of Terror To Hit Czechs: Nemec\n",
      "1288810306\t0.583\t0.679\t0.562\tPerson to Person\n",
      "1291714517\t0.521\t0.654\t0.639\tThe stranger\n",
      "1282705175\t0.593\t0.557\t0.642\tHorror Story, Happy ending\n",
      "1289153107\t0.715\t0.568\t0.508\tHome Iransplanted\n",
      "1325783594\t0.643\t0.514\t0.614\tWest Rejects Soviet Demands On Repatriation\n",
      "1287231546\t0.688\t0.519\t0.552\t'Give the Immigrant Work'\n",
      "1313922463\t0.507\t0.550\t0.647\tLAKE CAMP GOAL IS 500 FROM CITY DOWNTOWN AREAS\n",
      "1316359071\t0.508\t0.573\t0.580\tNothing to Boast About\n",
      "1313857650\t0.527\t0.536\t0.508\tUNO Has Taken Civilization Step Forward, Says Martin\n"
     ]
    }
   ],
   "source": [
    "writer = open('to_export_last_round.csv', 'w')\n",
    "count=0\n",
    "cap=1000\n",
    "idx=0\n",
    "while idx<df.shape[0]:\n",
    "    id_,y1,y2,y3,avg,title = df.iloc[idx,:]\n",
    "#     title,text = TDMStudio.get_title_and_text(id2file(id_))\n",
    "    title=title.replace('\\n','')\n",
    "#     if about_canada(f'{title}. {text}'):\n",
    "    str_ = f'{id_}\\t{y1:4.3f}\\t{y2:4.3f}\\t{y3:4.3f}\\t{title}\\n'\n",
    "    writer.write(str_)\n",
    "    idx+=1\n",
    "writer.close()\n",
    "!head to_export_last_round.csv\n",
    "!echo ....\n",
    "!tail to_export_last_round.csv"
   ]
  },
  {
   "cell_type": "code",
   "execution_count": 7,
   "id": "4a614167",
   "metadata": {},
   "outputs": [
    {
     "name": "stdout",
     "output_type": "stream",
     "text": [
      "2022-03-11 13:26:01.834448 [ \u001b[1;94mINFO\u001b[0m  ] Number of discarded for not mentioning Canada: 660\n",
      "1323412960\t0.976\t1.000\t0.967\tJews in U.S. Zone Insist on Going On to Palestine\n",
      "1291263794\t0.948\t1.000\t0.992\tApparel Made by Skilful DP's Impresses Senate Committee\n",
      "1287505669\t0.959\t0.994\t0.974\tTextile Workers\n",
      "1287587801\t0.983\t0.988\t0.956\tPolish Writers Under 'Red' Pressure\n",
      "1412095279\t0.990\t0.971\t0.956\tWelcome Mat\n",
      "1325795691\t0.982\t0.997\t0.927\tOP's Influx Here Hits New Record Of 100 Each Day\n",
      "1284729689\t0.950\t0.982\t0.971\t314 Skilled Migrants Signed in West Indies\n",
      "1325698778\t0.991\t0.996\t0.911\tCanada Shortly Will Admit 6,000 Disked Persons\n",
      "1287413237\t0.929\t1.000\t0.964\tOttawa Slows Down Flow of Immigrants\n",
      "1270515457\t0.976\t0.949\t0.966\tImmigration\n"
     ]
    }
   ],
   "source": [
    "# from utils.tdmstudio import TDMStudio\n",
    "# from utils.general import id2file\n",
    "# import spacy\n",
    "# nlp = spacy.load('en_core_web_sm', disable=['textcat','ner','parser','tagger','lemmatizer'])\n",
    "# tokenizer = nlp.tokenizer\n",
    "# def tokenize(text):\n",
    "#     return [token.text for token in tokenizer(text)]\n",
    "# canada_locs = set(open('cities.txt','r').read().splitlines() + open('provinces.txt','r').read().splitlines()+['Canada'])\n",
    "\n",
    "# def about_canada(text):\n",
    "#     tokens = tokenize(text)\n",
    "#     return any([token in canada_locs for token in tokens])\n",
    "\n",
    "# writer = open('to_export_second_round.csv', 'w')\n",
    "\n",
    "# idx=0\n",
    "# while count<cap:\n",
    "#     id_,y1,y2,y3,avg = df.iloc[idx,:]\n",
    "#     title,text = TDMStudio.get_title_and_text(id2file(id_))\n",
    "#     title=title.replace('\\n','')\n",
    "#     if about_canada(f'{title}. {text}'):\n",
    "# #         str_ = f'{count+1:>3}: {id_}\\t{y1:4.3f}\\t{y2:4.3f}\\t{y3:4.3f}\\t{avg:4.3f}\\thttps://proquest.com/docview/{id_}\\t{title}\\n'\n",
    "#         str_ = f'{id_}\\t{y1:4.3f}\\t{y2:4.3f}\\t{y3:4.3f}\\t{title}\\n'\n",
    "#         writer.write(str_)\n",
    "#         count+=1\n",
    "#     idx+=1\n",
    "# writer.close()\n",
    "# # info(f'Number of discarded for not mentioning Canada: {idx-cap}')\n",
    "# !head to_export_second_round.csv"
   ]
  },
  {
   "cell_type": "code",
   "execution_count": null,
   "id": "6cc2cbb8",
   "metadata": {},
   "outputs": [],
   "source": []
  },
  {
   "cell_type": "code",
   "execution_count": 8,
   "id": "bc968a29",
   "metadata": {},
   "outputs": [
    {
     "name": "stdout",
     "output_type": "stream",
     "text": [
      "-rw-rw-r-- 1 ec2-user ec2-user 61K Mar 11 13:26 to_export_second_round.csv\n"
     ]
    }
   ],
   "source": [
    "!ls -lh to_export_second_round.csv"
   ]
  },
  {
   "cell_type": "code",
   "execution_count": 30,
   "id": "522b6421",
   "metadata": {},
   "outputs": [
    {
     "name": "stdout",
     "output_type": "stream",
     "text": [
      "2022-03-09 14:44:33.392658 [ \u001b[1;94mINFO\u001b[0m  ] 01.23 %\n"
     ]
    }
   ],
   "source": [
    "#proportion\n",
    "mask1 = (df['yhat1']>0.5).values\n",
    "mask2 = (df['yhat2']>0.5).values\n",
    "mask3 = (df['yhat3']>0.5).values\n",
    "\n",
    "meeting_requirment = df.iloc[mask1 & mask2 & mask3,:]\n",
    "\n",
    "info(f'{(meeting_requirment.shape[0]/df.shape[0])*100:04.2f} %')"
   ]
  },
  {
   "cell_type": "code",
   "execution_count": null,
   "id": "d3ef5c4c",
   "metadata": {},
   "outputs": [],
   "source": []
  },
  {
   "cell_type": "code",
   "execution_count": null,
   "id": "05c56cc7",
   "metadata": {},
   "outputs": [],
   "source": []
  }
 ],
 "metadata": {
  "kernelspec": {
   "display_name": "imm",
   "language": "python",
   "name": "imm"
  },
  "language_info": {
   "codemirror_mode": {
    "name": "ipython",
    "version": 3
   },
   "file_extension": ".py",
   "mimetype": "text/x-python",
   "name": "python",
   "nbconvert_exporter": "python",
   "pygments_lexer": "ipython3",
   "version": "3.9.7"
  }
 },
 "nbformat": 4,
 "nbformat_minor": 5
}

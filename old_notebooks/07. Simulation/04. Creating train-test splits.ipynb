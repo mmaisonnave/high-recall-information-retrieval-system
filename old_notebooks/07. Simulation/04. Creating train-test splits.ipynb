{
 "cells": [
  {
   "cell_type": "code",
   "execution_count": 44,
   "id": "5761b447",
   "metadata": {},
   "outputs": [
    {
     "name": "stdout",
     "output_type": "stream",
     "text": [
      "['1293118416;R' '1291398730;R' '1325747973;R' '1287771491;R'\n",
      " '1291249197;R']\n",
      "['1287357804;I' '1291246656;R' '1287275127;I' '1270384613;I'\n",
      " '1287637549;I']\n",
      "split #1 - train:   519/ 5825 - test:   135/ 1457\n",
      "split #2 - train:   533/ 5825 - test:   121/ 1457\n",
      "split #3 - train:   489/ 5826 - test:   165/ 1456\n",
      "split #4 - train:   536/ 5826 - test:   118/ 1456\n",
      "split #5 - train:   539/ 5826 - test:   115/ 1456\n"
     ]
    }
   ],
   "source": [
    "from sklearn.model_selection import KFold\n",
    "import numpy as np\n",
    "import sys\n",
    "sys.path.append('/home/ec2-user/SageMaker/mariano/notebooks/07. Simulation/')\n",
    "from utils.data_item import DataItem\n",
    "alldata_file = '/home/ec2-user/SageMaker/mariano/data/simulations/data/labeled_data_latest_08072022.csv'\n",
    "\n",
    "data = np.array(open(alldata_file, 'r').read().splitlines()[1:])\n",
    "print(data[:5])\n",
    "np.random.shuffle(data)\n",
    "print(data[:5])\n",
    "\n",
    "folds = {\n",
    "    'split_1': {},\n",
    "    'split_2': {},\n",
    "    'split_3': {},\n",
    "    'split_4': {},\n",
    "    'split_5': {}\n",
    "}\n",
    "\n",
    "\n",
    "kf = KFold(n_splits=5)\n",
    "i=1\n",
    "for train_args, test_args in list(kf.split(data)):\n",
    "    folds[f'split_{i}']['train']=data[train_args]\n",
    "    folds[f'split_{i}']['test']=data[test_args]\n",
    "    i+=1\n",
    "    \n",
    "def has_repeated_values(list_a,list_b):\n",
    "    set_a = set(list_a)\n",
    "    set_b = set(list_b)\n",
    "    return len(set_a.intersection(set_b))!=0\n",
    "\n",
    "data_dirpath = '/home/ec2-user/SageMaker/mariano/data/simulations/data/'\n",
    "i=1\n",
    "for split in folds:\n",
    "    train = folds[split]['train']\n",
    "    test = folds[split]['test']\n",
    "    \n",
    "    train_relevant_count=len([elem for elem in train if elem.endswith('R')])\n",
    "    train_irrelevant_count=len([elem for elem in train if elem.endswith('I')])\n",
    "    assert train_relevant_count+train_irrelevant_count==len(train)\n",
    "    \n",
    "    \n",
    "    test_relevant_count=len([elem for elem in test if elem.endswith('R')])\n",
    "    test_irrelevant_count=len([elem for elem in test if elem.endswith('I')])\n",
    "    assert test_relevant_count+test_irrelevant_count==len(test)\n",
    "    \n",
    "    print(f'split #{i} - train: {train_relevant_count:5}/{len(train):5} - test: {test_relevant_count:5}/{len(test):5}')\n",
    "    \n",
    "    assert set(train).union(set(test)) == (set(data))\n",
    "    assert not has_repeated_values(train,test)\n",
    "    \n",
    "    writer = open(data_dirpath+f'split_{i}/train.csv', 'w')\n",
    "    writer.write('id;label\\n')\n",
    "    writer.write('\\n'.join(train))\n",
    "    writer.close()\n",
    "    \n",
    "    writer = open(data_dirpath+f'split_{i}/test.csv', 'w')\n",
    "    writer.write('id;label\\n')\n",
    "    writer.write('\\n'.join(test))\n",
    "    writer.close()\n",
    "    i+=1"
   ]
  },
  {
   "cell_type": "code",
   "execution_count": 37,
   "id": "653b7ea3",
   "metadata": {},
   "outputs": [
    {
     "data": {
      "text/plain": [
       "7282"
      ]
     },
     "execution_count": 37,
     "metadata": {},
     "output_type": "execute_result"
    }
   ],
   "source": [
    "len(set(train).union(set(test)))"
   ]
  },
  {
   "cell_type": "code",
   "execution_count": 19,
   "id": "4d8b238d",
   "metadata": {},
   "outputs": [
    {
     "data": {
      "text/plain": [
       "array(['1313946262;I', '1316348093;I', '1291408681;R', '1324228783;I',\n",
       "       '1282718684;I', '1270525654;I', '1288866068;I', '1325811762;I',\n",
       "       '1291192600;R', '1284879905;I', '1284842058;I', '1270332231;I',\n",
       "       '1282799254;I', '1287326073;I', '1325729475;R', '1291164296;I'],\n",
       "      dtype='<U12')"
      ]
     },
     "execution_count": 19,
     "metadata": {},
     "output_type": "execute_result"
    }
   ],
   "source": [
    "folds['split_1']['train']"
   ]
  },
  {
   "cell_type": "code",
   "execution_count": 13,
   "id": "dd31d262",
   "metadata": {},
   "outputs": [
    {
     "name": "stdout",
     "output_type": "stream",
     "text": [
      "[ 4  5  6  7  8  9 10 11 12 13 14 15 16 17 18 19]\n",
      "[0 1 2 3]\n",
      "\n",
      "[ 0  1  2  3  8  9 10 11 12 13 14 15 16 17 18 19]\n",
      "[4 5 6 7]\n",
      "\n",
      "[ 0  1  2  3  4  5  6  7 12 13 14 15 16 17 18 19]\n",
      "[ 8  9 10 11]\n",
      "\n",
      "[ 0  1  2  3  4  5  6  7  8  9 10 11 16 17 18 19]\n",
      "[12 13 14 15]\n",
      "\n",
      "[ 0  1  2  3  4  5  6  7  8  9 10 11 12 13 14 15]\n",
      "[16 17 18 19]\n",
      "\n"
     ]
    }
   ],
   "source": [
    "from sklearn.model_selection import StratifiedKFold, KFold\n",
    "import numpy as np\n",
    "all_arguments = list(range(20))\n",
    "kf = KFold(n_splits=5)\n",
    "\n",
    "for train_args, test_args in list(kf.split(all_arguments)):\n",
    "    print(train_args)\n",
    "    print(test_args)\n",
    "    print()"
   ]
  },
  {
   "cell_type": "code",
   "execution_count": 5,
   "id": "b54ccecd",
   "metadata": {},
   "outputs": [
    {
     "name": "stdout",
     "output_type": "stream",
     "text": [
      "dataset size:   7,282\n",
      "training size:  5,825\n",
      "testing size:   1,457\n"
     ]
    }
   ],
   "source": [
    "import numpy as np\n",
    "import os\n",
    "\n",
    "random_generator = np.random.default_rng(2022)\n",
    "\n",
    "testing_ratio = 0.2\n",
    "training_ratio = 0.8\n",
    "dataset_size = len(data)\n",
    "training_size = int(dataset_size*training_ratio)\n",
    "testing_size = dataset_size - training_size\n",
    "print(f'dataset size:  {dataset_size:6,}')\n",
    "print(f'training size: {training_size:6,}')\n",
    "print(f'testing size:  {testing_size:6,}')\n",
    "assert testing_size+training_size==dataset_size\n",
    "assert testing_ratio+training_ratio==1\n",
    "\n",
    "data_dirpath = '/home/ec2-user/SageMaker/mariano/data/simulations/data/'\n",
    "assert os.path.exists(data_dirpath)\n",
    "\n",
    "no_of_splits=5\n",
    "\n",
    "for i in range(1,1+no_of_splits):\n",
    "    training_args = random_generator.choice(range(dataset_size), size=training_size,replace=False)\n",
    "    testing_args  = [arg for arg in range(dataset_size) if not arg in training_args]\n",
    "    assert len(set(training_args).intersection(set(testing_args)))==0\n",
    "    assert len(set(training_args).union(set(testing_args)))==dataset_size\n",
    "    assert len(set(training_args))==len(training_args)\n",
    "    assert len(set(testing_args))==len(testing_args)\n",
    "    \n",
    "    training_data = [data[arg] for arg in training_args]\n",
    "    testing_data  = [data[arg] for arg in testing_args]\n",
    "    \n",
    "    assert len(set(training_data).intersection(testing_data))==0\n",
    "    assert len(set(training_data).union(testing_data))==dataset_size\n",
    "    \n",
    "    if not os.path.exists(data_dirpath+f'split_{i}/'):\n",
    "        os.mkdir(data_dirpath+f'split_{i}/')\n",
    "        \n",
    "    training_writer = open(data_dirpath+f'split_{i}/train.csv', 'w')\n",
    "    training_writer.write('id;label\\n')\n",
    "    for elem in training_data:\n",
    "        training_writer.write(elem+'\\n')\n",
    "    \n",
    "    testing_writer = open(data_dirpath+f'split_{i}/test.csv', 'w')\n",
    "    testing_writer.write('id;label\\n')\n",
    "    for elem in testing_data:\n",
    "        testing_writer.write(elem+'\\n')\n",
    "    \n",
    "    "
   ]
  },
  {
   "cell_type": "code",
   "execution_count": 12,
   "id": "fbcd569e",
   "metadata": {},
   "outputs": [],
   "source": [
    "np.random.choice?"
   ]
  },
  {
   "cell_type": "code",
   "execution_count": null,
   "id": "2b88a266",
   "metadata": {},
   "outputs": [],
   "source": []
  }
 ],
 "metadata": {
  "kernelspec": {
   "display_name": "bert",
   "language": "python",
   "name": "bert"
  },
  "language_info": {
   "codemirror_mode": {
    "name": "ipython",
    "version": 3
   },
   "file_extension": ".py",
   "mimetype": "text/x-python",
   "name": "python",
   "nbconvert_exporter": "python",
   "pygments_lexer": "ipython3",
   "version": "3.7.12"
  }
 },
 "nbformat": 4,
 "nbformat_minor": 5
}

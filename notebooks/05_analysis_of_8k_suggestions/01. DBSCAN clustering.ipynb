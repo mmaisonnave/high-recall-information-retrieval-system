{
 "cells": [
  {
   "cell_type": "code",
   "execution_count": 1,
   "id": "c7b3d2fd",
   "metadata": {},
   "outputs": [
    {
     "ename": "NameError",
     "evalue": "name 'tdmstudio' is not defined",
     "output_type": "error",
     "traceback": [
      "\u001b[0;31m---------------------------------------------------------------------------\u001b[0m",
      "\u001b[0;31mNameError\u001b[0m                                 Traceback (most recent call last)",
      "\u001b[0;32m/tmp/ipykernel_117835/2565082505.py\u001b[0m in \u001b[0;36m<module>\u001b[0;34m\u001b[0m\n\u001b[1;32m      3\u001b[0m \u001b[0;34m\u001b[0m\u001b[0m\n\u001b[1;32m      4\u001b[0m \u001b[0mdf\u001b[0m \u001b[0;34m=\u001b[0m \u001b[0mpd\u001b[0m\u001b[0;34m.\u001b[0m\u001b[0mread_csv\u001b[0m\u001b[0;34m(\u001b[0m\u001b[0mdatapath\u001b[0m\u001b[0;34m)\u001b[0m\u001b[0;34m\u001b[0m\u001b[0;34m\u001b[0m\u001b[0m\n\u001b[0;32m----> 5\u001b[0;31m \u001b[0mdf\u001b[0m\u001b[0;34m[\u001b[0m\u001b[0;34m'text'\u001b[0m\u001b[0;34m]\u001b[0m \u001b[0;34m=\u001b[0m \u001b[0mlist\u001b[0m\u001b[0;34m(\u001b[0m\u001b[0mmap\u001b[0m\u001b[0;34m(\u001b[0m\u001b[0;32mlambda\u001b[0m \u001b[0mid_\u001b[0m\u001b[0;34m:\u001b[0m \u001b[0mtdmstudio\u001b[0m\u001b[0;34m.\u001b[0m\u001b[0mget_title_and_text\u001b[0m\u001b[0;34m(\u001b[0m\u001b[0mtdmstudio\u001b[0m\u001b[0;34m.\u001b[0m\u001b[0mget_filename\u001b[0m\u001b[0;34m(\u001b[0m\u001b[0mstr\u001b[0m\u001b[0;34m(\u001b[0m\u001b[0mid_\u001b[0m\u001b[0;34m)\u001b[0m\u001b[0;34m)\u001b[0m\u001b[0;34m)\u001b[0m\u001b[0;34m,\u001b[0m \u001b[0mdf\u001b[0m\u001b[0;34m[\u001b[0m\u001b[0;34m'id'\u001b[0m\u001b[0;34m]\u001b[0m\u001b[0;34m)\u001b[0m\u001b[0;34m)\u001b[0m\u001b[0;34m\u001b[0m\u001b[0;34m\u001b[0m\u001b[0m\n\u001b[0m\u001b[1;32m      6\u001b[0m \u001b[0mdf\u001b[0m\u001b[0;34m.\u001b[0m\u001b[0mhead\u001b[0m\u001b[0;34m(\u001b[0m\u001b[0;34m)\u001b[0m\u001b[0;34m\u001b[0m\u001b[0;34m\u001b[0m\u001b[0m\n",
      "\u001b[0;32m/tmp/ipykernel_117835/2565082505.py\u001b[0m in \u001b[0;36m<lambda>\u001b[0;34m(id_)\u001b[0m\n\u001b[1;32m      3\u001b[0m \u001b[0;34m\u001b[0m\u001b[0m\n\u001b[1;32m      4\u001b[0m \u001b[0mdf\u001b[0m \u001b[0;34m=\u001b[0m \u001b[0mpd\u001b[0m\u001b[0;34m.\u001b[0m\u001b[0mread_csv\u001b[0m\u001b[0;34m(\u001b[0m\u001b[0mdatapath\u001b[0m\u001b[0;34m)\u001b[0m\u001b[0;34m\u001b[0m\u001b[0;34m\u001b[0m\u001b[0m\n\u001b[0;32m----> 5\u001b[0;31m \u001b[0mdf\u001b[0m\u001b[0;34m[\u001b[0m\u001b[0;34m'text'\u001b[0m\u001b[0;34m]\u001b[0m \u001b[0;34m=\u001b[0m \u001b[0mlist\u001b[0m\u001b[0;34m(\u001b[0m\u001b[0mmap\u001b[0m\u001b[0;34m(\u001b[0m\u001b[0;32mlambda\u001b[0m \u001b[0mid_\u001b[0m\u001b[0;34m:\u001b[0m \u001b[0mtdmstudio\u001b[0m\u001b[0;34m.\u001b[0m\u001b[0mget_title_and_text\u001b[0m\u001b[0;34m(\u001b[0m\u001b[0mtdmstudio\u001b[0m\u001b[0;34m.\u001b[0m\u001b[0mget_filename\u001b[0m\u001b[0;34m(\u001b[0m\u001b[0mstr\u001b[0m\u001b[0;34m(\u001b[0m\u001b[0mid_\u001b[0m\u001b[0;34m)\u001b[0m\u001b[0;34m)\u001b[0m\u001b[0;34m)\u001b[0m\u001b[0;34m,\u001b[0m \u001b[0mdf\u001b[0m\u001b[0;34m[\u001b[0m\u001b[0;34m'id'\u001b[0m\u001b[0;34m]\u001b[0m\u001b[0;34m)\u001b[0m\u001b[0;34m)\u001b[0m\u001b[0;34m\u001b[0m\u001b[0;34m\u001b[0m\u001b[0m\n\u001b[0m\u001b[1;32m      6\u001b[0m \u001b[0mdf\u001b[0m\u001b[0;34m.\u001b[0m\u001b[0mhead\u001b[0m\u001b[0;34m(\u001b[0m\u001b[0;34m)\u001b[0m\u001b[0;34m\u001b[0m\u001b[0;34m\u001b[0m\u001b[0m\n",
      "\u001b[0;31mNameError\u001b[0m: name 'tdmstudio' is not defined"
     ]
    }
   ],
   "source": [
    "import pandas as pd\n",
    "datapath = '/home/ec2-user/SageMaker/mariano/datasets/multiculturalism/files/new_scores.csv'\n",
    "\n",
    "df = pd.read_csv(datapath)\n",
    "df['text'] = list(map(lambda id_: tdmstudio.get_title_and_text(tdmstudio.get_filename(str(id_))), df['id']))\n",
    "df.head()"
   ]
  },
  {
   "cell_type": "code",
   "execution_count": 4,
   "id": "48ffc397",
   "metadata": {},
   "outputs": [],
   "source": [
    "import sys\n",
    "sys.path.append('/home/ec2-user/SageMaker/mariano/repositories/tdmstudio-high-recall-information-retrieval-system/')\n",
    "from utils import tdmstudio\n",
    "from utils import nlp_auxiliary\n",
    "vectorizer = nlp_auxiliary.get_default_vectorizer()\n",
    "\n",
    "X = vectorizer.fit_transform(df['text'])"
   ]
  },
  {
   "cell_type": "code",
   "execution_count": 17,
   "id": "07a3e6c6",
   "metadata": {},
   "outputs": [
    {
     "data": {
      "text/plain": [
       "array([-1,  0, -1, ..., -1, -1, -1])"
      ]
     },
     "execution_count": 17,
     "metadata": {},
     "output_type": "execute_result"
    }
   ],
   "source": [
    "from utils import io\n",
    "from sklearn.cluster import DBSCAN\n",
    "dbscan=DBSCAN(metric='cosine', eps=0.5, min_samples=2, )\n",
    "clustering = dbscan.fit(X)\n",
    "clustering.labels_\n",
    "io.info(f'NUmber of clusters found: {len(set(clustering.labels_))}')\n",
    "df['dbscan label']=clustering.labels_"
   ]
  },
  {
   "cell_type": "code",
   "execution_count": 69,
   "id": "c42b7961",
   "metadata": {},
   "outputs": [],
   "source": [
    "import numpy as np\n",
    "from numpy.linalg import norm\n",
    "def cosine_similiarity_between(A:np.ndarray, B: np.ndarray)->float:\n",
    "    \"\"\"Similarity between two numpy arrays (1.0: equal)\"\"\"\n",
    "    return np.dot(A,B)/(norm(A)*norm(B))\n",
    "\n"
   ]
  },
  {
   "cell_type": "code",
   "execution_count": 36,
   "id": "45ce6075",
   "metadata": {},
   "outputs": [
    {
     "data": {
      "text/plain": [
       "(array([6.2831870e+06, 1.4718856e+07, 7.2834090e+06, 2.6833870e+06,\n",
       "        1.0260240e+06, 4.2600100e+05, 1.9190400e+05, 9.2558000e+04,\n",
       "        4.6924000e+04, 2.4543000e+04, 1.3457000e+04, 7.5190000e+03,\n",
       "        4.4140000e+03, 2.6060000e+03, 1.5360000e+03, 1.0040000e+03,\n",
       "        5.8000000e+02, 4.1300000e+02, 2.5000000e+02, 1.4600000e+02,\n",
       "        1.1000000e+02, 8.3000000e+01, 5.0000000e+01, 2.6000000e+01,\n",
       "        1.4000000e+01, 6.0000000e+00, 5.0000000e+00, 7.0000000e+00,\n",
       "        1.5000000e+01, 1.6000000e+01]),\n",
       " array([0.        , 0.03333333, 0.06666667, 0.1       , 0.13333333,\n",
       "        0.16666667, 0.2       , 0.23333333, 0.26666667, 0.3       ,\n",
       "        0.33333333, 0.36666667, 0.4       , 0.43333333, 0.46666667,\n",
       "        0.5       , 0.53333333, 0.56666667, 0.6       , 0.63333333,\n",
       "        0.66666667, 0.7       , 0.73333333, 0.76666667, 0.8       ,\n",
       "        0.83333333, 0.86666667, 0.9       , 0.93333333, 0.96666667,\n",
       "        1.        ]),\n",
       " <BarContainer object of 30 artists>)"
      ]
     },
     "execution_count": 36,
     "metadata": {},
     "output_type": "execute_result"
    },
    {
     "data": {
      "image/png": "[encoded data removed]",
      "text/plain": [
       "<Figure size 720x720 with 1 Axes>"
      ]
     },
     "metadata": {
      "needs_background": "light"
     },
     "output_type": "display_data"
    }
   ],
   "source": [
    "import matplotlib.pyplot as plt \n",
    "fig, ax = plt.subplots(1, figsize=(10,10))\n",
    "distances=[]\n",
    "for ix1 in range(X.shape[0]):\n",
    "    for ix2 in range(ix1, X.shape[0]):\n",
    "        if ix1!= ix2:\n",
    "            distances.append(cosine_similiarity(X[ix1,:].toarray()[0,:], X[ix2,:].toarray()[0,:]))\n",
    "ax.hist(distances, bins=30)"
   ]
  },
  {
   "cell_type": "code",
   "execution_count": 37,
   "id": "4d451a04",
   "metadata": {},
   "outputs": [
    {
     "data": {
      "text/plain": [
       "(array([ 107786.,  423752., 1098605., 1957004., 2696021., 3135464.,\n",
       "        3243848., 3101691., 2803944., 2433887., 2059693., 1713408.,\n",
       "        1411978., 1154300.,  944048.,  769318.,  629266.,  514125.,\n",
       "         422925.,  347769.,  287602.,  237493.,  198388.,  164815.,\n",
       "         137728.,  116066.,   97439.,   82238.,   70397.,   59866.]),\n",
       " array([0.        , 0.00666666, 0.01333332, 0.01999997, 0.02666663,\n",
       "        0.03333329, 0.03999995, 0.0466666 , 0.05333326, 0.05999992,\n",
       "        0.06666658, 0.07333323, 0.07999989, 0.08666655, 0.09333321,\n",
       "        0.09999987, 0.10666652, 0.11333318, 0.11999984, 0.1266665 ,\n",
       "        0.13333315, 0.13999981, 0.14666647, 0.15333313, 0.15999978,\n",
       "        0.16666644, 0.1733331 , 0.17999976, 0.18666641, 0.19333307,\n",
       "        0.19999973]),\n",
       " <BarContainer object of 30 artists>)"
      ]
     },
     "execution_count": 37,
     "metadata": {},
     "output_type": "execute_result"
    },
    {
     "data": {
      "image/png": "[encoded data removed]",
      "text/plain": [
       "<Figure size 720x720 with 1 Axes>"
      ]
     },
     "metadata": {
      "needs_background": "light"
     },
     "output_type": "display_data"
    }
   ],
   "source": [
    "import matplotlib.pyplot as plt \n",
    "fig, ax = plt.subplots(1, figsize=(10,10))\n",
    "\n",
    "ax.hist([d for d in distances if d<0.2], bins=30)"
   ]
  },
  {
   "cell_type": "code",
   "execution_count": 41,
   "id": "2d6f126f",
   "metadata": {},
   "outputs": [
    {
     "name": "stdout",
     "output_type": "stream",
     "text": [
      "2022-12-21 21:36:51.561936 [ \u001b[1;94mINFO\u001b[0m  ] eps=0.0250 - NUmber of clusters found: 12\n",
      "2022-12-21 21:36:51.562820 [ \u001b[1;94mINFO\u001b[0m  ] cluster   0 number of instances: 3\n",
      "2022-12-21 21:36:51.562921 [ \u001b[1;94mINFO\u001b[0m  ] cluster   1 number of instances: 2\n",
      "2022-12-21 21:36:51.563008 [ \u001b[1;94mINFO\u001b[0m  ] cluster   2 number of instances: 2\n",
      "2022-12-21 21:36:51.563094 [ \u001b[1;94mINFO\u001b[0m  ] cluster   3 number of instances: 2\n",
      "2022-12-21 21:36:51.563177 [ \u001b[1;94mINFO\u001b[0m  ] cluster   4 number of instances: 2\n",
      "2022-12-21 21:36:51.563260 [ \u001b[1;94mINFO\u001b[0m  ] cluster   5 number of instances: 2\n",
      "2022-12-21 21:36:51.563341 [ \u001b[1;94mINFO\u001b[0m  ] cluster   6 number of instances: 2\n",
      "2022-12-21 21:36:51.563426 [ \u001b[1;94mINFO\u001b[0m  ] cluster   7 number of instances: 2\n",
      "2022-12-21 21:36:51.563509 [ \u001b[1;94mINFO\u001b[0m  ] cluster   8 number of instances: 2\n",
      "2022-12-21 21:36:51.563591 [ \u001b[1;94mINFO\u001b[0m  ] cluster   9 number of instances: 2\n",
      "2022-12-21 21:36:51.563673 [ \u001b[1;94mINFO\u001b[0m  ] cluster  10 number of instances: 2\n",
      "2022-12-21 21:36:51.563756 [ \u001b[1;94mINFO\u001b[0m  ] cluster  -1 number of instances: 8078\n",
      "2022-12-21 21:37:00.516117 [ \u001b[1;94mINFO\u001b[0m  ] eps=0.0500 - NUmber of clusters found: 13\n",
      "2022-12-21 21:37:00.517031 [ \u001b[1;94mINFO\u001b[0m  ] cluster   0 number of instances: 5\n",
      "2022-12-21 21:37:00.517130 [ \u001b[1;94mINFO\u001b[0m  ] cluster   1 number of instances: 3\n",
      "2022-12-21 21:37:00.517216 [ \u001b[1;94mINFO\u001b[0m  ] cluster   2 number of instances: 4\n",
      "2022-12-21 21:37:00.517301 [ \u001b[1;94mINFO\u001b[0m  ] cluster   3 number of instances: 3\n",
      "2022-12-21 21:37:00.517383 [ \u001b[1;94mINFO\u001b[0m  ] cluster   4 number of instances: 2\n",
      "2022-12-21 21:37:00.517465 [ \u001b[1;94mINFO\u001b[0m  ] cluster   5 number of instances: 2\n",
      "2022-12-21 21:37:00.517549 [ \u001b[1;94mINFO\u001b[0m  ] cluster   6 number of instances: 2\n",
      "2022-12-21 21:37:00.517631 [ \u001b[1;94mINFO\u001b[0m  ] cluster   7 number of instances: 2\n",
      "2022-12-21 21:37:00.517713 [ \u001b[1;94mINFO\u001b[0m  ] cluster   8 number of instances: 2\n",
      "2022-12-21 21:37:00.517795 [ \u001b[1;94mINFO\u001b[0m  ] cluster   9 number of instances: 2\n",
      "2022-12-21 21:37:00.517878 [ \u001b[1;94mINFO\u001b[0m  ] cluster  10 number of instances: 2\n",
      "2022-12-21 21:37:00.517961 [ \u001b[1;94mINFO\u001b[0m  ] cluster  11 number of instances: 2\n",
      "2022-12-21 21:37:00.518045 [ \u001b[1;94mINFO\u001b[0m  ] cluster  -1 number of instances: 8070\n",
      "2022-12-21 21:37:09.468571 [ \u001b[1;94mINFO\u001b[0m  ] eps=0.1000 - NUmber of clusters found: 16\n",
      "2022-12-21 21:37:09.469477 [ \u001b[1;94mINFO\u001b[0m  ] cluster   0 number of instances: 2\n",
      "2022-12-21 21:37:09.469580 [ \u001b[1;94mINFO\u001b[0m  ] cluster   1 number of instances: 5\n",
      "2022-12-21 21:37:09.469669 [ \u001b[1;94mINFO\u001b[0m  ] cluster   2 number of instances: 3\n",
      "2022-12-21 21:37:09.469754 [ \u001b[1;94mINFO\u001b[0m  ] cluster   3 number of instances: 4\n",
      "2022-12-21 21:37:09.469839 [ \u001b[1;94mINFO\u001b[0m  ] cluster   4 number of instances: 4\n",
      "2022-12-21 21:37:09.469921 [ \u001b[1;94mINFO\u001b[0m  ] cluster   5 number of instances: 2\n",
      "2022-12-21 21:37:09.470006 [ \u001b[1;94mINFO\u001b[0m  ] cluster   6 number of instances: 2\n",
      "2022-12-21 21:37:09.470091 [ \u001b[1;94mINFO\u001b[0m  ] cluster   7 number of instances: 2\n",
      "2022-12-21 21:37:09.470173 [ \u001b[1;94mINFO\u001b[0m  ] cluster   8 number of instances: 2\n",
      "2022-12-21 21:37:09.470255 [ \u001b[1;94mINFO\u001b[0m  ] cluster   9 number of instances: 2\n",
      "2022-12-21 21:37:09.470338 [ \u001b[1;94mINFO\u001b[0m  ] cluster  10 number of instances: 2\n",
      "2022-12-21 21:37:09.470421 [ \u001b[1;94mINFO\u001b[0m  ] cluster  11 number of instances: 2\n",
      "2022-12-21 21:37:09.470503 [ \u001b[1;94mINFO\u001b[0m  ] cluster  12 number of instances: 2\n",
      "2022-12-21 21:37:09.470585 [ \u001b[1;94mINFO\u001b[0m  ] cluster  13 number of instances: 3\n",
      "2022-12-21 21:37:09.470667 [ \u001b[1;94mINFO\u001b[0m  ] cluster  14 number of instances: 2\n",
      "2022-12-21 21:37:09.470751 [ \u001b[1;94mINFO\u001b[0m  ] cluster  -1 number of instances: 8062\n",
      "2022-12-21 21:37:18.427293 [ \u001b[1;94mINFO\u001b[0m  ] eps=0.5000 - NUmber of clusters found: 345\n",
      "2022-12-21 21:37:18.428172 [ \u001b[1;94mINFO\u001b[0m  ] cluster   0 number of instances: 2\n",
      "2022-12-21 21:37:18.428269 [ \u001b[1;94mINFO\u001b[0m  ] cluster   1 number of instances: 133\n",
      "2022-12-21 21:37:18.428357 [ \u001b[1;94mINFO\u001b[0m  ] cluster   2 number of instances: 2\n",
      "2022-12-21 21:37:18.428445 [ \u001b[1;94mINFO\u001b[0m  ] cluster   3 number of instances: 3\n",
      "2022-12-21 21:37:18.428528 [ \u001b[1;94mINFO\u001b[0m  ] cluster   4 number of instances: 15\n",
      "2022-12-21 21:37:18.428611 [ \u001b[1;94mINFO\u001b[0m  ] cluster   5 number of instances: 4\n",
      "2022-12-21 21:37:18.428693 [ \u001b[1;94mINFO\u001b[0m  ] cluster   6 number of instances: 3\n",
      "2022-12-21 21:37:18.428779 [ \u001b[1;94mINFO\u001b[0m  ] cluster   7 number of instances: 2\n",
      "2022-12-21 21:37:18.428861 [ \u001b[1;94mINFO\u001b[0m  ] cluster   8 number of instances: 2\n",
      "2022-12-21 21:37:18.428965 [ \u001b[1;94mINFO\u001b[0m  ] cluster   9 number of instances: 2\n",
      "2022-12-21 21:37:18.429050 [ \u001b[1;94mINFO\u001b[0m  ] cluster  10 number of instances: 2\n",
      "2022-12-21 21:37:18.429134 [ \u001b[1;94mINFO\u001b[0m  ] cluster  11 number of instances: 9\n",
      "2022-12-21 21:37:18.429218 [ \u001b[1;94mINFO\u001b[0m  ] cluster  12 number of instances: 5\n",
      "2022-12-21 21:37:18.429301 [ \u001b[1;94mINFO\u001b[0m  ] cluster  13 number of instances: 5\n",
      "2022-12-21 21:37:18.429384 [ \u001b[1;94mINFO\u001b[0m  ] cluster  14 number of instances: 10\n",
      "2022-12-21 21:37:18.429467 [ \u001b[1;94mINFO\u001b[0m  ] cluster  15 number of instances: 2\n",
      "2022-12-21 21:37:18.429548 [ \u001b[1;94mINFO\u001b[0m  ] cluster  16 number of instances: 4\n",
      "2022-12-21 21:37:18.429629 [ \u001b[1;94mINFO\u001b[0m  ] cluster  17 number of instances: 68\n",
      "2022-12-21 21:37:18.429711 [ \u001b[1;94mINFO\u001b[0m  ] cluster  18 number of instances: 15\n",
      "2022-12-21 21:37:18.429792 [ \u001b[1;94mINFO\u001b[0m  ] cluster  19 number of instances: 2\n",
      "2022-12-21 21:37:18.429873 [ \u001b[1;94mINFO\u001b[0m  ] cluster  20 number of instances: 11\n",
      "2022-12-21 21:37:18.429954 [ \u001b[1;94mINFO\u001b[0m  ] cluster  21 number of instances: 2\n",
      "2022-12-21 21:37:18.430036 [ \u001b[1;94mINFO\u001b[0m  ] cluster  22 number of instances: 6\n",
      "2022-12-21 21:37:18.430125 [ \u001b[1;94mINFO\u001b[0m  ] cluster  23 number of instances: 24\n",
      "2022-12-21 21:37:18.430206 [ \u001b[1;94mINFO\u001b[0m  ] cluster  24 number of instances: 4\n",
      "2022-12-21 21:37:18.430287 [ \u001b[1;94mINFO\u001b[0m  ] cluster  25 number of instances: 4\n",
      "2022-12-21 21:37:18.430369 [ \u001b[1;94mINFO\u001b[0m  ] cluster  26 number of instances: 4\n",
      "2022-12-21 21:37:18.430450 [ \u001b[1;94mINFO\u001b[0m  ] cluster  27 number of instances: 10\n",
      "2022-12-21 21:37:18.430531 [ \u001b[1;94mINFO\u001b[0m  ] cluster  28 number of instances: 88\n",
      "2022-12-21 21:37:18.430613 [ \u001b[1;94mINFO\u001b[0m  ] cluster  29 number of instances: 3\n",
      "2022-12-21 21:37:18.430694 [ \u001b[1;94mINFO\u001b[0m  ] cluster  30 number of instances: 9\n",
      "2022-12-21 21:37:18.430775 [ \u001b[1;94mINFO\u001b[0m  ] cluster  31 number of instances: 2\n",
      "2022-12-21 21:37:18.430857 [ \u001b[1;94mINFO\u001b[0m  ] cluster  32 number of instances: 2\n",
      "2022-12-21 21:37:18.430938 [ \u001b[1;94mINFO\u001b[0m  ] cluster  33 number of instances: 2\n",
      "2022-12-21 21:37:18.431019 [ \u001b[1;94mINFO\u001b[0m  ] cluster  34 number of instances: 15\n",
      "2022-12-21 21:37:18.431100 [ \u001b[1;94mINFO\u001b[0m  ] cluster  35 number of instances: 6\n",
      "2022-12-21 21:37:18.431181 [ \u001b[1;94mINFO\u001b[0m  ] cluster  36 number of instances: 2\n",
      "2022-12-21 21:37:18.431262 [ \u001b[1;94mINFO\u001b[0m  ] cluster  37 number of instances: 4\n",
      "2022-12-21 21:37:18.431343 [ \u001b[1;94mINFO\u001b[0m  ] cluster  38 number of instances: 5\n",
      "2022-12-21 21:37:18.431427 [ \u001b[1;94mINFO\u001b[0m  ] cluster  39 number of instances: 2\n",
      "2022-12-21 21:37:18.431509 [ \u001b[1;94mINFO\u001b[0m  ] cluster  40 number of instances: 3\n",
      "2022-12-21 21:37:18.431590 [ \u001b[1;94mINFO\u001b[0m  ] cluster  41 number of instances: 9\n",
      "2022-12-21 21:37:18.431672 [ \u001b[1;94mINFO\u001b[0m  ] cluster  42 number of instances: 2\n",
      "2022-12-21 21:37:18.431753 [ \u001b[1;94mINFO\u001b[0m  ] cluster  43 number of instances: 5\n",
      "2022-12-21 21:37:18.431835 [ \u001b[1;94mINFO\u001b[0m  ] cluster  44 number of instances: 3\n",
      "2022-12-21 21:37:18.431917 [ \u001b[1;94mINFO\u001b[0m  ] cluster  45 number of instances: 4\n",
      "2022-12-21 21:37:18.431998 [ \u001b[1;94mINFO\u001b[0m  ] cluster  46 number of instances: 2\n",
      "2022-12-21 21:37:18.432080 [ \u001b[1;94mINFO\u001b[0m  ] cluster  47 number of instances: 4\n",
      "2022-12-21 21:37:18.432160 [ \u001b[1;94mINFO\u001b[0m  ] cluster  48 number of instances: 2\n",
      "2022-12-21 21:37:18.432241 [ \u001b[1;94mINFO\u001b[0m  ] cluster  49 number of instances: 4\n",
      "2022-12-21 21:37:18.432323 [ \u001b[1;94mINFO\u001b[0m  ] cluster  50 number of instances: 2\n",
      "2022-12-21 21:37:18.432404 [ \u001b[1;94mINFO\u001b[0m  ] cluster  51 number of instances: 19\n",
      "2022-12-21 21:37:18.432485 [ \u001b[1;94mINFO\u001b[0m  ] cluster  52 number of instances: 2\n",
      "2022-12-21 21:37:18.432566 [ \u001b[1;94mINFO\u001b[0m  ] cluster  53 number of instances: 2\n",
      "2022-12-21 21:37:18.432647 [ \u001b[1;94mINFO\u001b[0m  ] cluster  54 number of instances: 3\n",
      "2022-12-21 21:37:18.432725 [ \u001b[1;94mINFO\u001b[0m  ] cluster  55 number of instances: 2\n",
      "2022-12-21 21:37:18.432801 [ \u001b[1;94mINFO\u001b[0m  ] cluster  56 number of instances: 4\n",
      "2022-12-21 21:37:18.432882 [ \u001b[1;94mINFO\u001b[0m  ] cluster  57 number of instances: 3\n",
      "2022-12-21 21:37:18.432994 [ \u001b[1;94mINFO\u001b[0m  ] cluster  58 number of instances: 7\n",
      "2022-12-21 21:37:18.433076 [ \u001b[1;94mINFO\u001b[0m  ] cluster  59 number of instances: 4\n",
      "2022-12-21 21:37:18.433157 [ \u001b[1;94mINFO\u001b[0m  ] cluster  60 number of instances: 13\n",
      "2022-12-21 21:37:18.433238 [ \u001b[1;94mINFO\u001b[0m  ] cluster  61 number of instances: 4\n",
      "2022-12-21 21:37:18.433319 [ \u001b[1;94mINFO\u001b[0m  ] cluster  62 number of instances: 2\n",
      "2022-12-21 21:37:18.433400 [ \u001b[1;94mINFO\u001b[0m  ] cluster  63 number of instances: 3\n",
      "2022-12-21 21:37:18.433481 [ \u001b[1;94mINFO\u001b[0m  ] cluster  64 number of instances: 6\n",
      "2022-12-21 21:37:18.433562 [ \u001b[1;94mINFO\u001b[0m  ] cluster  65 number of instances: 2\n",
      "2022-12-21 21:37:18.433643 [ \u001b[1;94mINFO\u001b[0m  ] cluster  66 number of instances: 2\n",
      "2022-12-21 21:37:18.433723 [ \u001b[1;94mINFO\u001b[0m  ] cluster  67 number of instances: 6\n",
      "2022-12-21 21:37:18.433805 [ \u001b[1;94mINFO\u001b[0m  ] cluster  68 number of instances: 3\n",
      "2022-12-21 21:37:18.436968 [ \u001b[1;94mINFO\u001b[0m  ] cluster  69 number of instances: 2\n",
      "2022-12-21 21:37:18.437062 [ \u001b[1;94mINFO\u001b[0m  ] cluster  70 number of instances: 4\n",
      "2022-12-21 21:37:18.437144 [ \u001b[1;94mINFO\u001b[0m  ] cluster  71 number of instances: 5\n",
      "2022-12-21 21:37:18.437225 [ \u001b[1;94mINFO\u001b[0m  ] cluster  72 number of instances: 3\n",
      "2022-12-21 21:37:18.437301 [ \u001b[1;94mINFO\u001b[0m  ] cluster  73 number of instances: 2\n",
      "2022-12-21 21:37:18.437376 [ \u001b[1;94mINFO\u001b[0m  ] cluster  74 number of instances: 2\n",
      "2022-12-21 21:37:18.437451 [ \u001b[1;94mINFO\u001b[0m  ] cluster  75 number of instances: 7\n",
      "2022-12-21 21:37:18.437532 [ \u001b[1;94mINFO\u001b[0m  ] cluster  76 number of instances: 3\n",
      "2022-12-21 21:37:18.437607 [ \u001b[1;94mINFO\u001b[0m  ] cluster  77 number of instances: 4\n",
      "2022-12-21 21:37:18.437682 [ \u001b[1;94mINFO\u001b[0m  ] cluster  78 number of instances: 14\n",
      "2022-12-21 21:37:18.437757 [ \u001b[1;94mINFO\u001b[0m  ] cluster  79 number of instances: 2\n",
      "2022-12-21 21:37:18.437838 [ \u001b[1;94mINFO\u001b[0m  ] cluster  80 number of instances: 2\n",
      "2022-12-21 21:37:18.437913 [ \u001b[1;94mINFO\u001b[0m  ] cluster  81 number of instances: 2\n",
      "2022-12-21 21:37:18.437995 [ \u001b[1;94mINFO\u001b[0m  ] cluster  82 number of instances: 2\n",
      "2022-12-21 21:37:18.438076 [ \u001b[1;94mINFO\u001b[0m  ] cluster  83 number of instances: 2\n",
      "2022-12-21 21:37:18.438151 [ \u001b[1;94mINFO\u001b[0m  ] cluster  84 number of instances: 11\n",
      "2022-12-21 21:37:18.438232 [ \u001b[1;94mINFO\u001b[0m  ] cluster  85 number of instances: 4\n",
      "2022-12-21 21:37:18.438307 [ \u001b[1;94mINFO\u001b[0m  ] cluster  86 number of instances: 2\n",
      "2022-12-21 21:37:18.438390 [ \u001b[1;94mINFO\u001b[0m  ] cluster  87 number of instances: 2\n",
      "2022-12-21 21:37:18.438471 [ \u001b[1;94mINFO\u001b[0m  ] cluster  88 number of instances: 3\n",
      "2022-12-21 21:37:18.438552 [ \u001b[1;94mINFO\u001b[0m  ] cluster  89 number of instances: 2\n",
      "2022-12-21 21:37:18.438633 [ \u001b[1;94mINFO\u001b[0m  ] cluster  90 number of instances: 2\n",
      "2022-12-21 21:37:18.438714 [ \u001b[1;94mINFO\u001b[0m  ] cluster  91 number of instances: 3\n",
      "2022-12-21 21:37:18.438794 [ \u001b[1;94mINFO\u001b[0m  ] cluster  92 number of instances: 2\n",
      "2022-12-21 21:37:18.438875 [ \u001b[1;94mINFO\u001b[0m  ] cluster  93 number of instances: 2\n",
      "2022-12-21 21:37:18.438951 [ \u001b[1;94mINFO\u001b[0m  ] cluster  94 number of instances: 4\n",
      "2022-12-21 21:37:18.439032 [ \u001b[1;94mINFO\u001b[0m  ] cluster  95 number of instances: 2\n",
      "2022-12-21 21:37:18.439113 [ \u001b[1;94mINFO\u001b[0m  ] cluster  96 number of instances: 2\n",
      "2022-12-21 21:37:18.439188 [ \u001b[1;94mINFO\u001b[0m  ] cluster  97 number of instances: 2\n",
      "2022-12-21 21:37:18.439269 [ \u001b[1;94mINFO\u001b[0m  ] cluster  98 number of instances: 2\n",
      "2022-12-21 21:37:18.439349 [ \u001b[1;94mINFO\u001b[0m  ] cluster  99 number of instances: 3\n",
      "2022-12-21 21:37:18.439430 [ \u001b[1;94mINFO\u001b[0m  ] cluster 100 number of instances: 5\n",
      "2022-12-21 21:37:18.439510 [ \u001b[1;94mINFO\u001b[0m  ] cluster 101 number of instances: 2\n",
      "2022-12-21 21:37:18.439591 [ \u001b[1;94mINFO\u001b[0m  ] cluster 102 number of instances: 4\n",
      "2022-12-21 21:37:18.439672 [ \u001b[1;94mINFO\u001b[0m  ] cluster 103 number of instances: 28\n",
      "2022-12-21 21:37:18.439755 [ \u001b[1;94mINFO\u001b[0m  ] cluster 104 number of instances: 12\n",
      "2022-12-21 21:37:18.439836 [ \u001b[1;94mINFO\u001b[0m  ] cluster 105 number of instances: 3\n",
      "2022-12-21 21:37:18.439917 [ \u001b[1;94mINFO\u001b[0m  ] cluster 106 number of instances: 2\n",
      "2022-12-21 21:37:18.439998 [ \u001b[1;94mINFO\u001b[0m  ] cluster 107 number of instances: 9\n",
      "2022-12-21 21:37:18.440080 [ \u001b[1;94mINFO\u001b[0m  ] cluster 108 number of instances: 3\n",
      "2022-12-21 21:37:18.440161 [ \u001b[1;94mINFO\u001b[0m  ] cluster 109 number of instances: 9\n",
      "2022-12-21 21:37:18.440242 [ \u001b[1;94mINFO\u001b[0m  ] cluster 110 number of instances: 10\n",
      "2022-12-21 21:37:18.440323 [ \u001b[1;94mINFO\u001b[0m  ] cluster 111 number of instances: 2\n",
      "2022-12-21 21:37:18.440404 [ \u001b[1;94mINFO\u001b[0m  ] cluster 112 number of instances: 2\n",
      "2022-12-21 21:37:18.440484 [ \u001b[1;94mINFO\u001b[0m  ] cluster 113 number of instances: 2\n",
      "2022-12-21 21:37:18.440565 [ \u001b[1;94mINFO\u001b[0m  ] cluster 114 number of instances: 3\n",
      "2022-12-21 21:37:18.440645 [ \u001b[1;94mINFO\u001b[0m  ] cluster 115 number of instances: 2\n",
      "2022-12-21 21:37:18.440721 [ \u001b[1;94mINFO\u001b[0m  ] cluster 116 number of instances: 2\n",
      "2022-12-21 21:37:18.440802 [ \u001b[1;94mINFO\u001b[0m  ] cluster 117 number of instances: 2\n",
      "2022-12-21 21:37:18.440877 [ \u001b[1;94mINFO\u001b[0m  ] cluster 118 number of instances: 3\n",
      "2022-12-21 21:37:18.446001 [ \u001b[1;94mINFO\u001b[0m  ] cluster 119 number of instances: 6\n",
      "2022-12-21 21:37:18.446092 [ \u001b[1;94mINFO\u001b[0m  ] cluster 120 number of instances: 2\n",
      "2022-12-21 21:37:18.446174 [ \u001b[1;94mINFO\u001b[0m  ] cluster 121 number of instances: 2\n",
      "2022-12-21 21:37:18.446256 [ \u001b[1;94mINFO\u001b[0m  ] cluster 122 number of instances: 12\n",
      "2022-12-21 21:37:18.446336 [ \u001b[1;94mINFO\u001b[0m  ] cluster 123 number of instances: 2\n",
      "2022-12-21 21:37:18.446417 [ \u001b[1;94mINFO\u001b[0m  ] cluster 124 number of instances: 2\n",
      "2022-12-21 21:37:18.446497 [ \u001b[1;94mINFO\u001b[0m  ] cluster 125 number of instances: 8\n",
      "2022-12-21 21:37:18.446580 [ \u001b[1;94mINFO\u001b[0m  ] cluster 126 number of instances: 2\n",
      "2022-12-21 21:37:18.446661 [ \u001b[1;94mINFO\u001b[0m  ] cluster 127 number of instances: 3\n",
      "2022-12-21 21:37:18.446742 [ \u001b[1;94mINFO\u001b[0m  ] cluster 128 number of instances: 4\n",
      "2022-12-21 21:37:18.446822 [ \u001b[1;94mINFO\u001b[0m  ] cluster 129 number of instances: 3\n",
      "2022-12-21 21:37:18.446896 [ \u001b[1;94mINFO\u001b[0m  ] cluster 130 number of instances: 2\n",
      "2022-12-21 21:37:18.446972 [ \u001b[1;94mINFO\u001b[0m  ] cluster 131 number of instances: 2\n",
      "2022-12-21 21:37:18.447052 [ \u001b[1;94mINFO\u001b[0m  ] cluster 132 number of instances: 9\n",
      "2022-12-21 21:37:18.447132 [ \u001b[1;94mINFO\u001b[0m  ] cluster 133 number of instances: 7\n",
      "2022-12-21 21:37:18.447212 [ \u001b[1;94mINFO\u001b[0m  ] cluster 134 number of instances: 4\n",
      "2022-12-21 21:37:18.447292 [ \u001b[1;94mINFO\u001b[0m  ] cluster 135 number of instances: 12\n",
      "2022-12-21 21:37:18.447372 [ \u001b[1;94mINFO\u001b[0m  ] cluster 136 number of instances: 4\n",
      "2022-12-21 21:37:18.447454 [ \u001b[1;94mINFO\u001b[0m  ] cluster 137 number of instances: 8\n",
      "2022-12-21 21:37:18.447535 [ \u001b[1;94mINFO\u001b[0m  ] cluster 138 number of instances: 3\n",
      "2022-12-21 21:37:18.447615 [ \u001b[1;94mINFO\u001b[0m  ] cluster 139 number of instances: 2\n",
      "2022-12-21 21:37:18.447696 [ \u001b[1;94mINFO\u001b[0m  ] cluster 140 number of instances: 4\n",
      "2022-12-21 21:37:18.447771 [ \u001b[1;94mINFO\u001b[0m  ] cluster 141 number of instances: 3\n",
      "2022-12-21 21:37:18.447851 [ \u001b[1;94mINFO\u001b[0m  ] cluster 142 number of instances: 4\n",
      "2022-12-21 21:37:18.447931 [ \u001b[1;94mINFO\u001b[0m  ] cluster 143 number of instances: 6\n",
      "2022-12-21 21:37:18.448012 [ \u001b[1;94mINFO\u001b[0m  ] cluster 144 number of instances: 3\n",
      "2022-12-21 21:37:18.448093 [ \u001b[1;94mINFO\u001b[0m  ] cluster 145 number of instances: 2\n",
      "2022-12-21 21:37:18.448173 [ \u001b[1;94mINFO\u001b[0m  ] cluster 146 number of instances: 2\n",
      "2022-12-21 21:37:18.448249 [ \u001b[1;94mINFO\u001b[0m  ] cluster 147 number of instances: 8\n",
      "2022-12-21 21:37:18.448329 [ \u001b[1;94mINFO\u001b[0m  ] cluster 148 number of instances: 5\n",
      "2022-12-21 21:37:18.448409 [ \u001b[1;94mINFO\u001b[0m  ] cluster 149 number of instances: 6\n",
      "2022-12-21 21:37:18.448490 [ \u001b[1;94mINFO\u001b[0m  ] cluster 150 number of instances: 3\n",
      "2022-12-21 21:37:18.448570 [ \u001b[1;94mINFO\u001b[0m  ] cluster 151 number of instances: 2\n",
      "2022-12-21 21:37:18.448650 [ \u001b[1;94mINFO\u001b[0m  ] cluster 152 number of instances: 2\n",
      "2022-12-21 21:37:18.448731 [ \u001b[1;94mINFO\u001b[0m  ] cluster 153 number of instances: 2\n",
      "2022-12-21 21:37:18.448814 [ \u001b[1;94mINFO\u001b[0m  ] cluster 154 number of instances: 2\n",
      "2022-12-21 21:37:18.448895 [ \u001b[1;94mINFO\u001b[0m  ] cluster 155 number of instances: 3\n",
      "2022-12-21 21:37:18.448995 [ \u001b[1;94mINFO\u001b[0m  ] cluster 156 number of instances: 3\n",
      "2022-12-21 21:37:18.449076 [ \u001b[1;94mINFO\u001b[0m  ] cluster 157 number of instances: 2\n",
      "2022-12-21 21:37:18.449151 [ \u001b[1;94mINFO\u001b[0m  ] cluster 158 number of instances: 6\n",
      "2022-12-21 21:37:18.449232 [ \u001b[1;94mINFO\u001b[0m  ] cluster 159 number of instances: 2\n",
      "2022-12-21 21:37:18.449307 [ \u001b[1;94mINFO\u001b[0m  ] cluster 160 number of instances: 2\n",
      "2022-12-21 21:37:18.449382 [ \u001b[1;94mINFO\u001b[0m  ] cluster 161 number of instances: 5\n",
      "2022-12-21 21:37:18.449462 [ \u001b[1;94mINFO\u001b[0m  ] cluster 162 number of instances: 6\n",
      "2022-12-21 21:37:18.449542 [ \u001b[1;94mINFO\u001b[0m  ] cluster 163 number of instances: 7\n",
      "2022-12-21 21:37:18.449623 [ \u001b[1;94mINFO\u001b[0m  ] cluster 164 number of instances: 2\n",
      "2022-12-21 21:37:18.449703 [ \u001b[1;94mINFO\u001b[0m  ] cluster 165 number of instances: 2\n",
      "2022-12-21 21:37:18.449784 [ \u001b[1;94mINFO\u001b[0m  ] cluster 166 number of instances: 2\n",
      "2022-12-21 21:37:18.449864 [ \u001b[1;94mINFO\u001b[0m  ] cluster 167 number of instances: 2\n",
      "2022-12-21 21:37:18.449939 [ \u001b[1;94mINFO\u001b[0m  ] cluster 168 number of instances: 2\n",
      "2022-12-21 21:37:18.450014 [ \u001b[1;94mINFO\u001b[0m  ] cluster 169 number of instances: 2\n",
      "2022-12-21 21:37:18.450095 [ \u001b[1;94mINFO\u001b[0m  ] cluster 170 number of instances: 5\n",
      "2022-12-21 21:37:18.450177 [ \u001b[1;94mINFO\u001b[0m  ] cluster 171 number of instances: 2\n",
      "2022-12-21 21:37:18.450258 [ \u001b[1;94mINFO\u001b[0m  ] cluster 172 number of instances: 2\n",
      "2022-12-21 21:37:18.450339 [ \u001b[1;94mINFO\u001b[0m  ] cluster 173 number of instances: 2\n",
      "2022-12-21 21:37:18.450419 [ \u001b[1;94mINFO\u001b[0m  ] cluster 174 number of instances: 2\n",
      "2022-12-21 21:37:18.450499 [ \u001b[1;94mINFO\u001b[0m  ] cluster 175 number of instances: 2\n",
      "2022-12-21 21:37:18.450580 [ \u001b[1;94mINFO\u001b[0m  ] cluster 176 number of instances: 2\n",
      "2022-12-21 21:37:18.450660 [ \u001b[1;94mINFO\u001b[0m  ] cluster 177 number of instances: 2\n",
      "2022-12-21 21:37:18.450740 [ \u001b[1;94mINFO\u001b[0m  ] cluster 178 number of instances: 3\n",
      "2022-12-21 21:37:18.450820 [ \u001b[1;94mINFO\u001b[0m  ] cluster 179 number of instances: 5\n",
      "2022-12-21 21:37:18.450900 [ \u001b[1;94mINFO\u001b[0m  ] cluster 180 number of instances: 2\n",
      "2022-12-21 21:37:18.450980 [ \u001b[1;94mINFO\u001b[0m  ] cluster 181 number of instances: 2\n",
      "2022-12-21 21:37:18.451060 [ \u001b[1;94mINFO\u001b[0m  ] cluster 182 number of instances: 2\n",
      "2022-12-21 21:37:18.451140 [ \u001b[1;94mINFO\u001b[0m  ] cluster 183 number of instances: 2\n",
      "2022-12-21 21:37:18.451220 [ \u001b[1;94mINFO\u001b[0m  ] cluster 184 number of instances: 2\n",
      "2022-12-21 21:37:18.451296 [ \u001b[1;94mINFO\u001b[0m  ] cluster 185 number of instances: 2\n",
      "2022-12-21 21:37:18.451371 [ \u001b[1;94mINFO\u001b[0m  ] cluster 186 number of instances: 16\n",
      "2022-12-21 21:37:18.451446 [ \u001b[1;94mINFO\u001b[0m  ] cluster 187 number of instances: 2\n",
      "2022-12-21 21:37:18.451528 [ \u001b[1;94mINFO\u001b[0m  ] cluster 188 number of instances: 2\n",
      "2022-12-21 21:37:18.451768 [ \u001b[1;94mINFO\u001b[0m  ] cluster 189 number of instances: 4\n",
      "2022-12-21 21:37:18.451855 [ \u001b[1;94mINFO\u001b[0m  ] cluster 190 number of instances: 2\n",
      "2022-12-21 21:37:18.451938 [ \u001b[1;94mINFO\u001b[0m  ] cluster 191 number of instances: 2\n",
      "2022-12-21 21:37:18.452020 [ \u001b[1;94mINFO\u001b[0m  ] cluster 192 number of instances: 3\n",
      "2022-12-21 21:37:18.452101 [ \u001b[1;94mINFO\u001b[0m  ] cluster 193 number of instances: 34\n",
      "2022-12-21 21:37:18.452183 [ \u001b[1;94mINFO\u001b[0m  ] cluster 194 number of instances: 2\n",
      "2022-12-21 21:37:18.452265 [ \u001b[1;94mINFO\u001b[0m  ] cluster 195 number of instances: 2\n",
      "2022-12-21 21:37:18.452346 [ \u001b[1;94mINFO\u001b[0m  ] cluster 196 number of instances: 4\n",
      "2022-12-21 21:37:18.452428 [ \u001b[1;94mINFO\u001b[0m  ] cluster 197 number of instances: 2\n",
      "2022-12-21 21:37:18.452509 [ \u001b[1;94mINFO\u001b[0m  ] cluster 198 number of instances: 8\n",
      "2022-12-21 21:37:18.452590 [ \u001b[1;94mINFO\u001b[0m  ] cluster 199 number of instances: 3\n",
      "2022-12-21 21:37:18.452671 [ \u001b[1;94mINFO\u001b[0m  ] cluster 200 number of instances: 3\n",
      "2022-12-21 21:37:18.452755 [ \u001b[1;94mINFO\u001b[0m  ] cluster 201 number of instances: 2\n",
      "2022-12-21 21:37:18.452839 [ \u001b[1;94mINFO\u001b[0m  ] cluster 202 number of instances: 2\n",
      "2022-12-21 21:37:18.452936 [ \u001b[1;94mINFO\u001b[0m  ] cluster 203 number of instances: 3\n",
      "2022-12-21 21:37:18.453019 [ \u001b[1;94mINFO\u001b[0m  ] cluster 204 number of instances: 2\n",
      "2022-12-21 21:37:18.453109 [ \u001b[1;94mINFO\u001b[0m  ] cluster 205 number of instances: 2\n",
      "2022-12-21 21:37:18.453190 [ \u001b[1;94mINFO\u001b[0m  ] cluster 206 number of instances: 2\n",
      "2022-12-21 21:37:18.453272 [ \u001b[1;94mINFO\u001b[0m  ] cluster 207 number of instances: 2\n",
      "2022-12-21 21:37:18.453354 [ \u001b[1;94mINFO\u001b[0m  ] cluster 208 number of instances: 3\n",
      "2022-12-21 21:37:18.453435 [ \u001b[1;94mINFO\u001b[0m  ] cluster 209 number of instances: 4\n",
      "2022-12-21 21:37:18.453516 [ \u001b[1;94mINFO\u001b[0m  ] cluster 210 number of instances: 2\n",
      "2022-12-21 21:37:18.453596 [ \u001b[1;94mINFO\u001b[0m  ] cluster 211 number of instances: 5\n",
      "2022-12-21 21:37:18.453677 [ \u001b[1;94mINFO\u001b[0m  ] cluster 212 number of instances: 2\n",
      "2022-12-21 21:37:18.453758 [ \u001b[1;94mINFO\u001b[0m  ] cluster 213 number of instances: 2\n",
      "2022-12-21 21:37:18.453840 [ \u001b[1;94mINFO\u001b[0m  ] cluster 214 number of instances: 2\n",
      "2022-12-21 21:37:18.453921 [ \u001b[1;94mINFO\u001b[0m  ] cluster 215 number of instances: 2\n",
      "2022-12-21 21:37:18.454001 [ \u001b[1;94mINFO\u001b[0m  ] cluster 216 number of instances: 2\n",
      "2022-12-21 21:37:18.454082 [ \u001b[1;94mINFO\u001b[0m  ] cluster 217 number of instances: 2\n",
      "2022-12-21 21:37:18.454165 [ \u001b[1;94mINFO\u001b[0m  ] cluster 218 number of instances: 2\n",
      "2022-12-21 21:37:18.454246 [ \u001b[1;94mINFO\u001b[0m  ] cluster 219 number of instances: 2\n",
      "2022-12-21 21:37:18.454326 [ \u001b[1;94mINFO\u001b[0m  ] cluster 220 number of instances: 4\n",
      "2022-12-21 21:37:18.454407 [ \u001b[1;94mINFO\u001b[0m  ] cluster 221 number of instances: 4\n",
      "2022-12-21 21:37:18.454487 [ \u001b[1;94mINFO\u001b[0m  ] cluster 222 number of instances: 15\n",
      "2022-12-21 21:37:18.454568 [ \u001b[1;94mINFO\u001b[0m  ] cluster 223 number of instances: 9\n",
      "2022-12-21 21:37:18.454649 [ \u001b[1;94mINFO\u001b[0m  ] cluster 224 number of instances: 2\n",
      "2022-12-21 21:37:18.454731 [ \u001b[1;94mINFO\u001b[0m  ] cluster 225 number of instances: 2\n",
      "2022-12-21 21:37:18.454812 [ \u001b[1;94mINFO\u001b[0m  ] cluster 226 number of instances: 4\n",
      "2022-12-21 21:37:18.454892 [ \u001b[1;94mINFO\u001b[0m  ] cluster 227 number of instances: 2\n",
      "2022-12-21 21:37:18.454973 [ \u001b[1;94mINFO\u001b[0m  ] cluster 228 number of instances: 2\n",
      "2022-12-21 21:37:18.455053 [ \u001b[1;94mINFO\u001b[0m  ] cluster 229 number of instances: 2\n",
      "2022-12-21 21:37:18.455133 [ \u001b[1;94mINFO\u001b[0m  ] cluster 230 number of instances: 5\n",
      "2022-12-21 21:37:18.455214 [ \u001b[1;94mINFO\u001b[0m  ] cluster 231 number of instances: 6\n",
      "2022-12-21 21:37:18.455294 [ \u001b[1;94mINFO\u001b[0m  ] cluster 232 number of instances: 2\n",
      "2022-12-21 21:37:18.455374 [ \u001b[1;94mINFO\u001b[0m  ] cluster 233 number of instances: 3\n",
      "2022-12-21 21:37:18.455454 [ \u001b[1;94mINFO\u001b[0m  ] cluster 234 number of instances: 2\n",
      "2022-12-21 21:37:18.455536 [ \u001b[1;94mINFO\u001b[0m  ] cluster 235 number of instances: 13\n",
      "2022-12-21 21:37:18.455617 [ \u001b[1;94mINFO\u001b[0m  ] cluster 236 number of instances: 5\n",
      "2022-12-21 21:37:18.455697 [ \u001b[1;94mINFO\u001b[0m  ] cluster 237 number of instances: 5\n",
      "2022-12-21 21:37:18.455777 [ \u001b[1;94mINFO\u001b[0m  ] cluster 238 number of instances: 4\n",
      "2022-12-21 21:37:18.455857 [ \u001b[1;94mINFO\u001b[0m  ] cluster 239 number of instances: 3\n",
      "2022-12-21 21:37:18.455937 [ \u001b[1;94mINFO\u001b[0m  ] cluster 240 number of instances: 4\n",
      "2022-12-21 21:37:18.456012 [ \u001b[1;94mINFO\u001b[0m  ] cluster 241 number of instances: 2\n",
      "2022-12-21 21:37:18.456092 [ \u001b[1;94mINFO\u001b[0m  ] cluster 242 number of instances: 2\n",
      "2022-12-21 21:37:18.456174 [ \u001b[1;94mINFO\u001b[0m  ] cluster 243 number of instances: 5\n",
      "2022-12-21 21:37:18.456255 [ \u001b[1;94mINFO\u001b[0m  ] cluster 244 number of instances: 2\n",
      "2022-12-21 21:37:18.456335 [ \u001b[1;94mINFO\u001b[0m  ] cluster 245 number of instances: 4\n",
      "2022-12-21 21:37:18.456416 [ \u001b[1;94mINFO\u001b[0m  ] cluster 246 number of instances: 3\n",
      "2022-12-21 21:37:18.456496 [ \u001b[1;94mINFO\u001b[0m  ] cluster 247 number of instances: 5\n",
      "2022-12-21 21:37:18.456578 [ \u001b[1;94mINFO\u001b[0m  ] cluster 248 number of instances: 7\n",
      "2022-12-21 21:37:18.456658 [ \u001b[1;94mINFO\u001b[0m  ] cluster 249 number of instances: 9\n",
      "2022-12-21 21:37:18.456733 [ \u001b[1;94mINFO\u001b[0m  ] cluster 250 number of instances: 5\n",
      "2022-12-21 21:37:18.456813 [ \u001b[1;94mINFO\u001b[0m  ] cluster 251 number of instances: 4\n",
      "2022-12-21 21:37:18.456896 [ \u001b[1;94mINFO\u001b[0m  ] cluster 252 number of instances: 2\n",
      "2022-12-21 21:37:18.456987 [ \u001b[1;94mINFO\u001b[0m  ] cluster 253 number of instances: 3\n",
      "2022-12-21 21:37:18.457068 [ \u001b[1;94mINFO\u001b[0m  ] cluster 254 number of instances: 6\n",
      "2022-12-21 21:37:18.457143 [ \u001b[1;94mINFO\u001b[0m  ] cluster 255 number of instances: 8\n",
      "2022-12-21 21:37:18.457217 [ \u001b[1;94mINFO\u001b[0m  ] cluster 256 number of instances: 2\n",
      "2022-12-21 21:37:18.457297 [ \u001b[1;94mINFO\u001b[0m  ] cluster 257 number of instances: 3\n",
      "2022-12-21 21:37:18.457377 [ \u001b[1;94mINFO\u001b[0m  ] cluster 258 number of instances: 5\n",
      "2022-12-21 21:37:18.457451 [ \u001b[1;94mINFO\u001b[0m  ] cluster 259 number of instances: 8\n",
      "2022-12-21 21:37:18.457532 [ \u001b[1;94mINFO\u001b[0m  ] cluster 260 number of instances: 4\n",
      "2022-12-21 21:37:18.457612 [ \u001b[1;94mINFO\u001b[0m  ] cluster 261 number of instances: 2\n",
      "2022-12-21 21:37:18.457688 [ \u001b[1;94mINFO\u001b[0m  ] cluster 262 number of instances: 18\n",
      "2022-12-21 21:37:18.457768 [ \u001b[1;94mINFO\u001b[0m  ] cluster 263 number of instances: 2\n",
      "2022-12-21 21:37:18.457850 [ \u001b[1;94mINFO\u001b[0m  ] cluster 264 number of instances: 3\n",
      "2022-12-21 21:37:18.457931 [ \u001b[1;94mINFO\u001b[0m  ] cluster 265 number of instances: 6\n",
      "2022-12-21 21:37:18.458005 [ \u001b[1;94mINFO\u001b[0m  ] cluster 266 number of instances: 2\n",
      "2022-12-21 21:37:18.458085 [ \u001b[1;94mINFO\u001b[0m  ] cluster 267 number of instances: 2\n",
      "2022-12-21 21:37:18.458166 [ \u001b[1;94mINFO\u001b[0m  ] cluster 268 number of instances: 3\n",
      "2022-12-21 21:37:18.458248 [ \u001b[1;94mINFO\u001b[0m  ] cluster 269 number of instances: 3\n",
      "2022-12-21 21:37:18.458329 [ \u001b[1;94mINFO\u001b[0m  ] cluster 270 number of instances: 3\n",
      "2022-12-21 21:37:18.458404 [ \u001b[1;94mINFO\u001b[0m  ] cluster 271 number of instances: 2\n",
      "2022-12-21 21:37:18.458483 [ \u001b[1;94mINFO\u001b[0m  ] cluster 272 number of instances: 2\n",
      "2022-12-21 21:37:18.458558 [ \u001b[1;94mINFO\u001b[0m  ] cluster 273 number of instances: 3\n",
      "2022-12-21 21:37:18.458633 [ \u001b[1;94mINFO\u001b[0m  ] cluster 274 number of instances: 5\n",
      "2022-12-21 21:37:18.458707 [ \u001b[1;94mINFO\u001b[0m  ] cluster 275 number of instances: 2\n",
      "2022-12-21 21:37:18.458787 [ \u001b[1;94mINFO\u001b[0m  ] cluster 276 number of instances: 2\n",
      "2022-12-21 21:37:18.458861 [ \u001b[1;94mINFO\u001b[0m  ] cluster 277 number of instances: 3\n",
      "2022-12-21 21:37:18.458936 [ \u001b[1;94mINFO\u001b[0m  ] cluster 278 number of instances: 5\n",
      "2022-12-21 21:37:18.459016 [ \u001b[1;94mINFO\u001b[0m  ] cluster 279 number of instances: 2\n",
      "2022-12-21 21:37:18.459090 [ \u001b[1;94mINFO\u001b[0m  ] cluster 280 number of instances: 2\n",
      "2022-12-21 21:37:18.459171 [ \u001b[1;94mINFO\u001b[0m  ] cluster 281 number of instances: 2\n",
      "2022-12-21 21:37:18.459250 [ \u001b[1;94mINFO\u001b[0m  ] cluster 282 number of instances: 4\n",
      "2022-12-21 21:37:18.459332 [ \u001b[1;94mINFO\u001b[0m  ] cluster 283 number of instances: 3\n",
      "2022-12-21 21:37:18.459406 [ \u001b[1;94mINFO\u001b[0m  ] cluster 284 number of instances: 2\n",
      "2022-12-21 21:37:18.459487 [ \u001b[1;94mINFO\u001b[0m  ] cluster 285 number of instances: 2\n",
      "2022-12-21 21:37:18.459569 [ \u001b[1;94mINFO\u001b[0m  ] cluster 286 number of instances: 2\n",
      "2022-12-21 21:37:18.459649 [ \u001b[1;94mINFO\u001b[0m  ] cluster 287 number of instances: 2\n",
      "2022-12-21 21:37:18.459730 [ \u001b[1;94mINFO\u001b[0m  ] cluster 288 number of instances: 3\n",
      "2022-12-21 21:37:18.459811 [ \u001b[1;94mINFO\u001b[0m  ] cluster 289 number of instances: 2\n",
      "2022-12-21 21:37:18.459886 [ \u001b[1;94mINFO\u001b[0m  ] cluster 290 number of instances: 2\n",
      "2022-12-21 21:37:18.459963 [ \u001b[1;94mINFO\u001b[0m  ] cluster 291 number of instances: 2\n",
      "2022-12-21 21:37:18.460044 [ \u001b[1;94mINFO\u001b[0m  ] cluster 292 number of instances: 2\n",
      "2022-12-21 21:37:18.460125 [ \u001b[1;94mINFO\u001b[0m  ] cluster 293 number of instances: 3\n",
      "2022-12-21 21:37:18.460205 [ \u001b[1;94mINFO\u001b[0m  ] cluster 294 number of instances: 2\n",
      "2022-12-21 21:37:18.460286 [ \u001b[1;94mINFO\u001b[0m  ] cluster 295 number of instances: 2\n",
      "2022-12-21 21:37:18.460360 [ \u001b[1;94mINFO\u001b[0m  ] cluster 296 number of instances: 3\n",
      "2022-12-21 21:37:18.460441 [ \u001b[1;94mINFO\u001b[0m  ] cluster 297 number of instances: 2\n",
      "2022-12-21 21:37:18.460524 [ \u001b[1;94mINFO\u001b[0m  ] cluster 298 number of instances: 2\n",
      "2022-12-21 21:37:18.460605 [ \u001b[1;94mINFO\u001b[0m  ] cluster 299 number of instances: 2\n",
      "2022-12-21 21:37:18.460686 [ \u001b[1;94mINFO\u001b[0m  ] cluster 300 number of instances: 2\n",
      "2022-12-21 21:37:18.460760 [ \u001b[1;94mINFO\u001b[0m  ] cluster 301 number of instances: 2\n",
      "2022-12-21 21:37:18.460835 [ \u001b[1;94mINFO\u001b[0m  ] cluster 302 number of instances: 2\n",
      "2022-12-21 21:37:18.460942 [ \u001b[1;94mINFO\u001b[0m  ] cluster 303 number of instances: 5\n",
      "2022-12-21 21:37:18.461025 [ \u001b[1;94mINFO\u001b[0m  ] cluster 304 number of instances: 2\n",
      "2022-12-21 21:37:18.461099 [ \u001b[1;94mINFO\u001b[0m  ] cluster 305 number of instances: 2\n",
      "2022-12-21 21:37:18.461226 [ \u001b[1;94mINFO\u001b[0m  ] cluster 306 number of instances: 2\n",
      "2022-12-21 21:37:18.461307 [ \u001b[1;94mINFO\u001b[0m  ] cluster 307 number of instances: 2\n",
      "2022-12-21 21:37:18.461382 [ \u001b[1;94mINFO\u001b[0m  ] cluster 308 number of instances: 2\n",
      "2022-12-21 21:37:18.461456 [ \u001b[1;94mINFO\u001b[0m  ] cluster 309 number of instances: 3\n",
      "2022-12-21 21:37:18.461531 [ \u001b[1;94mINFO\u001b[0m  ] cluster 310 number of instances: 3\n",
      "2022-12-21 21:37:18.461605 [ \u001b[1;94mINFO\u001b[0m  ] cluster 311 number of instances: 3\n",
      "2022-12-21 21:37:18.461679 [ \u001b[1;94mINFO\u001b[0m  ] cluster 312 number of instances: 2\n",
      "2022-12-21 21:37:18.461760 [ \u001b[1;94mINFO\u001b[0m  ] cluster 313 number of instances: 3\n",
      "2022-12-21 21:37:18.461835 [ \u001b[1;94mINFO\u001b[0m  ] cluster 314 number of instances: 2\n",
      "2022-12-21 21:37:18.461910 [ \u001b[1;94mINFO\u001b[0m  ] cluster 315 number of instances: 2\n",
      "2022-12-21 21:37:18.461985 [ \u001b[1;94mINFO\u001b[0m  ] cluster 316 number of instances: 2\n",
      "2022-12-21 21:37:18.462060 [ \u001b[1;94mINFO\u001b[0m  ] cluster 317 number of instances: 4\n",
      "2022-12-21 21:37:18.462141 [ \u001b[1;94mINFO\u001b[0m  ] cluster 318 number of instances: 2\n",
      "2022-12-21 21:37:18.462223 [ \u001b[1;94mINFO\u001b[0m  ] cluster 319 number of instances: 3\n",
      "2022-12-21 21:37:18.462304 [ \u001b[1;94mINFO\u001b[0m  ] cluster 320 number of instances: 6\n",
      "2022-12-21 21:37:18.462379 [ \u001b[1;94mINFO\u001b[0m  ] cluster 321 number of instances: 3\n",
      "2022-12-21 21:37:18.462454 [ \u001b[1;94mINFO\u001b[0m  ] cluster 322 number of instances: 2\n",
      "2022-12-21 21:37:18.462528 [ \u001b[1;94mINFO\u001b[0m  ] cluster 323 number of instances: 2\n",
      "2022-12-21 21:37:18.462603 [ \u001b[1;94mINFO\u001b[0m  ] cluster 324 number of instances: 2\n",
      "2022-12-21 21:37:18.462685 [ \u001b[1;94mINFO\u001b[0m  ] cluster 325 number of instances: 2\n",
      "2022-12-21 21:37:18.462760 [ \u001b[1;94mINFO\u001b[0m  ] cluster 326 number of instances: 3\n",
      "2022-12-21 21:37:18.462835 [ \u001b[1;94mINFO\u001b[0m  ] cluster 327 number of instances: 2\n",
      "2022-12-21 21:37:18.462915 [ \u001b[1;94mINFO\u001b[0m  ] cluster 328 number of instances: 2\n",
      "2022-12-21 21:37:18.462990 [ \u001b[1;94mINFO\u001b[0m  ] cluster 329 number of instances: 2\n",
      "2022-12-21 21:37:18.463066 [ \u001b[1;94mINFO\u001b[0m  ] cluster 330 number of instances: 3\n",
      "2022-12-21 21:37:18.463147 [ \u001b[1;94mINFO\u001b[0m  ] cluster 331 number of instances: 2\n",
      "2022-12-21 21:37:18.463228 [ \u001b[1;94mINFO\u001b[0m  ] cluster 332 number of instances: 5\n",
      "2022-12-21 21:37:18.463303 [ \u001b[1;94mINFO\u001b[0m  ] cluster 333 number of instances: 2\n",
      "2022-12-21 21:37:18.463377 [ \u001b[1;94mINFO\u001b[0m  ] cluster 334 number of instances: 2\n",
      "2022-12-21 21:37:18.463458 [ \u001b[1;94mINFO\u001b[0m  ] cluster 335 number of instances: 2\n",
      "2022-12-21 21:37:18.463539 [ \u001b[1;94mINFO\u001b[0m  ] cluster 336 number of instances: 2\n",
      "2022-12-21 21:37:18.463622 [ \u001b[1;94mINFO\u001b[0m  ] cluster 337 number of instances: 2\n",
      "2022-12-21 21:37:18.463697 [ \u001b[1;94mINFO\u001b[0m  ] cluster 338 number of instances: 2\n",
      "2022-12-21 21:37:18.463777 [ \u001b[1;94mINFO\u001b[0m  ] cluster 339 number of instances: 4\n",
      "2022-12-21 21:37:18.463852 [ \u001b[1;94mINFO\u001b[0m  ] cluster 340 number of instances: 3\n",
      "2022-12-21 21:37:18.463927 [ \u001b[1;94mINFO\u001b[0m  ] cluster 341 number of instances: 2\n",
      "2022-12-21 21:37:18.464001 [ \u001b[1;94mINFO\u001b[0m  ] cluster 342 number of instances: 2\n",
      "2022-12-21 21:37:18.464075 [ \u001b[1;94mINFO\u001b[0m  ] cluster 343 number of instances: 2\n",
      "2022-12-21 21:37:18.464161 [ \u001b[1;94mINFO\u001b[0m  ] cluster  -1 number of instances: 6482\n"
     ]
    }
   ],
   "source": [
    "from sklearn.cluster import DBSCAN\n",
    "for eps in [0.025, 0.050 , 0.1, 0.5]:\n",
    "    dbscan=DBSCAN(metric='cosine', eps=eps, min_samples=2, )\n",
    "    clustering = dbscan.fit(X)\n",
    "#     clustering.labels_\n",
    "    io.info(f'eps={eps:5.4f} - NUmber of clusters found: {len(set(clustering.labels_))}')\n",
    "    for cluster in set(clustering.labels_):\n",
    "        io.info(f'cluster {cluster:3} number of instances: {np.sum(clustering.labels_==cluster)}')\n",
    "#     df['dbscan label']=clustering.labels_"
   ]
  },
  {
   "cell_type": "markdown",
   "id": "14661a0b",
   "metadata": {},
   "source": [
    "# ELBOW"
   ]
  },
  {
   "cell_type": "code",
   "execution_count": 42,
   "id": "8e192a0a",
   "metadata": {},
   "outputs": [
    {
     "data": {
      "text/plain": [
       "0.06382504931233553"
      ]
     },
     "execution_count": 42,
     "metadata": {},
     "output_type": "execute_result"
    }
   ],
   "source": [
    "np.average(distances)"
   ]
  },
  {
   "cell_type": "code",
   "execution_count": 59,
   "id": "5812f0d4",
   "metadata": {},
   "outputs": [
    {
     "name": "stdout",
     "output_type": "stream",
     "text": [
      "2022-12-21 21:59:09.726437 [ \u001b[1;94mINFO\u001b[0m  ] eps=0.5000 - NUmber of clusters found: 378\n"
     ]
    },
    {
     "data": {
      "text/plain": [
       "array([   2,  169,  228,    2,    2,   16,  289,   19,    5,    6,    3,\n",
       "          7,    3,    4,    2,    3,    2,    5,    7,   12,    2,    5,\n",
       "          4,   19,    4,   17,    3,   10,   10,   12,    4,    2,   18,\n",
       "          3,    9,    2,    2,    3,   39,    3,    2,   11,    3,    2,\n",
       "          3,   15,    2,    3,    2,    7,    6,    2,    3,    4,   11,\n",
       "          3,    2,    9,   26,    2,    3,    2,    3,    2,    2,   18,\n",
       "          5,    7,    5,   16,    6,    4,    2,    4,    5,    8,    2,\n",
       "          2,    5,    2,    2,    6,    2,   27,    2,    4,    9,    5,\n",
       "          3,    4,   27,    3,    3,    2,    2,   17,    2,    3,    2,\n",
       "          2,    2,    2,    2,    2,   16,   12,    2,   10,    4,    4,\n",
       "          3,    4,    2,    2,    3,    4,   17,    6,   10,   90,    4,\n",
       "          2,    3,    2,    2,    3,    3,    2,    2,    2,    2,   28,\n",
       "          2,    5,    2,    9,    3,    7,    3,    2,    5,    4,    2,\n",
       "          6,    2,   10,    6,    2,    3,    2,    2,    7,    3,    2,\n",
       "          8,    2,    3,    3,   20,    5,    3,    6,    2,    6,    2,\n",
       "          2,    7,    2,    3,    3,    2,    3,    4,    2,    4,    2,\n",
       "          2,    2,    2,    3,    3,    3,    3,    2,    2,    6,    5,\n",
       "         16,    2,    9,    3,    2,    2,    2,    2,    2,    2,    2,\n",
       "          3,    3,    2,    2,    3,   21,    2,    6,    3,    2,    2,\n",
       "          2,    2,    4,    2,    2,    2,    2,    2,    2,    2,    2,\n",
       "          4,    4,    3,    2,    3,    2,    7,    4,    2,    6,    3,\n",
       "          3,    2,    3,    2,    2,    4,    2,   31,    2,    2,    3,\n",
       "          2,    9,    3,    3,    2,    2,    2,    2,    2,    5,    2,\n",
       "          2,    2,    4,    4,    6,    2,    9,    6,    4,    2,    2,\n",
       "          5,    2,    7,    2,    3,    3,    5,    7,   17,    3,   21,\n",
       "          3,    5,    4,   18,    4,    4,    2,    3,    6,    7,    3,\n",
       "          2,    4,    8,    2,    7,    2,    2,    2,    2,    3,    8,\n",
       "          2,    3,    3,    4,    2,    2,    2,    2,    3,    4,    3,\n",
       "          3,    2,    6,    7,    2,    3,    5,    2,    3,    5,    2,\n",
       "          4,    2,    2,    3,    7,    3,    3,    2,    3,    2,    3,\n",
       "         10,    2,    3,    2,    3,    2,    2,    3,    2,    3,    2,\n",
       "          2,    2,    2,    2,    3,    2,    2,    2,    2,    2,    3,\n",
       "          2,    2,    3,    2,    2,    3,    3,    2,    2,    2,    2,\n",
       "          2,    2,    2,    2,    2,    2,    3,    2,    2,    2,    2,\n",
       "          2,    2,    3, 5645])"
      ]
     },
     "execution_count": 59,
     "metadata": {},
     "output_type": "execute_result"
    }
   ],
   "source": [
    "from sklearn.cluster import DBSCAN\n",
    "dbscan=DBSCAN(metric='cosine', eps=0.55, min_samples=2, )\n",
    "clustering = dbscan.fit(X)\n",
    "io.info(f'eps={eps:5.4f} - NUmber of clusters found: {len(set(clustering.labels_))}')\n",
    "np.array([np.sum(clustering.labels_==cluster) for cluster in set(clustering.labels_)])\n",
    "# for cluster in set(clustering.labels_):\n",
    "#     io.info(f'cluster {cluster:3} number of instances: {}')"
   ]
  },
  {
   "cell_type": "code",
   "execution_count": 58,
   "id": "bbf1f7c5",
   "metadata": {},
   "outputs": [
    {
     "data": {
      "text/html": [
       "<div>\n",
       "<style scoped>\n",
       "    .dataframe tbody tr th:only-of-type {\n",
       "        vertical-align: middle;\n",
       "    }\n",
       "\n",
       "    .dataframe tbody tr th {\n",
       "        vertical-align: top;\n",
       "    }\n",
       "\n",
       "    .dataframe thead th {\n",
       "        text-align: right;\n",
       "    }\n",
       "</style>\n",
       "<table border=\"1\" class=\"dataframe\">\n",
       "  <thead>\n",
       "    <tr style=\"text-align: right;\">\n",
       "      <th></th>\n",
       "      <th>URL</th>\n",
       "      <th>relevant_or_suggested</th>\n",
       "      <th>confidence</th>\n",
       "      <th>id</th>\n",
       "      <th>new_score</th>\n",
       "      <th>title</th>\n",
       "      <th>text</th>\n",
       "    </tr>\n",
       "  </thead>\n",
       "  <tbody>\n",
       "    <tr>\n",
       "      <th>21</th>\n",
       "      <td>https://proquest.com/docview/1237388871</td>\n",
       "      <td>rel</td>\n",
       "      <td>1.0</td>\n",
       "      <td>1237388871</td>\n",
       "      <td>1.0</td>\n",
       "      <td>A political smorgasbord.</td>\n",
       "      <td>A political smorgasbord.\\n          \\n        ...</td>\n",
       "    </tr>\n",
       "    <tr>\n",
       "      <th>92</th>\n",
       "      <td>https://proquest.com/docview/1143909344</td>\n",
       "      <td>rel</td>\n",
       "      <td>1.0</td>\n",
       "      <td>1143909344</td>\n",
       "      <td>1.0</td>\n",
       "      <td>Tories' dreams of ethnic empire turn to nightm...</td>\n",
       "      <td>Tories' dreams of ethnic empire turn to nightm...</td>\n",
       "    </tr>\n",
       "  </tbody>\n",
       "</table>\n",
       "</div>"
      ],
      "text/plain": [
       "                                        URL relevant_or_suggested  confidence  \\\n",
       "21  https://proquest.com/docview/1237388871                   rel         1.0   \n",
       "92  https://proquest.com/docview/1143909344                   rel         1.0   \n",
       "\n",
       "            id  new_score                                              title  \\\n",
       "21  1237388871        1.0                           A political smorgasbord.   \n",
       "92  1143909344        1.0  Tories' dreams of ethnic empire turn to nightm...   \n",
       "\n",
       "                                                 text  \n",
       "21  A political smorgasbord.\\n          \\n        ...  \n",
       "92  Tories' dreams of ethnic empire turn to nightm...  "
      ]
     },
     "execution_count": 58,
     "metadata": {},
     "output_type": "execute_result"
    }
   ],
   "source": [
    "df[clustering.labels_==4]"
   ]
  },
  {
   "cell_type": "code",
   "execution_count": 73,
   "id": "f5f80cdc",
   "metadata": {},
   "outputs": [
    {
     "data": {
      "text/plain": [
       "array([[1, 1, 1, 4],\n",
       "       [2, 2, 2, 4],\n",
       "       [1, 1, 2, 4]])"
      ]
     },
     "execution_count": 73,
     "metadata": {},
     "output_type": "execute_result"
    }
   ],
   "source": [
    "vec = np.array([[1,1,1,4],\n",
    "               [2,2,2,4],\n",
    "               [1,1,2,4],\n",
    "              ])\n",
    "vec"
   ]
  },
  {
   "cell_type": "code",
   "execution_count": 74,
   "id": "7e9d9068",
   "metadata": {},
   "outputs": [
    {
     "data": {
      "text/plain": [
       "array([[1.        , 0.95382097, 0.97823198],\n",
       "       [0.95382097, 1.        , 0.96698756],\n",
       "       [0.97823198, 0.96698756, 1.        ]])"
      ]
     },
     "execution_count": 74,
     "metadata": {},
     "output_type": "execute_result"
    }
   ],
   "source": [
    "from sklearn.metrics.pairwise import cosine_similarity\n",
    "cosine_similarity(vec)"
   ]
  },
  {
   "cell_type": "code",
   "execution_count": 76,
   "id": "8700a080",
   "metadata": {},
   "outputs": [
    {
     "data": {
      "text/plain": [
       "0.9538209664765318"
      ]
     },
     "execution_count": 76,
     "metadata": {},
     "output_type": "execute_result"
    }
   ],
   "source": [
    "cosine_similiarity_between(vec[0,:],vec[1,:])"
   ]
  },
  {
   "cell_type": "code",
   "execution_count": null,
   "id": "8e886fea",
   "metadata": {},
   "outputs": [],
   "source": []
  },
  {
   "cell_type": "markdown",
   "id": "d55bd27e",
   "metadata": {},
   "source": [
    "# 1-nearest neighboor\n"
   ]
  },
  {
   "cell_type": "code",
   "execution_count": 87,
   "id": "f77e143f",
   "metadata": {},
   "outputs": [
    {
     "name": "stdout",
     "output_type": "stream",
     "text": [
      "2022-12-22 11:53:37.992660 [ \u001b[1;94mINFO\u001b[0m  ] Similarity matrix shape=(8101, 8101)\n"
     ]
    }
   ],
   "source": [
    "from sklearn.metrics.pairwise import cosine_distances\n",
    "distance_matrix=cosine_distances(X)\n",
    "io.info(f'Similarity matrix shape={distance_matrix.shape}')\n"
   ]
  },
  {
   "cell_type": "code",
   "execution_count": 110,
   "id": "7c1527cb",
   "metadata": {},
   "outputs": [
    {
     "data": {
      "text/plain": [
       "(8101, 4)"
      ]
     },
     "execution_count": 110,
     "metadata": {},
     "output_type": "execute_result"
    }
   ],
   "source": [
    "arg_matrix.shape"
   ]
  },
  {
   "cell_type": "code",
   "execution_count": 108,
   "id": "b81f108b",
   "metadata": {},
   "outputs": [
    {
     "data": {
      "text/plain": [
       "[<matplotlib.lines.Line2D at 0x7f1d1fbf6640>]"
      ]
     },
     "execution_count": 108,
     "metadata": {},
     "output_type": "execute_result"
    },
    {
     "data": {
      "image/png": "[encoded data removed]",
      "text/plain": [
       "<Figure size 720x720 with 1 Axes>"
      ]
     },
     "metadata": {
      "needs_background": "light"
     },
     "output_type": "display_data"
    }
   ],
   "source": [
    "one_neighbor = []\n",
    "no_of_neighbor=4\n",
    "arg_matrix = np.argsort(distance_matrix,axis=1)[:,1:no_of_neighbor+1]\n",
    "for i in range(arg_matrix.shape[1]):\n",
    "    args = arg_matrix[:,i]\n",
    "    for ix,arg in zip(range(distance_matrix.shape[0]),args):\n",
    "        one_neighbor.append(distance_matrix[ix,arg])\n",
    "    \n",
    "import matplotlib.pyplot as plt\n",
    "fig,ax = plt.subplots(1, figsize=(10,10))\n",
    "ax.plot(range(len(one_neighbor)),sorted(one_neighbor, reverse=True))"
   ]
  },
  {
   "cell_type": "code",
   "execution_count": null,
   "id": "501d5f36",
   "metadata": {},
   "outputs": [],
   "source": []
  }
 ],
 "metadata": {
  "kernelspec": {
   "display_name": "imm",
   "language": "python",
   "name": "imm"
  },
  "language_info": {
   "codemirror_mode": {
    "name": "ipython",
    "version": 3
   },
   "file_extension": ".py",
   "mimetype": "text/x-python",
   "name": "python",
   "nbconvert_exporter": "python",
   "pygments_lexer": "ipython3",
   "version": "3.9.7"
  }
 },
 "nbformat": 4,
 "nbformat_minor": 5
}

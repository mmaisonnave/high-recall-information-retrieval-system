{
 "cells": [
  {
   "cell_type": "code",
   "execution_count": 2,
   "id": "706a831e",
   "metadata": {},
   "outputs": [
    {
     "data": {
      "text/plain": [
       "205538"
      ]
     },
     "execution_count": 2,
     "metadata": {},
     "output_type": "execute_result"
    }
   ],
   "source": [
    "import os\n",
    "DATA_PATH = '/home/ec2-user/SageMaker/data/refugee_dataset_v1/'\n",
    "files = []\n",
    "for dirpath, dirnames, filenames in os.walk(DATA_PATH):\n",
    "    for filename in filenames:\n",
    "        file_ = os.path.join(dirpath,filename)\n",
    "        files.append(file_)\n",
    "len(files)"
   ]
  },
  {
   "cell_type": "code",
   "execution_count": 14,
   "id": "c3cf3e4d",
   "metadata": {},
   "outputs": [
    {
     "data": {
      "text/plain": [
       "205538"
      ]
     },
     "execution_count": 14,
     "metadata": {},
     "output_type": "execute_result"
    }
   ],
   "source": [
    "import re\n",
    "all_files_id = set([re.findall('([0-9]*)\\.xml',file)[0] for file in files])\n",
    "len(all_files_id)"
   ]
  },
  {
   "cell_type": "code",
   "execution_count": 3,
   "id": "7669f291",
   "metadata": {},
   "outputs": [
    {
     "data": {
      "text/plain": [
       "'/home/ec2-user/SageMaker/data/refugee_dataset_v1/1352134238.xml'"
      ]
     },
     "execution_count": 3,
     "metadata": {},
     "output_type": "execute_result"
    }
   ],
   "source": [
    "files[0]"
   ]
  },
  {
   "cell_type": "code",
   "execution_count": 11,
   "id": "34eae93b",
   "metadata": {},
   "outputs": [
    {
     "name": "stdout",
     "output_type": "stream",
     "text": [
      "73\n",
      "72\n"
     ]
    }
   ],
   "source": [
    "import re\n",
    "\n",
    "SERPERI_EXAMPLE_FILE = 'refugee_DP_serperi_examples.csv'\n",
    "lines = open(SERPERI_EXAMPLE_FILE, 'r').read().splitlines()\n",
    "lines = [line for line in lines if line!=',' and line!='folder,URL']\n",
    "files_id = set([re.findall('docview/([0-9]*)/',line)[0]  for line in lines])\n",
    "print(len(lines))\n",
    "print(len(files_id))"
   ]
  },
  {
   "cell_type": "code",
   "execution_count": 16,
   "id": "d4c772be",
   "metadata": {},
   "outputs": [
    {
     "data": {
      "text/plain": [
       "72"
      ]
     },
     "execution_count": 16,
     "metadata": {},
     "output_type": "execute_result"
    }
   ],
   "source": [
    "len(files_id.intersection(all_files_id))"
   ]
  },
  {
   "cell_type": "code",
   "execution_count": null,
   "id": "8211aa64",
   "metadata": {},
   "outputs": [],
   "source": []
  }
 ],
 "metadata": {
  "kernelspec": {
   "display_name": "conda_python3",
   "language": "python",
   "name": "conda_python3"
  },
  "language_info": {
   "codemirror_mode": {
    "name": "ipython",
    "version": 3
   },
   "file_extension": ".py",
   "mimetype": "text/x-python",
   "name": "python",
   "nbconvert_exporter": "python",
   "pygments_lexer": "ipython3",
   "version": "3.6.13"
  }
 },
 "nbformat": 4,
 "nbformat_minor": 5
}

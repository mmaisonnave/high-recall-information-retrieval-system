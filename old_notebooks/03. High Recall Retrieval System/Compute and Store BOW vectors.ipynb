{
 "cells": [
  {
   "cell_type": "code",
   "execution_count": 3,
   "id": "6d3da95f",
   "metadata": {},
   "outputs": [
    {
     "data": {
      "text/plain": [
       "'/home/ec2-user/SageMaker/data/The_Globe_and_Mail_with_DP_filter_by_article_type/1242359414.xml'"
      ]
     },
     "execution_count": 3,
     "metadata": {},
     "output_type": "execute_result"
    }
   ],
   "source": [
    "import spacy\n",
    "import os\n",
    "from bs4 import BeautifulSoup\n",
    "from lxml import etree\n",
    "import numpy as np\n",
    "\n",
    "nlp = spacy.load('en_core_web_sm', disable=['tagger','parser','lemmatizer','textcat', 'ner'])\n",
    "\n",
    "\n",
    "def info(str_):\n",
    "    print(f'{datetime.datetime.now()} [ INFO  ] {str_}')\n",
    "def ok(str_):\n",
    "    print(f'{datetime.datetime.now()} [ OK    ] {str_}')\n",
    "def warning(str_):\n",
    "    print(f'{datetime.datetime.now()} [WARNING] {str_}')\n",
    "\n",
    "TS_data_path = '/home/ec2-user/SageMaker/data/Toronto_Star_Publication_with_query/'\n",
    "GM_data_path = '/home/ec2-user/SageMaker/data/The_Globe_and_Mail_with_DP_filter_by_article_type/'\n",
    "vectors_path = '/home/ec2-user/SageMaker/mariano/notebooks/03. High Recall Retrieval System/vectors/'\n",
    "    \n",
    "vocab = open('vocab/vocab_filtered.txt','r').read().splitlines()\n",
    "word2idx = dict([(word,idx) for idx, word in enumerate(vocab)])\n",
    "tokenizer = nlp.tokenizer\n",
    "\n",
    "def _title_and_text(filename):\n",
    "    tree = etree.parse(filename)\n",
    "    root = tree.getroot()\n",
    "    if root.find('.//HiddenText') is not None:\n",
    "        text = (root.find('.//HiddenText').text)\n",
    "\n",
    "    elif root.find('.//Text') is not None:\n",
    "        text = (root.find('.//Text').text)\n",
    "\n",
    "    else:\n",
    "        text = None\n",
    "    title = root.find('.//Title')\n",
    "    if title is not None:\n",
    "        title = title.text\n",
    "    if not text is None:\n",
    "        text = BeautifulSoup(text, parser='html.parser').get_text()\n",
    "    return text,title\n",
    "def get_bow_vector(filename):\n",
    "    bow_vector = np.zeros(shape=(len(vocab)+1,))\n",
    "    text,title = _title_and_text(filename)\n",
    "    if not text is None and not title is None:\n",
    "        for token in tokenizer(title+' '+text):\n",
    "            t = token.text.replace('\\n','')\n",
    "            t = t.lower()\n",
    "            if t in word2idx:\n",
    "                bow_vector[word2idx[t]]+=1\n",
    "            else:\n",
    "                bow_vector[len(vocab)]+=1\n",
    "    return bow_vector\n",
    "\n",
    "filenames = []\n",
    "\n",
    "for filename in os.listdir(TS_data_path):\n",
    "    filenames.append(TS_data_path+filename)\n",
    "for filename in os.listdir(GM_data_path):\n",
    "    filenames.append(GM_data_path+filename)\n",
    "filenames[-1]"
   ]
  },
  {
   "cell_type": "code",
   "execution_count": 8,
   "id": "9ba95ab0",
   "metadata": {},
   "outputs": [
    {
     "name": "stderr",
     "output_type": "stream",
     "text": [
      "100%|██████████| 192433/192433 [31:28<00:00, 101.87it/s]\n"
     ]
    }
   ],
   "source": [
    "import pickle\n",
    "import tqdm\n",
    "for filename in tqdm.tqdm(filenames):\n",
    "    bow_vector = get_bow_vector(filename)\n",
    "    bow_vector_path = vectors_path+ filename.split('/')[-1][:-4] +  '.bow_vector'\n",
    "    pickle.dump(bow_vector, open(bow_vector_path, 'wb'))"
   ]
  },
  {
   "cell_type": "code",
   "execution_count": 7,
   "id": "278f66ad",
   "metadata": {},
   "outputs": [],
   "source": [
    "!rm vectors/id2vec.p\n"
   ]
  },
  {
   "cell_type": "code",
   "execution_count": 16,
   "id": "79df86cb",
   "metadata": {},
   "outputs": [
    {
     "data": {
      "text/plain": [
       "'/home/ec2-user/SageMaker/mariano/notebooks/03. High Recall Retrieval System/vectors/1242359414.bow_vector'"
      ]
     },
     "execution_count": 16,
     "metadata": {},
     "output_type": "execute_result"
    }
   ],
   "source": []
  },
  {
   "cell_type": "code",
   "execution_count": null,
   "id": "a11d3028",
   "metadata": {},
   "outputs": [],
   "source": []
  }
 ],
 "metadata": {
  "kernelspec": {
   "display_name": "imm",
   "language": "python",
   "name": "imm"
  },
  "language_info": {
   "codemirror_mode": {
    "name": "ipython",
    "version": 3
   },
   "file_extension": ".py",
   "mimetype": "text/x-python",
   "name": "python",
   "nbconvert_exporter": "python",
   "pygments_lexer": "ipython3",
   "version": "3.9.7"
  }
 },
 "nbformat": 4,
 "nbformat_minor": 5
}

{
 "cells": [
  {
   "cell_type": "markdown",
   "id": "510124b7",
   "metadata": {},
   "source": [
    "### Label data"
   ]
  },
  {
   "cell_type": "code",
   "execution_count": 1,
   "id": "1b9f8221",
   "metadata": {},
   "outputs": [
    {
     "name": "stdout",
     "output_type": "stream",
     "text": [
      "Not found: ['1242257052', '1222379804', '1238204962', '1143160388', '2459666609', '2122279956', '1239753620', '1238440920', '1411697642', '1151348424', '1136691129', '2122281371', '2459964104']\n",
      "2022-03-11 12:45:21.110699 [ \u001b[1;94mINFO\u001b[0m  ] len(labeled_data)   = 7020\n"
     ]
    }
   ],
   "source": [
    "import os\n",
    "import re\n",
    "from utils.general import id2file\n",
    "from utils.general import info,ok,warning\n",
    "\n",
    "\n",
    "# SOURCE #1 (second round labeling, relevant and irrelevant data)\n",
    "new_data = [line.split(';') for line in open('new_data.csv').read().splitlines()]\n",
    "labeled_data = set([id_ for id_,_ in new_data])\n",
    "\n",
    "# SOURCE #2 (first round labeling, only relevant)\n",
    "DP_examples_dirpath = '/home/ec2-user/SageMaker/mariano/notebooks/04. Model of DP/DP-relevant articles/'\n",
    "first_data = []\n",
    "for dirpath, dirnames, filenames in os.walk(DP_examples_dirpath):\n",
    "    for filename in filenames:\n",
    "        content = open(os.path.join(dirpath,filename),'r').read()\n",
    "        ids = re.findall('/docview/([^/]*)/',content)\n",
    "        labeled_data = labeled_data.union(set(ids))\n",
    "    \n",
    "# SOURCE #3 (irrelevant data from first round labeling)\n",
    "GM_dp_dirpath = '/home/ec2-user/SageMaker/data/GM_DP_and_Canada1945_1967/'\n",
    "files = os.listdir(GM_dp_dirpath)\n",
    "labeled_data = labeled_data.union([file_[:-4] for file_ in files if file_[:-4] not in labeled_data and file_.endswith('.xml')])\n",
    "\n",
    "# Removing non existing files\n",
    "not_found=[]\n",
    "for id_ in list(labeled_data):\n",
    "    if id2file(id_) is None:\n",
    "        not_found.append(id_)\n",
    "print(f'Not found: {not_found}')\n",
    "for id_ in not_found:\n",
    "    labeled_data = labeled_data.difference(set(not_found))\n",
    "    \n",
    "info(f'len(labeled_data)   = {len(labeled_data)}')\n"
   ]
  },
  {
   "cell_type": "code",
   "execution_count": 2,
   "id": "76445fbf",
   "metadata": {},
   "outputs": [
    {
     "name": "stdout",
     "output_type": "stream",
     "text": [
      "2022-03-11 12:45:23.752500 [ \u001b[1;94mINFO\u001b[0m  ] Total of files with predictions:                     2,051,869\n",
      "2022-03-11 12:45:24.444366 [ \u001b[1;94mINFO\u001b[0m  ] Number of prediction ignoring already labeled data = 2,044,861  (-7,008)\n"
     ]
    }
   ],
   "source": [
    "from utils.general import info,ok,warning\n",
    "import os\n",
    "\n",
    "predictions_dirpath = './predictions/'\n",
    "\n",
    "files = os.listdir(predictions_dirpath)\n",
    "total_predictions = len([file_ for file_ in files if file_.endswith('_v2.p')])\n",
    "\n",
    "info(f\"Total of files with predictions:                     {total_predictions:,}\")\n",
    "files = [file_ for file_ in files if file_.endswith('_v2.p') if not file_[:-5] in labeled_data]\n",
    "info(f\"Number of prediction ignoring already labeled data = {len(files):,}  (-{total_predictions-len(files):,})\")"
   ]
  },
  {
   "cell_type": "code",
   "execution_count": 3,
   "id": "f6fb9260",
   "metadata": {},
   "outputs": [
    {
     "name": "stdout",
     "output_type": "stream",
     "text": [
      "2022-03-11 13:21:46.591666 [ \u001b[1;94mINFO\u001b[0m  ] Number of irrelevant (<0.5) articles discarded: 2,044,856\n"
     ]
    },
    {
     "data": {
      "text/html": [
       "<div>\n",
       "<style scoped>\n",
       "    .dataframe tbody tr th:only-of-type {\n",
       "        vertical-align: middle;\n",
       "    }\n",
       "\n",
       "    .dataframe tbody tr th {\n",
       "        vertical-align: top;\n",
       "    }\n",
       "\n",
       "    .dataframe thead th {\n",
       "        text-align: right;\n",
       "    }\n",
       "</style>\n",
       "<table border=\"1\" class=\"dataframe\">\n",
       "  <thead>\n",
       "    <tr style=\"text-align: right;\">\n",
       "      <th></th>\n",
       "      <th>ID</th>\n",
       "      <th>yhat1</th>\n",
       "      <th>yhat2</th>\n",
       "      <th>yhat3</th>\n",
       "      <th>average</th>\n",
       "    </tr>\n",
       "  </thead>\n",
       "  <tbody>\n",
       "    <tr>\n",
       "      <th>1465</th>\n",
       "      <td>1325811105</td>\n",
       "      <td>0.990952</td>\n",
       "      <td>0.997326</td>\n",
       "      <td>0.988864</td>\n",
       "      <td>0.992381</td>\n",
       "    </tr>\n",
       "    <tr>\n",
       "      <th>10562</th>\n",
       "      <td>1325855906</td>\n",
       "      <td>0.962391</td>\n",
       "      <td>0.990835</td>\n",
       "      <td>0.999985</td>\n",
       "      <td>0.984404</td>\n",
       "    </tr>\n",
       "    <tr>\n",
       "      <th>20771</th>\n",
       "      <td>1323412960</td>\n",
       "      <td>0.975553</td>\n",
       "      <td>0.999996</td>\n",
       "      <td>0.966560</td>\n",
       "      <td>0.980703</td>\n",
       "    </tr>\n",
       "    <tr>\n",
       "      <th>2694</th>\n",
       "      <td>1291263794</td>\n",
       "      <td>0.948477</td>\n",
       "      <td>1.000000</td>\n",
       "      <td>0.991822</td>\n",
       "      <td>0.980100</td>\n",
       "    </tr>\n",
       "    <tr>\n",
       "      <th>7643</th>\n",
       "      <td>1291456757</td>\n",
       "      <td>0.958632</td>\n",
       "      <td>0.996535</td>\n",
       "      <td>0.984521</td>\n",
       "      <td>0.979896</td>\n",
       "    </tr>\n",
       "    <tr>\n",
       "      <th>...</th>\n",
       "      <td>...</td>\n",
       "      <td>...</td>\n",
       "      <td>...</td>\n",
       "      <td>...</td>\n",
       "      <td>...</td>\n",
       "    </tr>\n",
       "    <tr>\n",
       "      <th>17362</th>\n",
       "      <td>1289761581</td>\n",
       "      <td>0.506423</td>\n",
       "      <td>0.509098</td>\n",
       "      <td>0.530303</td>\n",
       "      <td>0.515275</td>\n",
       "    </tr>\n",
       "    <tr>\n",
       "      <th>15566</th>\n",
       "      <td>1314012344</td>\n",
       "      <td>0.528989</td>\n",
       "      <td>0.509048</td>\n",
       "      <td>0.507524</td>\n",
       "      <td>0.515187</td>\n",
       "    </tr>\n",
       "    <tr>\n",
       "      <th>5793</th>\n",
       "      <td>1289194852</td>\n",
       "      <td>0.505084</td>\n",
       "      <td>0.510030</td>\n",
       "      <td>0.529077</td>\n",
       "      <td>0.514730</td>\n",
       "    </tr>\n",
       "    <tr>\n",
       "      <th>3680</th>\n",
       "      <td>1313994980</td>\n",
       "      <td>0.505016</td>\n",
       "      <td>0.524752</td>\n",
       "      <td>0.509527</td>\n",
       "      <td>0.513098</td>\n",
       "    </tr>\n",
       "    <tr>\n",
       "      <th>327</th>\n",
       "      <td>1284978552</td>\n",
       "      <td>0.511492</td>\n",
       "      <td>0.508634</td>\n",
       "      <td>0.507060</td>\n",
       "      <td>0.509062</td>\n",
       "    </tr>\n",
       "  </tbody>\n",
       "</table>\n",
       "<p>21722 rows × 5 columns</p>\n",
       "</div>"
      ],
      "text/plain": [
       "               ID     yhat1     yhat2     yhat3   average\n",
       "1465   1325811105  0.990952  0.997326  0.988864  0.992381\n",
       "10562  1325855906  0.962391  0.990835  0.999985  0.984404\n",
       "20771  1323412960  0.975553  0.999996  0.966560  0.980703\n",
       "2694   1291263794  0.948477  1.000000  0.991822  0.980100\n",
       "7643   1291456757  0.958632  0.996535  0.984521  0.979896\n",
       "...           ...       ...       ...       ...       ...\n",
       "17362  1289761581  0.506423  0.509098  0.530303  0.515275\n",
       "15566  1314012344  0.528989  0.509048  0.507524  0.515187\n",
       "5793   1289194852  0.505084  0.510030  0.529077  0.514730\n",
       "3680   1313994980  0.505016  0.524752  0.509527  0.513098\n",
       "327    1284978552  0.511492  0.508634  0.507060  0.509062\n",
       "\n",
       "[21722 rows x 5 columns]"
      ]
     },
     "execution_count": 3,
     "metadata": {},
     "output_type": "execute_result"
    }
   ],
   "source": [
    "import pandas as pd\n",
    "import pickle\n",
    "import numpy as np\n",
    "from utils.tdmstudio import TDMStudio\n",
    "from utils.general import id2file\n",
    "data = {}\n",
    "data['ID']=[]\n",
    "data['yhat1']=[]\n",
    "data['yhat2']=[]\n",
    "data['yhat3']=[]\n",
    "data['average']=[]\n",
    "# data['URL']=[]\n",
    "# data['title']=[]\n",
    "for file_ in files:\n",
    "    yhat1,yhat2,yhat3 = pickle.load(open(predictions_dirpath+file_,'rb'))\n",
    "    if yhat1>0.5 and yhat2>0.5 and yhat3>0.5:\n",
    "        data['ID'].append(file_[:-5])\n",
    "        data['yhat1'].append(yhat1)\n",
    "        data['yhat2'].append(yhat2)\n",
    "        data['yhat3'].append(yhat3)\n",
    "        data['average'].append(np.average([yhat1,yhat2,yhat3]))\n",
    "    #     data['title'].append(TDMStudio.get_title(id2file(file_[:-5])))\n",
    "#         data['URL'].append(f'https://proquest.com/docview/{file_[:-5]}')\n",
    "    \n",
    "#     data.append((file_,pickle.load(open(predictions_dirpath+file_,'rb'))))\n",
    "\n",
    "info(f'Number of irrelevant (<0.5) articles discarded: {len(files)-len(data):,}')\n",
    "df = pd.DataFrame(data).sort_values(by=['average'],ascending=False)\n",
    "df"
   ]
  },
  {
   "cell_type": "code",
   "execution_count": 7,
   "id": "f78f0d55",
   "metadata": {},
   "outputs": [
    {
     "name": "stdout",
     "output_type": "stream",
     "text": [
      "2022-03-11 13:26:01.834448 [ \u001b[1;94mINFO\u001b[0m  ] Number of discarded for not mentioning Canada: 660\n",
      "1323412960\t0.976\t1.000\t0.967\tJews in U.S. Zone Insist on Going On to Palestine\n",
      "1291263794\t0.948\t1.000\t0.992\tApparel Made by Skilful DP's Impresses Senate Committee\n",
      "1287505669\t0.959\t0.994\t0.974\tTextile Workers\n",
      "1287587801\t0.983\t0.988\t0.956\tPolish Writers Under 'Red' Pressure\n",
      "1412095279\t0.990\t0.971\t0.956\tWelcome Mat\n",
      "1325795691\t0.982\t0.997\t0.927\tOP's Influx Here Hits New Record Of 100 Each Day\n",
      "1284729689\t0.950\t0.982\t0.971\t314 Skilled Migrants Signed in West Indies\n",
      "1325698778\t0.991\t0.996\t0.911\tCanada Shortly Will Admit 6,000 Disked Persons\n",
      "1287413237\t0.929\t1.000\t0.964\tOttawa Slows Down Flow of Immigrants\n",
      "1270515457\t0.976\t0.949\t0.966\tImmigration\n"
     ]
    }
   ],
   "source": [
    "from utils.tdmstudio import TDMStudio\n",
    "from utils.general import id2file\n",
    "import spacy\n",
    "nlp = spacy.load('en_core_web_sm', disable=['textcat','ner','parser','tagger','lemmatizer'])\n",
    "tokenizer = nlp.tokenizer\n",
    "def tokenize(text):\n",
    "    return [token.text for token in tokenizer(text)]\n",
    "canada_locs = set(open('cities.txt','r').read().splitlines() + open('provinces.txt','r').read().splitlines()+['Canada'])\n",
    "\n",
    "def about_canada(text):\n",
    "    tokens = tokenize(text)\n",
    "    return any([token in canada_locs for token in tokens])\n",
    "\n",
    "writer = open('to_export_second_round.csv', 'w')\n",
    "count=0\n",
    "cap=1000\n",
    "idx=0\n",
    "while count<cap:\n",
    "    id_,y1,y2,y3,avg = df.iloc[idx,:]\n",
    "    title,text = TDMStudio.get_title_and_text(id2file(id_))\n",
    "    title=title.replace('\\n','')\n",
    "    if about_canada(f'{title}. {text}'):\n",
    "#         str_ = f'{count+1:>3}: {id_}\\t{y1:4.3f}\\t{y2:4.3f}\\t{y3:4.3f}\\t{avg:4.3f}\\thttps://proquest.com/docview/{id_}\\t{title}\\n'\n",
    "        str_ = f'{id_}\\t{y1:4.3f}\\t{y2:4.3f}\\t{y3:4.3f}\\t{title}\\n'\n",
    "        writer.write(str_)\n",
    "        count+=1\n",
    "    idx+=1\n",
    "writer.close()\n",
    "info(f'Number of discarded for not mentioning Canada: {idx-cap}')\n",
    "!head to_export_second_round.csv"
   ]
  },
  {
   "cell_type": "code",
   "execution_count": 8,
   "id": "80c93937",
   "metadata": {},
   "outputs": [
    {
     "name": "stdout",
     "output_type": "stream",
     "text": [
      "-rw-rw-r-- 1 ec2-user ec2-user 61K Mar 11 13:26 to_export_second_round.csv\n"
     ]
    }
   ],
   "source": [
    "!ls -lh to_export_second_round.csv"
   ]
  },
  {
   "cell_type": "code",
   "execution_count": 30,
   "id": "b1729acb",
   "metadata": {},
   "outputs": [
    {
     "name": "stdout",
     "output_type": "stream",
     "text": [
      "2022-03-09 14:44:33.392658 [ \u001b[1;94mINFO\u001b[0m  ] 01.23 %\n"
     ]
    }
   ],
   "source": [
    "#proportion\n",
    "mask1 = (df['yhat1']>0.5).values\n",
    "mask2 = (df['yhat2']>0.5).values\n",
    "mask3 = (df['yhat3']>0.5).values\n",
    "\n",
    "meeting_requirment = df.iloc[mask1 & mask2 & mask3,:]\n",
    "\n",
    "info(f'{(meeting_requirment.shape[0]/df.shape[0])*100:04.2f} %')"
   ]
  },
  {
   "cell_type": "code",
   "execution_count": null,
   "id": "2ee3fd86",
   "metadata": {},
   "outputs": [],
   "source": []
  },
  {
   "cell_type": "code",
   "execution_count": null,
   "id": "ffd459e1",
   "metadata": {},
   "outputs": [],
   "source": []
  }
 ],
 "metadata": {
  "kernelspec": {
   "display_name": "imm",
   "language": "python",
   "name": "imm"
  },
  "language_info": {
   "codemirror_mode": {
    "name": "ipython",
    "version": 3
   },
   "file_extension": ".py",
   "mimetype": "text/x-python",
   "name": "python",
   "nbconvert_exporter": "python",
   "pygments_lexer": "ipython3",
   "version": "3.9.7"
  }
 },
 "nbformat": 4,
 "nbformat_minor": 5
}

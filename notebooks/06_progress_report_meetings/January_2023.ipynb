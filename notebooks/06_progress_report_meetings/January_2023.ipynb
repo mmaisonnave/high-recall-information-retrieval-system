{
 "cells": [
  {
   "cell_type": "markdown",
   "id": "53426fd1",
   "metadata": {},
   "source": [
    "# First round TAR"
   ]
  },
  {
   "cell_type": "code",
   "execution_count": 6,
   "id": "3e7294de",
   "metadata": {},
   "outputs": [],
   "source": [
    "#########\n",
    "# INPUT #\n",
    "#########\n",
    "first_round_file = '/home/ec2-user/SageMaker/serperi/system/sessions/scal/One/data/exported_data_2022-10-12_14-08.csv'\n",
    "second_round_file = '/home/ec2-user/SageMaker/serperi/system/sessions/scal/One_second_round/data/exported_data_2022-11-23_00-18.csv'\n",
    "\n",
    "first_round_logfile = '/home/ec2-user/SageMaker/serperi/system/sessions/scal/One/log/scal_system.log'\n",
    "first_round_logfile = '/home/ec2-user/SageMaker/serperi/system/sessions/scal/One/log/scal_system.log'\n"
   ]
  },
  {
   "cell_type": "code",
   "execution_count": 7,
   "id": "eafadb86",
   "metadata": {},
   "outputs": [
    {
     "name": "stdout",
     "output_type": "stream",
     "text": [
      "(17026, 3)\n"
     ]
    },
    {
     "data": {
      "text/html": [
       "<div>\n",
       "<style scoped>\n",
       "    .dataframe tbody tr th:only-of-type {\n",
       "        vertical-align: middle;\n",
       "    }\n",
       "\n",
       "    .dataframe tbody tr th {\n",
       "        vertical-align: top;\n",
       "    }\n",
       "\n",
       "    .dataframe thead th {\n",
       "        text-align: right;\n",
       "    }\n",
       "</style>\n",
       "<table border=\"1\" class=\"dataframe\">\n",
       "  <thead>\n",
       "    <tr style=\"text-align: right;\">\n",
       "      <th></th>\n",
       "      <th>URL</th>\n",
       "      <th>relevant_or_suggested</th>\n",
       "      <th>confidence</th>\n",
       "    </tr>\n",
       "  </thead>\n",
       "  <tbody>\n",
       "    <tr>\n",
       "      <th>0</th>\n",
       "      <td>https://proquest.com/docview/1151636504</td>\n",
       "      <td>rel</td>\n",
       "      <td>1.0</td>\n",
       "    </tr>\n",
       "    <tr>\n",
       "      <th>1</th>\n",
       "      <td>https://proquest.com/docview/1151316407</td>\n",
       "      <td>rel</td>\n",
       "      <td>1.0</td>\n",
       "    </tr>\n",
       "    <tr>\n",
       "      <th>2</th>\n",
       "      <td>https://proquest.com/docview/1366203438</td>\n",
       "      <td>rel</td>\n",
       "      <td>1.0</td>\n",
       "    </tr>\n",
       "    <tr>\n",
       "      <th>3</th>\n",
       "      <td>https://proquest.com/docview/1126309571</td>\n",
       "      <td>rel</td>\n",
       "      <td>1.0</td>\n",
       "    </tr>\n",
       "    <tr>\n",
       "      <th>4</th>\n",
       "      <td>https://proquest.com/docview/1125764078</td>\n",
       "      <td>rel</td>\n",
       "      <td>1.0</td>\n",
       "    </tr>\n",
       "  </tbody>\n",
       "</table>\n",
       "</div>"
      ],
      "text/plain": [
       "                                       URL relevant_or_suggested  confidence\n",
       "0  https://proquest.com/docview/1151636504                   rel         1.0\n",
       "1  https://proquest.com/docview/1151316407                   rel         1.0\n",
       "2  https://proquest.com/docview/1366203438                   rel         1.0\n",
       "3  https://proquest.com/docview/1126309571                   rel         1.0\n",
       "4  https://proquest.com/docview/1125764078                   rel         1.0"
      ]
     },
     "execution_count": 7,
     "metadata": {},
     "output_type": "execute_result"
    }
   ],
   "source": [
    "import pandas as pd\n",
    "first_round_exports = pd.read_csv(first_round_file)\n",
    "print(first_round_exports.shape)\n",
    "first_round_exports.head()"
   ]
  },
  {
   "cell_type": "code",
   "execution_count": 8,
   "id": "3c8dbe13",
   "metadata": {},
   "outputs": [
    {
     "name": "stdout",
     "output_type": "stream",
     "text": [
      "(8176, 3)\n"
     ]
    },
    {
     "data": {
      "text/html": [
       "<div>\n",
       "<style scoped>\n",
       "    .dataframe tbody tr th:only-of-type {\n",
       "        vertical-align: middle;\n",
       "    }\n",
       "\n",
       "    .dataframe tbody tr th {\n",
       "        vertical-align: top;\n",
       "    }\n",
       "\n",
       "    .dataframe thead th {\n",
       "        text-align: right;\n",
       "    }\n",
       "</style>\n",
       "<table border=\"1\" class=\"dataframe\">\n",
       "  <thead>\n",
       "    <tr style=\"text-align: right;\">\n",
       "      <th></th>\n",
       "      <th>URL</th>\n",
       "      <th>relevant_or_suggested</th>\n",
       "      <th>confidence</th>\n",
       "    </tr>\n",
       "  </thead>\n",
       "  <tbody>\n",
       "    <tr>\n",
       "      <th>0</th>\n",
       "      <td>https://proquest.com/docview/1151636504</td>\n",
       "      <td>rel</td>\n",
       "      <td>1.0</td>\n",
       "    </tr>\n",
       "    <tr>\n",
       "      <th>1</th>\n",
       "      <td>https://proquest.com/docview/1151316407</td>\n",
       "      <td>rel</td>\n",
       "      <td>1.0</td>\n",
       "    </tr>\n",
       "    <tr>\n",
       "      <th>2</th>\n",
       "      <td>https://proquest.com/docview/1366203438</td>\n",
       "      <td>rel</td>\n",
       "      <td>1.0</td>\n",
       "    </tr>\n",
       "    <tr>\n",
       "      <th>3</th>\n",
       "      <td>https://proquest.com/docview/1126309571</td>\n",
       "      <td>rel</td>\n",
       "      <td>1.0</td>\n",
       "    </tr>\n",
       "    <tr>\n",
       "      <th>4</th>\n",
       "      <td>https://proquest.com/docview/1125764078</td>\n",
       "      <td>rel</td>\n",
       "      <td>1.0</td>\n",
       "    </tr>\n",
       "  </tbody>\n",
       "</table>\n",
       "</div>"
      ],
      "text/plain": [
       "                                       URL relevant_or_suggested  confidence\n",
       "0  https://proquest.com/docview/1151636504                   rel         1.0\n",
       "1  https://proquest.com/docview/1151316407                   rel         1.0\n",
       "2  https://proquest.com/docview/1366203438                   rel         1.0\n",
       "3  https://proquest.com/docview/1126309571                   rel         1.0\n",
       "4  https://proquest.com/docview/1125764078                   rel         1.0"
      ]
     },
     "execution_count": 8,
     "metadata": {},
     "output_type": "execute_result"
    }
   ],
   "source": [
    "second_round_exports = pd.read_csv(second_round_file)\n",
    "print(second_round_exports.shape)\n",
    "second_round_exports.head()"
   ]
  },
  {
   "cell_type": "code",
   "execution_count": 9,
   "id": "d0ed53da",
   "metadata": {},
   "outputs": [
    {
     "name": "stdout",
     "output_type": "stream",
     "text": [
      "2022-10-11 19:40:36 [DEBUG] Creating final classifier ...\r\n",
      "2022-10-11 19:40:38 [DEBUG] Removing 315 labeled documents from full unlabeled collection.\r\n",
      "2022-10-11 19:43:19 [DEBUG] ------------------------------FINISHING SCAL------------------------------\r\n",
      "2022-10-11 19:43:19 [INFO] Final   labeled size   =316\r\n",
      "2022-10-11 19:43:19 [INFO] Final unlabeled size   =2961591\r\n",
      "2022-10-11 19:43:19 [INFO] Est. prevalecence      =0.0017\r\n",
      "2022-10-11 19:43:19 [INFO] Exp. relevant in sample=41.496\r\n",
      "2022-10-11 19:43:19 [INFO] j                      =24\r\n",
      "2022-10-11 19:43:19 [INFO] Threshold              =0.04382486367611707\r\n",
      "2022-10-11 19:43:19 [DEBUG] Making prediction over set of unlabeled articles (2,961,591).\r\n"
     ]
    }
   ],
   "source": [
    "!tail /home/ec2-user/SageMaker/serperi/system/sessions/scal/One/log/scal_system.log"
   ]
  },
  {
   "cell_type": "code",
   "execution_count": null,
   "id": "686a9474",
   "metadata": {},
   "outputs": [],
   "source": []
  }
 ],
 "metadata": {
  "kernelspec": {
   "display_name": "imm",
   "language": "python",
   "name": "imm"
  },
  "language_info": {
   "codemirror_mode": {
    "name": "ipython",
    "version": 3
   },
   "file_extension": ".py",
   "mimetype": "text/x-python",
   "name": "python",
   "nbconvert_exporter": "python",
   "pygments_lexer": "ipython3",
   "version": "3.9.7"
  }
 },
 "nbformat": 4,
 "nbformat_minor": 5
}

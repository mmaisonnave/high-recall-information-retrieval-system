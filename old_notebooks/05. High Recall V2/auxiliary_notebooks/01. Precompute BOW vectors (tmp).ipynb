{
 "cells": [
  {
   "cell_type": "code",
   "execution_count": 1,
   "id": "347a8d11",
   "metadata": {},
   "outputs": [
    {
     "name": "stdout",
     "output_type": "stream",
     "text": [
      "hello world\n"
     ]
    }
   ],
   "source": [
    "print('hello world')"
   ]
  },
  {
   "cell_type": "code",
   "execution_count": 1,
   "id": "ea777694",
   "metadata": {},
   "outputs": [
    {
     "name": "stdout",
     "output_type": "stream",
     "text": [
      "Original vocab size: 30,694\n",
      "[('title', 396947), ('new', 359524), ('toronto', 347775), ('said', 277651), ('year', 267324), ('time', 247789), ('canada', 234967), ('ing', 226704), ('day', 224558), ('today', 221117)]\n",
      "Original vocab size: 10,000\n"
     ]
    }
   ],
   "source": [
    "## FOR CHANGE ONCE I HAVE THE FINAL \n",
    "lines = open('../../04. Model of DP/precomputed/freq.txt','r').read().splitlines()\n",
    "\n",
    "\n",
    "freq = ([line.split(';') for line in lines])\n",
    "print(f'Original vocab size: {len(freq):,}')\n",
    "freq = [(word,int(freq)) for word,freq in freq if len(word)>2 or word=='dp']\n",
    "freq = sorted(freq, key=lambda x: x[1], reverse=True)[:10000]\n",
    "print(freq[:10])\n",
    "vocab = [word for word,_ in freq]\n",
    "vocab\n",
    "word2index = dict([(word,index) for index, word in enumerate(vocab)])\n",
    "\n",
    "del(vocab,freq) \n",
    " \n",
    "print(f'Original vocab size: {len(word2index):,}')"
   ]
  },
  {
   "cell_type": "code",
   "execution_count": 2,
   "id": "8c856c0b",
   "metadata": {},
   "outputs": [
    {
     "name": "stdout",
     "output_type": "stream",
     "text": [
      "len(files)=2,057,868\n"
     ]
    }
   ],
   "source": [
    "\n",
    "import os\n",
    "\n",
    "GM1 = '/home/ec2-user/SageMaker/data/GM_all_1945_1956/'\n",
    "GM2 = '/home/ec2-user/SageMaker/data/GM_all_1957-1967/'\n",
    "\n",
    "files = [GM1+f for f in os.listdir(GM1)]+[GM2+f for f in os.listdir(GM2)]\n",
    "print(f'len(files)={len(files):,}')"
   ]
  },
  {
   "cell_type": "code",
   "execution_count": 15,
   "id": "323856e5",
   "metadata": {},
   "outputs": [],
   "source": [
    "# !cp computing_bow_all_corpus.txt computing_bow_all_corpus.txt.bak"
   ]
  },
  {
   "cell_type": "code",
   "execution_count": 14,
   "id": "9aa89d20",
   "metadata": {},
   "outputs": [
    {
     "name": "stdout",
     "output_type": "stream",
     "text": [
      "2057868 computing_bow_all_corpus.txt\r\n"
     ]
    }
   ],
   "source": [
    "# !wc -l computing_bow_all_corpus.txt"
   ]
  },
  {
   "cell_type": "code",
   "execution_count": 4,
   "id": "5d816d6c",
   "metadata": {},
   "outputs": [
    {
     "name": "stdout",
     "output_type": "stream",
     "text": [
      "704609 computing_bow_all_corpus.txt\r\n"
     ]
    }
   ],
   "source": [
    "!wc -l computing_bow_all_corpus.txt"
   ]
  },
  {
   "cell_type": "code",
   "execution_count": 3,
   "id": "ab26156f",
   "metadata": {},
   "outputs": [],
   "source": [
    "# ! >computing_bow_all_corpus.txt"
   ]
  },
  {
   "cell_type": "code",
   "execution_count": 5,
   "id": "2a4f64a7",
   "metadata": {},
   "outputs": [
    {
     "data": {
      "text/plain": [
       "704609"
      ]
     },
     "execution_count": 5,
     "metadata": {},
     "output_type": "execute_result"
    }
   ],
   "source": [
    "already_proccesed = set(open('computing_bow_all_corpus.txt','r').read().splitlines())\n",
    "len(already_proccesed)"
   ]
  },
  {
   "cell_type": "code",
   "execution_count": 6,
   "id": "6d7563e3",
   "metadata": {},
   "outputs": [
    {
     "data": {
      "text/plain": [
       "1353259"
      ]
     },
     "execution_count": 6,
     "metadata": {},
     "output_type": "execute_result"
    }
   ],
   "source": [
    "files = [file_ for file_ in files if not file_.split('/')[-1][:-4] in already_proccesed]\n",
    "len(files)"
   ]
  },
  {
   "cell_type": "code",
   "execution_count": 3,
   "id": "51a9cb57",
   "metadata": {},
   "outputs": [],
   "source": [
    "import sys\n",
    "sys.path.append('..')"
   ]
  },
  {
   "cell_type": "code",
   "execution_count": 3,
   "id": "5a30f86f",
   "metadata": {},
   "outputs": [
    {
     "data": {
      "text/plain": [
       "['dp']"
      ]
     },
     "execution_count": 3,
     "metadata": {},
     "output_type": "execute_result"
    }
   ],
   "source": [
    "[word for word in word2index if len(word)==2]"
   ]
  },
  {
   "cell_type": "code",
   "execution_count": 4,
   "id": "69bacfc0",
   "metadata": {},
   "outputs": [
    {
     "data": {
      "text/plain": [
       "10000"
      ]
     },
     "execution_count": 4,
     "metadata": {},
     "output_type": "execute_result"
    }
   ],
   "source": [
    "len(word2index)"
   ]
  },
  {
   "cell_type": "code",
   "execution_count": 10,
   "id": "c68ca47d",
   "metadata": {},
   "outputs": [],
   "source": [
    "from utils.models import tokenize\n",
    "import scipy\n",
    "from utils.tdmstudio import TDMStudio\n",
    "import pickle\n",
    "import numpy as np\n",
    "\n",
    "\n",
    "from threading import Lock\n",
    "wlock = Lock()\n",
    "def process_file(file_):\n",
    "    id_ = file_.split('/')[-1][:-4]\n",
    "\n",
    "    \n",
    "    vector_file = f'/home/ec2-user/SageMaker/mariano/notebooks/04. Model of DP/precomputed/{id_}_glove.p'\n",
    "\n",
    "    if os.path.isfile(vector_file):\n",
    "        data = pickle.load(open(vector_file,'rb'))\n",
    "#         assert type(data)==list and len(data)==3, 'Problem in stored file, not list or not two components.'\n",
    "        assert len(data)==3\n",
    "        assert data[0].shape==(300,) and data[1].shape==(600,) and data[2].shape==(1,10000), 'Problem with '\n",
    "        \n",
    "\n",
    "#         while len(data)>2:\n",
    "#             assert data[-1].shape==(1,10000)\n",
    "#             del(data[-1])        \n",
    "#         assert len(data)==2\n",
    "\n",
    "        # Compute BOW vector\n",
    "        x = np.zeros(shape=(len(word2index),), dtype='int32')\n",
    "        title, text = TDMStudio.get_title_and_text(file_)\n",
    "        tokens = tokenize(f'{title}. {text}')\n",
    "        for token in tokens:\n",
    "            if token in word2index:\n",
    "                x[word2index[token]]+=1\n",
    "\n",
    "        x = scipy.sparse.csr_matrix(x)\n",
    "        data.append(x)\n",
    "        assert len(data)==4 and data[0].shape==(300,) and data[1].shape==(600,) and data[2].shape==(1,10000) and data[3].shape==(1,10000)\n",
    "        pickle.dump(data, open(vector_file,'wb'))\n",
    "        del(title, text, tokens,x)   \n",
    "            \n",
    "        del(data)\n",
    "    wlock.acquire()\n",
    "    writer.write(f'{id_}\\n')\n",
    "    writer.flush()\n",
    "    wlock.release()\n",
    "    del(vector_file, id_)\n",
    "    \n",
    "# writer = open('computing_bow_all_corpus.txt','w')\n",
    "\n",
    "# data = process_file(files[0])"
   ]
  },
  {
   "cell_type": "code",
   "execution_count": 6,
   "id": "c450fc0f",
   "metadata": {},
   "outputs": [],
   "source": [
    "vocab = [(word2index[word],word) for word in word2index]\n",
    "vocab = sorted(vocab, key=lambda x: x[0])\n",
    "\n",
    "writer = open('vocab_with_dp.txt','w')\n",
    "for idx, term in vocab:\n",
    "    writer.write(f'{idx},{term}\\n')\n",
    "writer.close()"
   ]
  },
  {
   "cell_type": "code",
   "execution_count": 11,
   "id": "56a82c02",
   "metadata": {},
   "outputs": [
    {
     "data": {
      "text/plain": [
       "1353259"
      ]
     },
     "execution_count": 11,
     "metadata": {},
     "output_type": "execute_result"
    }
   ],
   "source": [
    "\n",
    "len(files)"
   ]
  },
  {
   "cell_type": "code",
   "execution_count": null,
   "id": "8004e77c",
   "metadata": {},
   "outputs": [
    {
     "name": "stdout",
     "output_type": "stream",
     "text": [
      "2022-04-11 13:47:55.699036 [ \u001b[1;94mINFO\u001b[0m  ] Starting...\n"
     ]
    }
   ],
   "source": [
    "%%time \n",
    "from utils.general import info, ok\n",
    "import concurrent.futures\n",
    "from tqdm import tqdm\n",
    "info('Starting...')\n",
    "writer = open('computing_bow_all_corpus.txt','a')\n",
    "# for file_ in tqdm(files):\n",
    "#     process_file(file_)\n",
    "with concurrent.futures.ThreadPoolExecutor(max_workers=3) as executor:\n",
    "    executor.map(process_file, files, chunksize=4000)\n",
    "writer.close()"
   ]
  },
  {
   "cell_type": "code",
   "execution_count": 88,
   "id": "15068abe",
   "metadata": {},
   "outputs": [
    {
     "name": "stdout",
     "output_type": "stream",
     "text": [
      "10000 computing_bow.txt\n"
     ]
    }
   ],
   "source": [
    "!wc -l computing_bow.txt"
   ]
  },
  {
   "cell_type": "code",
   "execution_count": 86,
   "id": "d7a7a28c",
   "metadata": {},
   "outputs": [
    {
     "name": "stdout",
     "output_type": "stream",
     "text": [
      "3\n",
      "(300,)\n",
      "[-0.00803777  0.16874683  0.02369894 -0.13766205  0.0377523  -0.07103971\n",
      "  0.08553136 -0.06139047  0.00410342  1.1460177  -0.05477083  0.06356484\n",
      "  0.05653736 -0.01857584 -0.02190888 -0.01510658  0.13819522  0.75981826\n",
      " -0.11648624 -0.08628251]\n",
      "(600,)\n",
      "[-0.06148517  0.30904186  0.02310382 -0.02355067  0.05649266 -0.06092584\n",
      "  0.06024383 -0.00945683 -0.02600013  1.65204668 -0.049699    0.26120201\n",
      "  0.0191465  -0.1179772  -0.0707     -0.077935    0.19361967  1.34649837\n",
      " -0.12529503 -0.1151536 ]\n",
      "[[1 1 0 ... 0 0 0]]\n"
     ]
    },
    {
     "data": {
      "text/plain": [
       "6"
      ]
     },
     "execution_count": 86,
     "metadata": {},
     "output_type": "execute_result"
    }
   ],
   "source": [
    "data_old = pickle.load(open('/home/ec2-user/SageMaker/mariano/notebooks/04. Model of DP/precomputed/1289475925_glove.p','rb'))\n",
    "print(len(data_old))\n",
    "print(data_old[0].shape)\n",
    "print(data_old[0][0:20])\n",
    "print(data_old[1].shape)\n",
    "print(data_old[1][0:20])\n",
    "print(data_old[2].toarray())\n",
    "np.sum(data_old[2].toarray())"
   ]
  },
  {
   "cell_type": "code",
   "execution_count": null,
   "id": "5a377a4e",
   "metadata": {},
   "outputs": [],
   "source": []
  },
  {
   "cell_type": "code",
   "execution_count": 69,
   "id": "e2d38310",
   "metadata": {},
   "outputs": [
    {
     "name": "stdout",
     "output_type": "stream",
     "text": [
      "2\n",
      "(300,)\n",
      "[-0.03753658  0.08245479 -0.071628   -0.04339382  0.06011355 -0.06183093\n",
      " -0.01894939  0.04835856 -0.01554548  2.1681154  -0.2038327  -0.01893758\n",
      "  0.06728072 -0.05528517 -0.03758769 -0.06066597 -0.11112813  1.0322566\n",
      " -0.13588363 -0.00790971]\n",
      "(600,)\n",
      "[-3.76633368e-02  3.53292674e-01 -1.43928334e-01  1.63132942e-03\n",
      "  1.81322560e-01 -3.37697357e-01 -9.97400004e-03 -5.41396700e-02\n",
      " -3.79066728e-03  2.61746669e+00 -1.64611995e-01 -3.25762659e-01\n",
      "  9.79500040e-02 -2.71142334e-01 -2.02816665e-01  7.38433301e-02\n",
      " -1.03232332e-01  7.16576636e-01 -2.22867146e-01 -6.94940099e-03]\n"
     ]
    }
   ],
   "source": [
    "\n",
    "data_old = pickle.load(open('/home/ec2-user/SageMaker/mariano/notebooks/04. Model of DP/precomputed/1323614655_glove.p','rb'))\n",
    "print(len(data_old))\n",
    "print(data_old[0].shape)\n",
    "print(data_old[0][0:20])\n",
    "print(data_old[1].shape)\n",
    "print(data_old[1][0:20])"
   ]
  },
  {
   "cell_type": "code",
   "execution_count": 74,
   "id": "c219c3ee",
   "metadata": {},
   "outputs": [
    {
     "name": "stdout",
     "output_type": "stream",
     "text": [
      "3\n",
      "(300,)\n",
      "[-0.03753658  0.08245479 -0.071628   -0.04339382  0.06011355 -0.06183093\n",
      " -0.01894939  0.04835856 -0.01554548  2.1681154  -0.2038327  -0.01893758\n",
      "  0.06728072 -0.05528517 -0.03758769 -0.06066597 -0.11112813  1.0322566\n",
      " -0.13588363 -0.00790971]\n",
      "(600,)\n",
      "[-3.76633368e-02  3.53292674e-01 -1.43928334e-01  1.63132942e-03\n",
      "  1.81322560e-01 -3.37697357e-01 -9.97400004e-03 -5.41396700e-02\n",
      " -3.79066728e-03  2.61746669e+00 -1.64611995e-01 -3.25762659e-01\n",
      "  9.79500040e-02 -2.71142334e-01 -2.02816665e-01  7.38433301e-02\n",
      " -1.03232332e-01  7.16576636e-01 -2.22867146e-01 -6.94940099e-03]\n"
     ]
    },
    {
     "data": {
      "text/plain": [
       "297"
      ]
     },
     "execution_count": 74,
     "metadata": {},
     "output_type": "execute_result"
    }
   ],
   "source": [
    "\n",
    "data_old = pickle.load(open('/home/ec2-user/SageMaker/mariano/notebooks/04. Model of DP/precomputed/1323614655_glove.p','rb'))\n",
    "print(len(data_old))\n",
    "print(data_old[0].shape)\n",
    "print(data_old[0][0:20])\n",
    "print(data_old[1].shape)\n",
    "print(data_old[1][0:20])\n",
    "np.sum(data_old[2].toarray())"
   ]
  },
  {
   "cell_type": "code",
   "execution_count": null,
   "id": "2646adbc",
   "metadata": {},
   "outputs": [],
   "source": []
  }
 ],
 "metadata": {
  "kernelspec": {
   "display_name": "imm",
   "language": "python",
   "name": "imm"
  },
  "language_info": {
   "codemirror_mode": {
    "name": "ipython",
    "version": 3
   },
   "file_extension": ".py",
   "mimetype": "text/x-python",
   "name": "python",
   "nbconvert_exporter": "python",
   "pygments_lexer": "ipython3",
   "version": "3.9.7"
  }
 },
 "nbformat": 4,
 "nbformat_minor": 5
}

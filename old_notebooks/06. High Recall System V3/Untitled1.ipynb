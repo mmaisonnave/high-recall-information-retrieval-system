{
 "cells": [
  {
   "cell_type": "code",
   "execution_count": 6,
   "id": "8c9c1737",
   "metadata": {},
   "outputs": [
    {
     "data": {
      "application/vnd.jupyter.widget-view+json": {
       "model_id": "f81c03b7dd3940dea60dc5f8287eb726",
       "version_major": 2,
       "version_minor": 0
      },
      "text/plain": [
       "FloatSlider(value=0.5, continuous_update=False, description='Confidence:', layout=Layout(width='237px'), max=1…"
      ]
     },
     "metadata": {},
     "output_type": "display_data"
    }
   ],
   "source": [
    "import ipywidgets as widgets\n",
    "slider = widgets.FloatSlider(value=0.5,\n",
    "                     min=0,\n",
    "                     max=1.0,\n",
    "                     step=0.01,\n",
    "                     description='Confidence:',\n",
    "                     disabled=False,\n",
    "                     continuous_update=False,\n",
    "                     orientation='horizontal',\n",
    "                     readout=True,\n",
    "                     readout_format='.3f',\n",
    "                     layout=widgets.Layout(width='237px'),\n",
    "                     ) \n",
    "display(slider)"
   ]
  },
  {
   "cell_type": "code",
   "execution_count": 10,
   "id": "2840481c",
   "metadata": {},
   "outputs": [
    {
     "data": {
      "text/plain": [
       "0.56"
      ]
     },
     "execution_count": 10,
     "metadata": {},
     "output_type": "execute_result"
    }
   ],
   "source": [
    "slider.value"
   ]
  },
  {
   "cell_type": "code",
   "execution_count": 5,
   "id": "3a8cd157",
   "metadata": {},
   "outputs": [],
   "source": [
    "import warnings\n",
    "\n",
    "def fxn():\n",
    "    warnings.warn('deprecated', DeprecationWarning)\n",
    "    \n",
    "with warnings.catch_warnings():\n",
    "    warnings.simplefilter(\"ignore\")\n",
    "    fxn()\n"
   ]
  },
  {
   "cell_type": "code",
   "execution_count": 10,
   "id": "54486b2f",
   "metadata": {},
   "outputs": [
    {
     "data": {
      "text/plain": [
       "True"
      ]
     },
     "execution_count": 10,
     "metadata": {},
     "output_type": "execute_result"
    }
   ],
   "source": [
    "def has_duplicated(list_):\n",
    "    visited=set()\n",
    "    has_duplicated=False\n",
    "    i = 0\n",
    "    while not has_duplicated and i<len(list_):\n",
    "        has_duplicated = list_[i] in visited\n",
    "        visited.add(list_[i])\n",
    "        i+=1\n",
    "    return has_duplicated\n",
    "\n",
    "has_duplicated([0,1,2,3,4,0,6,7,8,9])"
   ]
  },
  {
   "cell_type": "code",
   "execution_count": 5,
   "id": "da18da1c",
   "metadata": {},
   "outputs": [
    {
     "data": {
      "text/plain": [
       "2049401"
      ]
     },
     "execution_count": 5,
     "metadata": {},
     "output_type": "execute_result"
    }
   ],
   "source": [
    "import os\n",
    "dirpath='/home/ec2-user/SageMaker/mariano/notebooks/04. Model of DP/precomputed'\n",
    "files = os.listdir(dirpath)\n",
    "files = [file_ for file_ in files if  file_.endswith('.p')]\n",
    "len(files)"
   ]
  },
  {
   "cell_type": "code",
   "execution_count": 9,
   "id": "88914a1c",
   "metadata": {},
   "outputs": [
    {
     "data": {
      "text/plain": [
       "<1x10000 sparse matrix of type '<class 'numpy.int32'>'\n",
       "\twith 118 stored elements in Compressed Sparse Row format>"
      ]
     },
     "execution_count": 9,
     "metadata": {},
     "output_type": "execute_result"
    }
   ],
   "source": [
    "import pickle\n",
    "\n",
    "pickle.load(open(dirpath+'/'+files[0], 'rb'))[2]"
   ]
  },
  {
   "cell_type": "code",
   "execution_count": 11,
   "id": "5956d83e",
   "metadata": {},
   "outputs": [
    {
     "name": "stdout",
     "output_type": "stream",
     "text": [
      "Dense matrix representation: \n",
      " [[1 0 0 0 0 0]\n",
      " [0 0 2 0 0 1]\n",
      " [0 0 0 2 0 0]]\n"
     ]
    },
    {
     "data": {
      "text/plain": [
       "<3x6 sparse matrix of type '<class 'numpy.int64'>'\n",
       "\twith 4 stored elements in Compressed Sparse Row format>"
      ]
     },
     "execution_count": 11,
     "metadata": {},
     "output_type": "execute_result"
    }
   ],
   "source": [
    "import numpy as np \n",
    "from scipy.sparse import csr_matrix\n",
    "\n",
    "# create a 2-D representation of the matrix\n",
    "A = np.array([[1, 0, 0, 0, 0, 0], [0, 0, 2, 0, 0, 1],\\\n",
    " [0, 0, 0, 2, 0, 0]])\n",
    "print(\"Dense matrix representation: \\n\", A)\n",
    "\n",
    "# convert to sparse matrix representation \n",
    "S = csr_matrix(A)\n",
    "S"
   ]
  },
  {
   "cell_type": "code",
   "execution_count": null,
   "id": "d4ef790f",
   "metadata": {},
   "outputs": [],
   "source": [
    "\n",
    "S"
   ]
  }
 ],
 "metadata": {
  "kernelspec": {
   "display_name": "imm",
   "language": "python",
   "name": "imm"
  },
  "language_info": {
   "codemirror_mode": {
    "name": "ipython",
    "version": 3
   },
   "file_extension": ".py",
   "mimetype": "text/x-python",
   "name": "python",
   "nbconvert_exporter": "python",
   "pygments_lexer": "ipython3",
   "version": "3.9.7"
  }
 },
 "nbformat": 4,
 "nbformat_minor": 5
}

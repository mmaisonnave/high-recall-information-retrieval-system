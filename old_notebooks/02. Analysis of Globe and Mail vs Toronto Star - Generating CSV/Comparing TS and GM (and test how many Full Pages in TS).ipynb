{
 "cells": [
  {
   "cell_type": "markdown",
   "id": "084c5b14",
   "metadata": {},
   "source": [
    "### Reading the filenames for the whole database (205,538 files)"
   ]
  },
  {
   "cell_type": "code",
   "execution_count": 1,
   "id": "2d7d37d2",
   "metadata": {},
   "outputs": [
    {
     "name": "stdout",
     "output_type": "stream",
     "text": [
      "Cantidad de archivos: 205,538\n",
      "['1352134238.xml', '1400269650.xml', '1323706441.xml', '1527231392.xml', '1335009129.xml']\n"
     ]
    }
   ],
   "source": [
    "import os\n",
    "data_path = '/home/ec2-user/SageMaker/data/refugee_dataset_v1/'\n",
    "files = os.listdir(data_path)\n",
    "print(f'Cantidad de archivos: {len(files):,}')\n",
    "print(files[:5])"
   ]
  },
  {
   "cell_type": "markdown",
   "id": "5c92d674",
   "metadata": {},
   "source": [
    "### Reading XML files to retrieve PublisherName (Globe and Mail or Tronto Star)"
   ]
  },
  {
   "cell_type": "code",
   "execution_count": 3,
   "id": "4eaa0448",
   "metadata": {},
   "outputs": [],
   "source": [
    "import re\n",
    "\n",
    "publishers = []\n",
    "for file in files:\n",
    "    publisher = re.search('<PublisherName>(.*)</PublisherName>', open(os.path.join(data_path,file)).read()).groups()[0]\n",
    "    publishers.append(publisher)\n"
   ]
  },
  {
   "cell_type": "markdown",
   "id": "4578991f",
   "metadata": {},
   "source": [
    "### Randomly choosing 20 articles from each publisher"
   ]
  },
  {
   "cell_type": "code",
   "execution_count": 4,
   "id": "7ac8b6a8",
   "metadata": {},
   "outputs": [
    {
     "name": "stdout",
     "output_type": "stream",
     "text": [
      "Toronto Star    count: 97,336\n",
      "Globe and Mail  count: 108,202\n"
     ]
    }
   ],
   "source": [
    "import numpy as np\n",
    "import pandas as pd\n",
    "\n",
    "data = list(zip(range(len(files)),files,publishers))\n",
    "\n",
    "toronto_star=[]\n",
    "globe_and_mail = []\n",
    "for file,publisher in zip(files,publishers):\n",
    "    if publisher=='The Globe and Mail':\n",
    "        globe_and_mail.append(file)\n",
    "    else:\n",
    "        toronto_star.append(file)\n",
    "print(f'Toronto Star    count: {len(toronto_star):6,}')\n",
    "print(f'Globe and Mail  count: {len(globe_and_mail):6,}')\n",
    "\n",
    "\n",
    "# FIXING SEED FOR REPRODUCIBILITY\n",
    "rand = np.random.default_rng(42)\n",
    "examples_GM = rand.choice(globe_and_mail ,size=20, replace=False)\n",
    "examples_TS = rand.choice(toronto_star ,size=20, replace=False)\n",
    "    \n",
    "\n",
    "df = pd.DataFrame(np.concatenate([examples_GM,examples_TS]), columns=['file_id'])"
   ]
  },
  {
   "cell_type": "code",
   "execution_count": 9,
   "id": "dca85f2a",
   "metadata": {},
   "outputs": [],
   "source": [
    "from lxml import etree\n",
    "\n",
    "\n",
    "toronto_star_titles=[]\n",
    "for filename in toronto_star:\n",
    "    tree = etree.parse(data_path + filename)\n",
    "    root = tree.getroot()\n",
    "    \n",
    "\n",
    "    title = root.find('.//Title').text\n",
    "    toronto_star_titles.append(title)\n"
   ]
  },
  {
   "cell_type": "code",
   "execution_count": 15,
   "id": "36a97911",
   "metadata": {},
   "outputs": [
    {
     "name": "stdout",
     "output_type": "stream",
     "text": [
      "Number of Full Pages in Toronto Star 97336\n",
      "Percentage of Full Pages in Toronto Star 1.0\n"
     ]
    }
   ],
   "source": [
    "count = 0\n",
    "for title in toronto_star_titles:\n",
    "    if \"Page\" in title:\n",
    "        count+=1\n",
    "  \n",
    "        \n",
    "print(f'Number of Full Pages in Toronto Star {count}')        \n",
    "print(f'Percentage of Full Pages in Toronto Star {count/len(toronto_star_titles)}')"
   ]
  },
  {
   "cell_type": "code",
   "execution_count": 16,
   "id": "be8cd7f0",
   "metadata": {},
   "outputs": [
    {
     "data": {
      "text/plain": [
       "97336"
      ]
     },
     "execution_count": 16,
     "metadata": {},
     "output_type": "execute_result"
    }
   ],
   "source": [
    "len(toronto_star_titles)"
   ]
  },
  {
   "cell_type": "markdown",
   "id": "a5da314a",
   "metadata": {},
   "source": [
    "### Reading XML file (retrieving title, date, text, publisher)"
   ]
  },
  {
   "cell_type": "code",
   "execution_count": 65,
   "id": "7d22b68a",
   "metadata": {},
   "outputs": [],
   "source": [
    "\n",
    "from lxml import etree\n",
    "from bs4 import BeautifulSoup\n",
    "\n",
    "# We define a function to get the text content that we need from the XML articles available in our dataset\n",
    "def getxmlcontent(root):\n",
    "    if root.find('.//HiddenText') is not None:\n",
    "        return(root.find('.//HiddenText').text)\n",
    "    \n",
    "    elif root.find('.//Text') is not None:\n",
    "        return(root.find('.//Text').text)\n",
    "    \n",
    "    else:\n",
    "        return None\n",
    "    \n",
    "# Creating three lists to store filename, fulltext, and date\n",
    "# In TDM studio - the article ID is the same as the filename\n",
    "filename_list = []\n",
    "text_list = []\n",
    "date_list = []\n",
    "title_list = []\n",
    "publisher_list = []\n",
    "url_list = []\n",
    "\n",
    "# Parse files and add data to lists\n",
    "for file in df['file_id']:\n",
    "    tree = etree.parse(data_path + file)\n",
    "    root = tree.getroot()\n",
    "    \n",
    "    if getxmlcontent(root) is not None:\n",
    "        soup = BeautifulSoup(getxmlcontent(root))\n",
    "        text = soup.get_text()\n",
    "    else:\n",
    "        text = 'Error in processing document'\n",
    "        \n",
    "    date = root.find('.//NumericDate').text\n",
    "    \n",
    "    title = root.find('.//Title').text\n",
    "    publisher = root.find('.//PublisherName').text\n",
    "    \n",
    "    \n",
    "    \n",
    "    filename_list.append(file)\n",
    "    text_list.append(text)\n",
    "    date_list.append(date)\n",
    "    publisher_list.append(publisher)\n",
    "    title_list.append(title)\n",
    "    url_list.append('https://www.proquest.com/docview/'+file[:-4])\n",
    "    \n",
    "df['Title'] = title_list\n",
    "df['Date'] = date_list\n",
    "df['Publisher'] = publisher_list\n",
    "df['Text'] =  [text.replace('\\n', '<br>') for text in text_list]\n",
    "df['URL'] = [f'<a href={url}>{url}</a>' for url in url_list]\n",
    "df.to_html('for analyzing_locally.html',escape=False)\n",
    "df[[\"file_id\", \"Publisher\"]].to_html(\"for_export.html\",escape=False)"
   ]
  },
  {
   "cell_type": "code",
   "execution_count": null,
   "id": "19bb3aee",
   "metadata": {},
   "outputs": [],
   "source": []
  }
 ],
 "metadata": {
  "kernelspec": {
   "display_name": "imm",
   "language": "python",
   "name": "imm"
  },
  "language_info": {
   "codemirror_mode": {
    "name": "ipython",
    "version": 3
   },
   "file_extension": ".py",
   "mimetype": "text/x-python",
   "name": "python",
   "nbconvert_exporter": "python",
   "pygments_lexer": "ipython3",
   "version": "3.9.7"
  }
 },
 "nbformat": 4,
 "nbformat_minor": 5
}

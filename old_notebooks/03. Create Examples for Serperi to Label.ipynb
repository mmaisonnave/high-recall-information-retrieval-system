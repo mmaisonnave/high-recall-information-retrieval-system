{
 "cells": [
  {
   "cell_type": "markdown",
   "id": "f79b5eff",
   "metadata": {},
   "source": [
    "### Reading all file names"
   ]
  },
  {
   "cell_type": "code",
   "execution_count": null,
   "id": "c49f020c",
   "metadata": {},
   "outputs": [],
   "source": [
    "import os\n",
    "DATA_PATH = '/home/ec2-user/SageMaker/data/refugee_dataset_v1/'\n",
    "files = os.listdir(DATA_PATH)\n",
    "print(f'Number of files recovered: {len(files)}')"
   ]
  },
  {
   "cell_type": "markdown",
   "id": "80816295",
   "metadata": {},
   "source": [
    "### Reading file IDs from Serperi examples"
   ]
  },
  {
   "cell_type": "code",
   "execution_count": 14,
   "id": "5a9cb72a",
   "metadata": {},
   "outputs": [
    {
     "name": "stdout",
     "output_type": "stream",
     "text": [
      "Number of examples provided by Serperi: 72\n"
     ]
    }
   ],
   "source": [
    "import re\n",
    "\n",
    "SERPERI_EXAMPLE_FILE = 'refugee_DP_serperi_examples.csv'\n",
    "lines = open(SERPERI_EXAMPLE_FILE, 'r').read().splitlines()\n",
    "lines = [line for line in lines if line!=',' and line!='folder,URL']\n",
    "serperi_files_id = set([re.findall('docview/([0-9]*)/',line)[0]  for line in lines])\n",
    "print(f'Number of examples provided by Serperi: {len(serperi_files_id)}')\n"
   ]
  },
  {
   "cell_type": "markdown",
   "id": "47cc08b6",
   "metadata": {},
   "source": [
    "### Removing Serperi examples from all the files"
   ]
  },
  {
   "cell_type": "code",
   "execution_count": 16,
   "id": "b0b32cbd",
   "metadata": {},
   "outputs": [
    {
     "name": "stdout",
     "output_type": "stream",
     "text": [
      "Number of files after removing the ones provided by Serperi: 205466\n"
     ]
    }
   ],
   "source": [
    "remaining_files = [file_ for file_ in files if not file_[:-4] in serperi_files_id]\n",
    "print(f'Number of files after removing the ones provided by Serperi: {len(remaining_files)}')\n"
   ]
  },
  {
   "cell_type": "markdown",
   "id": "f5785c26",
   "metadata": {},
   "source": [
    "### Randomly choosing K examples for labelling"
   ]
  },
  {
   "cell_type": "code",
   "execution_count": 67,
   "id": "dbf4ecab",
   "metadata": {},
   "outputs": [
    {
     "name": "stdout",
     "output_type": "stream",
     "text": [
      "['1348934186.xml' '1399153841.xml' '1432628450.xml' '1325661554.xml' ... '1519667988.xml' '1240415588.xml' '1137039205.xml' '1151743100.xml']\n",
      "1348934186\n",
      "1399153841\n",
      "1432628450\n",
      "1325661554\n",
      "---\n",
      "1519667988\n",
      "1240415588\n",
      "1137039205\n",
      "1151743100\n",
      "Size of file to export: 1650 Bytes (1.7K)\n"
     ]
    }
   ],
   "source": [
    "import numpy as np\n",
    "\n",
    "# FIXING SEED FOR REPRODUCIBILITY\n",
    "rand = np.random.default_rng(42)\n",
    "examples = rand.choice(remaining_files ,size=150, replace=False)\n",
    "\n",
    "#GENERATING FILE FOR EXPORTING \n",
    "EXAMPLES_FOR_LABELING_FILE = '150docs_for_labeling.csv'\n",
    "writer = open(EXAMPLES_FOR_LABELING_FILE, 'w')\n",
    "writer.write('\\n'.join([example[:-4] for example in examples])+'\\n')\n",
    "writer.close()\n",
    "\n",
    "\n",
    "#CONTENT AND SIZE OF THE FILE\n",
    "print(f'{str(examples[:4])[:-1]} ... {str(examples[-4:])[1:]}')\n",
    "\n",
    "!head -4 150docs_for_labeling.csv\n",
    "!echo ---\n",
    "!tail -4 150docs_for_labeling.csv\n",
    "!echo Size of file to export: $(ls -l 150docs_for_labeling.csv | sed 's/.*ec2-user\\ \\([0-9KMB]*\\).*/\\1/g') Bytes \\($(ls -hl 150docs_for_labeling.csv | sed 's/.*ec2-user\\ \\([0-9KMB\\.]*\\).*/\\1/g')\\)"
   ]
  },
  {
   "cell_type": "code",
   "execution_count": 68,
   "id": "2fac868f",
   "metadata": {},
   "outputs": [
    {
     "name": "stdout",
     "output_type": "stream",
     "text": [
      "Completed 1.6 KiB/1.6 KiB (14.9 KiB/s) with 1 file(s) remaining\r",
      "upload: ./150docs_for_labeling.csv to s3://pq-tdm-studio-results/tdm-ale-data/623/results/150docs_for_labeling.csv\r\n"
     ]
    }
   ],
   "source": [
    "data_to_export = EXAMPLES_FOR_LABELING_FILE # The file and path you want to export\n",
    "!aws s3 cp $data_to_export s3://pq-tdm-studio-results/tdm-ale-data/623/results/"
   ]
  },
  {
   "cell_type": "code",
   "execution_count": 70,
   "id": "5fa5a676",
   "metadata": {},
   "outputs": [
    {
     "data": {
      "text/html": [
       "<div>\n",
       "<style scoped>\n",
       "    .dataframe tbody tr th:only-of-type {\n",
       "        vertical-align: middle;\n",
       "    }\n",
       "\n",
       "    .dataframe tbody tr th {\n",
       "        vertical-align: top;\n",
       "    }\n",
       "\n",
       "    .dataframe thead th {\n",
       "        text-align: right;\n",
       "    }\n",
       "</style>\n",
       "<table border=\"1\" class=\"dataframe\">\n",
       "  <thead>\n",
       "    <tr style=\"text-align: right;\">\n",
       "      <th></th>\n",
       "      <th>Article ID</th>\n",
       "      <th>Text</th>\n",
       "      <th>Date</th>\n",
       "    </tr>\n",
       "  </thead>\n",
       "  <tbody>\n",
       "    <tr>\n",
       "      <th>0</th>\n",
       "      <td>1348934186.xml</td>\n",
       "      <td>\\n\\n\\n \\n\\n\\n\\n1HE 10R0NT0 SIAII Wednesday, De...</td>\n",
       "      <td>1999-12-08</td>\n",
       "    </tr>\n",
       "    <tr>\n",
       "      <th>1</th>\n",
       "      <td>1399153841.xml</td>\n",
       "      <td>\\n\\n\\n \\n\\n\\n\\nTORONTO STAR. TUESDAY, MAY 25, ...</td>\n",
       "      <td>1982-05-25</td>\n",
       "    </tr>\n",
       "    <tr>\n",
       "      <th>2</th>\n",
       "      <td>1432628450.xml</td>\n",
       "      <td>\\n\\n\\n \\n\\n\\n\\n1 26 Classified Want Ad Headqua...</td>\n",
       "      <td>1943-09-03</td>\n",
       "    </tr>\n",
       "    <tr>\n",
       "      <th>3</th>\n",
       "      <td>1325661554.xml</td>\n",
       "      <td>\\n\\n\\n \\n\\n\\n\\nSTATE ECONOMY MUST BE AIMED AT ...</td>\n",
       "      <td>1943-05-12</td>\n",
       "    </tr>\n",
       "    <tr>\n",
       "      <th>4</th>\n",
       "      <td>1356320334.xml</td>\n",
       "      <td>\\n\\n\\n \\n\\n\\n\\nNOTES AND COMMENTS\\n\\n\\nJudging...</td>\n",
       "      <td>1903-11-20</td>\n",
       "    </tr>\n",
       "    <tr>\n",
       "      <th>...</th>\n",
       "      <td>...</td>\n",
       "      <td>...</td>\n",
       "      <td>...</td>\n",
       "    </tr>\n",
       "    <tr>\n",
       "      <th>145</th>\n",
       "      <td>2032180012.xml</td>\n",
       "      <td>NEWSBest of today? INTERACTIVEAdopting Toronto...</td>\n",
       "      <td>2015-09-22</td>\n",
       "    </tr>\n",
       "    <tr>\n",
       "      <th>146</th>\n",
       "      <td>1519667988.xml</td>\n",
       "      <td>\\n\\n\\n \\n\\n\\n\\nTHE SIAMESE COURT\\n\\n\\nTHE ENGL...</td>\n",
       "      <td>1870-12-29</td>\n",
       "    </tr>\n",
       "    <tr>\n",
       "      <th>147</th>\n",
       "      <td>1240415588.xml</td>\n",
       "      <td>\\n\\n\\n \\n\\n\\n\\nMan of the year\\n\\n\\nHow you co...</td>\n",
       "      <td>1972-01-07</td>\n",
       "    </tr>\n",
       "    <tr>\n",
       "      <th>148</th>\n",
       "      <td>1137039205.xml</td>\n",
       "      <td>\\n\\n\\n \\n\\n\\n\\nBooksellers' Selection Advertis...</td>\n",
       "      <td>1996-10-26</td>\n",
       "    </tr>\n",
       "    <tr>\n",
       "      <th>149</th>\n",
       "      <td>1151743100.xml</td>\n",
       "      <td>\\n\\n\\n \\n\\n\\n\\nPetrocan ending drilling in Mya...</td>\n",
       "      <td>1992-11-03</td>\n",
       "    </tr>\n",
       "  </tbody>\n",
       "</table>\n",
       "<p>150 rows × 3 columns</p>\n",
       "</div>"
      ],
      "text/plain": [
       "         Article ID                                               Text  \\\n",
       "0    1348934186.xml  \\n\\n\\n \\n\\n\\n\\n1HE 10R0NT0 SIAII Wednesday, De...   \n",
       "1    1399153841.xml  \\n\\n\\n \\n\\n\\n\\nTORONTO STAR. TUESDAY, MAY 25, ...   \n",
       "2    1432628450.xml  \\n\\n\\n \\n\\n\\n\\n1 26 Classified Want Ad Headqua...   \n",
       "3    1325661554.xml  \\n\\n\\n \\n\\n\\n\\nSTATE ECONOMY MUST BE AIMED AT ...   \n",
       "4    1356320334.xml  \\n\\n\\n \\n\\n\\n\\nNOTES AND COMMENTS\\n\\n\\nJudging...   \n",
       "..              ...                                                ...   \n",
       "145  2032180012.xml  NEWSBest of today? INTERACTIVEAdopting Toronto...   \n",
       "146  1519667988.xml  \\n\\n\\n \\n\\n\\n\\nTHE SIAMESE COURT\\n\\n\\nTHE ENGL...   \n",
       "147  1240415588.xml  \\n\\n\\n \\n\\n\\n\\nMan of the year\\n\\n\\nHow you co...   \n",
       "148  1137039205.xml  \\n\\n\\n \\n\\n\\n\\nBooksellers' Selection Advertis...   \n",
       "149  1151743100.xml  \\n\\n\\n \\n\\n\\n\\nPetrocan ending drilling in Mya...   \n",
       "\n",
       "           Date  \n",
       "0    1999-12-08  \n",
       "1    1982-05-25  \n",
       "2    1943-09-03  \n",
       "3    1943-05-12  \n",
       "4    1903-11-20  \n",
       "..          ...  \n",
       "145  2015-09-22  \n",
       "146  1870-12-29  \n",
       "147  1972-01-07  \n",
       "148  1996-10-26  \n",
       "149  1992-11-03  \n",
       "\n",
       "[150 rows x 3 columns]"
      ]
     },
     "execution_count": 70,
     "metadata": {},
     "output_type": "execute_result"
    }
   ],
   "source": [
    "import pandas as pd\n",
    "from lxml import etree\n",
    "from bs4 import BeautifulSoup\n",
    "\n",
    "keywords = ['refugees',\n",
    "            'negros',\n",
    "            'southerners',\n",
    "            'fugitives',\n",
    "            'fugitive',\n",
    "            'slaves',\n",
    "            'displaced people',\n",
    "            'displaced persons',\n",
    "            'stateless',\n",
    "            'boat people',\n",
    "            'asylum seekers'\n",
    "           ]\n",
    "# We define a function to get the text content that we need from the XML articles available in our dataset\n",
    "def getxmlcontent(root):\n",
    "    if root.find('.//HiddenText') is not None:\n",
    "        return(root.find('.//HiddenText').text)\n",
    "    \n",
    "    elif root.find('.//Text') is not None:\n",
    "        return(root.find('.//Text').text)\n",
    "    \n",
    "    else:\n",
    "        return None\n",
    "# Creating three lists to store filename, fulltext, and date\n",
    "# In TDM studio - the article ID is the same as the filename\n",
    "filename_list = []\n",
    "text_list = []\n",
    "date_list = []\n",
    "\n",
    "# Parse files and add data to lists\n",
    "for file in examples:\n",
    "    tree = etree.parse(DATA_PATH + file)\n",
    "    root = tree.getroot()\n",
    "    \n",
    "    if getxmlcontent(root) is not None:\n",
    "        soup = BeautifulSoup(getxmlcontent(root))\n",
    "        text = soup.get_text()\n",
    "    else:\n",
    "        text = 'Error in processing document'\n",
    "        \n",
    "    date = root.find('.//NumericDate').text\n",
    "    \n",
    "    filename_list.append(file)\n",
    "    text_list.append(text)\n",
    "    date_list.append(date)\n",
    "# Creating a dataframe, setting each of the columns to one of the lists we made in the cell above\n",
    "df = pd.DataFrame({'Article ID': filename_list,'Text': text_list, 'Date': date_list})\n",
    "df"
   ]
  },
  {
   "cell_type": "code",
   "execution_count": 3,
   "id": "b32c332b",
   "metadata": {},
   "outputs": [
    {
     "name": "stdout",
     "output_type": "stream",
     "text": [
      "Collecting package metadata (current_repodata.json): done\n",
      "Solving environment: done\n",
      "\n",
      "## Package Plan ##\n",
      "\n",
      "  environment location: /home/ec2-user/anaconda3/envs/JupyterSystemEnv\n",
      "\n",
      "  added / updated specs:\n",
      "    - conda\n",
      "\n",
      "\n",
      "The following packages will be downloaded:\n",
      "\n",
      "    package                    |            build\n",
      "    ---------------------------|-----------------\n",
      "    conda-4.10.3               |   py36h5fab9bb_2         3.1 MB  conda-forge\n",
      "    cryptography-35.0.0        |   py36hb60f036_0         1.5 MB  conda-forge\n",
      "    glib-2.70.0                |       h780b84a_1         430 KB  conda-forge\n",
      "    glib-tools-2.70.0          |       h780b84a_1         107 KB  conda-forge\n",
      "    gst-plugins-base-1.18.5    |       hf529b03_1         2.6 MB  conda-forge\n",
      "    gstreamer-1.18.5           |       h9f60fe5_1         2.0 MB  conda-forge\n",
      "    icu-68.2                   |       h9c3ff4c_0        13.1 MB  conda-forge\n",
      "    jinja2-3.0.2               |     pyhd8ed1ab_0          99 KB  conda-forge\n",
      "    lerc-3.0                   |       h9c3ff4c_0         216 KB  conda-forge\n",
      "    libblas-3.9.0              |12_linux64_openblas          12 KB  conda-forge\n",
      "    libcblas-3.9.0             |12_linux64_openblas          12 KB  conda-forge\n",
      "    libdeflate-1.8             |       h7f98852_0          67 KB  conda-forge\n",
      "    libevent-2.1.10            |       h9b69904_4         1.1 MB  conda-forge\n",
      "    libgcc-ng-11.2.0           |      h1d223b6_11         887 KB  conda-forge\n",
      "    libgfortran-ng-11.2.0      |      h69a702a_11          19 KB  conda-forge\n",
      "    libgfortran5-11.2.0        |      h5c6108e_11         1.7 MB  conda-forge\n",
      "    libglib-2.70.0             |       h174f98d_1         3.0 MB  conda-forge\n",
      "    libgomp-11.2.0             |      h1d223b6_11         427 KB  conda-forge\n",
      "    liblapack-3.9.0            |12_linux64_openblas          12 KB  conda-forge\n",
      "    libopenblas-0.3.18         |pthreads_h8fe5266_0         9.6 MB  conda-forge\n",
      "    libpq-13.3                 |       hd57d9b9_1         2.7 MB  conda-forge\n",
      "    librsvg-2.52.3             |       hc3c00ef_0         5.2 MB  conda-forge\n",
      "    libstdcxx-ng-11.2.0        |      he4da1e4_11         4.2 MB  conda-forge\n",
      "    libtiff-4.3.0              |       h6f004c6_2         614 KB  conda-forge\n",
      "    mysql-common-8.0.27        |       ha770c72_1         1.8 MB  conda-forge\n",
      "    mysql-libs-8.0.27          |       hfa10184_1         1.9 MB  conda-forge\n",
      "    nspr-4.32                  |       h9c3ff4c_0         231 KB  conda-forge\n",
      "    nss-3.71                   |       hb5efdd6_0         2.1 MB  conda-forge\n",
      "    packaging-21.2             |     pyhd8ed1ab_0          35 KB  conda-forge\n",
      "    pip-21.3.1                 |     pyhd8ed1ab_0         1.2 MB  conda-forge\n",
      "    prometheus_client-0.12.0   |     pyhd8ed1ab_0          47 KB  conda-forge\n",
      "    pyparsing-3.0.3            |     pyhd8ed1ab_0          78 KB  conda-forge\n",
      "    pytz-2021.3                |     pyhd8ed1ab_0         242 KB  conda-forge\n",
      "    ------------------------------------------------------------\n",
      "                                           Total:        60.5 MB\n",
      "\n",
      "The following packages will be REMOVED:\n",
      "\n",
      "  nest-asyncio-1.5.1-pyhd8ed1ab_0\n",
      "\n",
      "The following packages will be UPDATED:\n",
      "\n",
      "  conda                                4.8.4-py36h9f0ad1d_2 --> 4.10.3-py36h5fab9bb_2\n",
      "  cryptography                         3.4.7-py36hb60f036_0 --> 35.0.0-py36hb60f036_0\n",
      "  glib                                    2.68.4-h9c3ff4c_1 --> 2.70.0-h780b84a_1\n",
      "  glib-tools                              2.68.4-h9c3ff4c_1 --> 2.70.0-h780b84a_1\n",
      "  gst-plugins-base                        1.18.5-hf529b03_0 --> 1.18.5-hf529b03_1\n",
      "  gstreamer                               1.18.5-h76c114f_0 --> 1.18.5-h9f60fe5_1\n",
      "  icu                                       68.1-h58526e2_0 --> 68.2-h9c3ff4c_0\n",
      "  jinja2                                 3.0.1-pyhd8ed1ab_0 --> 3.0.2-pyhd8ed1ab_0\n",
      "  lerc                                     2.2.1-h9c3ff4c_0 --> 3.0-h9c3ff4c_0\n",
      "  libblas                         3.9.0-11_linux64_openblas --> 3.9.0-12_linux64_openblas\n",
      "  libcblas                        3.9.0-11_linux64_openblas --> 3.9.0-12_linux64_openblas\n",
      "  libdeflate                                 1.7-h7f98852_5 --> 1.8-h7f98852_0\n",
      "  libevent                                2.1.10-hcdb4288_3 --> 2.1.10-h9b69904_4\n",
      "  libgcc-ng                               11.2.0-h1d223b6_9 --> 11.2.0-h1d223b6_11\n",
      "  libgfortran-ng                          11.2.0-h69a702a_9 --> 11.2.0-h69a702a_11\n",
      "  libgfortran5                            11.2.0-h5c6108e_9 --> 11.2.0-h5c6108e_11\n",
      "  libglib                                 2.68.4-h174f98d_1 --> 2.70.0-h174f98d_1\n",
      "  libgomp                                 11.2.0-h1d223b6_9 --> 11.2.0-h1d223b6_11\n",
      "  liblapack                       3.9.0-11_linux64_openblas --> 3.9.0-12_linux64_openblas\n",
      "  libopenblas                    0.3.17-pthreads_h8fe5266_1 --> 0.3.18-pthreads_h8fe5266_0\n",
      "  libpq                                     13.3-hd57d9b9_0 --> 13.3-hd57d9b9_1\n",
      "  librsvg                                 2.52.0-hc3c00ef_0 --> 2.52.3-hc3c00ef_0\n",
      "  libstdcxx-ng                            11.2.0-he4da1e4_9 --> 11.2.0-he4da1e4_11\n",
      "  libtiff                                  4.3.0-hf544144_1 --> 4.3.0-h6f004c6_2\n",
      "  mysql-common                            8.0.25-ha770c72_2 --> 8.0.27-ha770c72_1\n",
      "  mysql-libs                              8.0.25-hfa10184_2 --> 8.0.27-hfa10184_1\n",
      "  nspr                                      4.30-h9c3ff4c_0 --> 4.32-h9c3ff4c_0\n",
      "  nss                                       3.69-hb5efdd6_1 --> 3.71-hb5efdd6_0\n",
      "  packaging                               21.0-pyhd8ed1ab_0 --> 21.2-pyhd8ed1ab_0\n",
      "  pip                                   21.2.4-pyhd8ed1ab_0 --> 21.3.1-pyhd8ed1ab_0\n",
      "  prometheus_client                     0.11.0-pyhd8ed1ab_0 --> 0.12.0-pyhd8ed1ab_0\n",
      "  pyparsing                              2.4.7-pyh9f0ad1d_0 --> 3.0.3-pyhd8ed1ab_0\n",
      "  pytz                                  2021.1-pyhd8ed1ab_0 --> 2021.3-pyhd8ed1ab_0\n",
      "\n",
      "\n",
      "\n",
      "Downloading and Extracting Packages\n",
      "librsvg-2.52.3       | 5.2 MB    | ##################################### | 100% \n",
      "cryptography-35.0.0  | 1.5 MB    | ##################################### | 100% \n",
      "glib-tools-2.70.0    | 107 KB    | ##################################### | 100% \n",
      "packaging-21.2       | 35 KB     | ##################################### | 100% \n",
      "libblas-3.9.0        | 12 KB     | ##################################### | 100% \n",
      "libgomp-11.2.0       | 427 KB    | ##################################### | 100% \n",
      "nspr-4.32            | 231 KB    | ##################################### | 100% \n",
      "libopenblas-0.3.18   | 9.6 MB    | ##################################### | 100% \n",
      "glib-2.70.0          | 430 KB    | ##################################### | 100% \n",
      "jinja2-3.0.2         | 99 KB     | ##################################### | 100% \n",
      "pip-21.3.1           | 1.2 MB    | ##################################### | 100% \n",
      "libglib-2.70.0       | 3.0 MB    | ##################################### | 100% \n",
      "gst-plugins-base-1.1 | 2.6 MB    | ##################################### | 100% \n",
      "libpq-13.3           | 2.7 MB    | ##################################### | 100% \n",
      "libcblas-3.9.0       | 12 KB     | ##################################### | 100% \n",
      "icu-68.2             | 13.1 MB   | ##################################### | 100% \n",
      "gstreamer-1.18.5     | 2.0 MB    | ##################################### | 100% \n",
      "libgfortran5-11.2.0  | 1.7 MB    | ##################################### | 100% \n",
      "libgcc-ng-11.2.0     | 887 KB    | ##################################### | 100% \n",
      "nss-3.71             | 2.1 MB    | ##################################### | 100% \n",
      "libstdcxx-ng-11.2.0  | 4.2 MB    | ##################################### | 100% \n",
      "pytz-2021.3          | 242 KB    | ##################################### | 100% \n",
      "libgfortran-ng-11.2. | 19 KB     | ##################################### | 100% \n",
      "pyparsing-3.0.3      | 78 KB     | ##################################### | 100% \n",
      "libevent-2.1.10      | 1.1 MB    | ##################################### | 100% \n",
      "prometheus_client-0. | 47 KB     | ##################################### | 100% \n",
      "libdeflate-1.8       | 67 KB     | ##################################### | 100% \n",
      "conda-4.10.3         | 3.1 MB    | ##################################### | 100% \n",
      "mysql-common-8.0.27  | 1.8 MB    | ##################################### | 100% \n",
      "lerc-3.0             | 216 KB    | ##################################### | 100% \n",
      "libtiff-4.3.0        | 614 KB    | ##################################### | 100% \n",
      "mysql-libs-8.0.27    | 1.9 MB    | ##################################### | 100% \n",
      "liblapack-3.9.0      | 12 KB     | ##################################### | 100% \n",
      "Preparing transaction: done\n",
      "Verifying transaction: done\n",
      "Executing transaction: - \n",
      "- \n",
      "done\n"
     ]
    }
   ],
   "source": [
    "!conda update -y -n base conda"
   ]
  },
  {
   "cell_type": "code",
   "execution_count": 5,
   "id": "c2aaa746",
   "metadata": {},
   "outputs": [
    {
     "ename": "ModuleNotFoundError",
     "evalue": "No module named 'spacy'",
     "output_type": "error",
     "traceback": [
      "\u001b[0;31m---------------------------------------------------------------------------\u001b[0m",
      "\u001b[0;31mModuleNotFoundError\u001b[0m                       Traceback (most recent call last)",
      "\u001b[0;32m<ipython-input-5-e4c801bd61f2>\u001b[0m in \u001b[0;36m<module>\u001b[0;34m\u001b[0m\n\u001b[0;32m----> 1\u001b[0;31m \u001b[0;32mimport\u001b[0m \u001b[0mspacy\u001b[0m\u001b[0;34m\u001b[0m\u001b[0;34m\u001b[0m\u001b[0m\n\u001b[0m\u001b[1;32m      2\u001b[0m \u001b[0mnlp\u001b[0m \u001b[0;34m=\u001b[0m \u001b[0mspacy\u001b[0m\u001b[0;34m.\u001b[0m\u001b[0mload\u001b[0m\u001b[0;34m(\u001b[0m\u001b[0;34m'en_core_web_sm'\u001b[0m\u001b[0;34m)\u001b[0m\u001b[0;34m\u001b[0m\u001b[0;34m\u001b[0m\u001b[0m\n",
      "\u001b[0;31mModuleNotFoundError\u001b[0m: No module named 'spacy'"
     ]
    }
   ],
   "source": [
    "import spacy\n",
    "nlp = spacy.load('en_core_web_sm')"
   ]
  },
  {
   "cell_type": "code",
   "execution_count": null,
   "id": "04386983",
   "metadata": {},
   "outputs": [],
   "source": [
    "!python3 -m spacy download en_core_web_lg"
   ]
  },
  {
   "cell_type": "code",
   "execution_count": null,
   "id": "83cc760d",
   "metadata": {},
   "outputs": [],
   "source": []
  }
 ],
 "metadata": {
  "kernelspec": {
   "display_name": "conda_python3",
   "language": "python",
   "name": "conda_python3"
  },
  "language_info": {
   "codemirror_mode": {
    "name": "ipython",
    "version": 3
   },
   "file_extension": ".py",
   "mimetype": "text/x-python",
   "name": "python",
   "nbconvert_exporter": "python",
   "pygments_lexer": "ipython3",
   "version": "3.6.13"
  }
 },
 "nbformat": 4,
 "nbformat_minor": 5
}

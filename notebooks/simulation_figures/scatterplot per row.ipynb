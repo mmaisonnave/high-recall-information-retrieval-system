{
 "cells": [
  {
   "cell_type": "code",
   "execution_count": 1,
   "id": "fefc6971",
   "metadata": {},
   "outputs": [],
   "source": [
    "import os\n",
    "#########\n",
    "# INPUT #\n",
    "#########\n",
    "\n",
    "displaced_person_file = '/home/ec2-user/SageMaker/mariano/datasets/displaced_persons/simulation_results/auc_results.csv'\n",
    "assert os.path.isfile(displaced_person_file)"
   ]
  },
  {
   "cell_type": "code",
   "execution_count": 2,
   "id": "4907c074",
   "metadata": {},
   "outputs": [
    {
     "data": {
      "text/html": [
       "<div>\n",
       "<style scoped>\n",
       "    .dataframe tbody tr th:only-of-type {\n",
       "        vertical-align: middle;\n",
       "    }\n",
       "\n",
       "    .dataframe tbody tr th {\n",
       "        vertical-align: top;\n",
       "    }\n",
       "\n",
       "    .dataframe thead th {\n",
       "        text-align: right;\n",
       "    }\n",
       "</style>\n",
       "<table border=\"1\" class=\"dataframe\">\n",
       "  <thead>\n",
       "    <tr style=\"text-align: right;\">\n",
       "      <th></th>\n",
       "      <th>Unnamed: 0</th>\n",
       "      <th>representation</th>\n",
       "      <th>Model</th>\n",
       "      <th>Ranking Function</th>\n",
       "      <th>Accuracy</th>\n",
       "      <th>Precision</th>\n",
       "      <th>Recall</th>\n",
       "      <th>F1-Score</th>\n",
       "    </tr>\n",
       "  </thead>\n",
       "  <tbody>\n",
       "    <tr>\n",
       "      <th>0</th>\n",
       "      <td>0</td>\n",
       "      <td>bow</td>\n",
       "      <td>logreg</td>\n",
       "      <td>relevance</td>\n",
       "      <td>0.906281</td>\n",
       "      <td>0.627357</td>\n",
       "      <td>0.850502</td>\n",
       "      <td>0.693947</td>\n",
       "    </tr>\n",
       "    <tr>\n",
       "      <th>1</th>\n",
       "      <td>1</td>\n",
       "      <td>bow</td>\n",
       "      <td>logreg</td>\n",
       "      <td>uncertainty</td>\n",
       "      <td>0.900291</td>\n",
       "      <td>0.579390</td>\n",
       "      <td>0.923180</td>\n",
       "      <td>0.686294</td>\n",
       "    </tr>\n",
       "    <tr>\n",
       "      <th>2</th>\n",
       "      <td>2</td>\n",
       "      <td>bow</td>\n",
       "      <td>logreg</td>\n",
       "      <td>1quarter_relevance_3quarters_uncertainty</td>\n",
       "      <td>0.903891</td>\n",
       "      <td>0.588670</td>\n",
       "      <td>0.924124</td>\n",
       "      <td>0.697974</td>\n",
       "    </tr>\n",
       "    <tr>\n",
       "      <th>3</th>\n",
       "      <td>3</td>\n",
       "      <td>bow</td>\n",
       "      <td>logreg</td>\n",
       "      <td>3quarter_relevance_1quarters_uncertainty</td>\n",
       "      <td>0.906281</td>\n",
       "      <td>0.627357</td>\n",
       "      <td>0.850502</td>\n",
       "      <td>0.693947</td>\n",
       "    </tr>\n",
       "    <tr>\n",
       "      <th>4</th>\n",
       "      <td>4</td>\n",
       "      <td>bow</td>\n",
       "      <td>logreg</td>\n",
       "      <td>relevance_with_avg_diversity</td>\n",
       "      <td>0.913363</td>\n",
       "      <td>0.649813</td>\n",
       "      <td>0.822713</td>\n",
       "      <td>0.698241</td>\n",
       "    </tr>\n",
       "  </tbody>\n",
       "</table>\n",
       "</div>"
      ],
      "text/plain": [
       "   Unnamed: 0 representation   Model  \\\n",
       "0           0            bow  logreg   \n",
       "1           1            bow  logreg   \n",
       "2           2            bow  logreg   \n",
       "3           3            bow  logreg   \n",
       "4           4            bow  logreg   \n",
       "\n",
       "                           Ranking Function  Accuracy  Precision    Recall  \\\n",
       "0                                 relevance  0.906281   0.627357  0.850502   \n",
       "1                               uncertainty  0.900291   0.579390  0.923180   \n",
       "2  1quarter_relevance_3quarters_uncertainty  0.903891   0.588670  0.924124   \n",
       "3  3quarter_relevance_1quarters_uncertainty  0.906281   0.627357  0.850502   \n",
       "4              relevance_with_avg_diversity  0.913363   0.649813  0.822713   \n",
       "\n",
       "   F1-Score  \n",
       "0  0.693947  \n",
       "1  0.686294  \n",
       "2  0.697974  \n",
       "3  0.693947  \n",
       "4  0.698241  "
      ]
     },
     "execution_count": 2,
     "metadata": {},
     "output_type": "execute_result"
    }
   ],
   "source": [
    "import os\n",
    "import pandas as pd\n",
    "import matplotlib.pyplot as plt\n",
    "\n",
    "df = pd.read_csv(displaced_person_file)\n",
    "df.head()"
   ]
  },
  {
   "cell_type": "code",
   "execution_count": 7,
   "id": "5d771cb8",
   "metadata": {
    "scrolled": false
   },
   "outputs": [
    {
     "name": "stdout",
     "output_type": "stream",
     "text": [
      "3quarter_relevance_1quarters_uncertainty\n"
     ]
    },
    {
     "name": "stderr",
     "output_type": "stream",
     "text": [
      "/tmp/ipykernel_82887/1980965133.py:39: UserWarning: FixedFormatter should only be used together with FixedLocator\n",
      "  ax.set_yticklabels(labels)\n"
     ]
    },
    {
     "data": {
      "text/plain": [
       "[Text(0, -1.0, ''),\n",
       " Text(0, 0.0, '3quarter_relevance_1quarters_uncertainty'),\n",
       " Text(0, 1.0, 'relevance_with_avg_diversity'),\n",
       " Text(0, 2.0, 'relevance_with_min_diversity'),\n",
       " Text(0, 3.0, 'half_relevance_half_uncertainty'),\n",
       " Text(0, 4.0, 'uncertainty_with_avg_diversity'),\n",
       " Text(0, 5.0, 'uncertainty'),\n",
       " Text(0, 6.0, 'relevance'),\n",
       " Text(0, 7.0, '1quarter_relevance_3quarters_uncertainty'),\n",
       " Text(0, 8.0, 'uncertainty_with_min_diversity'),\n",
       " Text(0, 9.0, '')]"
      ]
     },
     "execution_count": 7,
     "metadata": {},
     "output_type": "execute_result"
    },
    {
     "data": {
      "image/png": "[encoded data removed]",
      "text/plain": [
       "<Figure size 576x576 with 1 Axes>"
      ]
     },
     "metadata": {
      "needs_background": "light"
     },
     "output_type": "display_data"
    }
   ],
   "source": [
    "import matplotlib.pyplot as plt\n",
    "import matplotlib.patches as mpatches\n",
    "\n",
    "ranking_functions = list(set(df['Ranking Function']))\n",
    "models = sorted(list(set(df['Model'])))\n",
    "representations = sorted(list(set(df['representation'])))\n",
    "\n",
    "fig,ax=plt.subplots(1, figsize=(8,8))\n",
    " \n",
    "model_repr=['logreg-bow', 'logreg-glove', 'logreg-sbert', 'svm-bow', 'svm-glove', 'svm-sbert']\n",
    "colors = [(166,206,227),\n",
    "          (31,120,180),\n",
    "          (178,223,138),\n",
    "          (51,160,44),\n",
    "          (251,154,153),\n",
    "          (227,26,28),\n",
    "         ]\n",
    "colors = [(r/255, g/255, b/255) for (r,g,b) in colors]\n",
    "\n",
    "handles=[]\n",
    "for color,label in zip(colors,model_repr):\n",
    "    handles.append(mpatches.Patch(color=color, label=label))\n",
    "plt.legend(handles=handles)\n",
    "\n",
    "\n",
    "\n",
    "for ix,rf in enumerate(ranking_functions):\n",
    "    if ix==0:\n",
    "        print(rf)\n",
    "    auxdf = df[df['Ranking Function'] == rf]\n",
    "    auxdf = auxdf.sort_values(by=['Model', 'representation'])\n",
    "    assert model_repr==[f'{model}-{representation}' for model,representation in zip(auxdf['Model'], auxdf['representation'])]\n",
    "    ax.scatter(x=auxdf['F1-Score'], y=[ix]*auxdf.shape[0], c=colors)\n",
    "#     break\n",
    "        \n",
    "labels = [item.get_text() for item in ax.get_yticklabels()]\n",
    "labels = ['']+ranking_functions\n",
    "\n",
    "ax.set_yticklabels(labels)"
   ]
  },
  {
   "cell_type": "code",
   "execution_count": null,
   "id": "f7a4e139",
   "metadata": {},
   "outputs": [],
   "source": []
  }
 ],
 "metadata": {
  "kernelspec": {
   "display_name": "imm",
   "language": "python",
   "name": "imm"
  },
  "language_info": {
   "codemirror_mode": {
    "name": "ipython",
    "version": 3
   },
   "file_extension": ".py",
   "mimetype": "text/x-python",
   "name": "python",
   "nbconvert_exporter": "python",
   "pygments_lexer": "ipython3",
   "version": "3.9.7"
  }
 },
 "nbformat": 4,
 "nbformat_minor": 5
}

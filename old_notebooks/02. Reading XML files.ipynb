{
 "cells": [
  {
   "cell_type": "code",
   "execution_count": 4,
   "id": "cfe73953",
   "metadata": {},
   "outputs": [],
   "source": [
    "# Importing our required libraries\n",
    "import os\n",
    "import pandas as pd\n",
    "from lxml import etree\n",
    "from bs4 import BeautifulSoup\n",
    "import random"
   ]
  },
  {
   "cell_type": "code",
   "execution_count": 2,
   "id": "f4a3f875",
   "metadata": {},
   "outputs": [
    {
     "data": {
      "text/plain": [
       "205538"
      ]
     },
     "execution_count": 2,
     "metadata": {},
     "output_type": "execute_result"
    }
   ],
   "source": [
    "DATA_PATH = '/home/ec2-user/SageMaker/data/refugee_dataset_v1/'\n",
    "input_files = os.listdir(DATA_PATH)\n",
    "len(input_files)"
   ]
  },
  {
   "cell_type": "code",
   "execution_count": 3,
   "id": "321c5af4",
   "metadata": {},
   "outputs": [],
   "source": [
    "# We define a function to get the text content that we need from the XML articles available in our dataset\n",
    "def getxmlcontent(root):\n",
    "    if root.find('.//HiddenText') is not None:\n",
    "        return(root.find('.//HiddenText').text)\n",
    "    \n",
    "    elif root.find('.//Text') is not None:\n",
    "        return(root.find('.//Text').text)\n",
    "    \n",
    "    else:\n",
    "        return None"
   ]
  },
  {
   "cell_type": "code",
   "execution_count": 6,
   "id": "bd43eaa5",
   "metadata": {},
   "outputs": [],
   "source": [
    "# Creating three lists to store filename, fulltext, and date\n",
    "# In TDM studio - the article ID is the same as the filename\n",
    "filename_list = []\n",
    "text_list = []\n",
    "date_list = []\n",
    "\n",
    "# Parse files and add data to lists\n",
    "for file in input_files[:10]:\n",
    "    tree = etree.parse(DATA_PATH + file)\n",
    "    root = tree.getroot()\n",
    "    \n",
    "    if getxmlcontent(root) is not None:\n",
    "        soup = BeautifulSoup(getxmlcontent(root))\n",
    "        text = soup.get_text()\n",
    "    else:\n",
    "        text = 'Error in processing document'\n",
    "        \n",
    "    date = root.find('.//NumericDate').text\n",
    "    \n",
    "    filename_list.append(file)\n",
    "    text_list.append(text)\n",
    "    date_list.append(date)"
   ]
  },
  {
   "cell_type": "code",
   "execution_count": 7,
   "id": "cd1c2351",
   "metadata": {},
   "outputs": [],
   "source": [
    "# Creating a dataframe, setting each of the columns to one of the lists we made in the cell above\n",
    "df = pd.DataFrame({'Article ID': filename_list,'Text': text_list, 'Date': date_list})"
   ]
  },
  {
   "cell_type": "code",
   "execution_count": 8,
   "id": "3f36ac78",
   "metadata": {},
   "outputs": [
    {
     "data": {
      "text/html": [
       "<div>\n",
       "<style scoped>\n",
       "    .dataframe tbody tr th:only-of-type {\n",
       "        vertical-align: middle;\n",
       "    }\n",
       "\n",
       "    .dataframe tbody tr th {\n",
       "        vertical-align: top;\n",
       "    }\n",
       "\n",
       "    .dataframe thead th {\n",
       "        text-align: right;\n",
       "    }\n",
       "</style>\n",
       "<table border=\"1\" class=\"dataframe\">\n",
       "  <thead>\n",
       "    <tr style=\"text-align: right;\">\n",
       "      <th></th>\n",
       "      <th>Article ID</th>\n",
       "      <th>Text</th>\n",
       "      <th>Date</th>\n",
       "    </tr>\n",
       "  </thead>\n",
       "  <tbody>\n",
       "    <tr>\n",
       "      <th>0</th>\n",
       "      <td>1352134238.xml</td>\n",
       "      <td>\\n\\n\\n \\n\\n\\n\\nOn The Highways of Sport\\n\\n\\nB...</td>\n",
       "      <td>1931-04-30</td>\n",
       "    </tr>\n",
       "    <tr>\n",
       "      <th>1</th>\n",
       "      <td>1400269650.xml</td>\n",
       "      <td>\\n\\n\\n \\n\\n\\n\\nB2 THE TORONTO STAR Saturday, F...</td>\n",
       "      <td>1986-02-22</td>\n",
       "    </tr>\n",
       "    <tr>\n",
       "      <th>2</th>\n",
       "      <td>1323706441.xml</td>\n",
       "      <td>\\n\\n\\n \\n\\n\\n\\nThe News of Sport\\n\\n\\nSUMMARY\\...</td>\n",
       "      <td>1909-05-01</td>\n",
       "    </tr>\n",
       "    <tr>\n",
       "      <th>3</th>\n",
       "      <td>1527231392.xml</td>\n",
       "      <td>\\n\\n\\n \\n\\n\\n\\nAMERICA\\n\\n\\nUNITED STATES\\n\\n\\...</td>\n",
       "      <td>1878-03-13</td>\n",
       "    </tr>\n",
       "    <tr>\n",
       "      <th>4</th>\n",
       "      <td>1335009129.xml</td>\n",
       "      <td>\\n\\n\\n \\n\\n\\n\\nTHE TORONTO STAR Thursday, Octo...</td>\n",
       "      <td>1998-10-22</td>\n",
       "    </tr>\n",
       "    <tr>\n",
       "      <th>5</th>\n",
       "      <td>1316319466.xml</td>\n",
       "      <td>\\n\\n\\n \\n\\n\\n\\nBANGLA DESH\\n\\n\\nThe hunt is on...</td>\n",
       "      <td>1972-02-19</td>\n",
       "    </tr>\n",
       "    <tr>\n",
       "      <th>6</th>\n",
       "      <td>1288496617.xml</td>\n",
       "      <td>\\n\\n\\n \\n\\n\\n\\nCongo Aftermath\\n\\n\\nHow Does I...</td>\n",
       "      <td>1960-09-23</td>\n",
       "    </tr>\n",
       "    <tr>\n",
       "      <th>7</th>\n",
       "      <td>1242171074.xml</td>\n",
       "      <td>\\n\\n\\n \\n\\n\\n\\nNEWS SUMMARY\\n\\n\\nTHE WORLD\\n\\n...</td>\n",
       "      <td>1968-01-22</td>\n",
       "    </tr>\n",
       "    <tr>\n",
       "      <th>8</th>\n",
       "      <td>1365223901.xml</td>\n",
       "      <td>\\n\\n\\n \\n\\n\\n\\nfill: TORONTO STAR. Tl'KSDA V. ...</td>\n",
       "      <td>1988-03-08</td>\n",
       "    </tr>\n",
       "    <tr>\n",
       "      <th>9</th>\n",
       "      <td>1143728675.xml</td>\n",
       "      <td>\\n\\n\\n \\n\\n\\n\\nTHE REVIEWS\\n\\n\\nTELEVISION The...</td>\n",
       "      <td>1993-01-26</td>\n",
       "    </tr>\n",
       "  </tbody>\n",
       "</table>\n",
       "</div>"
      ],
      "text/plain": [
       "       Article ID                                               Text  \\\n",
       "0  1352134238.xml  \\n\\n\\n \\n\\n\\n\\nOn The Highways of Sport\\n\\n\\nB...   \n",
       "1  1400269650.xml  \\n\\n\\n \\n\\n\\n\\nB2 THE TORONTO STAR Saturday, F...   \n",
       "2  1323706441.xml  \\n\\n\\n \\n\\n\\n\\nThe News of Sport\\n\\n\\nSUMMARY\\...   \n",
       "3  1527231392.xml  \\n\\n\\n \\n\\n\\n\\nAMERICA\\n\\n\\nUNITED STATES\\n\\n\\...   \n",
       "4  1335009129.xml  \\n\\n\\n \\n\\n\\n\\nTHE TORONTO STAR Thursday, Octo...   \n",
       "5  1316319466.xml  \\n\\n\\n \\n\\n\\n\\nBANGLA DESH\\n\\n\\nThe hunt is on...   \n",
       "6  1288496617.xml  \\n\\n\\n \\n\\n\\n\\nCongo Aftermath\\n\\n\\nHow Does I...   \n",
       "7  1242171074.xml  \\n\\n\\n \\n\\n\\n\\nNEWS SUMMARY\\n\\n\\nTHE WORLD\\n\\n...   \n",
       "8  1365223901.xml  \\n\\n\\n \\n\\n\\n\\nfill: TORONTO STAR. Tl'KSDA V. ...   \n",
       "9  1143728675.xml  \\n\\n\\n \\n\\n\\n\\nTHE REVIEWS\\n\\n\\nTELEVISION The...   \n",
       "\n",
       "         Date  \n",
       "0  1931-04-30  \n",
       "1  1986-02-22  \n",
       "2  1909-05-01  \n",
       "3  1878-03-13  \n",
       "4  1998-10-22  \n",
       "5  1972-02-19  \n",
       "6  1960-09-23  \n",
       "7  1968-01-22  \n",
       "8  1988-03-08  \n",
       "9  1993-01-26  "
      ]
     },
     "execution_count": 8,
     "metadata": {},
     "output_type": "execute_result"
    }
   ],
   "source": [
    "# Showing the dataframe\n",
    "df"
   ]
  },
  {
   "cell_type": "code",
   "execution_count": 11,
   "id": "b8149e01",
   "metadata": {},
   "outputs": [
    {
     "name": "stdout",
     "output_type": "stream",
     "text": [
      "\n",
      "\n",
      "\n",
      " \n",
      "\n",
      "\n",
      "\n",
      "On The Highways of Sport\n",
      "\n",
      "\n",
      "BY RODDEN Sports Editor ot The Globe\n",
      "\n",
      "\n",
      "Leafs Beat Keys and Crowd Leaders\n",
      "\n",
      "\n",
      "Fifteen hits rang off Leaf bats at Beading yesterday as the O'Neillmen defeated the Keystones by 11 to 5, and advanced into third place only half game behind the league-leading Royals and Orioles Frank Barnes went the route for the invaders and won his second consecutive start and it is evident that the big lefthander is headed for successful season\n",
      "\n",
      "\n",
      "Little Harry Davis stole the sluggers' thunder when he connected for four safeties one of them being homer his second in as many days Davis has had hard fight of it this year with Jimmy Shevlin available for first-base duty but if he continues to clout that ball his troubles will be over As fielder he stands alone being another Mickey Heath Baltimore and Rochester staged ten-inning duel before the Orioles finally emerged- with- 4-to-3 victory It was close call for the Southerners troner s home run in the ninth enabling them to tie the score and avert defeat It was also the only hi made by Stroner The Royals kept pace with the Birds when they vanquished the Skeeters by 13 to 6. In this game Gautreau of Montreal and West and Sheedy of the Jerseys connected for the circuit Shcedy's homers when with the Leafs came few and far between but in the days when he was playing for the Orioles he was quite long-distance hitter The Bisons who have made great showing on the road and who are only one game behind the leaders rallied in the eighth inning to tie the score against Newark but the Bears came back with three in the same frame and won by 6 to 3. Manager Mamaux used three hurlers and Myles Thomas the last to go to tile hilltop was credited with the victory Wesley Ferrell Indian Ace Holds Browns Hitless Wesley Ferrell entered baseball s Hall of Fame at Cleveland yester day when he turned back the St Louis Browns without hit or run The great righthander was slightly wild and walked three batsmen while as many others reached first base owing to errors but none of the Browns got as far as the midway station It was Ferrell's fourth victory of the season almost half the Indians' total of nine As Washington the New York Yankees came to grief again the score being 9 to 5, and it becomes more apparent every day that Babe Ruth is nearly the entire Yankee team McCarthy's men have travelled rocky road since the big slugger was laid low at Boston Al Thomas was in old-time form and blanked the Detroit Tigers 3 to 0, at Comiskey Park In the meantime the Athletics and the Red Sox were kept idle at Boston owing to rain The defeat of the Bengals however sent the world s champions into the first division where they rest in fourth place three games behind the pace-setting Indians 1 Only two games were played in the National and in those the Chicago Cubs defeated the Cincinnati Reds by 3 to 1 and the Cardinals stopped Pittsburg 7 to 1. The winning teams thus remain deadlocked for first 1 place 1 Dan Howley is getting bad break at Cincinnati where he is trying to make headway with team that lacks class The owners are willing to buy star players but the other clubs refuse to sell with the result that Howley's team will likely remain consistent loser Oshawa Seniors Play Again in Series At meeting held yesterday Oshawa Lacrosse Club officials definite- Jy decided to operate teams in the senior and intermediate series this season and this means that there will be six teams in the senior division the starters bsing as follows Brampton Mimico Hamll- ton Oshawa Toronto St Simon's and Toronto Native Sons 1 It had been reported that several star players who will now have to line up with Oshawa or remain in idleness had intended joining Native Sons Seven high-class performers-- Kelly DeGray Bob Stephenson Alex Hall Pat Shannon Bill Coulter Chuck Davidson and Bill Spencer will be with Oshawa and there is no dearth of material to fill the other gaps Time works great changes in lacrosse just as well as in other sports and in this connection it is interesting to recall that the Oshawa team than wen the Mann Cup emblematic of the Canadian championship two years ago was hailed as one of the best in history Last year this team won the Lally Cup in the international games against the United States all-stars but when Brampton dethroned them the break-up came Oshawa officials believe that another powerful squad can be assembled and they are enthusiastic over prospects Brampton faced the same rebuilding process last year and Eddie Powers guided them to the top The return of Oshawa will cause rejoicing in lacrosse circles and will add interest to race that promises to be one of the best in years Chesterfield Fools the Critics One of the many surprising features of the Old Country season about to close is the rise of Chesterfield For months almost the fans were discussing the question whether it would be Lincoln City or Tranmere Rovers that would step up into the Sccond Division but the question has been answered in manner few expected Chesterfield have fooled them all Lincoln and Tranmere have cracked under the strain while almost unnoticed the Blue Shirts have overtaken and passed the former leaders The club was organized as far back as 1886, and reconstructed in 1918, and it has ground capable of holding 25,000 spectators Last season Chesterfield finished in fourth place in the standing Boost for Steve O'Neill Bob Stedler writing in the Buffalo Evening News pays tribute to Steve O'Neill in the following article when discussing the value of base- running in baseball Look for the Yankees to score at least SO more runs this season than they Id year ago And the answer is that Manager Joe McCarthy demands that they run the bases scientifically To us of the old brigade who gloried in the pre-war baseball with Its daring slides take-a-chance and try-to-outsmart-the-other-fellow style this certainly is refreshing note to the season thus far There are baseball fans who get more kick out of hit and run than they do from soaring homer Under Steve O'Neill Toronto has always been the best base-running club In the league And the results show the worth of maintaining and insisting on system to run the base-paths Toronto manufactures more runs out of its hits than any team in the circuit And Toronto wasn't the fastest team in the circuit Heard Along Sport's Byways Charles O'Connor well known as boxer and football player is in the Private Patients' Pavilion at the General Hospital suffering from an eye the same having been received in bout staged at smoker held by the Argonaut Rowing Club The unfortunate athlete is threatened with the loss of his sight in the affected eye and his con dition is deeply deplored by his friends and his Double Blue pals It was officially announced yesterday that George Hendrie who has been Chairman of the Canadian Racing Associations since 1921, has resigned and that Kenneth Dawes has been elected as his successor Other officers are Vice-Chairman Dyment Secretary-Treasurer Miss Casserly It is reported that aJl is not well in the ranks of the Chicago Cubs but nevertheless it must be admitted that the Hornsby-led team is get ting somewhere The story goes that Hack Wilson home-run king of the majors last year resents the order alleged to have been given him by Hornsby that Wilson must not try to hit for homers when safeties of smaller dimensions would be more valuable to the Cubs It will be noted that Hornsby has been getting those circuit clouts while Wilson's bat has been strangely silent More than forty-seven thousand people attended the twelve Inter- 1 national Hockey League play-off games with the result that the Wind sor players will divide 829 Buffalo 735 07 Cleveland 186 05 and Pittsburg 641 05 In addition Buffalo who led the parade in the Tegular league season will receive 547 01 this combined with the other sum making them the highest winners The play-off attendance figures show Windsor leading with 15,246, Buffalo second with 14,181, Cleveland third with 9,008, and Pittsburg last with 8,743.\n",
      "\n",
      "\n",
      "\n",
      "\n"
     ]
    }
   ],
   "source": [
    "print(df.iloc[0,1])"
   ]
  },
  {
   "cell_type": "code",
   "execution_count": null,
   "id": "c8947845",
   "metadata": {},
   "outputs": [],
   "source": []
  }
 ],
 "metadata": {
  "kernelspec": {
   "display_name": "conda_python3",
   "language": "python",
   "name": "conda_python3"
  },
  "language_info": {
   "codemirror_mode": {
    "name": "ipython",
    "version": 3
   },
   "file_extension": ".py",
   "mimetype": "text/x-python",
   "name": "python",
   "nbconvert_exporter": "python",
   "pygments_lexer": "ipython3",
   "version": "3.6.13"
  }
 },
 "nbformat": 4,
 "nbformat_minor": 5
}

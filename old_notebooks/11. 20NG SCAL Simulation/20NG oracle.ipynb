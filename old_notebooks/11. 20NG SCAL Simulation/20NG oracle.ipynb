{
 "cells": [
  {
   "cell_type": "code",
   "execution_count": 3,
   "id": "8962d4c6",
   "metadata": {},
   "outputs": [
    {
     "name": "stdout",
     "output_type": "stream",
     "text": [
      "representations file found, loading pickle (/home/ec2-user/SageMaker/mariano/datasets/20news-18828/representations/20NG_representations_glove.pickle) ... \n"
     ]
    }
   ],
   "source": [
    "import sys\n",
    "sys.path.append('/home/ec2-user/SageMaker/mariano/repositories/tdmstudio-high-recall-information-retrieval-system/')\n",
    "from utils.newsgroup20.dataset import Dataset20NG, DataItem20NG\n",
    "representations = Dataset20NG.get_20newsgroup_representations(type_='glove')"
   ]
  },
  {
   "cell_type": "code",
   "execution_count": 4,
   "id": "094c44c2",
   "metadata": {},
   "outputs": [],
   "source": [
    "from utils.newsgroup20.models import SVM20NG\n"
   ]
  },
  {
   "cell_type": "code",
   "execution_count": 5,
   "id": "d44f9c01",
   "metadata": {},
   "outputs": [],
   "source": [
    "labeled = Dataset20NG.get_20newsgroup_labeled_collection(category='alt.atheism')\n",
    "model =SVM20NG()\n",
    "model.fit(labeled, representations)"
   ]
  },
  {
   "cell_type": "code",
   "execution_count": 6,
   "id": "c3e2990c",
   "metadata": {},
   "outputs": [
    {
     "data": {
      "text/plain": [
       "array([1.08717388e-02, 3.31786031e-03, 1.74740624e-03, ...,\n",
       "       1.58388842e-03, 8.62297580e-02, 8.37797413e-05])"
      ]
     },
     "execution_count": 6,
     "metadata": {},
     "output_type": "execute_result"
    }
   ],
   "source": [
    "model.predict(labeled, representations)"
   ]
  },
  {
   "cell_type": "code",
   "execution_count": 5,
   "id": "5eb09726",
   "metadata": {},
   "outputs": [
    {
     "data": {
      "text/plain": [
       "(300,)"
      ]
     },
     "execution_count": 5,
     "metadata": {},
     "output_type": "execute_result"
    }
   ],
   "source": [
    "representations['rec.motorcycles/104702'].shape"
   ]
  },
  {
   "cell_type": "code",
   "execution_count": 6,
   "id": "d2947642",
   "metadata": {
    "scrolled": false
   },
   "outputs": [
    {
     "name": "stdout",
     "output_type": "stream",
     "text": [
      "Using BOW representation\n",
      "representations file found, loading pickle ... \n",
      "len(labeled)=       1\n",
      "len(unlabeled)=18,827\n",
      "j= 1 - B=    2 - b= 1 - len(labeled)=     2 - len(unlabeled)=   999 - precision=1.000 - Rhat=  1.00 - tj=0.0138\n",
      "j= 2 - B=    3 - b= 2 - len(labeled)=     4 - len(unlabeled)=   997 - precision=0.000 - Rhat=  1.00 - tj=0.0305\n",
      "j= 3 - B=    4 - b= 3 - len(labeled)=     7 - len(unlabeled)=   994 - precision=0.667 - Rhat=  3.00 - tj=0.0252\n",
      "j= 4 - B=    5 - b= 4 - len(labeled)=    11 - len(unlabeled)=   990 - precision=0.250 - Rhat=  4.00 - tj=0.0512\n",
      "j= 5 - B=    6 - b= 5 - len(labeled)=    16 - len(unlabeled)=   985 - precision=0.400 - Rhat=  6.00 - tj=0.0595\n",
      "j= 6 - B=    7 - b= 6 - len(labeled)=    22 - len(unlabeled)=   979 - precision=0.000 - Rhat=  6.00 - tj=0.0746\n",
      "j= 7 - B=    8 - b= 7 - len(labeled)=    29 - len(unlabeled)=   972 - precision=0.286 - Rhat=  8.00 - tj=00.066\n",
      "j= 8 - B=    9 - b= 8 - len(labeled)=    37 - len(unlabeled)=   964 - precision=0.500 - Rhat= 12.00 - tj=0.0715\n",
      "j= 9 - B=   10 - b= 9 - len(labeled)=    46 - len(unlabeled)=   955 - precision=0.444 - Rhat= 16.00 - tj=0.0925\n",
      "j=10 - B=   11 - b=10 - len(labeled)=    56 - len(unlabeled)=   945 - precision=0.600 - Rhat= 22.00 - tj=00.107\n",
      "j=11 - B=   13 - b=10 - len(labeled)=    66 - len(unlabeled)=   934 - precision=0.500 - Rhat= 27.50 - tj=00.123\n",
      "j=12 - B=   15 - b=10 - len(labeled)=    76 - len(unlabeled)=   921 - precision=0.300 - Rhat= 31.40 - tj=00.138\n",
      "j=13 - B=   17 - b=10 - len(labeled)=    86 - len(unlabeled)=   906 - precision=0.200 - Rhat= 34.40 - tj=00.141\n",
      "j=14 - B=   19 - b=10 - len(labeled)=    96 - len(unlabeled)=   889 - precision=0.300 - Rhat= 39.50 - tj=00.141\n",
      "j=15 - B=   21 - b=10 - len(labeled)=   106 - len(unlabeled)=   870 - precision=0.000 - Rhat= 39.50 - tj=00.142\n",
      "j=16 - B=   24 - b=10 - len(labeled)=   116 - len(unlabeled)=   849 - precision=0.000 - Rhat= 39.50 - tj=00.132\n",
      "j=17 - B=   27 - b=10 - len(labeled)=   126 - len(unlabeled)=   825 - precision=0.000 - Rhat= 39.50 - tj=00.127\n",
      "j=18 - B=   30 - b=10 - len(labeled)=   136 - len(unlabeled)=   798 - precision=0.000 - Rhat= 39.50 - tj=00.118\n",
      "j=19 - B=   33 - b=10 - len(labeled)=   146 - len(unlabeled)=   768 - precision=0.000 - Rhat= 39.50 - tj=00.114\n",
      "j=20 - B=   37 - b=10 - len(labeled)=   156 - len(unlabeled)=   735 - precision=0.100 - Rhat= 42.80 - tj=00.108\n",
      "j=21 - B=   41 - b=10 - len(labeled)=   166 - len(unlabeled)=   698 - precision=0.000 - Rhat= 42.80 - tj=00.106\n",
      "j=22 - B=   46 - b=10 - len(labeled)=   176 - len(unlabeled)=   657 - precision=0.000 - Rhat= 42.80 - tj=00.101\n",
      "j=23 - B=   51 - b=10 - len(labeled)=   186 - len(unlabeled)=   611 - precision=0.000 - Rhat= 42.80 - tj=0.0968\n",
      "j=24 - B=   57 - b=10 - len(labeled)=   196 - len(unlabeled)=   560 - precision=0.000 - Rhat= 42.80 - tj=0.0869\n",
      "j=25 - B=   63 - b=10 - len(labeled)=   206 - len(unlabeled)=   503 - precision=0.000 - Rhat= 42.80 - tj=0.0875\n",
      "j=26 - B=   70 - b=10 - len(labeled)=   216 - len(unlabeled)=   440 - precision=0.000 - Rhat= 42.80 - tj=0.0811\n",
      "j=27 - B=   77 - b=10 - len(labeled)=   226 - len(unlabeled)=   370 - precision=0.000 - Rhat= 42.80 - tj=00.081\n",
      "j=28 - B=   85 - b=10 - len(labeled)=   236 - len(unlabeled)=   293 - precision=0.000 - Rhat= 42.80 - tj=0.0793\n",
      "j=29 - B=   94 - b=10 - len(labeled)=   246 - len(unlabeled)=   208 - precision=0.000 - Rhat= 42.80 - tj=0.0746\n",
      "j=30 - B=  104 - b=10 - len(labeled)=   256 - len(unlabeled)=   114 - precision=0.000 - Rhat= 42.80 - tj=0.0686\n",
      "j=31 - B=   10 - b=10 - len(labeled)=   266 - len(unlabeled)=    10 - precision=0.000 - Rhat= 42.80 - tj=0.0603\n",
      "j=32 - B=    0 - b=10 - len(labeled)=   276 - len(unlabeled)=     0 - precision=0.000 - Rhat= 42.80 - tj=00.074\n",
      "Size of predictions=18552 (relevant=1124)\n",
      "Size of labeled=276 (relevant=37)\n",
      "Size of unlabeled=18552\n",
      "size of ytrue=18552 (relevant=762)\n",
      "prevalence  = 0.045\n",
      "accuracy    = 0.960\n",
      "precision   = 0.506\n",
      "recall      = 0.747\n",
      "f1-score    = 0.603\n",
      "*right* j   = 13\n",
      "threshold   = 0.1410293859584212\n",
      "finish\n"
     ]
    },
    {
     "data": {
      "text/html": [
       "<div>\n",
       "<style scoped>\n",
       "    .dataframe tbody tr th:only-of-type {\n",
       "        vertical-align: middle;\n",
       "    }\n",
       "\n",
       "    .dataframe tbody tr th {\n",
       "        vertical-align: top;\n",
       "    }\n",
       "\n",
       "    .dataframe thead th {\n",
       "        text-align: right;\n",
       "    }\n",
       "</style>\n",
       "<table border=\"1\" class=\"dataframe\">\n",
       "  <thead>\n",
       "    <tr style=\"text-align: right;\">\n",
       "      <th></th>\n",
       "      <th>Date</th>\n",
       "      <th>Seed</th>\n",
       "      <th>Representation</th>\n",
       "      <th>Ranking Function</th>\n",
       "      <th>Dataset</th>\n",
       "      <th>N</th>\n",
       "      <th>n</th>\n",
       "      <th>Effort</th>\n",
       "      <th>Accuracy</th>\n",
       "      <th>Precision</th>\n",
       "      <th>Recall</th>\n",
       "      <th>F1-Score</th>\n",
       "      <th>Relevant labeled</th>\n",
       "      <th>TP</th>\n",
       "      <th>TN</th>\n",
       "      <th>FP</th>\n",
       "      <th>FN</th>\n",
       "      <th>Prevalence</th>\n",
       "      <th>category</th>\n",
       "    </tr>\n",
       "  </thead>\n",
       "  <tbody>\n",
       "    <tr>\n",
       "      <th>0</th>\n",
       "      <td>2022-11-17 08:53</td>\n",
       "      <td>2022</td>\n",
       "      <td>TF-IDF</td>\n",
       "      <td>relevance</td>\n",
       "      <td>20newsgroup</td>\n",
       "      <td>1000</td>\n",
       "      <td>10</td>\n",
       "      <td>275</td>\n",
       "      <td>0.956662</td>\n",
       "      <td>0.482026</td>\n",
       "      <td>0.776316</td>\n",
       "      <td>0.594758</td>\n",
       "      <td>39</td>\n",
       "      <td>590</td>\n",
       "      <td>17158</td>\n",
       "      <td>634</td>\n",
       "      <td>170</td>\n",
       "      <td>0.04557</td>\n",
       "      <td>alt.atheism</td>\n",
       "    </tr>\n",
       "    <tr>\n",
       "      <th>0</th>\n",
       "      <td>2022-11-17 08:53</td>\n",
       "      <td>2022</td>\n",
       "      <td>TF-IDF</td>\n",
       "      <td>relevance</td>\n",
       "      <td>20newsgroup</td>\n",
       "      <td>1000</td>\n",
       "      <td>10</td>\n",
       "      <td>275</td>\n",
       "      <td>0.959681</td>\n",
       "      <td>0.506228</td>\n",
       "      <td>0.746719</td>\n",
       "      <td>0.603393</td>\n",
       "      <td>37</td>\n",
       "      <td>569</td>\n",
       "      <td>17235</td>\n",
       "      <td>555</td>\n",
       "      <td>193</td>\n",
       "      <td>0.04494</td>\n",
       "      <td>alt.atheism</td>\n",
       "    </tr>\n",
       "  </tbody>\n",
       "</table>\n",
       "</div>"
      ],
      "text/plain": [
       "               Date  Seed Representation Ranking Function      Dataset     N  \\\n",
       "0  2022-11-17 08:53  2022         TF-IDF        relevance  20newsgroup  1000   \n",
       "0  2022-11-17 08:53  2022         TF-IDF        relevance  20newsgroup  1000   \n",
       "\n",
       "    n  Effort  Accuracy  Precision    Recall  F1-Score  Relevant labeled   TP  \\\n",
       "0  10     275  0.956662   0.482026  0.776316  0.594758                39  590   \n",
       "0  10     275  0.959681   0.506228  0.746719  0.603393                37  569   \n",
       "\n",
       "      TN   FP   FN  Prevalence     category  \n",
       "0  17158  634  170     0.04557  alt.atheism  \n",
       "0  17235  555  193     0.04494  alt.atheism  "
      ]
     },
     "execution_count": 6,
     "metadata": {},
     "output_type": "execute_result"
    }
   ],
   "source": [
    "import sys \n",
    "import os\n",
    "import pandas as pd\n",
    "sys.path.append('/home/ec2-user/SageMaker/mariano/repositories/tdmstudio-high-recall-information-retrieval-system/')\n",
    "from utils.newsgroup20.dataset import Dataset20NG, DataItem20NG\n",
    "\n",
    "\n",
    "from utils.newsgroup20.scal import SCAL20NG\n",
    "import numpy as np\n",
    "category='alt.atheism'\n",
    "representations = Dataset20NG.get_20newsgroup_representations()\n",
    "unlabeled = Dataset20NG.get_20newsgroup_unlabeled_collection()\n",
    "oracle = Dataset20NG.get_20newsgroup_oracle(category=category)\n",
    "\n",
    "relevants = [item for item in unlabeled if oracle[item.id_]==DataItem20NG.RELEVANT_LABEL]\n",
    "\n",
    "labeled = list(np.random.choice(relevants, size=1))\n",
    "for item in labeled:\n",
    "    item.set_relevant()\n",
    "\n",
    "labeled_ids = {item.id_ for item in labeled}\n",
    "unlabeled = [item for item in unlabeled if not item.id_ in labeled_ids]\n",
    "\n",
    "\n",
    "print(f'len(labeled)=  {len(set([item.id_ for item in labeled])):6,}')\n",
    "print(f'len(unlabeled)={len(set([item.id_ for item in unlabeled])):6,}')\n",
    "\n",
    "\n",
    "results_file = '/home/ec2-user/SageMaker/mariano/datasets/20news-18828/simulation_results/all_results.csv'\n",
    "\n",
    "\n",
    "results = SCAL20NG(session_name='some session',\n",
    "                   labeled_collection=labeled,\n",
    "                   unlabeled_collection=unlabeled,\n",
    "                   batch_size_cap=10,\n",
    "                   random_sample_size=1000,\n",
    "                   target_recall=0.8,\n",
    "                   ranking_function='relevance',\n",
    "                   item_representation=representations,\n",
    "                   oracle=oracle,\n",
    "                   seed=2022).run()\n",
    "\n",
    "new_results=pd.DataFrame(results)\n",
    "new_results['category']=category\n",
    "\n",
    "if os.path.isfile(results_file):\n",
    "    old_results = pd.read_csv(results_file)\n",
    "    new_results = old_results.append(new_results)\n",
    "\n",
    "\n",
    "new_results.to_csv(results_file, index=False)\n",
    "\n",
    "new_results"
   ]
  },
  {
   "cell_type": "code",
   "execution_count": 2,
   "id": "85240457",
   "metadata": {},
   "outputs": [],
   "source": [
    "!rm /home/ec2-user/SageMaker/mariano/datasets/20news-18828/simulation_results/all_results.csv"
   ]
  },
  {
   "cell_type": "code",
   "execution_count": 3,
   "id": "5ee13468",
   "metadata": {},
   "outputs": [
    {
     "data": {
      "text/plain": [
       "18827"
      ]
     },
     "execution_count": 3,
     "metadata": {},
     "output_type": "execute_result"
    }
   ],
   "source": [
    "len(unlabeled)"
   ]
  },
  {
   "cell_type": "code",
   "execution_count": 4,
   "id": "2caeb32e",
   "metadata": {},
   "outputs": [
    {
     "data": {
      "text/plain": [
       "1"
      ]
     },
     "execution_count": 4,
     "metadata": {},
     "output_type": "execute_result"
    }
   ],
   "source": [
    "len(labeled)"
   ]
  },
  {
   "cell_type": "code",
   "execution_count": 8,
   "id": "cf4b4b33",
   "metadata": {},
   "outputs": [
    {
     "data": {
      "text/plain": [
       "'rec.motorcycles/105226'"
      ]
     },
     "execution_count": 8,
     "metadata": {},
     "output_type": "execute_result"
    }
   ],
   "source": [
    "labeled[0].id_"
   ]
  },
  {
   "cell_type": "code",
   "execution_count": 9,
   "id": "56ee215e",
   "metadata": {},
   "outputs": [
    {
     "data": {
      "text/plain": [
       "'R'"
      ]
     },
     "execution_count": 9,
     "metadata": {},
     "output_type": "execute_result"
    }
   ],
   "source": [
    "oracle['rec.motorcycles/105226']"
   ]
  },
  {
   "cell_type": "code",
   "execution_count": 10,
   "id": "85a24ae9",
   "metadata": {},
   "outputs": [
    {
     "data": {
      "text/plain": [
       "<1x10000 sparse matrix of type '<class 'numpy.float64'>'\n",
       "\twith 38 stored elements in Compressed Sparse Row format>"
      ]
     },
     "execution_count": 10,
     "metadata": {},
     "output_type": "execute_result"
    }
   ],
   "source": [
    "representations['rec.motorcycles/105226']"
   ]
  },
  {
   "cell_type": "code",
   "execution_count": 11,
   "id": "e4432dbe",
   "metadata": {},
   "outputs": [
    {
     "data": {
      "text/plain": [
       "'From: davet@interceptor.cds.tek.com (Dave Tharp CDS)\\nSubject: Re: Looking for MOVIES w/ BIKES\\n\\nIn article <C5w18w.DpD@dcs.qmw.ac.uk> davide@dcs.qmw.ac.uk (Dave Edmondson) writes:\\n>\\n>\"Eat the peach\", two guys build a wall of death to alleviate boredom, get \\n>mixed up with the IRA in the process.\\n\\n   An excellent movie.  Not essentially about motorcycles, but\\na very poignant look at life in rural Ireland.\\n\\n-----------------------------------------------------------------------------\\n| Dave Tharp                      | DoD #0751   | \"You can\\'t wear out       |\\n| davet@interceptor.CDS.TEK.COM   | MRA #151    |   an Indian Scout,        |\\n| \\'88 K75S  \\'48 Indian Chief      | AHRMA #751  |  Or its brother the Chief.|\\n| \\'75 R90S(#151) \\'72 TR-2B(#751)  | AMA #524737 |  They\\'re built like rocks |\\n| \\'65 R50/2/Velorex  \\'57 NSU Max  |             |   to take the knocks,     |\\n|       1936 BMW R12              | (Compulsive | It\\'s the Harleys that     |\\n| My employer has no idea.        |   Joiner)   |   give you grief.\"        |\\n-----------------------------------------------------------------------------\\n'"
      ]
     },
     "execution_count": 11,
     "metadata": {},
     "output_type": "execute_result"
    }
   ],
   "source": [
    "labeled[0].get_text()"
   ]
  },
  {
   "cell_type": "code",
   "execution_count": 4,
   "id": "0a62e5e1",
   "metadata": {},
   "outputs": [],
   "source": [
    "import pickle\n",
    "vectorizer = pickle.load(open('/home/ec2-user/SageMaker/mariano/datasets/20news-18828/representations/20NG_vectorizer_bow.pickle', 'rb'))"
   ]
  },
  {
   "cell_type": "code",
   "execution_count": 12,
   "id": "1c6ab205",
   "metadata": {},
   "outputs": [
    {
     "data": {
      "text/plain": [
       "array(['ama', 'article', 'article dave', 'bike', 'bmw', 'brother',\n",
       "       'build', 'cds', 'chief', 'dave', 'death', 'dod', 'eat', 'employer',\n",
       "       'essentially', 'excellent', 'grief', 'guy', 'idea', 'indian',\n",
       "       'ira', 'ireland', 'knock', 'life', 'like', 'look', 'max', 'mix',\n",
       "       'motorcycle', 'movie', 'process', 'rock', 'scout', 'subject',\n",
       "       'subject look', 'wall', 'wear', 'write'], dtype=object)"
      ]
     },
     "execution_count": 12,
     "metadata": {},
     "output_type": "execute_result"
    }
   ],
   "source": [
    "vectorizer.get_feature_names_out()[representations['rec.motorcycles/105226'].toarray()[0,:]!=0]"
   ]
  },
  {
   "cell_type": "code",
   "execution_count": 11,
   "id": "1b658dec",
   "metadata": {},
   "outputs": [
    {
     "data": {
      "text/plain": [
       "True"
      ]
     },
     "execution_count": 11,
     "metadata": {},
     "output_type": "execute_result"
    }
   ],
   "source": [
    "(set([key for key in oracle]))==set([item.id_ for item in unlabeled]).union({labeled[0].id_})"
   ]
  },
  {
   "cell_type": "code",
   "execution_count": 12,
   "id": "255cdd2f",
   "metadata": {},
   "outputs": [
    {
     "data": {
      "text/plain": [
       "True"
      ]
     },
     "execution_count": 12,
     "metadata": {},
     "output_type": "execute_result"
    }
   ],
   "source": [
    "(set([key for key in representations]))==set([item.id_ for item in unlabeled]).union({labeled[0].id_})"
   ]
  },
  {
   "cell_type": "code",
   "execution_count": 7,
   "id": "e0df9779",
   "metadata": {},
   "outputs": [
    {
     "data": {
      "text/plain": [
       "18828"
      ]
     },
     "execution_count": 7,
     "metadata": {},
     "output_type": "execute_result"
    }
   ],
   "source": [
    "len(representations)"
   ]
  },
  {
   "cell_type": "code",
   "execution_count": 4,
   "id": "6a42ac46",
   "metadata": {},
   "outputs": [
    {
     "name": "stdout",
     "output_type": "stream",
     "text": [
      "994\r\n"
     ]
    }
   ],
   "source": [
    "!ls /home/ec2-user/SageMaker/mariano/datasets/20news-18828/files/rec.motorcycles | wc -l"
   ]
  },
  {
   "cell_type": "code",
   "execution_count": 1,
   "id": "06b4f2e9",
   "metadata": {},
   "outputs": [
    {
     "name": "stdout",
     "output_type": "stream",
     "text": [
      "Computing vectorizer\n",
      "/home/ec2-user/SageMaker/mariano/datasets/20news-18828/representations/20NG_vectorizer_bow.pickle\n",
      "Loading vectorizer\n"
     ]
    },
    {
     "data": {
      "text/plain": [
       "<18828x10000 sparse matrix of type '<class 'numpy.float64'>'\n",
       "\twith 1368547 stored elements in Compressed Sparse Row format>"
      ]
     },
     "execution_count": 1,
     "metadata": {},
     "output_type": "execute_result"
    }
   ],
   "source": [
    "import sys \n",
    "sys.path.append('/home/ec2-user/SageMaker/mariano/repositories/tdmstudio-high-recall-information-retrieval-system/')\n",
    "from utils.newsgroup20.dataset import Dataset20NG\n",
    "m = Dataset20NG.get_X()\n",
    "m"
   ]
  },
  {
   "cell_type": "code",
   "execution_count": 5,
   "id": "281ffdad",
   "metadata": {},
   "outputs": [
    {
     "data": {
      "text/html": [
       "<div>\n",
       "<style scoped>\n",
       "    .dataframe tbody tr th:only-of-type {\n",
       "        vertical-align: middle;\n",
       "    }\n",
       "\n",
       "    .dataframe tbody tr th {\n",
       "        vertical-align: top;\n",
       "    }\n",
       "\n",
       "    .dataframe thead th {\n",
       "        text-align: right;\n",
       "    }\n",
       "</style>\n",
       "<table border=\"1\" class=\"dataframe\">\n",
       "  <thead>\n",
       "    <tr style=\"text-align: right;\">\n",
       "      <th></th>\n",
       "      <th>text</th>\n",
       "      <th>label</th>\n",
       "      <th>id</th>\n",
       "    </tr>\n",
       "  </thead>\n",
       "  <tbody>\n",
       "    <tr>\n",
       "      <th>0</th>\n",
       "      <td>From: egreen@east.sun.com (Ed Green - Pixel Cr...</td>\n",
       "      <td>rec.motorcycles</td>\n",
       "      <td>104702</td>\n",
       "    </tr>\n",
       "    <tr>\n",
       "      <th>1</th>\n",
       "      <td>From: vech@Ra.MsState.Edu (Craig A. Vechorik)\\...</td>\n",
       "      <td>rec.motorcycles</td>\n",
       "      <td>104863</td>\n",
       "    </tr>\n",
       "    <tr>\n",
       "      <th>2</th>\n",
       "      <td>From: asphaug@lpl.arizona.edu (Erik Asphaug x2...</td>\n",
       "      <td>rec.motorcycles</td>\n",
       "      <td>105203</td>\n",
       "    </tr>\n",
       "    <tr>\n",
       "      <th>3</th>\n",
       "      <td>From: nelson@seahunt.imat.com (Michael Nelson)...</td>\n",
       "      <td>rec.motorcycles</td>\n",
       "      <td>104694</td>\n",
       "    </tr>\n",
       "    <tr>\n",
       "      <th>4</th>\n",
       "      <td>From: jjb@dtc.hp.com (Jim Brewer)\\nSubject: Re...</td>\n",
       "      <td>rec.motorcycles</td>\n",
       "      <td>105132</td>\n",
       "    </tr>\n",
       "    <tr>\n",
       "      <th>...</th>\n",
       "      <td>...</td>\n",
       "      <td>...</td>\n",
       "      <td>...</td>\n",
       "    </tr>\n",
       "    <tr>\n",
       "      <th>18823</th>\n",
       "      <td>From: mharring@cch.coventry.ac.uk (MARTIN)\\nSu...</td>\n",
       "      <td>comp.graphics</td>\n",
       "      <td>38943</td>\n",
       "    </tr>\n",
       "    <tr>\n",
       "      <th>18824</th>\n",
       "      <td>From: capelli@vnet.IBM.COM (Ron Capelli)\\nSubj...</td>\n",
       "      <td>comp.graphics</td>\n",
       "      <td>38516</td>\n",
       "    </tr>\n",
       "    <tr>\n",
       "      <th>18825</th>\n",
       "      <td>From: spl@ivem.ucsd.edu (Steve Lamont)\\nSubjec...</td>\n",
       "      <td>comp.graphics</td>\n",
       "      <td>38292</td>\n",
       "    </tr>\n",
       "    <tr>\n",
       "      <th>18826</th>\n",
       "      <td>From: lewism@aix.rpi.edu (Michael C. Lewis)\\nS...</td>\n",
       "      <td>comp.graphics</td>\n",
       "      <td>38219</td>\n",
       "    </tr>\n",
       "    <tr>\n",
       "      <th>18827</th>\n",
       "      <td>From: powlesla@acs.ucalgary.ca (Jim Powlesland...</td>\n",
       "      <td>comp.graphics</td>\n",
       "      <td>39634</td>\n",
       "    </tr>\n",
       "  </tbody>\n",
       "</table>\n",
       "<p>18828 rows × 3 columns</p>\n",
       "</div>"
      ],
      "text/plain": [
       "                                                    text            label  \\\n",
       "0      From: egreen@east.sun.com (Ed Green - Pixel Cr...  rec.motorcycles   \n",
       "1      From: vech@Ra.MsState.Edu (Craig A. Vechorik)\\...  rec.motorcycles   \n",
       "2      From: asphaug@lpl.arizona.edu (Erik Asphaug x2...  rec.motorcycles   \n",
       "3      From: nelson@seahunt.imat.com (Michael Nelson)...  rec.motorcycles   \n",
       "4      From: jjb@dtc.hp.com (Jim Brewer)\\nSubject: Re...  rec.motorcycles   \n",
       "...                                                  ...              ...   \n",
       "18823  From: mharring@cch.coventry.ac.uk (MARTIN)\\nSu...    comp.graphics   \n",
       "18824  From: capelli@vnet.IBM.COM (Ron Capelli)\\nSubj...    comp.graphics   \n",
       "18825  From: spl@ivem.ucsd.edu (Steve Lamont)\\nSubjec...    comp.graphics   \n",
       "18826  From: lewism@aix.rpi.edu (Michael C. Lewis)\\nS...    comp.graphics   \n",
       "18827  From: powlesla@acs.ucalgary.ca (Jim Powlesland...    comp.graphics   \n",
       "\n",
       "           id  \n",
       "0      104702  \n",
       "1      104863  \n",
       "2      105203  \n",
       "3      104694  \n",
       "4      105132  \n",
       "...       ...  \n",
       "18823   38943  \n",
       "18824   38516  \n",
       "18825   38292  \n",
       "18826   38219  \n",
       "18827   39634  \n",
       "\n",
       "[18828 rows x 3 columns]"
      ]
     },
     "execution_count": 5,
     "metadata": {},
     "output_type": "execute_result"
    }
   ],
   "source": [
    "import sys \n",
    "sys.path.append('/home/ec2-user/SageMaker/mariano/repositories/tdmstudio-high-recall-information-retrieval-system/')\n",
    "from utils.newsgroup20.dataset import Dataset20NG\n",
    "Dataset20NG.get_data()"
   ]
  },
  {
   "cell_type": "code",
   "execution_count": 7,
   "id": "0ae12ccc",
   "metadata": {},
   "outputs": [],
   "source": [
    "v = representations['rec.motorcycles/104702']"
   ]
  },
  {
   "cell_type": "code",
   "execution_count": 9,
   "id": "cb1a3515",
   "metadata": {},
   "outputs": [
    {
     "data": {
      "text/plain": [
       "<2x10000 sparse matrix of type '<class 'numpy.float64'>'\n",
       "\twith 96 stored elements in Compressed Sparse Row format>"
      ]
     },
     "execution_count": 9,
     "metadata": {},
     "output_type": "execute_result"
    }
   ],
   "source": [
    "from scipy import sparse\n",
    "sparse.vstack([v,v])"
   ]
  },
  {
   "cell_type": "code",
   "execution_count": 7,
   "id": "47269a00",
   "metadata": {},
   "outputs": [],
   "source": [
    "import pickle\n",
    "vectorizer = pickle.load(open('/home/ec2-user/SageMaker/mariano/datasets/20news-18828/representations/20NG_vectorizer_bow.pickle', 'rb'))"
   ]
  },
  {
   "cell_type": "code",
   "execution_count": 11,
   "id": "22b7ad19",
   "metadata": {},
   "outputs": [
    {
     "data": {
      "text/plain": [
       "'From: egreen@east.sun.com (Ed Green - Pixel Cruncher)\\nSubject: Re: Good Reasons to Wave at each other\\n\\nIn article 735508147@beryllium, mdennie@xerox.com (Matt Dennie) writes:\\n>\\n>Is it a genetic thing with little boys or what?  Even three and four\\n>year old boys seem magnetically attracted to motorcycles of virtaully\\n>any sort (often to the dismay of thier mothers :-)\\n\\nI think you just answered your own question...\\n\\n---\\nEd Green, former Ninjaite |I was drinking last night with a biker,\\n  Ed.Green@East.Sun.COM   |and I showed him a picture of you.  I said,\\nDoD #0111  (919)460-8302  |\"Go on, get to know her, you\\'ll like her!\"\\n (The Grateful Dead) -->  |It seemed like the least I could do...\\n\\n'"
      ]
     },
     "execution_count": 11,
     "metadata": {},
     "output_type": "execute_result"
    }
   ],
   "source": [
    "df = Dataset20NG.get_data()\n",
    "df[df['id']=='104702'].iloc[0,0]"
   ]
  },
  {
   "cell_type": "code",
   "execution_count": 26,
   "id": "662dc724",
   "metadata": {},
   "outputs": [
    {
     "data": {
      "text/plain": [
       "array(['answer', 'answer question', 'article', 'attract', 'biker', 'boy',\n",
       "       'com', 'cruncher', 'dead', 'dod', 'drink', 'ed', 'ed green',\n",
       "       'ed green pixel', 'genetic', 'good', 'good reason', 'grateful',\n",
       "       'grateful dead', 'green', 'green pixel', 'green pixel cruncher',\n",
       "       'know', 'know like', 'like', 'little', 'matt', 'mother',\n",
       "       'motorcycle', 'night', 'old', 'picture', 'pixel', 'pixel cruncher',\n",
       "       'question', 'reason', 'sort', 'subject', 'subject good', 'sun',\n",
       "       'sun com', 'thi', 'thing', 'think', 'wave', 'write', 'year',\n",
       "       'year old'], dtype=object)"
      ]
     },
     "execution_count": 26,
     "metadata": {},
     "output_type": "execute_result"
    }
   ],
   "source": [
    "import numpy as np\n",
    "# vectorizer.transform([df[df['id']=='104702'].iloc[0,0]])\n",
    "vectorizer.get_feature_names_out()[representations['104702/rec.motorcycles'].toarray()[0,:]!=0]"
   ]
  },
  {
   "cell_type": "code",
   "execution_count": 2,
   "id": "73b0a643",
   "metadata": {},
   "outputs": [
    {
     "name": "stdout",
     "output_type": "stream",
     "text": [
      "<id=104702, label=R, category=rec.motorcycles>\n",
      "<id=104863, label=R, category=rec.motorcycles>\n",
      "<id=105203, label=R, category=rec.motorcycles>\n",
      "<id=104694, label=R, category=rec.motorcycles>\n",
      "<id=105132, label=R, category=rec.motorcycles>\n",
      "<id=84552, label=I, category=talk.religion.misc>\n",
      "<id=83689, label=I, category=talk.religion.misc>\n",
      "<id=84235, label=I, category=talk.religion.misc>\n",
      "<id=84354, label=I, category=talk.religion.misc>\n",
      "<id=84380, label=I, category=talk.religion.misc>\n",
      "<id=38943, label=I, category=comp.graphics>\n",
      "<id=38516, label=I, category=comp.graphics>\n",
      "<id=38292, label=I, category=comp.graphics>\n",
      "<id=38219, label=I, category=comp.graphics>\n",
      "<id=39634, label=I, category=comp.graphics>\n"
     ]
    }
   ],
   "source": [
    "for item in collection[:5]+collection[10000:10005]+collection[-5:]:\n",
    "    print(item)"
   ]
  },
  {
   "cell_type": "code",
   "execution_count": 3,
   "id": "3347db0c",
   "metadata": {},
   "outputs": [
    {
     "data": {
      "text/plain": [
       "\"From: powlesla@acs.ucalgary.ca (Jim Powlesland)\\nSubject: Re: PICT, EPSF, etc map of Italy\\n\\nIn article <93132.025641CHUNTER@UMAB.BITNET> <CHUNTER@UMAB.BITNET> writes:\\n>Does anybody know where I can get a graphic (Mac PICT, EPSF, TIFF, GIF,\\n>whatever) of Italy?  I'm looking for a picture of a map of Italy (even just the\\n\\nA map of Italy showing the states/provinces(?) is in the FreeHand\\n3.1 for Windows clip art collection. Corel Draw 3.0 clip art has\\nan outline map of Italy.\\n\\n\\n\\n\\n-- \\n/  Jim Powlesland                   / INTERNET: powlesla@acs.ucalgary.ca\\n/  Academic Computing Services      / VOICE:    (403)220-7937\\n/  University of Calgary            / MESSAGE:  (403)220-6201\\n/  Calgary, Alberta CANADA  T2N 1N4 / FAX:      (403)282-9199\\n\""
      ]
     },
     "execution_count": 3,
     "metadata": {},
     "output_type": "execute_result"
    }
   ],
   "source": [
    "collection[-1].get_htmldocview()"
   ]
  },
  {
   "cell_type": "code",
   "execution_count": null,
   "id": "7cf57889",
   "metadata": {},
   "outputs": [],
   "source": []
  },
  {
   "cell_type": "code",
   "execution_count": 3,
   "id": "298ab793",
   "metadata": {},
   "outputs": [
    {
     "data": {
      "text/plain": [
       "'From: mathew <mathew@mantis.co.uk>\\nSubject: Alt.Atheism FAQ: Atheist Resources\\n\\nArchive-name: atheism/resources\\nAlt-atheism-archive-name: resources\\nLast-modified: 11 December 1992\\nVersion: 1.0\\n\\n                              Atheist Resources\\n\\n                      Addresses of Atheist Organizations\\n\\n                                     USA\\n\\nFREEDOM FROM RELIGION FOUNDATION\\n\\nDarwin fish bumper stickers and assorted other atheist paraphernalia are\\navailable from the Freedom From Religion Foundation in the US.\\n\\nWrite to:  FFRF, P.O. Box 750, Madison, WI 53701.\\nTelephone: (608) 256-8900\\n\\nEVOLUTION DESIGNS\\n\\nEvolution Designs sell the \"Darwin fish\".  It\\'s a fish symbol, like the ones\\nChristians stick on their cars, but with feet and the word \"Darwin\" written\\ninside.  The deluxe moulded 3D plastic fish is $4.95 postpaid in the US.\\n\\nWrite to:  Evolution Designs, 7119 Laurel Canyon #4, North Hollywood,\\n           CA 91605.\\n\\nPeople in the San Francisco Bay area can get Darwin Fish from Lynn Gold --\\ntry mailing <figmo@netcom.com>.  For net people who go to Lynn directly, the\\nprice is $4.95 per fish.\\n\\nAMERICAN ATHEIST PRESS\\n\\nAAP publish various atheist books -- critiques of the Bible, lists of\\nBiblical contradictions, and so on.  One such book is:\\n\\n\"The Bible Handbook\" by W.P. Ball and G.W. Foote.  American Atheist Press.\\n372 pp.  ISBN 0-910309-26-4, 2nd edition, 1986.  Bible contradictions,\\nabsurdities, atrocities, immoralities... contains Ball, Foote: \"The Bible\\nContradicts Itself\", AAP.  Based on the King James version of the Bible.\\n\\nWrite to:  American Atheist Press, P.O. Box 140195, Austin, TX 78714-0195.\\n      or:  7215 Cameron Road, Austin, TX 78752-2973.\\nTelephone: (512) 458-1244\\nFax:       (512) 467-9525\\n\\nPROMETHEUS BOOKS\\n\\nSell books including Haught\\'s \"Holy Horrors\" (see below).\\n\\nWrite to:  700 East Amherst Street, Buffalo, New York 14215.\\nTelephone: (716) 837-2475.\\n\\nAn alternate address (which may be newer or older) is:\\nPrometheus Books, 59 Glenn Drive, Buffalo, NY 14228-2197.\\n\\nAFRICAN-AMERICANS FOR HUMANISM\\n\\nAn organization promoting black secular humanism and uncovering the history of\\nblack freethought.  They publish a quarterly newsletter, AAH EXAMINER.\\n\\nWrite to:  Norm R. Allen, Jr., African Americans for Humanism, P.O. Box 664,\\n           Buffalo, NY 14226.\\n\\n                                United Kingdom\\n\\nRationalist Press Association          National Secular Society\\n88 Islington High Street               702 Holloway Road\\nLondon N1 8EW                          London N19 3NL\\n071 226 7251                           071 272 1266\\n\\nBritish Humanist Association           South Place Ethical Society\\n14 Lamb\\'s Conduit Passage              Conway Hall\\nLondon WC1R 4RH                        Red Lion Square\\n071 430 0908                           London WC1R 4RL\\nfax 071 430 1271                       071 831 7723\\n\\nThe National Secular Society publish \"The Freethinker\", a monthly magazine\\nfounded in 1881.\\n\\n                                   Germany\\n\\nIBKA e.V.\\nInternationaler Bund der Konfessionslosen und Atheisten\\nPostfach 880, D-1000 Berlin 41. Germany.\\n\\nIBKA publish a journal:\\nMIZ. (Materialien und Informationen zur Zeit. Politisches\\nJournal der Konfessionslosesn und Atheisten. Hrsg. IBKA e.V.)\\nMIZ-Vertrieb, Postfach 880, D-1000 Berlin 41. Germany.\\n\\nFor atheist books, write to:\\n\\nIBDK, Internationaler B\"ucherdienst der Konfessionslosen\\nPostfach 3005, D-3000 Hannover 1. Germany.\\nTelephone: 0511/211216\\n\\n\\n                               Books -- Fiction\\n\\nTHOMAS M. DISCH\\n\\n\"The Santa Claus Compromise\"\\nShort story.  The ultimate proof that Santa exists.  All characters and \\nevents are fictitious.  Any similarity to living or dead gods -- uh, well...\\n\\nWALTER M. MILLER, JR\\n\\n\"A Canticle for Leibowitz\"\\nOne gem in this post atomic doomsday novel is the monks who spent their lives\\ncopying blueprints from \"Saint Leibowitz\", filling the sheets of paper with\\nink and leaving white lines and letters.\\n\\nEDGAR PANGBORN\\n\\n\"Davy\"\\nPost atomic doomsday novel set in clerical states.  The church, for example,\\nforbids that anyone \"produce, describe or use any substance containing...\\natoms\". \\n\\nPHILIP K. DICK\\n\\nPhilip K. Dick Dick wrote many philosophical and thought-provoking short \\nstories and novels.  His stories are bizarre at times, but very approachable.\\nHe wrote mainly SF, but he wrote about people, truth and religion rather than\\ntechnology.  Although he often believed that he had met some sort of God, he\\nremained sceptical.  Amongst his novels, the following are of some relevance:\\n\\n\"Galactic Pot-Healer\"\\nA fallible alien deity summons a group of Earth craftsmen and women to a\\nremote planet to raise a giant cathedral from beneath the oceans.  When the\\ndeity begins to demand faith from the earthers, pot-healer Joe Fernwright is\\nunable to comply.  A polished, ironic and amusing novel.\\n\\n\"A Maze of Death\"\\nNoteworthy for its description of a technology-based religion.\\n\\n\"VALIS\"\\nThe schizophrenic hero searches for the hidden mysteries of Gnostic\\nChristianity after reality is fired into his brain by a pink laser beam of\\nunknown but possibly divine origin.  He is accompanied by his dogmatic and\\ndismissively atheist friend and assorted other odd characters.\\n\\n\"The Divine Invasion\"\\nGod invades Earth by making a young woman pregnant as she returns from\\nanother star system.  Unfortunately she is terminally ill, and must be\\nassisted by a dead man whose brain is wired to 24-hour easy listening music.\\n\\nMARGARET ATWOOD\\n\\n\"The Handmaid\\'s Tale\"\\nA story based on the premise that the US Congress is mysteriously\\nassassinated, and fundamentalists quickly take charge of the nation to set it\\n\"right\" again.  The book is the diary of a woman\\'s life as she tries to live\\nunder the new Christian theocracy.  Women\\'s right to own property is revoked,\\nand their bank accounts are closed; sinful luxuries are outlawed, and the\\nradio is only used for readings from the Bible.  Crimes are punished\\nretroactively: doctors who performed legal abortions in the \"old world\" are\\nhunted down and hanged.  Atwood\\'s writing style is difficult to get used to\\nat first, but the tale grows more and more chilling as it goes on.\\n\\nVARIOUS AUTHORS\\n\\n\"The Bible\"\\nThis somewhat dull and rambling work has often been criticized.  However, it\\nis probably worth reading, if only so that you\\'ll know what all the fuss is\\nabout.  It exists in many different versions, so make sure you get the one\\ntrue version.\\n\\n                             Books -- Non-fiction\\n\\nPETER DE ROSA\\n\\n\"Vicars of Christ\", Bantam Press, 1988\\nAlthough de Rosa seems to be Christian or even Catholic this is a very\\nenlighting history of papal immoralities, adulteries, fallacies etc.\\n(German translation: \"Gottes erste Diener. Die dunkle Seite des Papsttums\",\\nDroemer-Knaur, 1989)\\n\\nMICHAEL MARTIN\\n\\n\"Atheism: A Philosophical Justification\", Temple University Press,\\n Philadelphia, USA.\\nA detailed and scholarly justification of atheism.  Contains an outstanding\\nappendix defining terminology and usage in this (necessarily) tendentious\\narea.  Argues both for \"negative atheism\" (i.e. the \"non-belief in the\\nexistence of god(s)\") and also for \"positive atheism\" (\"the belief in the\\nnon-existence of god(s)\").  Includes great refutations of the most\\nchallenging arguments for god; particular attention is paid to refuting\\ncontempory theists such as Platinga and Swinburne.\\n541 pages. ISBN 0-87722-642-3 (hardcover; paperback also available)\\n\\n\"The Case Against Christianity\", Temple University Press\\nA comprehensive critique of Christianity, in which he considers\\nthe best contemporary defences of Christianity and (ultimately)\\ndemonstrates that they are unsupportable and/or incoherent.\\n273 pages. ISBN 0-87722-767-5\\n\\nJAMES TURNER\\n\\n\"Without God, Without Creed\", The Johns Hopkins University Press, Baltimore,\\n MD, USA\\nSubtitled \"The Origins of Unbelief in America\".  Examines the way in which\\nunbelief (whether agnostic or atheistic)  became a mainstream alternative\\nworld-view.  Focusses on the period 1770-1900, and while considering France\\nand Britain the emphasis is on American, and particularly New England\\ndevelopments.  \"Neither a religious history of secularization or atheism,\\nWithout God, Without Creed is, rather, the intellectual history of the fate\\nof a single idea, the belief that God exists.\" \\n316 pages. ISBN (hardcover) 0-8018-2494-X (paper) 0-8018-3407-4\\n\\nGEORGE SELDES (Editor)\\n\\n\"The great thoughts\", Ballantine Books, New York, USA\\nA \"dictionary of quotations\" of a different kind, concentrating on statements\\nand writings which, explicitly or implicitly, present the person\\'s philosophy\\nand world-view.  Includes obscure (and often suppressed) opinions from many\\npeople.  For some popular observations, traces the way in which various\\npeople expressed and twisted the idea over the centuries.  Quite a number of\\nthe quotations are derived from Cardiff\\'s \"What Great Men Think of Religion\"\\nand Noyes\\' \"Views of Religion\".\\n490 pages. ISBN (paper) 0-345-29887-X.\\n\\nRICHARD SWINBURNE\\n\\n\"The Existence of God (Revised Edition)\", Clarendon Paperbacks, Oxford\\nThis book is the second volume in a trilogy that began with \"The Coherence of\\nTheism\" (1977) and was concluded with \"Faith and Reason\" (1981).  In this\\nwork, Swinburne attempts to construct a series of inductive arguments for the\\nexistence of God.  His arguments, which are somewhat tendentious and rely\\nupon the imputation of late 20th century western Christian values and\\naesthetics to a God which is supposedly as simple as can be conceived, were\\ndecisively rejected in Mackie\\'s \"The Miracle of Theism\".  In the revised\\nedition of \"The Existence of God\", Swinburne includes an Appendix in which he\\nmakes a somewhat incoherent attempt to rebut Mackie.\\n\\nJ. L. MACKIE\\n\\n\"The Miracle of Theism\", Oxford\\nThis (posthumous) volume contains a comprehensive review of the principal\\narguments for and against the existence of God.  It ranges from the classical\\nphilosophical positions of Descartes, Anselm, Berkeley, Hume et al, through\\nthe moral arguments of Newman, Kant and Sidgwick, to the recent restatements\\nof the classical theses by Plantinga and Swinburne.  It also addresses those\\npositions which push the concept of God beyond the realm of the rational,\\nsuch as those of Kierkegaard, Kung and Philips, as well as \"replacements for\\nGod\" such as Lelie\\'s axiarchism.  The book is a delight to read - less\\nformalistic and better written than Martin\\'s works, and refreshingly direct\\nwhen compared with the hand-waving of Swinburne.\\n\\nJAMES A. HAUGHT\\n\\n\"Holy Horrors: An Illustrated History of Religious Murder and Madness\",\\n Prometheus Books\\nLooks at religious persecution from ancient times to the present day -- and\\nnot only by Christians.\\nLibrary of Congress Catalog Card Number 89-64079. 1990.\\n\\nNORM R. ALLEN, JR.\\n\\n\"African American Humanism: an Anthology\"\\nSee the listing for African Americans for Humanism above.\\n\\nGORDON STEIN\\n\\n\"An Anthology of Atheism and Rationalism\", Prometheus Books\\nAn anthology covering a wide range of subjects, including \\'The Devil, Evil\\nand Morality\\' and \\'The History of Freethought\\'.  Comprehensive bibliography.\\n\\nEDMUND D. COHEN\\n\\n\"The Mind of The Bible-Believer\", Prometheus Books\\nA study of why people become Christian fundamentalists, and what effect it\\nhas on them.\\n\\n                                Net Resources\\n\\nThere\\'s a small mail-based archive server at mantis.co.uk which carries\\narchives of old alt.atheism.moderated articles and assorted other files.  For\\nmore information, send mail to archive-server@mantis.co.uk saying\\n\\n   help\\n   send atheism/index\\n\\nand it will mail back a reply.\\n\\n\\nmathew\\nÿ\\n'"
      ]
     },
     "execution_count": 3,
     "metadata": {},
     "output_type": "execute_result"
    }
   ],
   "source": [
    "DataItem20NG(id_='49960', label='alt.atheism').get_text()"
   ]
  },
  {
   "cell_type": "code",
   "execution_count": 7,
   "id": "1034da31",
   "metadata": {},
   "outputs": [
    {
     "name": "stdout",
     "output_type": "stream",
     "text": [
      "/home/ec2-user/SageMaker/mariano/datasets/20news-18828/rec.motorcycles/104702\r\n",
      "/home/ec2-user/SageMaker/mariano/datasets/20news-18828/rec.sport.baseball/104702\r\n"
     ]
    }
   ],
   "source": [
    "!find /home/ec2-user/SageMaker/mariano/datasets/20news-18828/ -name 104702"
   ]
  },
  {
   "cell_type": "code",
   "execution_count": 3,
   "id": "8e21c897",
   "metadata": {},
   "outputs": [
    {
     "name": "stdout",
     "output_type": "stream",
     "text": [
      "49960  51196  51274  53090  53186  53285  53380  53472\t53573  53759  54187\r\n",
      "51060  51197  51275  53093  53187  53286  53381  53473\t53574  53760  54188\r\n",
      "51119  51198  51276  53094  53188  53287  53382  53474\t53575  53761  54189\r\n",
      "51120  51199  51277  53095  53190  53288  53383  53475\t53579  53762  54190\r\n",
      "51121  51200  51278  53096  53191  53289  53387  53476\t53581  53763  54191\r\n",
      "51122  51201  51279  53097  53192  53290  53389  53477\t53582  53764  54192\r\n",
      "51123  51202  51280  53098  53193  53292  53390  53478\t53583  53765  54193\r\n",
      "51124  51203  51281  53099  53194  53293  53391  53479\t53586  53766  54194\r\n",
      "51125  51204  51282  53106  53195  53294  53393  53482\t53588  53780  54195\r\n",
      "51126  51205  51283  53108  53196  53297  53394  53483\t53589  53781  54196\r\n",
      "51127  51206  51284  53110  53197  53298  53396  53486\t53591  53782  54197\r\n",
      "51128  51208  51285  53111  53198  53302  53397  53487\t53592  53783  54198\r\n",
      "51130  51209  51286  53112  53199  53303  53398  53488\t53594  53784  54199\r\n",
      "51131  51210  51287  53113  53201  53304  53399  53489\t53598  53785  54200\r\n",
      "51132  51211  51288  53114  53203  53305  53400  53491\t53599  53786  54201\r\n",
      "51133  51212  51290  53117  53208  53306  53401  53492\t53600  53790  54202\r\n",
      "51134  51213  51291  53118  53209  53307  53402  53493\t53601  53791  54203\r\n",
      "51135  51214  51292  53120  53210  53308  53403  53495\t53602  53792  54204\r\n",
      "51136  51215  51293  53121  53211  53309  53404  53496\t53603  53793  54215\r\n",
      "51139  51216  51294  53122  53212  53311  53405  53497\t53604  53794  54216\r\n",
      "51140  51217  51295  53123  53213  53312  53406  53498\t53605  53795  54217\r\n",
      "51141  51218  51296  53124  53214  53313  53408  53499\t53606  53798  54218\r\n",
      "51142  51219  51297  53125  53215  53314  53409  53500\t53609  53801  54219\r\n",
      "51143  51220  51298  53126  53216  53315  53410  53501\t53611  53803  54220\r\n",
      "51144  51221  51299  53127  53217  53316  53411  53502\t53614  53804  54221\r\n",
      "51145  51222  51300  53130  53218  53317  53412  53503\t53619  53805  54222\r\n",
      "51146  51223  51301  53131  53219  53319  53413  53504\t53620  53806  54223\r\n",
      "51147  51224  51302  53132  53220  53320  53414  53505\t53622  53807  54224\r\n",
      "51148  51225  51303  53133  53221  53321  53415  53506\t53623  53808  54225\r\n",
      "51149  51226  51304  53134  53222  53322  53416  53509\t53624  53809  54226\r\n",
      "51150  51227  51305  53135  53223  53323  53417  53510\t53625  53810  54227\r\n",
      "51151  51228  51306  53136  53224  53324  53420  53512\t53627  53811  54228\r\n",
      "51152  51229  51307  53137  53225  53325  53421  53515\t53628  53812  54231\r\n",
      "51153  51230  51308  53139  53226  53326  53423  53518\t53629  54125  54233\r\n",
      "51154  51231  51309  53140  53228  53327  53424  53519\t53630  54126  54234\r\n",
      "51155  51232  51310  53141  53229  53328  53425  53521\t53631  54127  54235\r\n",
      "51156  51233  51311  53142  53230  53329  53426  53522\t53632  54128  54236\r\n",
      "51157  51234  51312  53143  53231  53331  53427  53523\t53633  54129  54237\r\n",
      "51158  51235  51313  53144  53232  53332  53428  53524\t53634  54131  54238\r\n",
      "51159  51236  51314  53145  53235  53333  53429  53525\t53635  54133  54239\r\n",
      "51160  51237  51315  53149  53237  53334  53430  53526\t53637  54134  54240\r\n",
      "51161  51238  51316  53150  53238  53335  53431  53527\t53638  54135  54241\r\n",
      "51162  51239  51317  53151  53239  53337  53434  53528\t53639  54136  54242\r\n",
      "51163  51240  51318  53153  53240  53338  53435  53529\t53640  54137  54243\r\n",
      "51164  51241  51319  53154  53243  53339  53436  53531\t53641  54138  54244\r\n",
      "51165  51242  51320  53157  53248  53340  53437  53532\t53642  54139  54245\r\n",
      "51169  51243  52499  53158  53249  53342  53438  53533\t53644  54141  54246\r\n",
      "51170  51244  52909  53159  53250  53343  53439  53534\t53645  54142  54247\r\n",
      "51171  51245  52910  53160  53251  53344  53440  53535\t53649  54143  54248\r\n",
      "51172  51246  53055  53161  53252  53346  53441  53536\t53650  54144  54249\r\n",
      "51173  51247  53056  53162  53256  53347  53442  53537\t53654  54160  54250\r\n",
      "51174  51249  53057  53163  53257  53349  53443  53538\t53655  54163  54251\r\n",
      "51175  51250  53058  53164  53258  53350  53445  53539\t53656  54164  54253\r\n",
      "51176  51251  53059  53165  53260  53351  53446  53540\t53657  54165  54254\r\n",
      "51177  51252  53062  53166  53261  53353  53447  53541\t53658  54166  54255\r\n",
      "51178  51253  53064  53167  53262  53355  53448  53543\t53660  54167  54256\r\n",
      "51179  51254  53065  53168  53265  53356  53449  53544\t53661  54168  54257\r\n",
      "51180  51255  53066  53170  53266  53357  53454  53546\t53663  54170  54258\r\n",
      "51181  51256  53067  53171  53267  53358  53455  53547\t53664  54171  54259\r\n",
      "51182  51258  53068  53172  53269  53359  53456  53549\t53667  54172  54260\r\n",
      "51183  51259  53069  53173  53271  53361  53457  53550\t53669  54173  54261\r\n",
      "51184  51260  53070  53174  53272  53362  53458  53551\t53670  54174  54262\r\n",
      "51185  51261  53071  53175  53274  53363  53459  53552\t53671  54175  54468\r\n",
      "51186  51262  53072  53176  53275  53364  53460  53553\t53673  54176  54470\r\n",
      "51187  51265  53073  53177  53276  53365  53462  53554\t53675  54178  54471\r\n",
      "51188  51266  53075  53178  53277  53366  53463  53555\t53676  54179  54472\r\n",
      "51189  51267  53078  53179  53278  53370  53464  53557\t53677  54180  54473\r\n",
      "51190  51268  53081  53180  53279  53371  53465  53558\t53753  54181  54481\r\n",
      "51191  51269  53082  53181  53280  53373  53466  53563\t53754  54182  54564\r\n",
      "51192  51270  53083  53182  53281  53374  53467  53564\t53755  54183\r\n",
      "51193  51271  53085  53183  53282  53375  53468  53570\t53756  54184\r\n",
      "51194  51272  53086  53184  53283  53376  53469  53571\t53757  54185\r\n",
      "51195  51273  53087  53185  53284  53377  53471  53572\t53758  54186\r\n"
     ]
    }
   ],
   "source": [
    "!ls /home/ec2-user/SageMaker/mariano/datasets/20news-18828/alt.atheism"
   ]
  },
  {
   "cell_type": "code",
   "execution_count": null,
   "id": "e176715d",
   "metadata": {},
   "outputs": [],
   "source": []
  },
  {
   "cell_type": "code",
   "execution_count": 2,
   "id": "fc04fc9a",
   "metadata": {},
   "outputs": [
    {
     "data": {
      "text/html": [
       "<div>\n",
       "<style scoped>\n",
       "    .dataframe tbody tr th:only-of-type {\n",
       "        vertical-align: middle;\n",
       "    }\n",
       "\n",
       "    .dataframe tbody tr th {\n",
       "        vertical-align: top;\n",
       "    }\n",
       "\n",
       "    .dataframe thead th {\n",
       "        text-align: right;\n",
       "    }\n",
       "</style>\n",
       "<table border=\"1\" class=\"dataframe\">\n",
       "  <thead>\n",
       "    <tr style=\"text-align: right;\">\n",
       "      <th></th>\n",
       "      <th>text</th>\n",
       "      <th>label</th>\n",
       "    </tr>\n",
       "  </thead>\n",
       "  <tbody>\n",
       "    <tr>\n",
       "      <th>0</th>\n",
       "      <td>From: egreen@east.sun.com (Ed Green - Pixel Cr...</td>\n",
       "      <td>rec.motorcycles</td>\n",
       "    </tr>\n",
       "    <tr>\n",
       "      <th>1</th>\n",
       "      <td>From: vech@Ra.MsState.Edu (Craig A. Vechorik)\\...</td>\n",
       "      <td>rec.motorcycles</td>\n",
       "    </tr>\n",
       "    <tr>\n",
       "      <th>2</th>\n",
       "      <td>From: asphaug@lpl.arizona.edu (Erik Asphaug x2...</td>\n",
       "      <td>rec.motorcycles</td>\n",
       "    </tr>\n",
       "    <tr>\n",
       "      <th>3</th>\n",
       "      <td>From: nelson@seahunt.imat.com (Michael Nelson)...</td>\n",
       "      <td>rec.motorcycles</td>\n",
       "    </tr>\n",
       "    <tr>\n",
       "      <th>4</th>\n",
       "      <td>From: jjb@dtc.hp.com (Jim Brewer)\\nSubject: Re...</td>\n",
       "      <td>rec.motorcycles</td>\n",
       "    </tr>\n",
       "  </tbody>\n",
       "</table>\n",
       "</div>"
      ],
      "text/plain": [
       "                                                text            label\n",
       "0  From: egreen@east.sun.com (Ed Green - Pixel Cr...  rec.motorcycles\n",
       "1  From: vech@Ra.MsState.Edu (Craig A. Vechorik)\\...  rec.motorcycles\n",
       "2  From: asphaug@lpl.arizona.edu (Erik Asphaug x2...  rec.motorcycles\n",
       "3  From: nelson@seahunt.imat.com (Michael Nelson)...  rec.motorcycles\n",
       "4  From: jjb@dtc.hp.com (Jim Brewer)\\nSubject: Re...  rec.motorcycles"
      ]
     },
     "execution_count": 2,
     "metadata": {},
     "output_type": "execute_result"
    }
   ],
   "source": [
    "\n",
    "\n",
    "\n",
    "df = pd.DataFrame(data)\n",
    "df.head()"
   ]
  },
  {
   "cell_type": "code",
   "execution_count": 2,
   "id": "d8c788c0",
   "metadata": {},
   "outputs": [],
   "source": [
    "\n"
   ]
  },
  {
   "cell_type": "code",
   "execution_count": 3,
   "id": "78c101f1",
   "metadata": {},
   "outputs": [
    {
     "name": "stdout",
     "output_type": "stream",
     "text": [
      "CPU times: user 7min 30s, sys: 6.69 s, total: 7min 37s\n",
      "Wall time: 7min 37s\n"
     ]
    }
   ],
   "source": [
    "%%time\n",
    "X = vectorizer.fit_transform(df['text'])\n"
   ]
  },
  {
   "cell_type": "code",
   "execution_count": 11,
   "id": "2601823b",
   "metadata": {},
   "outputs": [
    {
     "ename": "AssertionError",
     "evalue": "",
     "output_type": "error",
     "traceback": [
      "\u001b[0;31m---------------------------------------------------------------------------\u001b[0m",
      "\u001b[0;31mAssertionError\u001b[0m                            Traceback (most recent call last)",
      "\u001b[0;32m/tmp/ipykernel_9955/1026477959.py\u001b[0m in \u001b[0;36m<module>\u001b[0;34m\u001b[0m\n\u001b[1;32m      9\u001b[0m         \u001b[0mself\u001b[0m\u001b[0;34m.\u001b[0m\u001b[0mtext\u001b[0m\u001b[0;34m=\u001b[0m\u001b[0mtext\u001b[0m\u001b[0;34m\u001b[0m\u001b[0;34m\u001b[0m\u001b[0m\n\u001b[1;32m     10\u001b[0m         \u001b[0mself\u001b[0m\u001b[0;34m.\u001b[0m\u001b[0mlabel\u001b[0m\u001b[0;34m=\u001b[0m\u001b[0mlabel\u001b[0m\u001b[0;34m\u001b[0m\u001b[0;34m\u001b[0m\u001b[0m\n\u001b[0;32m---> 11\u001b[0;31m \u001b[0mDataItem20NG\u001b[0m\u001b[0;34m(\u001b[0m\u001b[0;34m'some text'\u001b[0m\u001b[0;34m,\u001b[0m \u001b[0;34m'F'\u001b[0m\u001b[0;34m)\u001b[0m\u001b[0;34m\u001b[0m\u001b[0;34m\u001b[0m\u001b[0m\n\u001b[0m",
      "\u001b[0;32m/tmp/ipykernel_9955/1026477959.py\u001b[0m in \u001b[0;36m__init__\u001b[0;34m(self, text, label)\u001b[0m\n\u001b[1;32m      5\u001b[0m \u001b[0;34m\u001b[0m\u001b[0m\n\u001b[1;32m      6\u001b[0m     \u001b[0;32mdef\u001b[0m \u001b[0m__init__\u001b[0m\u001b[0;34m(\u001b[0m\u001b[0mself\u001b[0m\u001b[0;34m,\u001b[0m \u001b[0mtext\u001b[0m\u001b[0;34m,\u001b[0m \u001b[0mlabel\u001b[0m\u001b[0;34m=\u001b[0m\u001b[0;32mNone\u001b[0m\u001b[0;34m)\u001b[0m\u001b[0;34m:\u001b[0m\u001b[0;34m\u001b[0m\u001b[0;34m\u001b[0m\u001b[0m\n\u001b[0;32m----> 7\u001b[0;31m         \u001b[0;32massert\u001b[0m \u001b[0mlabel\u001b[0m\u001b[0;34m==\u001b[0m\u001b[0mDataItem20NG\u001b[0m\u001b[0;34m.\u001b[0m\u001b[0mRELEVANT_LABEL\u001b[0m \u001b[0;32mor\u001b[0m\u001b[0;31m \u001b[0m\u001b[0;31m\\\u001b[0m\u001b[0;34m\u001b[0m\u001b[0;34m\u001b[0m\u001b[0m\n\u001b[0m\u001b[1;32m      8\u001b[0m                                 \u001b[0mlabel\u001b[0m\u001b[0;34m==\u001b[0m\u001b[0mDataItem20NG\u001b[0m\u001b[0;34m.\u001b[0m\u001b[0mIRRELEVANT_LABEL\u001b[0m \u001b[0;32mor\u001b[0m \u001b[0mlabel\u001b[0m\u001b[0;34m==\u001b[0m\u001b[0mDataItem20NG\u001b[0m\u001b[0;34m.\u001b[0m\u001b[0mUNKNOWN_LABEL\u001b[0m\u001b[0;34m\u001b[0m\u001b[0;34m\u001b[0m\u001b[0m\n\u001b[1;32m      9\u001b[0m         \u001b[0mself\u001b[0m\u001b[0;34m.\u001b[0m\u001b[0mtext\u001b[0m\u001b[0;34m=\u001b[0m\u001b[0mtext\u001b[0m\u001b[0;34m\u001b[0m\u001b[0;34m\u001b[0m\u001b[0m\n",
      "\u001b[0;31mAssertionError\u001b[0m: "
     ]
    }
   ],
   "source": [
    "class DataItem20NG(object):\n",
    "    RELEVANT_LABEL='R'\n",
    "    IRRELEVANT_LABEL='I'\n",
    "    UNKNOWN_LABEL='U'\n",
    "    \n",
    "    def __init__(self, text, label=None):\n",
    "        assert label==DataItem20NG.RELEVANT_LABEL or \\\n",
    "                                label==DataItem20NG.IRRELEVANT_LABEL or label==DataItem20NG.UNKNOWN_LABEL, 'Invalid label'\n",
    "        self.text=text\n",
    "        self.label=label\n",
    "    def\n",
    "DataItem20NG('some text', 'F')"
   ]
  },
  {
   "cell_type": "code",
   "execution_count": null,
   "id": "b22311e4",
   "metadata": {},
   "outputs": [],
   "source": [
    "target_recall = "
   ]
  }
 ],
 "metadata": {
  "kernelspec": {
   "display_name": "imm",
   "language": "python",
   "name": "imm"
  },
  "language_info": {
   "codemirror_mode": {
    "name": "ipython",
    "version": 3
   },
   "file_extension": ".py",
   "mimetype": "text/x-python",
   "name": "python",
   "nbconvert_exporter": "python",
   "pygments_lexer": "ipython3",
   "version": "3.9.7"
  }
 },
 "nbformat": 4,
 "nbformat_minor": 5
}

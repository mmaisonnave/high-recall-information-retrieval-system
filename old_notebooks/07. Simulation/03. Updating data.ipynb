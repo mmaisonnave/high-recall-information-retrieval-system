{
 "cells": [
  {
   "cell_type": "code",
   "execution_count": 20,
   "id": "3852aecf",
   "metadata": {},
   "outputs": [
    {
     "name": "stdout",
     "output_type": "stream",
     "text": [
      "7282\n",
      "id;label\n",
      "1293118416;R\n",
      "1291398730;R\n",
      "1325747973;R\n",
      "1287771491;R\n",
      "1291249197;R\n",
      "1291459964;R\n",
      "1323664077;R\n",
      "1323619961;R\n",
      "1291399634;R\n",
      "7283 labeled_data_latest_08072022.csv\n"
     ]
    }
   ],
   "source": [
    "import os\n",
    "import pickle\n",
    "import sys\n",
    "sys.path.append('../')\n",
    "from utils.data_item import DataItem\n",
    "latest_data_path = '/home/ec2-user/SageMaker/serperi/versions/version1.0/sessions/serperi/data/labeled_data.p'\n",
    "assert os.path.isfile(latest_data_path)\n",
    "labeled_data = pickle.load(open(latest_data_path,'rb'))\n",
    "print(len(labeled_data))\n",
    "writer = open('labeled_data_latest_08072022.csv', 'w')\n",
    "writer.write('id;label\\n')\n",
    "for item in labeled_data:\n",
    "    writer.write(f'{item.id_};{item.label}\\n')\n",
    "writer.close()\n",
    "!head labeled_data_latest_08072022.csv\n",
    "!wc -l labeled_data_latest_08072022.csv"
   ]
  },
  {
   "cell_type": "code",
   "execution_count": 21,
   "id": "4107140d",
   "metadata": {},
   "outputs": [],
   "source": [
    "!cp labeled_data_latest_08072022.csv /home/ec2-user/SageMaker/mariano/data/simulations/data/"
   ]
  },
  {
   "cell_type": "code",
   "execution_count": 13,
   "id": "840fba21",
   "metadata": {},
   "outputs": [
    {
     "name": "stdout",
     "output_type": "stream",
     "text": [
      "id;label\n",
      "1293118416;R\n",
      "1291398730;R\n",
      "1325747973;R\n",
      "1287771491;R\n",
      "1291249197;R\n",
      "1291459964;R\n",
      "1323664077;R\n",
      "1323619961;R\n",
      "1291399634;R\n"
     ]
    }
   ],
   "source": [
    "!head labeled_data.csv"
   ]
  },
  {
   "cell_type": "code",
   "execution_count": null,
   "id": "6c25ec7d",
   "metadata": {},
   "outputs": [],
   "source": []
  }
 ],
 "metadata": {
  "kernelspec": {
   "display_name": "conda_python3",
   "language": "python",
   "name": "conda_python3"
  },
  "language_info": {
   "codemirror_mode": {
    "name": "ipython",
    "version": 3
   },
   "file_extension": ".py",
   "mimetype": "text/x-python",
   "name": "python",
   "nbconvert_exporter": "python",
   "pygments_lexer": "ipython3",
   "version": "3.6.13"
  }
 },
 "nbformat": 4,
 "nbformat_minor": 5
}
